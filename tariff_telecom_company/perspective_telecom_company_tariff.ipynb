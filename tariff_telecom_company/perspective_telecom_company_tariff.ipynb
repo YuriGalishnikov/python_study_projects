{
 "cells": [
  {
   "cell_type": "markdown",
   "metadata": {
    "toc": true
   },
   "source": [
    "<h1>Содержание<span class=\"tocSkip\"></span></h1>\n",
    "<div class=\"toc\"><ul class=\"toc-item\"><li><span><a href=\"#Изучение-данных-из-файлов\" data-toc-modified-id=\"Изучение-данных-из-файлов-1\"><span class=\"toc-item-num\">1&nbsp;&nbsp;</span>Изучение данных из файлов</a></span><ul class=\"toc-item\"><li><span><a href=\"#Вывод\" data-toc-modified-id=\"Вывод-1.1\"><span class=\"toc-item-num\">1.1&nbsp;&nbsp;</span>Вывод</a></span><ul class=\"toc-item\"><li><span><a href=\"#Информация-о-пользователях\" data-toc-modified-id=\"Информация-о-пользователях-1.1.1\"><span class=\"toc-item-num\">1.1.1&nbsp;&nbsp;</span>Информация о пользователях</a></span></li><li><span><a href=\"#Информация-о-звонках\" data-toc-modified-id=\"Информация-о-звонках-1.1.2\"><span class=\"toc-item-num\">1.1.2&nbsp;&nbsp;</span>Информация о звонках</a></span></li><li><span><a href=\"#Информация-о-сообщениях\" data-toc-modified-id=\"Информация-о-сообщениях-1.1.3\"><span class=\"toc-item-num\">1.1.3&nbsp;&nbsp;</span>Информация о сообщениях</a></span></li><li><span><a href=\"#Информация-об-интернет-сессиях\" data-toc-modified-id=\"Информация-об-интернет-сессиях-1.1.4\"><span class=\"toc-item-num\">1.1.4&nbsp;&nbsp;</span>Информация об интернет-сессиях</a></span></li><li><span><a href=\"#Информация-о-тарифах\" data-toc-modified-id=\"Информация-о-тарифах-1.1.5\"><span class=\"toc-item-num\">1.1.5&nbsp;&nbsp;</span>Информация о тарифах</a></span></li><li><span><a href=\"#Общие-выводы\" data-toc-modified-id=\"Общие-выводы-1.1.6\"><span class=\"toc-item-num\">1.1.6&nbsp;&nbsp;</span>Общие выводы</a></span></li></ul></li></ul></li><li><span><a href=\"#Предобработка-данных\" data-toc-modified-id=\"Предобработка-данных-2\"><span class=\"toc-item-num\">2&nbsp;&nbsp;</span>Предобработка данных</a></span><ul class=\"toc-item\"><li><span><a href=\"#Удаление-колонки\" data-toc-modified-id=\"Удаление-колонки-2.1\"><span class=\"toc-item-num\">2.1&nbsp;&nbsp;</span>Удаление колонки</a></span></li><li><span><a href=\"#Обработка-пропусков\" data-toc-modified-id=\"Обработка-пропусков-2.2\"><span class=\"toc-item-num\">2.2&nbsp;&nbsp;</span>Обработка пропусков</a></span></li><li><span><a href=\"#Изменение-типов-данных\" data-toc-modified-id=\"Изменение-типов-данных-2.3\"><span class=\"toc-item-num\">2.3&nbsp;&nbsp;</span>Изменение типов данных</a></span></li><li><span><a href=\"#Обработка-даты\" data-toc-modified-id=\"Обработка-даты-2.4\"><span class=\"toc-item-num\">2.4&nbsp;&nbsp;</span>Обработка даты</a></span></li><li><span><a href=\"#Обработка-длительности-звонков\" data-toc-modified-id=\"Обработка-длительности-звонков-2.5\"><span class=\"toc-item-num\">2.5&nbsp;&nbsp;</span>Обработка длительности звонков</a></span></li><li><span><a href=\"#Обработка-интернет-трафика\" data-toc-modified-id=\"Обработка-интернет-трафика-2.6\"><span class=\"toc-item-num\">2.6&nbsp;&nbsp;</span>Обработка интернет-трафика</a></span></li><li><span><a href=\"#Создание-словаря-пользователей\" data-toc-modified-id=\"Создание-словаря-пользователей-2.7\"><span class=\"toc-item-num\">2.7&nbsp;&nbsp;</span>Создание словаря пользователей</a></span></li><li><span><a href=\"#Добавление-информации-о-тарифах\" data-toc-modified-id=\"Добавление-информации-о-тарифах-2.8\"><span class=\"toc-item-num\">2.8&nbsp;&nbsp;</span>Добавление информации о тарифах</a></span></li><li><span><a href=\"#Вывод\" data-toc-modified-id=\"Вывод-2.9\"><span class=\"toc-item-num\">2.9&nbsp;&nbsp;</span>Вывод</a></span></li></ul></li><li><span><a href=\"#Расчет-выручки-с-одного-пользователя\" data-toc-modified-id=\"Расчет-выручки-с-одного-пользователя-3\"><span class=\"toc-item-num\">3&nbsp;&nbsp;</span>Расчет выручки с одного пользователя</a></span><ul class=\"toc-item\"><li><span><a href=\"#Расчет-телефонных-звонков\" data-toc-modified-id=\"Расчет-телефонных-звонков-3.1\"><span class=\"toc-item-num\">3.1&nbsp;&nbsp;</span>Расчет телефонных звонков</a></span></li><li><span><a href=\"#Расчет-количества-сообщений-по-месяцам\" data-toc-modified-id=\"Расчет-количества-сообщений-по-месяцам-3.2\"><span class=\"toc-item-num\">3.2&nbsp;&nbsp;</span>Расчет количества сообщений по месяцам</a></span></li><li><span><a href=\"#Расчет-объема-интернет-трафика-по-месяцам\" data-toc-modified-id=\"Расчет-объема-интернет-трафика-по-месяцам-3.3\"><span class=\"toc-item-num\">3.3&nbsp;&nbsp;</span>Расчет объема интернет-трафика по месяцам</a></span></li><li><span><a href=\"#Расчет-общей-выручки-по-месяцам\" data-toc-modified-id=\"Расчет-общей-выручки-по-месяцам-3.4\"><span class=\"toc-item-num\">3.4&nbsp;&nbsp;</span>Расчет общей выручки по месяцам</a></span><ul class=\"toc-item\"><li><span><a href=\"#Объединение-таблиц\" data-toc-modified-id=\"Объединение-таблиц-3.4.1\"><span class=\"toc-item-num\">3.4.1&nbsp;&nbsp;</span>Объединение таблиц</a></span></li><li><span><a href=\"#Расчет-выручки-компании\" data-toc-modified-id=\"Расчет-выручки-компании-3.4.2\"><span class=\"toc-item-num\">3.4.2&nbsp;&nbsp;</span>Расчет выручки компании</a></span></li></ul></li><li><span><a href=\"#Вывод\" data-toc-modified-id=\"Вывод-3.5\"><span class=\"toc-item-num\">3.5&nbsp;&nbsp;</span>Вывод</a></span></li></ul></li><li><span><a href=\"#Анализ-поведения-клиентов\" data-toc-modified-id=\"Анализ-поведения-клиентов-4\"><span class=\"toc-item-num\">4&nbsp;&nbsp;</span>Анализ поведения клиентов</a></span><ul class=\"toc-item\"><li><span><a href=\"#Расчет-среднего-значения,-дисперсии-и-стандартного-отклонения\" data-toc-modified-id=\"Расчет-среднего-значения,-дисперсии-и-стандартного-отклонения-4.1\"><span class=\"toc-item-num\">4.1&nbsp;&nbsp;</span>Расчет среднего значения, дисперсии и стандартного отклонения</a></span><ul class=\"toc-item\"><li><span><a href=\"#Выводы\" data-toc-modified-id=\"Выводы-4.1.1\"><span class=\"toc-item-num\">4.1.1&nbsp;&nbsp;</span>Выводы</a></span></li></ul></li><li><span><a href=\"#Построение-гистограмм\" data-toc-modified-id=\"Построение-гистограмм-4.2\"><span class=\"toc-item-num\">4.2&nbsp;&nbsp;</span>Построение гистограмм</a></span><ul class=\"toc-item\"><li><span><a href=\"#Распределение-минут,-использованных-в-месяц\" data-toc-modified-id=\"Распределение-минут,-использованных-в-месяц-4.2.1\"><span class=\"toc-item-num\">4.2.1&nbsp;&nbsp;</span>Распределение минут, использованных в месяц</a></span></li><li><span><a href=\"#Выводы-распределения-минут,-использованных-в-месяц\" data-toc-modified-id=\"Выводы-распределения-минут,-использованных-в-месяц-4.2.2\"><span class=\"toc-item-num\">4.2.2&nbsp;&nbsp;</span>Выводы распределения минут, использованных в месяц</a></span></li><li><span><a href=\"#Распределение-для-сообщений,-использованных-в-месяц\" data-toc-modified-id=\"Распределение-для-сообщений,-использованных-в-месяц-4.2.3\"><span class=\"toc-item-num\">4.2.3&nbsp;&nbsp;</span>Распределение для сообщений, использованных в месяц</a></span></li><li><span><a href=\"#Выводы-распределения-сообщений,-использованных-в-месяц\" data-toc-modified-id=\"Выводы-распределения-сообщений,-использованных-в-месяц-4.2.4\"><span class=\"toc-item-num\">4.2.4&nbsp;&nbsp;</span>Выводы распределения сообщений, использованных в месяц</a></span></li><li><span><a href=\"#Распределение-для-интернет-трафика,-использованных-в-месяц\" data-toc-modified-id=\"Распределение-для-интернет-трафика,-использованных-в-месяц-4.2.5\"><span class=\"toc-item-num\">4.2.5&nbsp;&nbsp;</span>Распределение для интернет-трафика, использованных в месяц</a></span></li><li><span><a href=\"#Выводы-распределения-интернет-трафика,-использованного-в-месяц\" data-toc-modified-id=\"Выводы-распределения-интернет-трафика,-использованного-в-месяц-4.2.6\"><span class=\"toc-item-num\">4.2.6&nbsp;&nbsp;</span>Выводы распределения интернет-трафика, использованного в месяц</a></span></li><li><span><a href=\"#Анализ-выручки-компании-в-зависимости-от-тарифа\" data-toc-modified-id=\"Анализ-выручки-компании-в-зависимости-от-тарифа-4.2.7\"><span class=\"toc-item-num\">4.2.7&nbsp;&nbsp;</span>Анализ выручки компании в зависимости от тарифа</a></span></li><li><span><a href=\"#Выводы-анализа-выручки\" data-toc-modified-id=\"Выводы-анализа-выручки-4.2.8\"><span class=\"toc-item-num\">4.2.8&nbsp;&nbsp;</span>Выводы анализа выручки</a></span></li></ul></li><li><span><a href=\"#Вывод-о-поведении-клиентов\" data-toc-modified-id=\"Вывод-о-поведении-клиентов-4.3\"><span class=\"toc-item-num\">4.3&nbsp;&nbsp;</span>Вывод о поведении клиентов</a></span></li></ul></li><li><span><a href=\"#Проверка-гипотез\" data-toc-modified-id=\"Проверка-гипотез-5\"><span class=\"toc-item-num\">5&nbsp;&nbsp;</span>Проверка гипотез</a></span><ul class=\"toc-item\"><li><span><a href=\"#Проверка-гипотезы-№1\" data-toc-modified-id=\"Проверка-гипотезы-№1-5.1\"><span class=\"toc-item-num\">5.1&nbsp;&nbsp;</span>Проверка гипотезы №1</a></span></li><li><span><a href=\"#Проверка-гипотезы-№2\" data-toc-modified-id=\"Проверка-гипотезы-№2-5.2\"><span class=\"toc-item-num\">5.2&nbsp;&nbsp;</span>Проверка гипотезы №2</a></span></li></ul></li><li><span><a href=\"#Выводы\" data-toc-modified-id=\"Выводы-6\"><span class=\"toc-item-num\">6&nbsp;&nbsp;</span>Выводы</a></span></li></ul></div>"
   ]
  },
  {
   "cell_type": "markdown",
   "metadata": {},
   "source": [
    "# Проект \"Определение перспективного тарифа для телеком-компании\"\n",
    "\n",
    "В проекте имеются данные компании «Мегалайн» — федерального оператора сотовой связи. Клиентам предлагают два тарифных плана: «Смарт» и «Ультра». Чтобы скорректировать рекламный бюджет, коммерческий департамент хочет понять, какой тариф приносит больше денег.\n",
    "Необходимо сделать предварительный анализ тарифов на небольшой выборке клиентов. В нашем распоряжении данные 500 пользователей «Мегалайна»: кто они, откуда, каким тарифом пользуются, сколько звонков и сообщений каждый отправил за 2018 год. Нужно проанализировать поведение клиентов и сделать вывод — какой тариф лучше.\n",
    "\n",
    "**Описание тарифов:**\n",
    "\n",
    "**Тариф «Смарт»**\n",
    "- Ежемесячная плата: 550 рублей\n",
    "- Включено 500 минут разговора, 50 сообщений и 15 Гб интернет-трафика\n",
    "- Стоимость услуг сверх тарифного пакета: \n",
    "   1. минута разговора: 3 рубля («Мегалайн» всегда округляет вверх значения минут и мегабайтов. Если пользователь проговорил всего 1 секунду, в тарифе засчитывается целая минута); \n",
    "   2. сообщение: 3 рубля;\n",
    "   3. 1 Гб интернет-трафика: 200 рублей.\n",
    "   \n",
    "**Тариф «Ультра»**\n",
    "- Ежемесячная плата: 1950 рублей\n",
    "- Включено 3000 минут разговора, 1000 сообщений и 30 Гб интернет-трафика\n",
    "- Стоимость услуг сверх тарифного пакета: \n",
    "    1. минута разговора: 1 рубль; \n",
    "    2. сообщение: 1 рубль; \n",
    "    3. 1 Гб интернет-трафика: 150 рублей.\n",
    "    \n",
    "**Примечание:**\n",
    "\n",
    "«Мегалайн» всегда округляет секунды до минут, а мегабайты — до гигабайт. Каждый звонок округляется отдельно: даже если он длился всего 1 секунду, будет засчитан как 1 минута.\n",
    "Для веб-трафика отдельные сессии не считаются. Вместо этого общая сумма за месяц округляется в бо́льшую сторону. Если абонент использует 1025 мегабайт в этом месяце, с него возьмут плату за 2 гигабайта.\n",
    "\n",
    "**Цель исследования** — проверить две гипотезы:\n",
    "\n",
    "1. Средняя выручка пользователей тарифов «Ультра» и «Смарт» различаются;\n",
    "2. Средняя выручка пользователей из Москвы отличается от выручки пользователей из других регионов."
   ]
  },
  {
   "cell_type": "markdown",
   "metadata": {},
   "source": [
    "## Изучение данных из файлов"
   ]
  },
  {
   "cell_type": "code",
   "execution_count": 1,
   "metadata": {},
   "outputs": [],
   "source": [
    "import pandas as pd # импортируем библитеку pandas для работы с таблицами\n",
    "import numpy as np # импортируем библиотеку numpy для работы с числами\n",
    "import seaborn as sns # импортируем библиотеку seaborn для построения графиков\n",
    "import matplotlib.pyplot as plt # импортируем библиотеку matplotlib для увеличения функционала при построении графиков\n",
    "from scipy import stats as st # импортируем scipy.stats для проверки гипотез"
   ]
  },
  {
   "cell_type": "code",
   "execution_count": 2,
   "metadata": {},
   "outputs": [],
   "source": [
    "# читаем данные из файлов csv при помощи метода read_csv библиотеки pandas и сохраняем в соответствующие переменные\n",
    "users_data = pd.read_csv('/datasets/users.csv') # данные о пользователях\n",
    "calls_data = pd.read_csv('/datasets/calls.csv') # данные о звонках\n",
    "messages_data = pd.read_csv('/datasets/messages.csv') # данные о сообщениях\n",
    "internet_data = pd.read_csv('/datasets/internet.csv') # данные об интернет-сессиях\n",
    "tariffs_data = pd.read_csv('/datasets/tariffs.csv') # данные о тарифах"
   ]
  },
  {
   "cell_type": "code",
   "execution_count": 36,
   "metadata": {},
   "outputs": [
    {
     "name": "stdout",
     "output_type": "stream",
     "text": [
      "<class 'pandas.core.frame.DataFrame'>\n",
      "Int64Index: 500 entries, 0 to 499\n",
      "Data columns (total 12 columns):\n",
      "user_id                  500 non-null int64\n",
      "age                      500 non-null int64\n",
      "city                     500 non-null object\n",
      "tariff_name              500 non-null object\n",
      "messages_included        500 non-null int64\n",
      "mb_per_month_included    500 non-null int64\n",
      "minutes_included         500 non-null int64\n",
      "rub_monthly_fee          500 non-null int64\n",
      "rub_per_gb               500 non-null int64\n",
      "rub_per_message          500 non-null int64\n",
      "rub_per_minute           500 non-null int64\n",
      "gb_per_month_included    500 non-null int64\n",
      "dtypes: int64(10), object(2)\n",
      "memory usage: 50.8+ KB\n"
     ]
    },
    {
     "data": {
      "text/html": [
       "<div>\n",
       "<style scoped>\n",
       "    .dataframe tbody tr th:only-of-type {\n",
       "        vertical-align: middle;\n",
       "    }\n",
       "\n",
       "    .dataframe tbody tr th {\n",
       "        vertical-align: top;\n",
       "    }\n",
       "\n",
       "    .dataframe thead th {\n",
       "        text-align: right;\n",
       "    }\n",
       "</style>\n",
       "<table border=\"1\" class=\"dataframe\">\n",
       "  <thead>\n",
       "    <tr style=\"text-align: right;\">\n",
       "      <th></th>\n",
       "      <th>user_id</th>\n",
       "      <th>age</th>\n",
       "      <th>messages_included</th>\n",
       "      <th>mb_per_month_included</th>\n",
       "      <th>minutes_included</th>\n",
       "      <th>rub_monthly_fee</th>\n",
       "      <th>rub_per_gb</th>\n",
       "      <th>rub_per_message</th>\n",
       "      <th>rub_per_minute</th>\n",
       "      <th>gb_per_month_included</th>\n",
       "    </tr>\n",
       "  </thead>\n",
       "  <tbody>\n",
       "    <tr>\n",
       "      <td>count</td>\n",
       "      <td>500.000000</td>\n",
       "      <td>500.00000</td>\n",
       "      <td>500.000000</td>\n",
       "      <td>500.000000</td>\n",
       "      <td>500.000000</td>\n",
       "      <td>500.000000</td>\n",
       "      <td>500.000000</td>\n",
       "      <td>500.000000</td>\n",
       "      <td>500.000000</td>\n",
       "      <td>500.000000</td>\n",
       "    </tr>\n",
       "    <tr>\n",
       "      <td>mean</td>\n",
       "      <td>1249.500000</td>\n",
       "      <td>46.58800</td>\n",
       "      <td>333.100000</td>\n",
       "      <td>19937.280000</td>\n",
       "      <td>1245.000000</td>\n",
       "      <td>967.200000</td>\n",
       "      <td>185.100000</td>\n",
       "      <td>2.404000</td>\n",
       "      <td>2.404000</td>\n",
       "      <td>19.470000</td>\n",
       "    </tr>\n",
       "    <tr>\n",
       "      <td>std</td>\n",
       "      <td>144.481833</td>\n",
       "      <td>16.66763</td>\n",
       "      <td>434.945681</td>\n",
       "      <td>7032.384907</td>\n",
       "      <td>1144.593898</td>\n",
       "      <td>640.972583</td>\n",
       "      <td>22.891878</td>\n",
       "      <td>0.915675</td>\n",
       "      <td>0.915675</td>\n",
       "      <td>6.867563</td>\n",
       "    </tr>\n",
       "    <tr>\n",
       "      <td>min</td>\n",
       "      <td>1000.000000</td>\n",
       "      <td>18.00000</td>\n",
       "      <td>50.000000</td>\n",
       "      <td>15360.000000</td>\n",
       "      <td>500.000000</td>\n",
       "      <td>550.000000</td>\n",
       "      <td>150.000000</td>\n",
       "      <td>1.000000</td>\n",
       "      <td>1.000000</td>\n",
       "      <td>15.000000</td>\n",
       "    </tr>\n",
       "    <tr>\n",
       "      <td>25%</td>\n",
       "      <td>1124.750000</td>\n",
       "      <td>32.00000</td>\n",
       "      <td>50.000000</td>\n",
       "      <td>15360.000000</td>\n",
       "      <td>500.000000</td>\n",
       "      <td>550.000000</td>\n",
       "      <td>150.000000</td>\n",
       "      <td>1.000000</td>\n",
       "      <td>1.000000</td>\n",
       "      <td>15.000000</td>\n",
       "    </tr>\n",
       "    <tr>\n",
       "      <td>50%</td>\n",
       "      <td>1249.500000</td>\n",
       "      <td>46.00000</td>\n",
       "      <td>50.000000</td>\n",
       "      <td>15360.000000</td>\n",
       "      <td>500.000000</td>\n",
       "      <td>550.000000</td>\n",
       "      <td>200.000000</td>\n",
       "      <td>3.000000</td>\n",
       "      <td>3.000000</td>\n",
       "      <td>15.000000</td>\n",
       "    </tr>\n",
       "    <tr>\n",
       "      <td>75%</td>\n",
       "      <td>1374.250000</td>\n",
       "      <td>62.00000</td>\n",
       "      <td>1000.000000</td>\n",
       "      <td>30720.000000</td>\n",
       "      <td>3000.000000</td>\n",
       "      <td>1950.000000</td>\n",
       "      <td>200.000000</td>\n",
       "      <td>3.000000</td>\n",
       "      <td>3.000000</td>\n",
       "      <td>30.000000</td>\n",
       "    </tr>\n",
       "    <tr>\n",
       "      <td>max</td>\n",
       "      <td>1499.000000</td>\n",
       "      <td>75.00000</td>\n",
       "      <td>1000.000000</td>\n",
       "      <td>30720.000000</td>\n",
       "      <td>3000.000000</td>\n",
       "      <td>1950.000000</td>\n",
       "      <td>200.000000</td>\n",
       "      <td>3.000000</td>\n",
       "      <td>3.000000</td>\n",
       "      <td>30.000000</td>\n",
       "    </tr>\n",
       "  </tbody>\n",
       "</table>\n",
       "</div>"
      ],
      "text/plain": [
       "           user_id        age  messages_included  mb_per_month_included  \\\n",
       "count   500.000000  500.00000         500.000000             500.000000   \n",
       "mean   1249.500000   46.58800         333.100000           19937.280000   \n",
       "std     144.481833   16.66763         434.945681            7032.384907   \n",
       "min    1000.000000   18.00000          50.000000           15360.000000   \n",
       "25%    1124.750000   32.00000          50.000000           15360.000000   \n",
       "50%    1249.500000   46.00000          50.000000           15360.000000   \n",
       "75%    1374.250000   62.00000        1000.000000           30720.000000   \n",
       "max    1499.000000   75.00000        1000.000000           30720.000000   \n",
       "\n",
       "       minutes_included  rub_monthly_fee  rub_per_gb  rub_per_message  \\\n",
       "count        500.000000       500.000000  500.000000       500.000000   \n",
       "mean        1245.000000       967.200000  185.100000         2.404000   \n",
       "std         1144.593898       640.972583   22.891878         0.915675   \n",
       "min          500.000000       550.000000  150.000000         1.000000   \n",
       "25%          500.000000       550.000000  150.000000         1.000000   \n",
       "50%          500.000000       550.000000  200.000000         3.000000   \n",
       "75%         3000.000000      1950.000000  200.000000         3.000000   \n",
       "max         3000.000000      1950.000000  200.000000         3.000000   \n",
       "\n",
       "       rub_per_minute  gb_per_month_included  \n",
       "count      500.000000             500.000000  \n",
       "mean         2.404000              19.470000  \n",
       "std          0.915675               6.867563  \n",
       "min          1.000000              15.000000  \n",
       "25%          1.000000              15.000000  \n",
       "50%          3.000000              15.000000  \n",
       "75%          3.000000              30.000000  \n",
       "max          3.000000              30.000000  "
      ]
     },
     "metadata": {},
     "output_type": "display_data"
    },
    {
     "data": {
      "text/html": [
       "<div>\n",
       "<style scoped>\n",
       "    .dataframe tbody tr th:only-of-type {\n",
       "        vertical-align: middle;\n",
       "    }\n",
       "\n",
       "    .dataframe tbody tr th {\n",
       "        vertical-align: top;\n",
       "    }\n",
       "\n",
       "    .dataframe thead th {\n",
       "        text-align: right;\n",
       "    }\n",
       "</style>\n",
       "<table border=\"1\" class=\"dataframe\">\n",
       "  <thead>\n",
       "    <tr style=\"text-align: right;\">\n",
       "      <th></th>\n",
       "      <th>user_id</th>\n",
       "      <th>age</th>\n",
       "      <th>city</th>\n",
       "      <th>tariff_name</th>\n",
       "      <th>messages_included</th>\n",
       "      <th>mb_per_month_included</th>\n",
       "      <th>minutes_included</th>\n",
       "      <th>rub_monthly_fee</th>\n",
       "      <th>rub_per_gb</th>\n",
       "      <th>rub_per_message</th>\n",
       "      <th>rub_per_minute</th>\n",
       "      <th>gb_per_month_included</th>\n",
       "    </tr>\n",
       "  </thead>\n",
       "  <tbody>\n",
       "    <tr>\n",
       "      <td>0</td>\n",
       "      <td>1000</td>\n",
       "      <td>52</td>\n",
       "      <td>Краснодар</td>\n",
       "      <td>ultra</td>\n",
       "      <td>1000</td>\n",
       "      <td>30720</td>\n",
       "      <td>3000</td>\n",
       "      <td>1950</td>\n",
       "      <td>150</td>\n",
       "      <td>1</td>\n",
       "      <td>1</td>\n",
       "      <td>30</td>\n",
       "    </tr>\n",
       "    <tr>\n",
       "      <td>1</td>\n",
       "      <td>1003</td>\n",
       "      <td>23</td>\n",
       "      <td>Москва</td>\n",
       "      <td>ultra</td>\n",
       "      <td>1000</td>\n",
       "      <td>30720</td>\n",
       "      <td>3000</td>\n",
       "      <td>1950</td>\n",
       "      <td>150</td>\n",
       "      <td>1</td>\n",
       "      <td>1</td>\n",
       "      <td>30</td>\n",
       "    </tr>\n",
       "    <tr>\n",
       "      <td>2</td>\n",
       "      <td>1004</td>\n",
       "      <td>68</td>\n",
       "      <td>Новокузнецк</td>\n",
       "      <td>ultra</td>\n",
       "      <td>1000</td>\n",
       "      <td>30720</td>\n",
       "      <td>3000</td>\n",
       "      <td>1950</td>\n",
       "      <td>150</td>\n",
       "      <td>1</td>\n",
       "      <td>1</td>\n",
       "      <td>30</td>\n",
       "    </tr>\n",
       "    <tr>\n",
       "      <td>3</td>\n",
       "      <td>1013</td>\n",
       "      <td>36</td>\n",
       "      <td>Иваново</td>\n",
       "      <td>ultra</td>\n",
       "      <td>1000</td>\n",
       "      <td>30720</td>\n",
       "      <td>3000</td>\n",
       "      <td>1950</td>\n",
       "      <td>150</td>\n",
       "      <td>1</td>\n",
       "      <td>1</td>\n",
       "      <td>30</td>\n",
       "    </tr>\n",
       "    <tr>\n",
       "      <td>4</td>\n",
       "      <td>1016</td>\n",
       "      <td>58</td>\n",
       "      <td>Омск</td>\n",
       "      <td>ultra</td>\n",
       "      <td>1000</td>\n",
       "      <td>30720</td>\n",
       "      <td>3000</td>\n",
       "      <td>1950</td>\n",
       "      <td>150</td>\n",
       "      <td>1</td>\n",
       "      <td>1</td>\n",
       "      <td>30</td>\n",
       "    </tr>\n",
       "    <tr>\n",
       "      <td>5</td>\n",
       "      <td>1018</td>\n",
       "      <td>71</td>\n",
       "      <td>Уфа</td>\n",
       "      <td>ultra</td>\n",
       "      <td>1000</td>\n",
       "      <td>30720</td>\n",
       "      <td>3000</td>\n",
       "      <td>1950</td>\n",
       "      <td>150</td>\n",
       "      <td>1</td>\n",
       "      <td>1</td>\n",
       "      <td>30</td>\n",
       "    </tr>\n",
       "    <tr>\n",
       "      <td>6</td>\n",
       "      <td>1019</td>\n",
       "      <td>63</td>\n",
       "      <td>Томск</td>\n",
       "      <td>ultra</td>\n",
       "      <td>1000</td>\n",
       "      <td>30720</td>\n",
       "      <td>3000</td>\n",
       "      <td>1950</td>\n",
       "      <td>150</td>\n",
       "      <td>1</td>\n",
       "      <td>1</td>\n",
       "      <td>30</td>\n",
       "    </tr>\n",
       "    <tr>\n",
       "      <td>7</td>\n",
       "      <td>1021</td>\n",
       "      <td>61</td>\n",
       "      <td>Краснодар</td>\n",
       "      <td>ultra</td>\n",
       "      <td>1000</td>\n",
       "      <td>30720</td>\n",
       "      <td>3000</td>\n",
       "      <td>1950</td>\n",
       "      <td>150</td>\n",
       "      <td>1</td>\n",
       "      <td>1</td>\n",
       "      <td>30</td>\n",
       "    </tr>\n",
       "    <tr>\n",
       "      <td>8</td>\n",
       "      <td>1024</td>\n",
       "      <td>73</td>\n",
       "      <td>Санкт-Петербург</td>\n",
       "      <td>ultra</td>\n",
       "      <td>1000</td>\n",
       "      <td>30720</td>\n",
       "      <td>3000</td>\n",
       "      <td>1950</td>\n",
       "      <td>150</td>\n",
       "      <td>1</td>\n",
       "      <td>1</td>\n",
       "      <td>30</td>\n",
       "    </tr>\n",
       "    <tr>\n",
       "      <td>9</td>\n",
       "      <td>1028</td>\n",
       "      <td>20</td>\n",
       "      <td>Тверь</td>\n",
       "      <td>ultra</td>\n",
       "      <td>1000</td>\n",
       "      <td>30720</td>\n",
       "      <td>3000</td>\n",
       "      <td>1950</td>\n",
       "      <td>150</td>\n",
       "      <td>1</td>\n",
       "      <td>1</td>\n",
       "      <td>30</td>\n",
       "    </tr>\n",
       "  </tbody>\n",
       "</table>\n",
       "</div>"
      ],
      "text/plain": [
       "   user_id  age             city tariff_name  messages_included  \\\n",
       "0     1000   52        Краснодар       ultra               1000   \n",
       "1     1003   23           Москва       ultra               1000   \n",
       "2     1004   68      Новокузнецк       ultra               1000   \n",
       "3     1013   36          Иваново       ultra               1000   \n",
       "4     1016   58             Омск       ultra               1000   \n",
       "5     1018   71              Уфа       ultra               1000   \n",
       "6     1019   63            Томск       ultra               1000   \n",
       "7     1021   61        Краснодар       ultra               1000   \n",
       "8     1024   73  Санкт-Петербург       ultra               1000   \n",
       "9     1028   20            Тверь       ultra               1000   \n",
       "\n",
       "   mb_per_month_included  minutes_included  rub_monthly_fee  rub_per_gb  \\\n",
       "0                  30720              3000             1950         150   \n",
       "1                  30720              3000             1950         150   \n",
       "2                  30720              3000             1950         150   \n",
       "3                  30720              3000             1950         150   \n",
       "4                  30720              3000             1950         150   \n",
       "5                  30720              3000             1950         150   \n",
       "6                  30720              3000             1950         150   \n",
       "7                  30720              3000             1950         150   \n",
       "8                  30720              3000             1950         150   \n",
       "9                  30720              3000             1950         150   \n",
       "\n",
       "   rub_per_message  rub_per_minute  gb_per_month_included  \n",
       "0                1               1                     30  \n",
       "1                1               1                     30  \n",
       "2                1               1                     30  \n",
       "3                1               1                     30  \n",
       "4                1               1                     30  \n",
       "5                1               1                     30  \n",
       "6                1               1                     30  \n",
       "7                1               1                     30  \n",
       "8                1               1                     30  \n",
       "9                1               1                     30  "
      ]
     },
     "metadata": {},
     "output_type": "display_data"
    },
    {
     "name": "stdout",
     "output_type": "stream",
     "text": [
      "Число явных дубликатов в таблице = 0\n",
      "-------------------------\n",
      "\n",
      "<class 'pandas.core.frame.DataFrame'>\n",
      "RangeIndex: 202607 entries, 0 to 202606\n",
      "Data columns (total 5 columns):\n",
      "id           202607 non-null object\n",
      "call_date    202607 non-null datetime64[ns]\n",
      "duration     202607 non-null int64\n",
      "user_id      202607 non-null int64\n",
      "month        202607 non-null int64\n",
      "dtypes: datetime64[ns](1), int64(3), object(1)\n",
      "memory usage: 7.7+ MB\n"
     ]
    },
    {
     "data": {
      "text/html": [
       "<div>\n",
       "<style scoped>\n",
       "    .dataframe tbody tr th:only-of-type {\n",
       "        vertical-align: middle;\n",
       "    }\n",
       "\n",
       "    .dataframe tbody tr th {\n",
       "        vertical-align: top;\n",
       "    }\n",
       "\n",
       "    .dataframe thead th {\n",
       "        text-align: right;\n",
       "    }\n",
       "</style>\n",
       "<table border=\"1\" class=\"dataframe\">\n",
       "  <thead>\n",
       "    <tr style=\"text-align: right;\">\n",
       "      <th></th>\n",
       "      <th>duration</th>\n",
       "      <th>user_id</th>\n",
       "      <th>month</th>\n",
       "    </tr>\n",
       "  </thead>\n",
       "  <tbody>\n",
       "    <tr>\n",
       "      <td>count</td>\n",
       "      <td>202607.000000</td>\n",
       "      <td>202607.000000</td>\n",
       "      <td>202607.000000</td>\n",
       "    </tr>\n",
       "    <tr>\n",
       "      <td>mean</td>\n",
       "      <td>7.158198</td>\n",
       "      <td>1253.940619</td>\n",
       "      <td>8.574067</td>\n",
       "    </tr>\n",
       "    <tr>\n",
       "      <td>std</td>\n",
       "      <td>5.959173</td>\n",
       "      <td>144.722751</td>\n",
       "      <td>2.787093</td>\n",
       "    </tr>\n",
       "    <tr>\n",
       "      <td>min</td>\n",
       "      <td>0.000000</td>\n",
       "      <td>1000.000000</td>\n",
       "      <td>1.000000</td>\n",
       "    </tr>\n",
       "    <tr>\n",
       "      <td>25%</td>\n",
       "      <td>2.000000</td>\n",
       "      <td>1126.000000</td>\n",
       "      <td>7.000000</td>\n",
       "    </tr>\n",
       "    <tr>\n",
       "      <td>50%</td>\n",
       "      <td>6.000000</td>\n",
       "      <td>1260.000000</td>\n",
       "      <td>9.000000</td>\n",
       "    </tr>\n",
       "    <tr>\n",
       "      <td>75%</td>\n",
       "      <td>11.000000</td>\n",
       "      <td>1379.000000</td>\n",
       "      <td>11.000000</td>\n",
       "    </tr>\n",
       "    <tr>\n",
       "      <td>max</td>\n",
       "      <td>38.000000</td>\n",
       "      <td>1499.000000</td>\n",
       "      <td>12.000000</td>\n",
       "    </tr>\n",
       "  </tbody>\n",
       "</table>\n",
       "</div>"
      ],
      "text/plain": [
       "            duration        user_id          month\n",
       "count  202607.000000  202607.000000  202607.000000\n",
       "mean        7.158198    1253.940619       8.574067\n",
       "std         5.959173     144.722751       2.787093\n",
       "min         0.000000    1000.000000       1.000000\n",
       "25%         2.000000    1126.000000       7.000000\n",
       "50%         6.000000    1260.000000       9.000000\n",
       "75%        11.000000    1379.000000      11.000000\n",
       "max        38.000000    1499.000000      12.000000"
      ]
     },
     "metadata": {},
     "output_type": "display_data"
    },
    {
     "data": {
      "text/html": [
       "<div>\n",
       "<style scoped>\n",
       "    .dataframe tbody tr th:only-of-type {\n",
       "        vertical-align: middle;\n",
       "    }\n",
       "\n",
       "    .dataframe tbody tr th {\n",
       "        vertical-align: top;\n",
       "    }\n",
       "\n",
       "    .dataframe thead th {\n",
       "        text-align: right;\n",
       "    }\n",
       "</style>\n",
       "<table border=\"1\" class=\"dataframe\">\n",
       "  <thead>\n",
       "    <tr style=\"text-align: right;\">\n",
       "      <th></th>\n",
       "      <th>id</th>\n",
       "      <th>call_date</th>\n",
       "      <th>duration</th>\n",
       "      <th>user_id</th>\n",
       "      <th>month</th>\n",
       "    </tr>\n",
       "  </thead>\n",
       "  <tbody>\n",
       "    <tr>\n",
       "      <td>0</td>\n",
       "      <td>1000_0</td>\n",
       "      <td>2018-07-25</td>\n",
       "      <td>0</td>\n",
       "      <td>1000</td>\n",
       "      <td>7</td>\n",
       "    </tr>\n",
       "    <tr>\n",
       "      <td>1</td>\n",
       "      <td>1000_1</td>\n",
       "      <td>2018-08-17</td>\n",
       "      <td>0</td>\n",
       "      <td>1000</td>\n",
       "      <td>8</td>\n",
       "    </tr>\n",
       "    <tr>\n",
       "      <td>2</td>\n",
       "      <td>1000_2</td>\n",
       "      <td>2018-06-11</td>\n",
       "      <td>3</td>\n",
       "      <td>1000</td>\n",
       "      <td>6</td>\n",
       "    </tr>\n",
       "    <tr>\n",
       "      <td>3</td>\n",
       "      <td>1000_3</td>\n",
       "      <td>2018-09-21</td>\n",
       "      <td>14</td>\n",
       "      <td>1000</td>\n",
       "      <td>9</td>\n",
       "    </tr>\n",
       "    <tr>\n",
       "      <td>4</td>\n",
       "      <td>1000_4</td>\n",
       "      <td>2018-12-15</td>\n",
       "      <td>6</td>\n",
       "      <td>1000</td>\n",
       "      <td>12</td>\n",
       "    </tr>\n",
       "    <tr>\n",
       "      <td>5</td>\n",
       "      <td>1000_5</td>\n",
       "      <td>2018-11-02</td>\n",
       "      <td>0</td>\n",
       "      <td>1000</td>\n",
       "      <td>11</td>\n",
       "    </tr>\n",
       "    <tr>\n",
       "      <td>6</td>\n",
       "      <td>1000_6</td>\n",
       "      <td>2018-10-18</td>\n",
       "      <td>0</td>\n",
       "      <td>1000</td>\n",
       "      <td>10</td>\n",
       "    </tr>\n",
       "    <tr>\n",
       "      <td>7</td>\n",
       "      <td>1000_7</td>\n",
       "      <td>2018-08-22</td>\n",
       "      <td>19</td>\n",
       "      <td>1000</td>\n",
       "      <td>8</td>\n",
       "    </tr>\n",
       "    <tr>\n",
       "      <td>8</td>\n",
       "      <td>1000_8</td>\n",
       "      <td>2018-09-15</td>\n",
       "      <td>19</td>\n",
       "      <td>1000</td>\n",
       "      <td>9</td>\n",
       "    </tr>\n",
       "    <tr>\n",
       "      <td>9</td>\n",
       "      <td>1000_9</td>\n",
       "      <td>2018-08-15</td>\n",
       "      <td>0</td>\n",
       "      <td>1000</td>\n",
       "      <td>8</td>\n",
       "    </tr>\n",
       "  </tbody>\n",
       "</table>\n",
       "</div>"
      ],
      "text/plain": [
       "       id  call_date  duration  user_id  month\n",
       "0  1000_0 2018-07-25         0     1000      7\n",
       "1  1000_1 2018-08-17         0     1000      8\n",
       "2  1000_2 2018-06-11         3     1000      6\n",
       "3  1000_3 2018-09-21        14     1000      9\n",
       "4  1000_4 2018-12-15         6     1000     12\n",
       "5  1000_5 2018-11-02         0     1000     11\n",
       "6  1000_6 2018-10-18         0     1000     10\n",
       "7  1000_7 2018-08-22        19     1000      8\n",
       "8  1000_8 2018-09-15        19     1000      9\n",
       "9  1000_9 2018-08-15         0     1000      8"
      ]
     },
     "metadata": {},
     "output_type": "display_data"
    },
    {
     "name": "stdout",
     "output_type": "stream",
     "text": [
      "Число явных дубликатов в таблице = 0\n",
      "-------------------------\n",
      "\n",
      "<class 'pandas.core.frame.DataFrame'>\n",
      "RangeIndex: 123036 entries, 0 to 123035\n",
      "Data columns (total 4 columns):\n",
      "id              123036 non-null object\n",
      "message_date    123036 non-null datetime64[ns]\n",
      "user_id         123036 non-null int64\n",
      "month           123036 non-null int64\n",
      "dtypes: datetime64[ns](1), int64(2), object(1)\n",
      "memory usage: 3.8+ MB\n"
     ]
    },
    {
     "data": {
      "text/html": [
       "<div>\n",
       "<style scoped>\n",
       "    .dataframe tbody tr th:only-of-type {\n",
       "        vertical-align: middle;\n",
       "    }\n",
       "\n",
       "    .dataframe tbody tr th {\n",
       "        vertical-align: top;\n",
       "    }\n",
       "\n",
       "    .dataframe thead th {\n",
       "        text-align: right;\n",
       "    }\n",
       "</style>\n",
       "<table border=\"1\" class=\"dataframe\">\n",
       "  <thead>\n",
       "    <tr style=\"text-align: right;\">\n",
       "      <th></th>\n",
       "      <th>user_id</th>\n",
       "      <th>month</th>\n",
       "    </tr>\n",
       "  </thead>\n",
       "  <tbody>\n",
       "    <tr>\n",
       "      <td>count</td>\n",
       "      <td>123036.000000</td>\n",
       "      <td>123036.000000</td>\n",
       "    </tr>\n",
       "    <tr>\n",
       "      <td>mean</td>\n",
       "      <td>1256.989410</td>\n",
       "      <td>8.632262</td>\n",
       "    </tr>\n",
       "    <tr>\n",
       "      <td>std</td>\n",
       "      <td>143.523967</td>\n",
       "      <td>2.747328</td>\n",
       "    </tr>\n",
       "    <tr>\n",
       "      <td>min</td>\n",
       "      <td>1000.000000</td>\n",
       "      <td>1.000000</td>\n",
       "    </tr>\n",
       "    <tr>\n",
       "      <td>25%</td>\n",
       "      <td>1134.000000</td>\n",
       "      <td>7.000000</td>\n",
       "    </tr>\n",
       "    <tr>\n",
       "      <td>50%</td>\n",
       "      <td>1271.000000</td>\n",
       "      <td>9.000000</td>\n",
       "    </tr>\n",
       "    <tr>\n",
       "      <td>75%</td>\n",
       "      <td>1381.000000</td>\n",
       "      <td>11.000000</td>\n",
       "    </tr>\n",
       "    <tr>\n",
       "      <td>max</td>\n",
       "      <td>1499.000000</td>\n",
       "      <td>12.000000</td>\n",
       "    </tr>\n",
       "  </tbody>\n",
       "</table>\n",
       "</div>"
      ],
      "text/plain": [
       "             user_id          month\n",
       "count  123036.000000  123036.000000\n",
       "mean     1256.989410       8.632262\n",
       "std       143.523967       2.747328\n",
       "min      1000.000000       1.000000\n",
       "25%      1134.000000       7.000000\n",
       "50%      1271.000000       9.000000\n",
       "75%      1381.000000      11.000000\n",
       "max      1499.000000      12.000000"
      ]
     },
     "metadata": {},
     "output_type": "display_data"
    },
    {
     "data": {
      "text/html": [
       "<div>\n",
       "<style scoped>\n",
       "    .dataframe tbody tr th:only-of-type {\n",
       "        vertical-align: middle;\n",
       "    }\n",
       "\n",
       "    .dataframe tbody tr th {\n",
       "        vertical-align: top;\n",
       "    }\n",
       "\n",
       "    .dataframe thead th {\n",
       "        text-align: right;\n",
       "    }\n",
       "</style>\n",
       "<table border=\"1\" class=\"dataframe\">\n",
       "  <thead>\n",
       "    <tr style=\"text-align: right;\">\n",
       "      <th></th>\n",
       "      <th>id</th>\n",
       "      <th>message_date</th>\n",
       "      <th>user_id</th>\n",
       "      <th>month</th>\n",
       "    </tr>\n",
       "  </thead>\n",
       "  <tbody>\n",
       "    <tr>\n",
       "      <td>0</td>\n",
       "      <td>1000_0</td>\n",
       "      <td>2018-06-27</td>\n",
       "      <td>1000</td>\n",
       "      <td>6</td>\n",
       "    </tr>\n",
       "    <tr>\n",
       "      <td>1</td>\n",
       "      <td>1000_1</td>\n",
       "      <td>2018-10-08</td>\n",
       "      <td>1000</td>\n",
       "      <td>10</td>\n",
       "    </tr>\n",
       "    <tr>\n",
       "      <td>2</td>\n",
       "      <td>1000_2</td>\n",
       "      <td>2018-08-04</td>\n",
       "      <td>1000</td>\n",
       "      <td>8</td>\n",
       "    </tr>\n",
       "    <tr>\n",
       "      <td>3</td>\n",
       "      <td>1000_3</td>\n",
       "      <td>2018-06-16</td>\n",
       "      <td>1000</td>\n",
       "      <td>6</td>\n",
       "    </tr>\n",
       "    <tr>\n",
       "      <td>4</td>\n",
       "      <td>1000_4</td>\n",
       "      <td>2018-12-05</td>\n",
       "      <td>1000</td>\n",
       "      <td>12</td>\n",
       "    </tr>\n",
       "    <tr>\n",
       "      <td>5</td>\n",
       "      <td>1000_5</td>\n",
       "      <td>2018-06-20</td>\n",
       "      <td>1000</td>\n",
       "      <td>6</td>\n",
       "    </tr>\n",
       "    <tr>\n",
       "      <td>6</td>\n",
       "      <td>1000_6</td>\n",
       "      <td>2018-11-19</td>\n",
       "      <td>1000</td>\n",
       "      <td>11</td>\n",
       "    </tr>\n",
       "    <tr>\n",
       "      <td>7</td>\n",
       "      <td>1000_7</td>\n",
       "      <td>2018-10-29</td>\n",
       "      <td>1000</td>\n",
       "      <td>10</td>\n",
       "    </tr>\n",
       "    <tr>\n",
       "      <td>8</td>\n",
       "      <td>1000_8</td>\n",
       "      <td>2018-06-25</td>\n",
       "      <td>1000</td>\n",
       "      <td>6</td>\n",
       "    </tr>\n",
       "    <tr>\n",
       "      <td>9</td>\n",
       "      <td>1000_9</td>\n",
       "      <td>2018-12-18</td>\n",
       "      <td>1000</td>\n",
       "      <td>12</td>\n",
       "    </tr>\n",
       "  </tbody>\n",
       "</table>\n",
       "</div>"
      ],
      "text/plain": [
       "       id message_date  user_id  month\n",
       "0  1000_0   2018-06-27     1000      6\n",
       "1  1000_1   2018-10-08     1000     10\n",
       "2  1000_2   2018-08-04     1000      8\n",
       "3  1000_3   2018-06-16     1000      6\n",
       "4  1000_4   2018-12-05     1000     12\n",
       "5  1000_5   2018-06-20     1000      6\n",
       "6  1000_6   2018-11-19     1000     11\n",
       "7  1000_7   2018-10-29     1000     10\n",
       "8  1000_8   2018-06-25     1000      6\n",
       "9  1000_9   2018-12-18     1000     12"
      ]
     },
     "metadata": {},
     "output_type": "display_data"
    },
    {
     "name": "stdout",
     "output_type": "stream",
     "text": [
      "Число явных дубликатов в таблице = 0\n",
      "-------------------------\n",
      "\n",
      "<class 'pandas.core.frame.DataFrame'>\n",
      "RangeIndex: 149396 entries, 0 to 149395\n",
      "Data columns (total 5 columns):\n",
      "id              149396 non-null object\n",
      "mb_used         149396 non-null float64\n",
      "session_date    149396 non-null datetime64[ns]\n",
      "user_id         149396 non-null int64\n",
      "month           149396 non-null int64\n",
      "dtypes: datetime64[ns](1), float64(1), int64(2), object(1)\n",
      "memory usage: 5.7+ MB\n"
     ]
    },
    {
     "data": {
      "text/html": [
       "<div>\n",
       "<style scoped>\n",
       "    .dataframe tbody tr th:only-of-type {\n",
       "        vertical-align: middle;\n",
       "    }\n",
       "\n",
       "    .dataframe tbody tr th {\n",
       "        vertical-align: top;\n",
       "    }\n",
       "\n",
       "    .dataframe thead th {\n",
       "        text-align: right;\n",
       "    }\n",
       "</style>\n",
       "<table border=\"1\" class=\"dataframe\">\n",
       "  <thead>\n",
       "    <tr style=\"text-align: right;\">\n",
       "      <th></th>\n",
       "      <th>mb_used</th>\n",
       "      <th>user_id</th>\n",
       "      <th>month</th>\n",
       "    </tr>\n",
       "  </thead>\n",
       "  <tbody>\n",
       "    <tr>\n",
       "      <td>count</td>\n",
       "      <td>149396.000000</td>\n",
       "      <td>149396.000000</td>\n",
       "      <td>149396.000000</td>\n",
       "    </tr>\n",
       "    <tr>\n",
       "      <td>mean</td>\n",
       "      <td>370.192426</td>\n",
       "      <td>1252.099842</td>\n",
       "      <td>8.563315</td>\n",
       "    </tr>\n",
       "    <tr>\n",
       "      <td>std</td>\n",
       "      <td>278.300951</td>\n",
       "      <td>144.050823</td>\n",
       "      <td>2.788717</td>\n",
       "    </tr>\n",
       "    <tr>\n",
       "      <td>min</td>\n",
       "      <td>0.000000</td>\n",
       "      <td>1000.000000</td>\n",
       "      <td>1.000000</td>\n",
       "    </tr>\n",
       "    <tr>\n",
       "      <td>25%</td>\n",
       "      <td>138.187500</td>\n",
       "      <td>1130.000000</td>\n",
       "      <td>7.000000</td>\n",
       "    </tr>\n",
       "    <tr>\n",
       "      <td>50%</td>\n",
       "      <td>348.015000</td>\n",
       "      <td>1251.000000</td>\n",
       "      <td>9.000000</td>\n",
       "    </tr>\n",
       "    <tr>\n",
       "      <td>75%</td>\n",
       "      <td>559.552500</td>\n",
       "      <td>1380.000000</td>\n",
       "      <td>11.000000</td>\n",
       "    </tr>\n",
       "    <tr>\n",
       "      <td>max</td>\n",
       "      <td>1724.830000</td>\n",
       "      <td>1499.000000</td>\n",
       "      <td>12.000000</td>\n",
       "    </tr>\n",
       "  </tbody>\n",
       "</table>\n",
       "</div>"
      ],
      "text/plain": [
       "             mb_used        user_id          month\n",
       "count  149396.000000  149396.000000  149396.000000\n",
       "mean      370.192426    1252.099842       8.563315\n",
       "std       278.300951     144.050823       2.788717\n",
       "min         0.000000    1000.000000       1.000000\n",
       "25%       138.187500    1130.000000       7.000000\n",
       "50%       348.015000    1251.000000       9.000000\n",
       "75%       559.552500    1380.000000      11.000000\n",
       "max      1724.830000    1499.000000      12.000000"
      ]
     },
     "metadata": {},
     "output_type": "display_data"
    },
    {
     "data": {
      "text/html": [
       "<div>\n",
       "<style scoped>\n",
       "    .dataframe tbody tr th:only-of-type {\n",
       "        vertical-align: middle;\n",
       "    }\n",
       "\n",
       "    .dataframe tbody tr th {\n",
       "        vertical-align: top;\n",
       "    }\n",
       "\n",
       "    .dataframe thead th {\n",
       "        text-align: right;\n",
       "    }\n",
       "</style>\n",
       "<table border=\"1\" class=\"dataframe\">\n",
       "  <thead>\n",
       "    <tr style=\"text-align: right;\">\n",
       "      <th></th>\n",
       "      <th>id</th>\n",
       "      <th>mb_used</th>\n",
       "      <th>session_date</th>\n",
       "      <th>user_id</th>\n",
       "      <th>month</th>\n",
       "    </tr>\n",
       "  </thead>\n",
       "  <tbody>\n",
       "    <tr>\n",
       "      <td>0</td>\n",
       "      <td>1000_0</td>\n",
       "      <td>112.95</td>\n",
       "      <td>2018-11-25</td>\n",
       "      <td>1000</td>\n",
       "      <td>11</td>\n",
       "    </tr>\n",
       "    <tr>\n",
       "      <td>1</td>\n",
       "      <td>1000_1</td>\n",
       "      <td>1052.81</td>\n",
       "      <td>2018-09-07</td>\n",
       "      <td>1000</td>\n",
       "      <td>9</td>\n",
       "    </tr>\n",
       "    <tr>\n",
       "      <td>2</td>\n",
       "      <td>1000_2</td>\n",
       "      <td>1197.26</td>\n",
       "      <td>2018-06-25</td>\n",
       "      <td>1000</td>\n",
       "      <td>6</td>\n",
       "    </tr>\n",
       "    <tr>\n",
       "      <td>3</td>\n",
       "      <td>1000_3</td>\n",
       "      <td>550.27</td>\n",
       "      <td>2018-08-22</td>\n",
       "      <td>1000</td>\n",
       "      <td>8</td>\n",
       "    </tr>\n",
       "    <tr>\n",
       "      <td>4</td>\n",
       "      <td>1000_4</td>\n",
       "      <td>302.56</td>\n",
       "      <td>2018-09-24</td>\n",
       "      <td>1000</td>\n",
       "      <td>9</td>\n",
       "    </tr>\n",
       "    <tr>\n",
       "      <td>5</td>\n",
       "      <td>1000_5</td>\n",
       "      <td>399.97</td>\n",
       "      <td>2018-10-02</td>\n",
       "      <td>1000</td>\n",
       "      <td>10</td>\n",
       "    </tr>\n",
       "    <tr>\n",
       "      <td>6</td>\n",
       "      <td>1000_6</td>\n",
       "      <td>540.08</td>\n",
       "      <td>2018-09-07</td>\n",
       "      <td>1000</td>\n",
       "      <td>9</td>\n",
       "    </tr>\n",
       "    <tr>\n",
       "      <td>7</td>\n",
       "      <td>1000_7</td>\n",
       "      <td>415.70</td>\n",
       "      <td>2018-07-11</td>\n",
       "      <td>1000</td>\n",
       "      <td>7</td>\n",
       "    </tr>\n",
       "    <tr>\n",
       "      <td>8</td>\n",
       "      <td>1000_8</td>\n",
       "      <td>505.40</td>\n",
       "      <td>2018-10-08</td>\n",
       "      <td>1000</td>\n",
       "      <td>10</td>\n",
       "    </tr>\n",
       "    <tr>\n",
       "      <td>9</td>\n",
       "      <td>1000_9</td>\n",
       "      <td>345.54</td>\n",
       "      <td>2018-09-03</td>\n",
       "      <td>1000</td>\n",
       "      <td>9</td>\n",
       "    </tr>\n",
       "  </tbody>\n",
       "</table>\n",
       "</div>"
      ],
      "text/plain": [
       "       id  mb_used session_date  user_id  month\n",
       "0  1000_0   112.95   2018-11-25     1000     11\n",
       "1  1000_1  1052.81   2018-09-07     1000      9\n",
       "2  1000_2  1197.26   2018-06-25     1000      6\n",
       "3  1000_3   550.27   2018-08-22     1000      8\n",
       "4  1000_4   302.56   2018-09-24     1000      9\n",
       "5  1000_5   399.97   2018-10-02     1000     10\n",
       "6  1000_6   540.08   2018-09-07     1000      9\n",
       "7  1000_7   415.70   2018-07-11     1000      7\n",
       "8  1000_8   505.40   2018-10-08     1000     10\n",
       "9  1000_9   345.54   2018-09-03     1000      9"
      ]
     },
     "metadata": {},
     "output_type": "display_data"
    },
    {
     "name": "stdout",
     "output_type": "stream",
     "text": [
      "Число явных дубликатов в таблице = 0\n",
      "-------------------------\n",
      "\n",
      "<class 'pandas.core.frame.DataFrame'>\n",
      "RangeIndex: 2 entries, 0 to 1\n",
      "Data columns (total 9 columns):\n",
      "messages_included        2 non-null int64\n",
      "mb_per_month_included    2 non-null int64\n",
      "minutes_included         2 non-null int64\n",
      "rub_monthly_fee          2 non-null int64\n",
      "rub_per_gb               2 non-null int64\n",
      "rub_per_message          2 non-null int64\n",
      "rub_per_minute           2 non-null int64\n",
      "tariff_name              2 non-null object\n",
      "gb_per_month_included    2 non-null int64\n",
      "dtypes: int64(8), object(1)\n",
      "memory usage: 272.0+ bytes\n"
     ]
    },
    {
     "data": {
      "text/html": [
       "<div>\n",
       "<style scoped>\n",
       "    .dataframe tbody tr th:only-of-type {\n",
       "        vertical-align: middle;\n",
       "    }\n",
       "\n",
       "    .dataframe tbody tr th {\n",
       "        vertical-align: top;\n",
       "    }\n",
       "\n",
       "    .dataframe thead th {\n",
       "        text-align: right;\n",
       "    }\n",
       "</style>\n",
       "<table border=\"1\" class=\"dataframe\">\n",
       "  <thead>\n",
       "    <tr style=\"text-align: right;\">\n",
       "      <th></th>\n",
       "      <th>messages_included</th>\n",
       "      <th>mb_per_month_included</th>\n",
       "      <th>minutes_included</th>\n",
       "      <th>rub_monthly_fee</th>\n",
       "      <th>rub_per_gb</th>\n",
       "      <th>rub_per_message</th>\n",
       "      <th>rub_per_minute</th>\n",
       "      <th>gb_per_month_included</th>\n",
       "    </tr>\n",
       "  </thead>\n",
       "  <tbody>\n",
       "    <tr>\n",
       "      <td>count</td>\n",
       "      <td>2.000000</td>\n",
       "      <td>2.000000</td>\n",
       "      <td>2.000000</td>\n",
       "      <td>2.000000</td>\n",
       "      <td>2.000000</td>\n",
       "      <td>2.000000</td>\n",
       "      <td>2.000000</td>\n",
       "      <td>2.000000</td>\n",
       "    </tr>\n",
       "    <tr>\n",
       "      <td>mean</td>\n",
       "      <td>525.000000</td>\n",
       "      <td>23040.000000</td>\n",
       "      <td>1750.000000</td>\n",
       "      <td>1250.000000</td>\n",
       "      <td>175.000000</td>\n",
       "      <td>2.000000</td>\n",
       "      <td>2.000000</td>\n",
       "      <td>22.500000</td>\n",
       "    </tr>\n",
       "    <tr>\n",
       "      <td>std</td>\n",
       "      <td>671.751442</td>\n",
       "      <td>10861.160159</td>\n",
       "      <td>1767.766953</td>\n",
       "      <td>989.949494</td>\n",
       "      <td>35.355339</td>\n",
       "      <td>1.414214</td>\n",
       "      <td>1.414214</td>\n",
       "      <td>10.606602</td>\n",
       "    </tr>\n",
       "    <tr>\n",
       "      <td>min</td>\n",
       "      <td>50.000000</td>\n",
       "      <td>15360.000000</td>\n",
       "      <td>500.000000</td>\n",
       "      <td>550.000000</td>\n",
       "      <td>150.000000</td>\n",
       "      <td>1.000000</td>\n",
       "      <td>1.000000</td>\n",
       "      <td>15.000000</td>\n",
       "    </tr>\n",
       "    <tr>\n",
       "      <td>25%</td>\n",
       "      <td>287.500000</td>\n",
       "      <td>19200.000000</td>\n",
       "      <td>1125.000000</td>\n",
       "      <td>900.000000</td>\n",
       "      <td>162.500000</td>\n",
       "      <td>1.500000</td>\n",
       "      <td>1.500000</td>\n",
       "      <td>18.750000</td>\n",
       "    </tr>\n",
       "    <tr>\n",
       "      <td>50%</td>\n",
       "      <td>525.000000</td>\n",
       "      <td>23040.000000</td>\n",
       "      <td>1750.000000</td>\n",
       "      <td>1250.000000</td>\n",
       "      <td>175.000000</td>\n",
       "      <td>2.000000</td>\n",
       "      <td>2.000000</td>\n",
       "      <td>22.500000</td>\n",
       "    </tr>\n",
       "    <tr>\n",
       "      <td>75%</td>\n",
       "      <td>762.500000</td>\n",
       "      <td>26880.000000</td>\n",
       "      <td>2375.000000</td>\n",
       "      <td>1600.000000</td>\n",
       "      <td>187.500000</td>\n",
       "      <td>2.500000</td>\n",
       "      <td>2.500000</td>\n",
       "      <td>26.250000</td>\n",
       "    </tr>\n",
       "    <tr>\n",
       "      <td>max</td>\n",
       "      <td>1000.000000</td>\n",
       "      <td>30720.000000</td>\n",
       "      <td>3000.000000</td>\n",
       "      <td>1950.000000</td>\n",
       "      <td>200.000000</td>\n",
       "      <td>3.000000</td>\n",
       "      <td>3.000000</td>\n",
       "      <td>30.000000</td>\n",
       "    </tr>\n",
       "  </tbody>\n",
       "</table>\n",
       "</div>"
      ],
      "text/plain": [
       "       messages_included  mb_per_month_included  minutes_included  \\\n",
       "count           2.000000               2.000000          2.000000   \n",
       "mean          525.000000           23040.000000       1750.000000   \n",
       "std           671.751442           10861.160159       1767.766953   \n",
       "min            50.000000           15360.000000        500.000000   \n",
       "25%           287.500000           19200.000000       1125.000000   \n",
       "50%           525.000000           23040.000000       1750.000000   \n",
       "75%           762.500000           26880.000000       2375.000000   \n",
       "max          1000.000000           30720.000000       3000.000000   \n",
       "\n",
       "       rub_monthly_fee  rub_per_gb  rub_per_message  rub_per_minute  \\\n",
       "count         2.000000    2.000000         2.000000        2.000000   \n",
       "mean       1250.000000  175.000000         2.000000        2.000000   \n",
       "std         989.949494   35.355339         1.414214        1.414214   \n",
       "min         550.000000  150.000000         1.000000        1.000000   \n",
       "25%         900.000000  162.500000         1.500000        1.500000   \n",
       "50%        1250.000000  175.000000         2.000000        2.000000   \n",
       "75%        1600.000000  187.500000         2.500000        2.500000   \n",
       "max        1950.000000  200.000000         3.000000        3.000000   \n",
       "\n",
       "       gb_per_month_included  \n",
       "count               2.000000  \n",
       "mean               22.500000  \n",
       "std                10.606602  \n",
       "min                15.000000  \n",
       "25%                18.750000  \n",
       "50%                22.500000  \n",
       "75%                26.250000  \n",
       "max                30.000000  "
      ]
     },
     "metadata": {},
     "output_type": "display_data"
    },
    {
     "data": {
      "text/html": [
       "<div>\n",
       "<style scoped>\n",
       "    .dataframe tbody tr th:only-of-type {\n",
       "        vertical-align: middle;\n",
       "    }\n",
       "\n",
       "    .dataframe tbody tr th {\n",
       "        vertical-align: top;\n",
       "    }\n",
       "\n",
       "    .dataframe thead th {\n",
       "        text-align: right;\n",
       "    }\n",
       "</style>\n",
       "<table border=\"1\" class=\"dataframe\">\n",
       "  <thead>\n",
       "    <tr style=\"text-align: right;\">\n",
       "      <th></th>\n",
       "      <th>messages_included</th>\n",
       "      <th>mb_per_month_included</th>\n",
       "      <th>minutes_included</th>\n",
       "      <th>rub_monthly_fee</th>\n",
       "      <th>rub_per_gb</th>\n",
       "      <th>rub_per_message</th>\n",
       "      <th>rub_per_minute</th>\n",
       "      <th>tariff_name</th>\n",
       "      <th>gb_per_month_included</th>\n",
       "    </tr>\n",
       "  </thead>\n",
       "  <tbody>\n",
       "    <tr>\n",
       "      <td>0</td>\n",
       "      <td>50</td>\n",
       "      <td>15360</td>\n",
       "      <td>500</td>\n",
       "      <td>550</td>\n",
       "      <td>200</td>\n",
       "      <td>3</td>\n",
       "      <td>3</td>\n",
       "      <td>smart</td>\n",
       "      <td>15</td>\n",
       "    </tr>\n",
       "    <tr>\n",
       "      <td>1</td>\n",
       "      <td>1000</td>\n",
       "      <td>30720</td>\n",
       "      <td>3000</td>\n",
       "      <td>1950</td>\n",
       "      <td>150</td>\n",
       "      <td>1</td>\n",
       "      <td>1</td>\n",
       "      <td>ultra</td>\n",
       "      <td>30</td>\n",
       "    </tr>\n",
       "  </tbody>\n",
       "</table>\n",
       "</div>"
      ],
      "text/plain": [
       "   messages_included  mb_per_month_included  minutes_included  \\\n",
       "0                 50                  15360               500   \n",
       "1               1000                  30720              3000   \n",
       "\n",
       "   rub_monthly_fee  rub_per_gb  rub_per_message  rub_per_minute tariff_name  \\\n",
       "0              550         200                3               3       smart   \n",
       "1             1950         150                1               1       ultra   \n",
       "\n",
       "   gb_per_month_included  \n",
       "0                     15  \n",
       "1                     30  "
      ]
     },
     "metadata": {},
     "output_type": "display_data"
    },
    {
     "name": "stdout",
     "output_type": "stream",
     "text": [
      "Число явных дубликатов в таблице = 0\n",
      "-------------------------\n",
      "\n"
     ]
    }
   ],
   "source": [
    "# создадим цикл по таблицам с данными. В теле цикла для каждой таблицы вызовем методы info(), describe() и head(10) \n",
    "# для первоначального знакомства с содержимым таблиц и первичного анализа.\n",
    "for data in [users_data, calls_data, messages_data, internet_data, tariffs_data]:\n",
    "    data.info()\n",
    "    display(data.describe())\n",
    "    display(data.head(10))\n",
    "    print(f\"Число явных дубликатов в таблице = {data.duplicated().sum()}\")\n",
    "    print('-------------------------')\n",
    "    print()"
   ]
  },
  {
   "cell_type": "markdown",
   "metadata": {},
   "source": [
    "### Вывод\n",
    "\n",
    "#### Информация о пользователях\n",
    "\n",
    "Таблица `users_data` содержит 500 строк и 8 колонок. В каждой строке таблицы - данные об одном пользователе: его тарифный план (`tariffs`), фамилия и имя (`last_name` и `first_name`), возраст (`age`), город (`city`), дата регистрации и дата окончания действия тарифного плана (`reg_data` и `churn_date`), а также уникальный идентификационный номер (`user_id`).\n",
    "\n",
    "Присутствуют типы данных *int* и *object*. Во всей колонках тип данных соответствует содержанию, за исключением колонок с датами. В столбцах `reg_data` и `churn_date` приведем значения к типу *datetime* для дальнейших преобразований.\n",
    "\n",
    "По колонке `age` при вызове метода *describe()* можно сказать, что в данных отсутствуют сильные выбросы.\n",
    "\n",
    "#### Информация о звонках\n",
    "\n",
    "Таблица `calls_data` содержит 4 колонки и 202607 строк. В каждой строке информация об одном звонке: его уникальный идентификационный номер (`id`), дата звонка (`call_date`), продолжительность звонка в минутах (`duration`) и уникальный идентификационный номер пользователя (`user_id`).\n",
    "\n",
    "Присутствуют типы данных *int*, *float* и *object*. За исключением колонки с датами, тип данных соответствует значениям. В колонке `call_date` приведем значения к типу *datetime* для дальнейших преобразований. Поскольку оператор округляет потраченные минуты в большую сторону (т.е. при продолжительности звонка даже 1 секунда, звонок будет засчитываться за 1 минуту), преобразуем данные в колонке `duration`. Округлим значения в большую сторону и после преобразуем тип данных к *int*.\n",
    "\n",
    "При вызов метода *decribe()* для колонки `duration` стандартное отклонение и медиана практически равны стандартному отклонению, что может свидетельствовать о наличие выбросов в данном столбце.\n",
    "\n",
    "#### Информация о сообщениях\n",
    "\n",
    "Таблица `messages_data` содержит 3 колонки и 123036 строк. Одна строка - данные об одном сообщении: уникальный идентификатор сообщения (`id`), дата сообщения (`message_date`) и уникальный идентификационный номер пользователя (`user_id`).\n",
    "\n",
    "Присутствуют типы данных *int* и *object*. В столбце `message_data` приведем значения к типу *datetime* для дальнейших преобразований. \n",
    "\n",
    "Вызов метода *describe()* для данной таблицы не имеет смысла, поскольку в таблице содержаться категориальные данные.\n",
    "\n",
    "#### Информация об интернет-сессиях\n",
    "\n",
    "Таблица `internet_data` содержит 5 колонок и 149396 строк. В каждой строке данные об одной интернет-сессии: уникальный идентификатор сессия (`id`), объём потраченного за сессию интернет-трафика в мегабайтах (`mb_used`), дата сессии (`session_date`) и уникальный идентификационный номер пользователя (`user_id`). Также имеется колонка `Unnamed: 0`, которая дублирует индексы строк - эту колонку можно удалить.\n",
    "\n",
    "Присутствуют типы данных *int*, *float* и *object*. В столбце `session_data` приведем значения к типу *datetime* для дальнейших преобразований. Аналогично продолжительности звонков объем потраченного трафика округляется в большую сторону. Однако, это не учитывается для отдельных сессий, а рассчитывается сумма по итогам месяца.\n",
    "\n",
    "Для колонки `mb_used` при вызове метода высокое значение стандартного отклонения свидетельствует о наличии выбросов в данных.\n",
    "\n",
    "#### Информация о тарифах\n",
    "\n",
    "В таблице `tariffs` в двух строках и 8 колонках содержится информация о тарифных планах, а именно:\n",
    "- количество включенных сообщений в абонентскую плату (`messages_included`);\n",
    "- количество ключенного интернет трафика в абонентскую плату (`mb_per_month_included`);\n",
    "- количество включенных минут в абонентскую плату (`minutes_included`);\n",
    "- ежемесячная абонентская плата в рублях (`rub_monthly_fee`);\n",
    "- стоимость дополнительного гигабайта (`rub_per_gb`);\n",
    "- стоимость дополнительного сообщения (`rub_per_message`);\n",
    "- стоимость дополнительной минуты (`rub_per_minute`);\n",
    "- название тарифа (`tariff_name`).\n",
    "\n",
    "В таблице имеются типы данных *int* и *object*, которые соответствуют значениям в колонках - изменение типов не требуется.\n",
    "\n",
    "Вызов метода *describe()* для данной таблицы не имеет смысла.\n",
    "\n",
    "#### Общие выводы\n",
    "\n",
    "1. Названия колонок во всех таблицах соответствуют правилам хорошего стиля. (Исключение: колонка `Unnamed: 0` в таблице `internet_data`, которая подлежит удалению.\n",
    "2. Вызов метода *describe()* для колонок `user_id` во всех таблицах не имеет значения, поскольку данная колонка содержит категориальные данные.\n",
    "3. В данных отсутствуют пропуски. За исключением:\n",
    "    - Пропущенные значения в колонке `churn_date` таблицы `users_data` свидетельствуют о том, что на момент выгрузки данных пользователь не прекратил пользование тарифом.\n",
    "    - Нулевые значения в колонке `duration` таблицы `calls_data` свидетельствуют о том, что звонок был пропущен (не начинался) и по нему не засчитываются минуты.\n",
    "4. В данных отсутствуют явные дубликаты."
   ]
  },
  {
   "cell_type": "markdown",
   "metadata": {},
   "source": [
    "## Предобработка данных"
   ]
  },
  {
   "cell_type": "markdown",
   "metadata": {},
   "source": [
    "### Удаление колонки\n",
    "\n",
    "В таблице `internet_data` имеется колонка `Unnamed: 0`, которая дублирует значения индексов таблицы. Данную колонку можно удалить при помощи метода *drop()*. В качестве аргументов метода передадим название колонки, ось равную 1 для удаления именно столбца и *inplace=True* для перезаписи таблицы"
   ]
  },
  {
   "cell_type": "code",
   "execution_count": 4,
   "metadata": {},
   "outputs": [
    {
     "data": {
      "text/plain": [
       "Index(['id', 'mb_used', 'session_date', 'user_id'], dtype='object')"
      ]
     },
     "execution_count": 4,
     "metadata": {},
     "output_type": "execute_result"
    }
   ],
   "source": [
    "internet_data.drop('Unnamed: 0', axis=1, inplace=True) # удаляем столбец\n",
    "internet_data.columns #проверяем, что такого столбца больше не осталось"
   ]
  },
  {
   "cell_type": "markdown",
   "metadata": {},
   "source": [
    "Неинформативный столбец удалили, можно переходить к обработке пропусков.\n",
    "\n",
    "### Обработка пропусков\n",
    "\n",
    "Обработаем пропуски в колонке `churn_date` в таблице `users_data`. Поскольку пользователи с пропущенными значениями являются таковыми на момент выгрузки данных, то и 31 декабря 2018 года они являлись пользователями данного тарифа. Поэтому заменим пропуски на данное характерное значение. Для этого воспользуемся методом *fillna()*, в аргумент которому передадим значение 2018-12-31."
   ]
  },
  {
   "cell_type": "code",
   "execution_count": 5,
   "metadata": {},
   "outputs": [
    {
     "data": {
      "text/html": [
       "<div>\n",
       "<style scoped>\n",
       "    .dataframe tbody tr th:only-of-type {\n",
       "        vertical-align: middle;\n",
       "    }\n",
       "\n",
       "    .dataframe tbody tr th {\n",
       "        vertical-align: top;\n",
       "    }\n",
       "\n",
       "    .dataframe thead th {\n",
       "        text-align: right;\n",
       "    }\n",
       "</style>\n",
       "<table border=\"1\" class=\"dataframe\">\n",
       "  <thead>\n",
       "    <tr style=\"text-align: right;\">\n",
       "      <th></th>\n",
       "      <th>user_id</th>\n",
       "      <th>age</th>\n",
       "      <th>churn_date</th>\n",
       "      <th>city</th>\n",
       "      <th>first_name</th>\n",
       "      <th>last_name</th>\n",
       "      <th>reg_date</th>\n",
       "      <th>tariff</th>\n",
       "    </tr>\n",
       "  </thead>\n",
       "  <tbody>\n",
       "    <tr>\n",
       "      <td>0</td>\n",
       "      <td>1000</td>\n",
       "      <td>52</td>\n",
       "      <td>2018-12-31</td>\n",
       "      <td>Краснодар</td>\n",
       "      <td>Рафаил</td>\n",
       "      <td>Верещагин</td>\n",
       "      <td>2018-05-25</td>\n",
       "      <td>ultra</td>\n",
       "    </tr>\n",
       "    <tr>\n",
       "      <td>1</td>\n",
       "      <td>1001</td>\n",
       "      <td>41</td>\n",
       "      <td>2018-12-31</td>\n",
       "      <td>Москва</td>\n",
       "      <td>Иван</td>\n",
       "      <td>Ежов</td>\n",
       "      <td>2018-11-01</td>\n",
       "      <td>smart</td>\n",
       "    </tr>\n",
       "    <tr>\n",
       "      <td>2</td>\n",
       "      <td>1002</td>\n",
       "      <td>59</td>\n",
       "      <td>2018-12-31</td>\n",
       "      <td>Стерлитамак</td>\n",
       "      <td>Евгений</td>\n",
       "      <td>Абрамович</td>\n",
       "      <td>2018-06-17</td>\n",
       "      <td>smart</td>\n",
       "    </tr>\n",
       "    <tr>\n",
       "      <td>3</td>\n",
       "      <td>1003</td>\n",
       "      <td>23</td>\n",
       "      <td>2018-12-31</td>\n",
       "      <td>Москва</td>\n",
       "      <td>Белла</td>\n",
       "      <td>Белякова</td>\n",
       "      <td>2018-08-17</td>\n",
       "      <td>ultra</td>\n",
       "    </tr>\n",
       "    <tr>\n",
       "      <td>4</td>\n",
       "      <td>1004</td>\n",
       "      <td>68</td>\n",
       "      <td>2018-12-31</td>\n",
       "      <td>Новокузнецк</td>\n",
       "      <td>Татьяна</td>\n",
       "      <td>Авдеенко</td>\n",
       "      <td>2018-05-14</td>\n",
       "      <td>ultra</td>\n",
       "    </tr>\n",
       "    <tr>\n",
       "      <td>5</td>\n",
       "      <td>1005</td>\n",
       "      <td>67</td>\n",
       "      <td>2018-12-31</td>\n",
       "      <td>Набережные Челны</td>\n",
       "      <td>Афанасий</td>\n",
       "      <td>Горлов</td>\n",
       "      <td>2018-01-25</td>\n",
       "      <td>smart</td>\n",
       "    </tr>\n",
       "    <tr>\n",
       "      <td>6</td>\n",
       "      <td>1006</td>\n",
       "      <td>21</td>\n",
       "      <td>2018-12-31</td>\n",
       "      <td>Ульяновск</td>\n",
       "      <td>Леонид</td>\n",
       "      <td>Ермолаев</td>\n",
       "      <td>2018-02-26</td>\n",
       "      <td>smart</td>\n",
       "    </tr>\n",
       "    <tr>\n",
       "      <td>7</td>\n",
       "      <td>1007</td>\n",
       "      <td>65</td>\n",
       "      <td>2018-12-31</td>\n",
       "      <td>Москва</td>\n",
       "      <td>Юна</td>\n",
       "      <td>Березина</td>\n",
       "      <td>2018-04-19</td>\n",
       "      <td>smart</td>\n",
       "    </tr>\n",
       "    <tr>\n",
       "      <td>8</td>\n",
       "      <td>1008</td>\n",
       "      <td>63</td>\n",
       "      <td>2018-12-31</td>\n",
       "      <td>Челябинск</td>\n",
       "      <td>Рустэм</td>\n",
       "      <td>Пономарёв</td>\n",
       "      <td>2018-12-19</td>\n",
       "      <td>smart</td>\n",
       "    </tr>\n",
       "    <tr>\n",
       "      <td>9</td>\n",
       "      <td>1009</td>\n",
       "      <td>24</td>\n",
       "      <td>2018-12-31</td>\n",
       "      <td>Пермь</td>\n",
       "      <td>Василиса</td>\n",
       "      <td>Блинова</td>\n",
       "      <td>2018-03-22</td>\n",
       "      <td>smart</td>\n",
       "    </tr>\n",
       "  </tbody>\n",
       "</table>\n",
       "</div>"
      ],
      "text/plain": [
       "   user_id  age  churn_date              city first_name  last_name  \\\n",
       "0     1000   52  2018-12-31         Краснодар     Рафаил  Верещагин   \n",
       "1     1001   41  2018-12-31            Москва       Иван       Ежов   \n",
       "2     1002   59  2018-12-31       Стерлитамак    Евгений  Абрамович   \n",
       "3     1003   23  2018-12-31            Москва      Белла   Белякова   \n",
       "4     1004   68  2018-12-31       Новокузнецк    Татьяна   Авдеенко   \n",
       "5     1005   67  2018-12-31  Набережные Челны   Афанасий     Горлов   \n",
       "6     1006   21  2018-12-31         Ульяновск     Леонид   Ермолаев   \n",
       "7     1007   65  2018-12-31            Москва        Юна   Березина   \n",
       "8     1008   63  2018-12-31         Челябинск     Рустэм  Пономарёв   \n",
       "9     1009   24  2018-12-31             Пермь   Василиса    Блинова   \n",
       "\n",
       "     reg_date tariff  \n",
       "0  2018-05-25  ultra  \n",
       "1  2018-11-01  smart  \n",
       "2  2018-06-17  smart  \n",
       "3  2018-08-17  ultra  \n",
       "4  2018-05-14  ultra  \n",
       "5  2018-01-25  smart  \n",
       "6  2018-02-26  smart  \n",
       "7  2018-04-19  smart  \n",
       "8  2018-12-19  smart  \n",
       "9  2018-03-22  smart  "
      ]
     },
     "execution_count": 5,
     "metadata": {},
     "output_type": "execute_result"
    }
   ],
   "source": [
    "users_data = users_data.fillna('2018-12-31') # замена явных пропусков в таблице на характерное значение\n",
    "users_data.head(10) # проверяем изменения"
   ]
  },
  {
   "cell_type": "markdown",
   "metadata": {},
   "source": [
    "### Изменение типов данных\n",
    "\n",
    "Изменим формат даты во всех таблицах в соответствующих колонках. Для этого напишем функцию **change_date**, которая на входе принимает в качестве аргументов таблицу и колонку, а в теле функции происходит приведение даты к типу *datetime*. "
   ]
  },
  {
   "cell_type": "code",
   "execution_count": 6,
   "metadata": {},
   "outputs": [],
   "source": [
    "def change_date(data, column): # создание функции\n",
    "    data[column] = pd.to_datetime(data[column], format=\"%Y/%m/%d\")"
   ]
  },
  {
   "cell_type": "code",
   "execution_count": 7,
   "metadata": {},
   "outputs": [
    {
     "name": "stdout",
     "output_type": "stream",
     "text": [
      "<class 'pandas.core.frame.DataFrame'>\n",
      "RangeIndex: 500 entries, 0 to 499\n",
      "Data columns (total 8 columns):\n",
      "user_id       500 non-null int64\n",
      "age           500 non-null int64\n",
      "churn_date    500 non-null datetime64[ns]\n",
      "city          500 non-null object\n",
      "first_name    500 non-null object\n",
      "last_name     500 non-null object\n",
      "reg_date      500 non-null datetime64[ns]\n",
      "tariff        500 non-null object\n",
      "dtypes: datetime64[ns](2), int64(2), object(4)\n",
      "memory usage: 31.4+ KB\n"
     ]
    }
   ],
   "source": [
    "change_date(users_data, 'churn_date') # приведение даты к типу datetime в колонке churn_date таблицы users_data\n",
    "change_date(users_data, 'reg_date') # приведение даты к типу datetime в колонке reg_date таблицы users_data\n",
    "\n",
    "users_data.info() # проверяем работу функции"
   ]
  },
  {
   "cell_type": "markdown",
   "metadata": {},
   "source": [
    "В колонках `churn_date` и `reg_date` тип данных *datetime*. Следовательно, функция работает. Повторим вызов функции для остальных таблиц и колонок."
   ]
  },
  {
   "cell_type": "code",
   "execution_count": 8,
   "metadata": {},
   "outputs": [],
   "source": [
    "change_date(calls_data, 'call_date') # приведение даты к типу datetime в колонке call_date таблицы calls_data\n",
    "change_date(messages_data, 'message_date') # приведение даты к типу datetime в колонке message_date таблицы messages_data\n",
    "change_date(internet_data, 'session_date') # приведение даты к типу datetime в колонке session_date таблицы internet_data"
   ]
  },
  {
   "cell_type": "markdown",
   "metadata": {},
   "source": [
    "Все даты в данных преобразованы в нужный нам тип *datetime*.\n",
    "\n",
    "### Обработка даты\n",
    "\n",
    "Поскольку нас интересуют данные суммарно за месяц, то вытащим из даты значение месяца и сохраним его в отдельный столбец для каждой таблицы. Создадим функцию **month_create**, которая будет принимать на входе принимать таблицу, колонку с датой и название для новой колонки, а возвращать значение месяца в новой колонке."
   ]
  },
  {
   "cell_type": "code",
   "execution_count": 9,
   "metadata": {},
   "outputs": [],
   "source": [
    "def month_create(data, column_date, name_new_column='month'): # создание функции\n",
    "    data[name_new_column] = data[column_date].dt.month # создание новой колонки с месяцами"
   ]
  },
  {
   "cell_type": "markdown",
   "metadata": {},
   "source": [
    "Создадим столбец `month` в таблице `calls_data` при помощи функции **month_create**"
   ]
  },
  {
   "cell_type": "code",
   "execution_count": 10,
   "metadata": {},
   "outputs": [
    {
     "data": {
      "text/html": [
       "<div>\n",
       "<style scoped>\n",
       "    .dataframe tbody tr th:only-of-type {\n",
       "        vertical-align: middle;\n",
       "    }\n",
       "\n",
       "    .dataframe tbody tr th {\n",
       "        vertical-align: top;\n",
       "    }\n",
       "\n",
       "    .dataframe thead th {\n",
       "        text-align: right;\n",
       "    }\n",
       "</style>\n",
       "<table border=\"1\" class=\"dataframe\">\n",
       "  <thead>\n",
       "    <tr style=\"text-align: right;\">\n",
       "      <th></th>\n",
       "      <th>id</th>\n",
       "      <th>call_date</th>\n",
       "      <th>duration</th>\n",
       "      <th>user_id</th>\n",
       "      <th>month</th>\n",
       "    </tr>\n",
       "  </thead>\n",
       "  <tbody>\n",
       "    <tr>\n",
       "      <td>0</td>\n",
       "      <td>1000_0</td>\n",
       "      <td>2018-07-25</td>\n",
       "      <td>0.00</td>\n",
       "      <td>1000</td>\n",
       "      <td>7</td>\n",
       "    </tr>\n",
       "    <tr>\n",
       "      <td>1</td>\n",
       "      <td>1000_1</td>\n",
       "      <td>2018-08-17</td>\n",
       "      <td>0.00</td>\n",
       "      <td>1000</td>\n",
       "      <td>8</td>\n",
       "    </tr>\n",
       "    <tr>\n",
       "      <td>2</td>\n",
       "      <td>1000_2</td>\n",
       "      <td>2018-06-11</td>\n",
       "      <td>2.85</td>\n",
       "      <td>1000</td>\n",
       "      <td>6</td>\n",
       "    </tr>\n",
       "    <tr>\n",
       "      <td>3</td>\n",
       "      <td>1000_3</td>\n",
       "      <td>2018-09-21</td>\n",
       "      <td>13.80</td>\n",
       "      <td>1000</td>\n",
       "      <td>9</td>\n",
       "    </tr>\n",
       "    <tr>\n",
       "      <td>4</td>\n",
       "      <td>1000_4</td>\n",
       "      <td>2018-12-15</td>\n",
       "      <td>5.18</td>\n",
       "      <td>1000</td>\n",
       "      <td>12</td>\n",
       "    </tr>\n",
       "    <tr>\n",
       "      <td>5</td>\n",
       "      <td>1000_5</td>\n",
       "      <td>2018-11-02</td>\n",
       "      <td>0.00</td>\n",
       "      <td>1000</td>\n",
       "      <td>11</td>\n",
       "    </tr>\n",
       "    <tr>\n",
       "      <td>6</td>\n",
       "      <td>1000_6</td>\n",
       "      <td>2018-10-18</td>\n",
       "      <td>0.00</td>\n",
       "      <td>1000</td>\n",
       "      <td>10</td>\n",
       "    </tr>\n",
       "    <tr>\n",
       "      <td>7</td>\n",
       "      <td>1000_7</td>\n",
       "      <td>2018-08-22</td>\n",
       "      <td>18.31</td>\n",
       "      <td>1000</td>\n",
       "      <td>8</td>\n",
       "    </tr>\n",
       "    <tr>\n",
       "      <td>8</td>\n",
       "      <td>1000_8</td>\n",
       "      <td>2018-09-15</td>\n",
       "      <td>18.44</td>\n",
       "      <td>1000</td>\n",
       "      <td>9</td>\n",
       "    </tr>\n",
       "    <tr>\n",
       "      <td>9</td>\n",
       "      <td>1000_9</td>\n",
       "      <td>2018-08-15</td>\n",
       "      <td>0.00</td>\n",
       "      <td>1000</td>\n",
       "      <td>8</td>\n",
       "    </tr>\n",
       "  </tbody>\n",
       "</table>\n",
       "</div>"
      ],
      "text/plain": [
       "       id  call_date  duration  user_id  month\n",
       "0  1000_0 2018-07-25      0.00     1000      7\n",
       "1  1000_1 2018-08-17      0.00     1000      8\n",
       "2  1000_2 2018-06-11      2.85     1000      6\n",
       "3  1000_3 2018-09-21     13.80     1000      9\n",
       "4  1000_4 2018-12-15      5.18     1000     12\n",
       "5  1000_5 2018-11-02      0.00     1000     11\n",
       "6  1000_6 2018-10-18      0.00     1000     10\n",
       "7  1000_7 2018-08-22     18.31     1000      8\n",
       "8  1000_8 2018-09-15     18.44     1000      9\n",
       "9  1000_9 2018-08-15      0.00     1000      8"
      ]
     },
     "execution_count": 10,
     "metadata": {},
     "output_type": "execute_result"
    }
   ],
   "source": [
    "month_create(calls_data, 'call_date') # создание столбца\n",
    "calls_data.head(10) # проверка работы функции"
   ]
  },
  {
   "cell_type": "markdown",
   "metadata": {},
   "source": [
    "Функция работает. Повторим вызов функции для таблиц `messages_data` и `internet_data`, создав соответствующие колонки `month`."
   ]
  },
  {
   "cell_type": "code",
   "execution_count": 11,
   "metadata": {},
   "outputs": [],
   "source": [
    "month_create(messages_data, 'message_date') # создание колонки с месяцами в таблице с сообщениями\n",
    "month_create(internet_data, 'session_date') # создание колонки с месяцами в таблице с интернет трафиком"
   ]
  },
  {
   "cell_type": "markdown",
   "metadata": {},
   "source": [
    "### Обработка длительности звонков\n",
    "\n",
    "Обработаем длительность звонков: округлим данные в колонке `duration` таблицы `calls_data` в большую сторону и сразу переведем к целочисленному типу *int*. Для этого воспользуемся методом *ceil()* из библиотеки **numpy** и методом *astype()*."
   ]
  },
  {
   "cell_type": "code",
   "execution_count": 12,
   "metadata": {},
   "outputs": [
    {
     "data": {
      "text/html": [
       "<div>\n",
       "<style scoped>\n",
       "    .dataframe tbody tr th:only-of-type {\n",
       "        vertical-align: middle;\n",
       "    }\n",
       "\n",
       "    .dataframe tbody tr th {\n",
       "        vertical-align: top;\n",
       "    }\n",
       "\n",
       "    .dataframe thead th {\n",
       "        text-align: right;\n",
       "    }\n",
       "</style>\n",
       "<table border=\"1\" class=\"dataframe\">\n",
       "  <thead>\n",
       "    <tr style=\"text-align: right;\">\n",
       "      <th></th>\n",
       "      <th>id</th>\n",
       "      <th>call_date</th>\n",
       "      <th>duration</th>\n",
       "      <th>user_id</th>\n",
       "      <th>month</th>\n",
       "    </tr>\n",
       "  </thead>\n",
       "  <tbody>\n",
       "    <tr>\n",
       "      <td>0</td>\n",
       "      <td>1000_0</td>\n",
       "      <td>2018-07-25</td>\n",
       "      <td>0</td>\n",
       "      <td>1000</td>\n",
       "      <td>7</td>\n",
       "    </tr>\n",
       "    <tr>\n",
       "      <td>1</td>\n",
       "      <td>1000_1</td>\n",
       "      <td>2018-08-17</td>\n",
       "      <td>0</td>\n",
       "      <td>1000</td>\n",
       "      <td>8</td>\n",
       "    </tr>\n",
       "    <tr>\n",
       "      <td>2</td>\n",
       "      <td>1000_2</td>\n",
       "      <td>2018-06-11</td>\n",
       "      <td>3</td>\n",
       "      <td>1000</td>\n",
       "      <td>6</td>\n",
       "    </tr>\n",
       "    <tr>\n",
       "      <td>3</td>\n",
       "      <td>1000_3</td>\n",
       "      <td>2018-09-21</td>\n",
       "      <td>14</td>\n",
       "      <td>1000</td>\n",
       "      <td>9</td>\n",
       "    </tr>\n",
       "    <tr>\n",
       "      <td>4</td>\n",
       "      <td>1000_4</td>\n",
       "      <td>2018-12-15</td>\n",
       "      <td>6</td>\n",
       "      <td>1000</td>\n",
       "      <td>12</td>\n",
       "    </tr>\n",
       "    <tr>\n",
       "      <td>5</td>\n",
       "      <td>1000_5</td>\n",
       "      <td>2018-11-02</td>\n",
       "      <td>0</td>\n",
       "      <td>1000</td>\n",
       "      <td>11</td>\n",
       "    </tr>\n",
       "    <tr>\n",
       "      <td>6</td>\n",
       "      <td>1000_6</td>\n",
       "      <td>2018-10-18</td>\n",
       "      <td>0</td>\n",
       "      <td>1000</td>\n",
       "      <td>10</td>\n",
       "    </tr>\n",
       "    <tr>\n",
       "      <td>7</td>\n",
       "      <td>1000_7</td>\n",
       "      <td>2018-08-22</td>\n",
       "      <td>19</td>\n",
       "      <td>1000</td>\n",
       "      <td>8</td>\n",
       "    </tr>\n",
       "    <tr>\n",
       "      <td>8</td>\n",
       "      <td>1000_8</td>\n",
       "      <td>2018-09-15</td>\n",
       "      <td>19</td>\n",
       "      <td>1000</td>\n",
       "      <td>9</td>\n",
       "    </tr>\n",
       "    <tr>\n",
       "      <td>9</td>\n",
       "      <td>1000_9</td>\n",
       "      <td>2018-08-15</td>\n",
       "      <td>0</td>\n",
       "      <td>1000</td>\n",
       "      <td>8</td>\n",
       "    </tr>\n",
       "  </tbody>\n",
       "</table>\n",
       "</div>"
      ],
      "text/plain": [
       "       id  call_date  duration  user_id  month\n",
       "0  1000_0 2018-07-25         0     1000      7\n",
       "1  1000_1 2018-08-17         0     1000      8\n",
       "2  1000_2 2018-06-11         3     1000      6\n",
       "3  1000_3 2018-09-21        14     1000      9\n",
       "4  1000_4 2018-12-15         6     1000     12\n",
       "5  1000_5 2018-11-02         0     1000     11\n",
       "6  1000_6 2018-10-18         0     1000     10\n",
       "7  1000_7 2018-08-22        19     1000      8\n",
       "8  1000_8 2018-09-15        19     1000      9\n",
       "9  1000_9 2018-08-15         0     1000      8"
      ]
     },
     "execution_count": 12,
     "metadata": {},
     "output_type": "execute_result"
    }
   ],
   "source": [
    "calls_data['duration'] = np.ceil(calls_data['duration']).astype(int) # округляем длительность звонка и переводим в формат int\n",
    "calls_data.head(10) # проверяем изменения"
   ]
  },
  {
   "cell_type": "markdown",
   "metadata": {},
   "source": [
    "Длительность звонков обработана: значения округлились в большую сторону, а цифр после запятой больше нет.\n",
    "\n",
    "### Обработка интернет-трафика\n",
    "\n",
    "В таблице `tariffs_data` переведем значения в колонке `mb_per_month_included` из мегабайтов в гигабайты, поскольку интернет-трафик рассчитывается в гигабайтах по итогу месяца. Для создадим новую колонку `gb_per_month_included`, которая получается путем деления значений в колонке `mb_per_month_included` на 1024 (количество мегабайт в одном гигабайте)."
   ]
  },
  {
   "cell_type": "code",
   "execution_count": 13,
   "metadata": {},
   "outputs": [
    {
     "data": {
      "text/html": [
       "<div>\n",
       "<style scoped>\n",
       "    .dataframe tbody tr th:only-of-type {\n",
       "        vertical-align: middle;\n",
       "    }\n",
       "\n",
       "    .dataframe tbody tr th {\n",
       "        vertical-align: top;\n",
       "    }\n",
       "\n",
       "    .dataframe thead th {\n",
       "        text-align: right;\n",
       "    }\n",
       "</style>\n",
       "<table border=\"1\" class=\"dataframe\">\n",
       "  <thead>\n",
       "    <tr style=\"text-align: right;\">\n",
       "      <th></th>\n",
       "      <th>messages_included</th>\n",
       "      <th>mb_per_month_included</th>\n",
       "      <th>minutes_included</th>\n",
       "      <th>rub_monthly_fee</th>\n",
       "      <th>rub_per_gb</th>\n",
       "      <th>rub_per_message</th>\n",
       "      <th>rub_per_minute</th>\n",
       "      <th>tariff_name</th>\n",
       "      <th>gb_per_month_included</th>\n",
       "    </tr>\n",
       "  </thead>\n",
       "  <tbody>\n",
       "    <tr>\n",
       "      <td>0</td>\n",
       "      <td>50</td>\n",
       "      <td>15360</td>\n",
       "      <td>500</td>\n",
       "      <td>550</td>\n",
       "      <td>200</td>\n",
       "      <td>3</td>\n",
       "      <td>3</td>\n",
       "      <td>smart</td>\n",
       "      <td>15</td>\n",
       "    </tr>\n",
       "    <tr>\n",
       "      <td>1</td>\n",
       "      <td>1000</td>\n",
       "      <td>30720</td>\n",
       "      <td>3000</td>\n",
       "      <td>1950</td>\n",
       "      <td>150</td>\n",
       "      <td>1</td>\n",
       "      <td>1</td>\n",
       "      <td>ultra</td>\n",
       "      <td>30</td>\n",
       "    </tr>\n",
       "  </tbody>\n",
       "</table>\n",
       "</div>"
      ],
      "text/plain": [
       "   messages_included  mb_per_month_included  minutes_included  \\\n",
       "0                 50                  15360               500   \n",
       "1               1000                  30720              3000   \n",
       "\n",
       "   rub_monthly_fee  rub_per_gb  rub_per_message  rub_per_minute tariff_name  \\\n",
       "0              550         200                3               3       smart   \n",
       "1             1950         150                1               1       ultra   \n",
       "\n",
       "   gb_per_month_included  \n",
       "0                     15  \n",
       "1                     30  "
      ]
     },
     "execution_count": 13,
     "metadata": {},
     "output_type": "execute_result"
    }
   ],
   "source": [
    "tariffs_data['gb_per_month_included'] = (tariffs_data['mb_per_month_included']/1024).astype(int) # создание новой колонки\n",
    "tariffs_data.head() # проверка таблицы"
   ]
  },
  {
   "cell_type": "markdown",
   "metadata": {},
   "source": [
    "### Создание словаря пользователей\n",
    "\n",
    "Поскольку уникальный идентификационный номер уже характеризует пользователя и их фамилия и имя не нужны для дальнейших исследований, создадим словарь с пользователями и отфильтруем таблицу `users_data`. \n",
    "- В переменной `dict_users_id` сохраним колонки `user_id`, `first_name`, `last_name`, `churn_date` и `reg_date`.\n",
    "- Из таблицы `users_data` удалим колонки `first_name`, `last_name`, `churn_date` и `reg_date`."
   ]
  },
  {
   "cell_type": "code",
   "execution_count": 14,
   "metadata": {},
   "outputs": [
    {
     "data": {
      "text/html": [
       "<div>\n",
       "<style scoped>\n",
       "    .dataframe tbody tr th:only-of-type {\n",
       "        vertical-align: middle;\n",
       "    }\n",
       "\n",
       "    .dataframe tbody tr th {\n",
       "        vertical-align: top;\n",
       "    }\n",
       "\n",
       "    .dataframe thead th {\n",
       "        text-align: right;\n",
       "    }\n",
       "</style>\n",
       "<table border=\"1\" class=\"dataframe\">\n",
       "  <thead>\n",
       "    <tr style=\"text-align: right;\">\n",
       "      <th></th>\n",
       "      <th>user_id</th>\n",
       "      <th>first_name</th>\n",
       "      <th>last_name</th>\n",
       "      <th>churn_date</th>\n",
       "      <th>reg_date</th>\n",
       "    </tr>\n",
       "  </thead>\n",
       "  <tbody>\n",
       "    <tr>\n",
       "      <td>0</td>\n",
       "      <td>1000</td>\n",
       "      <td>Рафаил</td>\n",
       "      <td>Верещагин</td>\n",
       "      <td>2018-12-31</td>\n",
       "      <td>2018-05-25</td>\n",
       "    </tr>\n",
       "    <tr>\n",
       "      <td>1</td>\n",
       "      <td>1001</td>\n",
       "      <td>Иван</td>\n",
       "      <td>Ежов</td>\n",
       "      <td>2018-12-31</td>\n",
       "      <td>2018-11-01</td>\n",
       "    </tr>\n",
       "    <tr>\n",
       "      <td>2</td>\n",
       "      <td>1002</td>\n",
       "      <td>Евгений</td>\n",
       "      <td>Абрамович</td>\n",
       "      <td>2018-12-31</td>\n",
       "      <td>2018-06-17</td>\n",
       "    </tr>\n",
       "    <tr>\n",
       "      <td>3</td>\n",
       "      <td>1003</td>\n",
       "      <td>Белла</td>\n",
       "      <td>Белякова</td>\n",
       "      <td>2018-12-31</td>\n",
       "      <td>2018-08-17</td>\n",
       "    </tr>\n",
       "    <tr>\n",
       "      <td>4</td>\n",
       "      <td>1004</td>\n",
       "      <td>Татьяна</td>\n",
       "      <td>Авдеенко</td>\n",
       "      <td>2018-12-31</td>\n",
       "      <td>2018-05-14</td>\n",
       "    </tr>\n",
       "  </tbody>\n",
       "</table>\n",
       "</div>"
      ],
      "text/plain": [
       "   user_id first_name  last_name churn_date   reg_date\n",
       "0     1000     Рафаил  Верещагин 2018-12-31 2018-05-25\n",
       "1     1001       Иван       Ежов 2018-12-31 2018-11-01\n",
       "2     1002    Евгений  Абрамович 2018-12-31 2018-06-17\n",
       "3     1003      Белла   Белякова 2018-12-31 2018-08-17\n",
       "4     1004    Татьяна   Авдеенко 2018-12-31 2018-05-14"
      ]
     },
     "execution_count": 14,
     "metadata": {},
     "output_type": "execute_result"
    }
   ],
   "source": [
    "dict_users_id = users_data[['user_id', 'first_name', 'last_name', 'churn_date', 'reg_date']] # созданием словаря пользователей\n",
    "dict_users_id.head() # проверяем словарь"
   ]
  },
  {
   "cell_type": "code",
   "execution_count": 15,
   "metadata": {},
   "outputs": [
    {
     "data": {
      "text/html": [
       "<div>\n",
       "<style scoped>\n",
       "    .dataframe tbody tr th:only-of-type {\n",
       "        vertical-align: middle;\n",
       "    }\n",
       "\n",
       "    .dataframe tbody tr th {\n",
       "        vertical-align: top;\n",
       "    }\n",
       "\n",
       "    .dataframe thead th {\n",
       "        text-align: right;\n",
       "    }\n",
       "</style>\n",
       "<table border=\"1\" class=\"dataframe\">\n",
       "  <thead>\n",
       "    <tr style=\"text-align: right;\">\n",
       "      <th></th>\n",
       "      <th>user_id</th>\n",
       "      <th>age</th>\n",
       "      <th>city</th>\n",
       "      <th>tariff</th>\n",
       "    </tr>\n",
       "  </thead>\n",
       "  <tbody>\n",
       "    <tr>\n",
       "      <td>0</td>\n",
       "      <td>1000</td>\n",
       "      <td>52</td>\n",
       "      <td>Краснодар</td>\n",
       "      <td>ultra</td>\n",
       "    </tr>\n",
       "    <tr>\n",
       "      <td>1</td>\n",
       "      <td>1001</td>\n",
       "      <td>41</td>\n",
       "      <td>Москва</td>\n",
       "      <td>smart</td>\n",
       "    </tr>\n",
       "    <tr>\n",
       "      <td>2</td>\n",
       "      <td>1002</td>\n",
       "      <td>59</td>\n",
       "      <td>Стерлитамак</td>\n",
       "      <td>smart</td>\n",
       "    </tr>\n",
       "    <tr>\n",
       "      <td>3</td>\n",
       "      <td>1003</td>\n",
       "      <td>23</td>\n",
       "      <td>Москва</td>\n",
       "      <td>ultra</td>\n",
       "    </tr>\n",
       "    <tr>\n",
       "      <td>4</td>\n",
       "      <td>1004</td>\n",
       "      <td>68</td>\n",
       "      <td>Новокузнецк</td>\n",
       "      <td>ultra</td>\n",
       "    </tr>\n",
       "  </tbody>\n",
       "</table>\n",
       "</div>"
      ],
      "text/plain": [
       "   user_id  age         city tariff\n",
       "0     1000   52    Краснодар  ultra\n",
       "1     1001   41       Москва  smart\n",
       "2     1002   59  Стерлитамак  smart\n",
       "3     1003   23       Москва  ultra\n",
       "4     1004   68  Новокузнецк  ultra"
      ]
     },
     "execution_count": 15,
     "metadata": {},
     "output_type": "execute_result"
    }
   ],
   "source": [
    "users_data.drop(['first_name', 'last_name', 'churn_date', 'reg_date'], axis=1, inplace=True) # удаление столбцов с именем и фамилией пользователя\n",
    "users_data.head() # проверка отфильтрованной таблицы"
   ]
  },
  {
   "cell_type": "markdown",
   "metadata": {},
   "source": [
    "### Добавление информации о тарифах\n",
    "\n",
    "Добавим в таблицу `users_data` информацию о тарифах, а именно: бесплатный лимит по всем параметрам, стоимость дополнительных минут, сообщений и трафика и стоимость тарифа. Сделаем это при помощи метода `merge()`:\n",
    "1. Нужно переименовать колонку с тарифами в одной из таблиц, чтобы по ней прошло объединение. Я меняю в таблице `users_data`, предварительно создав список с новыми названиями. Теперь колонки с тарифами названы одинаково в обоих таблицах.\n",
    "2. Я добавляю в таблицу с тарифами `tariffs_data` колонку, в которой сохраняю количество включенного в тариф интернет-трафика в гигабайтах. Это пункт 3.7 в оглавлении - обработка интернет-трафика.\n",
    "3. Ниже объединяю таблицы при помощи метода `merge` по колонке `tariff_name`. По умолчанию режим объединения inner, т.е попадают все пересечения. В данном случае такой режим подходит."
   ]
  },
  {
   "cell_type": "code",
   "execution_count": 17,
   "metadata": {},
   "outputs": [
    {
     "data": {
      "text/html": [
       "<div>\n",
       "<style scoped>\n",
       "    .dataframe tbody tr th:only-of-type {\n",
       "        vertical-align: middle;\n",
       "    }\n",
       "\n",
       "    .dataframe tbody tr th {\n",
       "        vertical-align: top;\n",
       "    }\n",
       "\n",
       "    .dataframe thead th {\n",
       "        text-align: right;\n",
       "    }\n",
       "</style>\n",
       "<table border=\"1\" class=\"dataframe\">\n",
       "  <thead>\n",
       "    <tr style=\"text-align: right;\">\n",
       "      <th></th>\n",
       "      <th>user_id</th>\n",
       "      <th>age</th>\n",
       "      <th>city</th>\n",
       "      <th>tariff_name</th>\n",
       "      <th>messages_included</th>\n",
       "      <th>mb_per_month_included</th>\n",
       "      <th>minutes_included</th>\n",
       "      <th>rub_monthly_fee</th>\n",
       "      <th>rub_per_gb</th>\n",
       "      <th>rub_per_message</th>\n",
       "      <th>rub_per_minute</th>\n",
       "      <th>gb_per_month_included</th>\n",
       "    </tr>\n",
       "  </thead>\n",
       "  <tbody>\n",
       "    <tr>\n",
       "      <td>0</td>\n",
       "      <td>1000</td>\n",
       "      <td>52</td>\n",
       "      <td>Краснодар</td>\n",
       "      <td>ultra</td>\n",
       "      <td>1000</td>\n",
       "      <td>30720</td>\n",
       "      <td>3000</td>\n",
       "      <td>1950</td>\n",
       "      <td>150</td>\n",
       "      <td>1</td>\n",
       "      <td>1</td>\n",
       "      <td>30</td>\n",
       "    </tr>\n",
       "    <tr>\n",
       "      <td>1</td>\n",
       "      <td>1003</td>\n",
       "      <td>23</td>\n",
       "      <td>Москва</td>\n",
       "      <td>ultra</td>\n",
       "      <td>1000</td>\n",
       "      <td>30720</td>\n",
       "      <td>3000</td>\n",
       "      <td>1950</td>\n",
       "      <td>150</td>\n",
       "      <td>1</td>\n",
       "      <td>1</td>\n",
       "      <td>30</td>\n",
       "    </tr>\n",
       "    <tr>\n",
       "      <td>2</td>\n",
       "      <td>1004</td>\n",
       "      <td>68</td>\n",
       "      <td>Новокузнецк</td>\n",
       "      <td>ultra</td>\n",
       "      <td>1000</td>\n",
       "      <td>30720</td>\n",
       "      <td>3000</td>\n",
       "      <td>1950</td>\n",
       "      <td>150</td>\n",
       "      <td>1</td>\n",
       "      <td>1</td>\n",
       "      <td>30</td>\n",
       "    </tr>\n",
       "    <tr>\n",
       "      <td>3</td>\n",
       "      <td>1013</td>\n",
       "      <td>36</td>\n",
       "      <td>Иваново</td>\n",
       "      <td>ultra</td>\n",
       "      <td>1000</td>\n",
       "      <td>30720</td>\n",
       "      <td>3000</td>\n",
       "      <td>1950</td>\n",
       "      <td>150</td>\n",
       "      <td>1</td>\n",
       "      <td>1</td>\n",
       "      <td>30</td>\n",
       "    </tr>\n",
       "    <tr>\n",
       "      <td>4</td>\n",
       "      <td>1016</td>\n",
       "      <td>58</td>\n",
       "      <td>Омск</td>\n",
       "      <td>ultra</td>\n",
       "      <td>1000</td>\n",
       "      <td>30720</td>\n",
       "      <td>3000</td>\n",
       "      <td>1950</td>\n",
       "      <td>150</td>\n",
       "      <td>1</td>\n",
       "      <td>1</td>\n",
       "      <td>30</td>\n",
       "    </tr>\n",
       "    <tr>\n",
       "      <td>5</td>\n",
       "      <td>1018</td>\n",
       "      <td>71</td>\n",
       "      <td>Уфа</td>\n",
       "      <td>ultra</td>\n",
       "      <td>1000</td>\n",
       "      <td>30720</td>\n",
       "      <td>3000</td>\n",
       "      <td>1950</td>\n",
       "      <td>150</td>\n",
       "      <td>1</td>\n",
       "      <td>1</td>\n",
       "      <td>30</td>\n",
       "    </tr>\n",
       "    <tr>\n",
       "      <td>6</td>\n",
       "      <td>1019</td>\n",
       "      <td>63</td>\n",
       "      <td>Томск</td>\n",
       "      <td>ultra</td>\n",
       "      <td>1000</td>\n",
       "      <td>30720</td>\n",
       "      <td>3000</td>\n",
       "      <td>1950</td>\n",
       "      <td>150</td>\n",
       "      <td>1</td>\n",
       "      <td>1</td>\n",
       "      <td>30</td>\n",
       "    </tr>\n",
       "    <tr>\n",
       "      <td>7</td>\n",
       "      <td>1021</td>\n",
       "      <td>61</td>\n",
       "      <td>Краснодар</td>\n",
       "      <td>ultra</td>\n",
       "      <td>1000</td>\n",
       "      <td>30720</td>\n",
       "      <td>3000</td>\n",
       "      <td>1950</td>\n",
       "      <td>150</td>\n",
       "      <td>1</td>\n",
       "      <td>1</td>\n",
       "      <td>30</td>\n",
       "    </tr>\n",
       "    <tr>\n",
       "      <td>8</td>\n",
       "      <td>1024</td>\n",
       "      <td>73</td>\n",
       "      <td>Санкт-Петербург</td>\n",
       "      <td>ultra</td>\n",
       "      <td>1000</td>\n",
       "      <td>30720</td>\n",
       "      <td>3000</td>\n",
       "      <td>1950</td>\n",
       "      <td>150</td>\n",
       "      <td>1</td>\n",
       "      <td>1</td>\n",
       "      <td>30</td>\n",
       "    </tr>\n",
       "    <tr>\n",
       "      <td>9</td>\n",
       "      <td>1028</td>\n",
       "      <td>20</td>\n",
       "      <td>Тверь</td>\n",
       "      <td>ultra</td>\n",
       "      <td>1000</td>\n",
       "      <td>30720</td>\n",
       "      <td>3000</td>\n",
       "      <td>1950</td>\n",
       "      <td>150</td>\n",
       "      <td>1</td>\n",
       "      <td>1</td>\n",
       "      <td>30</td>\n",
       "    </tr>\n",
       "  </tbody>\n",
       "</table>\n",
       "</div>"
      ],
      "text/plain": [
       "   user_id  age             city tariff_name  messages_included  \\\n",
       "0     1000   52        Краснодар       ultra               1000   \n",
       "1     1003   23           Москва       ultra               1000   \n",
       "2     1004   68      Новокузнецк       ultra               1000   \n",
       "3     1013   36          Иваново       ultra               1000   \n",
       "4     1016   58             Омск       ultra               1000   \n",
       "5     1018   71              Уфа       ultra               1000   \n",
       "6     1019   63            Томск       ultra               1000   \n",
       "7     1021   61        Краснодар       ultra               1000   \n",
       "8     1024   73  Санкт-Петербург       ultra               1000   \n",
       "9     1028   20            Тверь       ultra               1000   \n",
       "\n",
       "   mb_per_month_included  minutes_included  rub_monthly_fee  rub_per_gb  \\\n",
       "0                  30720              3000             1950         150   \n",
       "1                  30720              3000             1950         150   \n",
       "2                  30720              3000             1950         150   \n",
       "3                  30720              3000             1950         150   \n",
       "4                  30720              3000             1950         150   \n",
       "5                  30720              3000             1950         150   \n",
       "6                  30720              3000             1950         150   \n",
       "7                  30720              3000             1950         150   \n",
       "8                  30720              3000             1950         150   \n",
       "9                  30720              3000             1950         150   \n",
       "\n",
       "   rub_per_message  rub_per_minute  gb_per_month_included  \n",
       "0                1               1                     30  \n",
       "1                1               1                     30  \n",
       "2                1               1                     30  \n",
       "3                1               1                     30  \n",
       "4                1               1                     30  \n",
       "5                1               1                     30  \n",
       "6                1               1                     30  \n",
       "7                1               1                     30  \n",
       "8                1               1                     30  \n",
       "9                1               1                     30  "
      ]
     },
     "execution_count": 17,
     "metadata": {},
     "output_type": "execute_result"
    }
   ],
   "source": [
    "new_columns = ['user_id', 'age', 'city', 'tariff_name'] # список с новыми названиями колонок\n",
    "users_data.columns = new_columns # переименование колонок в таблице\n",
    "users_data = users_data.merge(tariffs_data, on='tariff_name') # объединение таблиц с пользователями и с информацией о тарифе\n",
    "users_data.head(10) # проверка объединения"
   ]
  },
  {
   "cell_type": "markdown",
   "metadata": {},
   "source": [
    "### Вывод\n",
    "\n",
    "На этапе предобработки данных:\n",
    "1. Был удален столбец `Unnamed: 0` таблицы `internet_data`, который дублирует значения индексов таблицы.\n",
    "2. Были обработаны пропуски в колонке `churn_date` в таблице `users_data`. Пропуски заменены на характерное значение 2018-12-31.\n",
    "3. Во всех таблицах колонки с датами приведены к типу *datetime*.\n",
    "4. В таблицах с звонками, сообщениями и интернет трафиком были созданы колонки с месяцем действия.\n",
    "5. В колонке `duration` таблицы `calls_data` обработано время звонков: значения округлили до целых в большую сторону и привели к типу *int*.\n",
    "6. Был создан словарь пользователей `dict_users_id`, в котором отдельно сохранены имя и фамилия пользователя, дата регистрации тарифа и дата окончания использования с привязкой к уникальному идентификатору.\n",
    "7. В таблицу `users_data` была добавлена информация о тарифном плане."
   ]
  },
  {
   "cell_type": "markdown",
   "metadata": {},
   "source": [
    "## Расчет выручки с одного пользователя\n",
    "\n",
    "### Расчет телефонных звонков\n",
    "\n",
    "Создадим сводную таблицу для таблицы `calls_data` (при помощи метода *pivot_table()*), отсортированную по идентификаторам пользователя и месяцам. В качестве значений рассчитаем количество телефонных звонков и суммарное количество потраченных за месяц минут по отдельности (создадим две таблицы)."
   ]
  },
  {
   "cell_type": "code",
   "execution_count": 18,
   "metadata": {},
   "outputs": [
    {
     "data": {
      "text/html": [
       "<div>\n",
       "<style scoped>\n",
       "    .dataframe tbody tr th:only-of-type {\n",
       "        vertical-align: middle;\n",
       "    }\n",
       "\n",
       "    .dataframe tbody tr th {\n",
       "        vertical-align: top;\n",
       "    }\n",
       "\n",
       "    .dataframe thead th {\n",
       "        text-align: right;\n",
       "    }\n",
       "</style>\n",
       "<table border=\"1\" class=\"dataframe\">\n",
       "  <thead>\n",
       "    <tr style=\"text-align: right;\">\n",
       "      <th></th>\n",
       "      <th></th>\n",
       "      <th>count_calls</th>\n",
       "    </tr>\n",
       "    <tr>\n",
       "      <th>user_id</th>\n",
       "      <th>month</th>\n",
       "      <th></th>\n",
       "    </tr>\n",
       "  </thead>\n",
       "  <tbody>\n",
       "    <tr>\n",
       "      <td rowspan=\"5\" valign=\"top\">1000</td>\n",
       "      <td>5</td>\n",
       "      <td>22</td>\n",
       "    </tr>\n",
       "    <tr>\n",
       "      <td>6</td>\n",
       "      <td>43</td>\n",
       "    </tr>\n",
       "    <tr>\n",
       "      <td>7</td>\n",
       "      <td>47</td>\n",
       "    </tr>\n",
       "    <tr>\n",
       "      <td>8</td>\n",
       "      <td>52</td>\n",
       "    </tr>\n",
       "    <tr>\n",
       "      <td>9</td>\n",
       "      <td>58</td>\n",
       "    </tr>\n",
       "  </tbody>\n",
       "</table>\n",
       "</div>"
      ],
      "text/plain": [
       "               count_calls\n",
       "user_id month             \n",
       "1000    5               22\n",
       "        6               43\n",
       "        7               47\n",
       "        8               52\n",
       "        9               58"
      ]
     },
     "execution_count": 18,
     "metadata": {},
     "output_type": "execute_result"
    }
   ],
   "source": [
    "# создание сводной таблицы\n",
    "count_call_per_month = calls_data.pivot_table(index=['user_id', 'month'], values='duration', aggfunc='count')\n",
    "count_call_per_month.columns= ['count_calls']\n",
    "count_call_per_month.head() # проверка таблицы"
   ]
  },
  {
   "cell_type": "code",
   "execution_count": 24,
   "metadata": {},
   "outputs": [
    {
     "name": "stdout",
     "output_type": "stream",
     "text": [
      "3174\n"
     ]
    },
    {
     "data": {
      "text/html": [
       "<div>\n",
       "<style scoped>\n",
       "    .dataframe tbody tr th:only-of-type {\n",
       "        vertical-align: middle;\n",
       "    }\n",
       "\n",
       "    .dataframe tbody tr th {\n",
       "        vertical-align: top;\n",
       "    }\n",
       "\n",
       "    .dataframe thead th {\n",
       "        text-align: right;\n",
       "    }\n",
       "</style>\n",
       "<table border=\"1\" class=\"dataframe\">\n",
       "  <thead>\n",
       "    <tr style=\"text-align: right;\">\n",
       "      <th></th>\n",
       "      <th></th>\n",
       "      <th>minutes</th>\n",
       "    </tr>\n",
       "    <tr>\n",
       "      <th>user_id</th>\n",
       "      <th>month</th>\n",
       "      <th></th>\n",
       "    </tr>\n",
       "  </thead>\n",
       "  <tbody>\n",
       "    <tr>\n",
       "      <td rowspan=\"8\" valign=\"top\">1000</td>\n",
       "      <td>5</td>\n",
       "      <td>159</td>\n",
       "    </tr>\n",
       "    <tr>\n",
       "      <td>6</td>\n",
       "      <td>172</td>\n",
       "    </tr>\n",
       "    <tr>\n",
       "      <td>7</td>\n",
       "      <td>340</td>\n",
       "    </tr>\n",
       "    <tr>\n",
       "      <td>8</td>\n",
       "      <td>408</td>\n",
       "    </tr>\n",
       "    <tr>\n",
       "      <td>9</td>\n",
       "      <td>466</td>\n",
       "    </tr>\n",
       "    <tr>\n",
       "      <td>10</td>\n",
       "      <td>350</td>\n",
       "    </tr>\n",
       "    <tr>\n",
       "      <td>11</td>\n",
       "      <td>338</td>\n",
       "    </tr>\n",
       "    <tr>\n",
       "      <td>12</td>\n",
       "      <td>333</td>\n",
       "    </tr>\n",
       "    <tr>\n",
       "      <td rowspan=\"2\" valign=\"top\">1001</td>\n",
       "      <td>11</td>\n",
       "      <td>430</td>\n",
       "    </tr>\n",
       "    <tr>\n",
       "      <td>12</td>\n",
       "      <td>414</td>\n",
       "    </tr>\n",
       "  </tbody>\n",
       "</table>\n",
       "</div>"
      ],
      "text/plain": [
       "               minutes\n",
       "user_id month         \n",
       "1000    5          159\n",
       "        6          172\n",
       "        7          340\n",
       "        8          408\n",
       "        9          466\n",
       "        10         350\n",
       "        11         338\n",
       "        12         333\n",
       "1001    11         430\n",
       "        12         414"
      ]
     },
     "execution_count": 24,
     "metadata": {},
     "output_type": "execute_result"
    }
   ],
   "source": [
    "# аналогично для суммарного значения минут в месяц: создание сводной таблицы\n",
    "minutes_call_per_month = calls_data.pivot_table(index=['user_id', 'month'], values='duration', aggfunc='sum')\n",
    "minutes_call_per_month.columns = ['minutes']\n",
    "minutes_call_per_month.head(10) # проверка таблицы"
   ]
  },
  {
   "cell_type": "markdown",
   "metadata": {},
   "source": [
    "### Расчет количества сообщений по месяцам\n",
    "\n",
    "Аналогичным образом рассчитаем суммарное количество сообщений по месяцам, создав сводную таблицу по таблице `messages_data`"
   ]
  },
  {
   "cell_type": "code",
   "execution_count": 25,
   "metadata": {},
   "outputs": [
    {
     "name": "stdout",
     "output_type": "stream",
     "text": [
      "2717\n"
     ]
    },
    {
     "data": {
      "text/html": [
       "<div>\n",
       "<style scoped>\n",
       "    .dataframe tbody tr th:only-of-type {\n",
       "        vertical-align: middle;\n",
       "    }\n",
       "\n",
       "    .dataframe tbody tr th {\n",
       "        vertical-align: top;\n",
       "    }\n",
       "\n",
       "    .dataframe thead th {\n",
       "        text-align: right;\n",
       "    }\n",
       "</style>\n",
       "<table border=\"1\" class=\"dataframe\">\n",
       "  <thead>\n",
       "    <tr style=\"text-align: right;\">\n",
       "      <th></th>\n",
       "      <th></th>\n",
       "      <th>messages</th>\n",
       "    </tr>\n",
       "    <tr>\n",
       "      <th>user_id</th>\n",
       "      <th>month</th>\n",
       "      <th></th>\n",
       "    </tr>\n",
       "  </thead>\n",
       "  <tbody>\n",
       "    <tr>\n",
       "      <td rowspan=\"8\" valign=\"top\">1000</td>\n",
       "      <td>5</td>\n",
       "      <td>22</td>\n",
       "    </tr>\n",
       "    <tr>\n",
       "      <td>6</td>\n",
       "      <td>60</td>\n",
       "    </tr>\n",
       "    <tr>\n",
       "      <td>7</td>\n",
       "      <td>75</td>\n",
       "    </tr>\n",
       "    <tr>\n",
       "      <td>8</td>\n",
       "      <td>81</td>\n",
       "    </tr>\n",
       "    <tr>\n",
       "      <td>9</td>\n",
       "      <td>57</td>\n",
       "    </tr>\n",
       "    <tr>\n",
       "      <td>10</td>\n",
       "      <td>73</td>\n",
       "    </tr>\n",
       "    <tr>\n",
       "      <td>11</td>\n",
       "      <td>58</td>\n",
       "    </tr>\n",
       "    <tr>\n",
       "      <td>12</td>\n",
       "      <td>70</td>\n",
       "    </tr>\n",
       "    <tr>\n",
       "      <td rowspan=\"2\" valign=\"top\">1002</td>\n",
       "      <td>6</td>\n",
       "      <td>4</td>\n",
       "    </tr>\n",
       "    <tr>\n",
       "      <td>7</td>\n",
       "      <td>11</td>\n",
       "    </tr>\n",
       "  </tbody>\n",
       "</table>\n",
       "</div>"
      ],
      "text/plain": [
       "               messages\n",
       "user_id month          \n",
       "1000    5            22\n",
       "        6            60\n",
       "        7            75\n",
       "        8            81\n",
       "        9            57\n",
       "        10           73\n",
       "        11           58\n",
       "        12           70\n",
       "1002    6             4\n",
       "        7            11"
      ]
     },
     "execution_count": 25,
     "metadata": {},
     "output_type": "execute_result"
    }
   ],
   "source": [
    "# создание сводной таблицы\n",
    "messages_per_month = messages_data.pivot_table(index=['user_id', 'month'], values='id', aggfunc='count')\n",
    "# переименование колонок\n",
    "messages_per_month.columns = ['messages']\n",
    "messages_per_month.head(10) # проверка таблицы"
   ]
  },
  {
   "cell_type": "markdown",
   "metadata": {},
   "source": [
    "### Расчет объема интернет-трафика по месяцам\n",
    "\n",
    "Аналогично создадим сводную таблицу для суммарного количества интернет трафика по месяцам по таблице `internet_data`."
   ]
  },
  {
   "cell_type": "code",
   "execution_count": 21,
   "metadata": {},
   "outputs": [
    {
     "data": {
      "text/html": [
       "<div>\n",
       "<style scoped>\n",
       "    .dataframe tbody tr th:only-of-type {\n",
       "        vertical-align: middle;\n",
       "    }\n",
       "\n",
       "    .dataframe tbody tr th {\n",
       "        vertical-align: top;\n",
       "    }\n",
       "\n",
       "    .dataframe thead th {\n",
       "        text-align: right;\n",
       "    }\n",
       "</style>\n",
       "<table border=\"1\" class=\"dataframe\">\n",
       "  <thead>\n",
       "    <tr style=\"text-align: right;\">\n",
       "      <th></th>\n",
       "      <th></th>\n",
       "      <th>mb_used</th>\n",
       "    </tr>\n",
       "    <tr>\n",
       "      <th>user_id</th>\n",
       "      <th>month</th>\n",
       "      <th></th>\n",
       "    </tr>\n",
       "  </thead>\n",
       "  <tbody>\n",
       "    <tr>\n",
       "      <td rowspan=\"8\" valign=\"top\">1000</td>\n",
       "      <td>5</td>\n",
       "      <td>2253.49</td>\n",
       "    </tr>\n",
       "    <tr>\n",
       "      <td>6</td>\n",
       "      <td>23233.77</td>\n",
       "    </tr>\n",
       "    <tr>\n",
       "      <td>7</td>\n",
       "      <td>14003.64</td>\n",
       "    </tr>\n",
       "    <tr>\n",
       "      <td>8</td>\n",
       "      <td>14055.93</td>\n",
       "    </tr>\n",
       "    <tr>\n",
       "      <td>9</td>\n",
       "      <td>14568.91</td>\n",
       "    </tr>\n",
       "    <tr>\n",
       "      <td>10</td>\n",
       "      <td>14702.49</td>\n",
       "    </tr>\n",
       "    <tr>\n",
       "      <td>11</td>\n",
       "      <td>14756.47</td>\n",
       "    </tr>\n",
       "    <tr>\n",
       "      <td>12</td>\n",
       "      <td>9817.61</td>\n",
       "    </tr>\n",
       "    <tr>\n",
       "      <td rowspan=\"2\" valign=\"top\">1001</td>\n",
       "      <td>11</td>\n",
       "      <td>18429.34</td>\n",
       "    </tr>\n",
       "    <tr>\n",
       "      <td>12</td>\n",
       "      <td>14036.66</td>\n",
       "    </tr>\n",
       "  </tbody>\n",
       "</table>\n",
       "</div>"
      ],
      "text/plain": [
       "                mb_used\n",
       "user_id month          \n",
       "1000    5       2253.49\n",
       "        6      23233.77\n",
       "        7      14003.64\n",
       "        8      14055.93\n",
       "        9      14568.91\n",
       "        10     14702.49\n",
       "        11     14756.47\n",
       "        12      9817.61\n",
       "1001    11     18429.34\n",
       "        12     14036.66"
      ]
     },
     "execution_count": 21,
     "metadata": {},
     "output_type": "execute_result"
    }
   ],
   "source": [
    "# создание сводной таблицы\n",
    "mb_used_per_month = internet_data.pivot_table(index=['user_id', 'month'], values='mb_used', aggfunc='sum')\n",
    "mb_used_per_month.head(10) # проверка таблицы"
   ]
  },
  {
   "cell_type": "markdown",
   "metadata": {},
   "source": [
    "Поскольку выручка за потраченный интернет-трафик производится за гигабайты, переведем значения в таблице в гигабайты, для этого разделим все значения на 1024. Также гигабайты округляются в большую сторону в конце месяца, округлим значения гигабайт при помощи метода *np.ceil()*."
   ]
  },
  {
   "cell_type": "code",
   "execution_count": 26,
   "metadata": {},
   "outputs": [
    {
     "name": "stdout",
     "output_type": "stream",
     "text": [
      "3203\n"
     ]
    },
    {
     "data": {
      "text/html": [
       "<div>\n",
       "<style scoped>\n",
       "    .dataframe tbody tr th:only-of-type {\n",
       "        vertical-align: middle;\n",
       "    }\n",
       "\n",
       "    .dataframe tbody tr th {\n",
       "        vertical-align: top;\n",
       "    }\n",
       "\n",
       "    .dataframe thead th {\n",
       "        text-align: right;\n",
       "    }\n",
       "</style>\n",
       "<table border=\"1\" class=\"dataframe\">\n",
       "  <thead>\n",
       "    <tr style=\"text-align: right;\">\n",
       "      <th></th>\n",
       "      <th></th>\n",
       "      <th>gb_used</th>\n",
       "    </tr>\n",
       "    <tr>\n",
       "      <th>user_id</th>\n",
       "      <th>month</th>\n",
       "      <th></th>\n",
       "    </tr>\n",
       "  </thead>\n",
       "  <tbody>\n",
       "    <tr>\n",
       "      <td rowspan=\"8\" valign=\"top\">1000</td>\n",
       "      <td>5</td>\n",
       "      <td>3</td>\n",
       "    </tr>\n",
       "    <tr>\n",
       "      <td>6</td>\n",
       "      <td>23</td>\n",
       "    </tr>\n",
       "    <tr>\n",
       "      <td>7</td>\n",
       "      <td>14</td>\n",
       "    </tr>\n",
       "    <tr>\n",
       "      <td>8</td>\n",
       "      <td>14</td>\n",
       "    </tr>\n",
       "    <tr>\n",
       "      <td>9</td>\n",
       "      <td>15</td>\n",
       "    </tr>\n",
       "    <tr>\n",
       "      <td>10</td>\n",
       "      <td>15</td>\n",
       "    </tr>\n",
       "    <tr>\n",
       "      <td>11</td>\n",
       "      <td>15</td>\n",
       "    </tr>\n",
       "    <tr>\n",
       "      <td>12</td>\n",
       "      <td>10</td>\n",
       "    </tr>\n",
       "    <tr>\n",
       "      <td rowspan=\"2\" valign=\"top\">1001</td>\n",
       "      <td>11</td>\n",
       "      <td>18</td>\n",
       "    </tr>\n",
       "    <tr>\n",
       "      <td>12</td>\n",
       "      <td>14</td>\n",
       "    </tr>\n",
       "  </tbody>\n",
       "</table>\n",
       "</div>"
      ],
      "text/plain": [
       "               gb_used\n",
       "user_id month         \n",
       "1000    5            3\n",
       "        6           23\n",
       "        7           14\n",
       "        8           14\n",
       "        9           15\n",
       "        10          15\n",
       "        11          15\n",
       "        12          10\n",
       "1001    11          18\n",
       "        12          14"
      ]
     },
     "execution_count": 26,
     "metadata": {},
     "output_type": "execute_result"
    }
   ],
   "source": [
    "gb_used_per_month = (np.ceil(mb_used_per_month / 1024)).astype(int) # перевод в гигабайты и округление в большую сторону\n",
    "gb_used_per_month.columns = ['gb_used'] # переименование колонки\n",
    "gb_used_per_month.head(10) # проверка таблицы"
   ]
  },
  {
   "cell_type": "markdown",
   "metadata": {},
   "source": [
    "### Расчет общей выручки по месяцам"
   ]
  },
  {
   "cell_type": "markdown",
   "metadata": {},
   "source": [
    "#### Объединение таблиц\n",
    "На первом шаге объединим полученные ранее сводные таблицы по звонкам, сообщениям и интернет-трафику в одну таблицу при помощи метода *join()*. Также у полученной объединенной таблицы изменим индексы так, чтобы предыдущие индексы (уникальный идентификатор пользователя и месяцы) стали столбцами в таблице."
   ]
  },
  {
   "cell_type": "code",
   "execution_count": 28,
   "metadata": {},
   "outputs": [
    {
     "name": "stdout",
     "output_type": "stream",
     "text": [
      "3214\n"
     ]
    },
    {
     "data": {
      "text/html": [
       "<div>\n",
       "<style scoped>\n",
       "    .dataframe tbody tr th:only-of-type {\n",
       "        vertical-align: middle;\n",
       "    }\n",
       "\n",
       "    .dataframe tbody tr th {\n",
       "        vertical-align: top;\n",
       "    }\n",
       "\n",
       "    .dataframe thead th {\n",
       "        text-align: right;\n",
       "    }\n",
       "</style>\n",
       "<table border=\"1\" class=\"dataframe\">\n",
       "  <thead>\n",
       "    <tr style=\"text-align: right;\">\n",
       "      <th></th>\n",
       "      <th>user_id</th>\n",
       "      <th>month</th>\n",
       "      <th>minutes</th>\n",
       "      <th>messages</th>\n",
       "      <th>gb_used</th>\n",
       "    </tr>\n",
       "  </thead>\n",
       "  <tbody>\n",
       "    <tr>\n",
       "      <td>0</td>\n",
       "      <td>1000</td>\n",
       "      <td>5</td>\n",
       "      <td>159.0</td>\n",
       "      <td>22.0</td>\n",
       "      <td>3.0</td>\n",
       "    </tr>\n",
       "    <tr>\n",
       "      <td>1</td>\n",
       "      <td>1000</td>\n",
       "      <td>6</td>\n",
       "      <td>172.0</td>\n",
       "      <td>60.0</td>\n",
       "      <td>23.0</td>\n",
       "    </tr>\n",
       "    <tr>\n",
       "      <td>2</td>\n",
       "      <td>1000</td>\n",
       "      <td>7</td>\n",
       "      <td>340.0</td>\n",
       "      <td>75.0</td>\n",
       "      <td>14.0</td>\n",
       "    </tr>\n",
       "    <tr>\n",
       "      <td>3</td>\n",
       "      <td>1000</td>\n",
       "      <td>8</td>\n",
       "      <td>408.0</td>\n",
       "      <td>81.0</td>\n",
       "      <td>14.0</td>\n",
       "    </tr>\n",
       "    <tr>\n",
       "      <td>4</td>\n",
       "      <td>1000</td>\n",
       "      <td>9</td>\n",
       "      <td>466.0</td>\n",
       "      <td>57.0</td>\n",
       "      <td>15.0</td>\n",
       "    </tr>\n",
       "    <tr>\n",
       "      <td>5</td>\n",
       "      <td>1000</td>\n",
       "      <td>10</td>\n",
       "      <td>350.0</td>\n",
       "      <td>73.0</td>\n",
       "      <td>15.0</td>\n",
       "    </tr>\n",
       "    <tr>\n",
       "      <td>6</td>\n",
       "      <td>1000</td>\n",
       "      <td>11</td>\n",
       "      <td>338.0</td>\n",
       "      <td>58.0</td>\n",
       "      <td>15.0</td>\n",
       "    </tr>\n",
       "    <tr>\n",
       "      <td>7</td>\n",
       "      <td>1000</td>\n",
       "      <td>12</td>\n",
       "      <td>333.0</td>\n",
       "      <td>70.0</td>\n",
       "      <td>10.0</td>\n",
       "    </tr>\n",
       "    <tr>\n",
       "      <td>8</td>\n",
       "      <td>1001</td>\n",
       "      <td>11</td>\n",
       "      <td>430.0</td>\n",
       "      <td>NaN</td>\n",
       "      <td>18.0</td>\n",
       "    </tr>\n",
       "    <tr>\n",
       "      <td>9</td>\n",
       "      <td>1001</td>\n",
       "      <td>12</td>\n",
       "      <td>414.0</td>\n",
       "      <td>NaN</td>\n",
       "      <td>14.0</td>\n",
       "    </tr>\n",
       "  </tbody>\n",
       "</table>\n",
       "</div>"
      ],
      "text/plain": [
       "   user_id  month  minutes  messages  gb_used\n",
       "0     1000      5    159.0      22.0      3.0\n",
       "1     1000      6    172.0      60.0     23.0\n",
       "2     1000      7    340.0      75.0     14.0\n",
       "3     1000      8    408.0      81.0     14.0\n",
       "4     1000      9    466.0      57.0     15.0\n",
       "5     1000     10    350.0      73.0     15.0\n",
       "6     1000     11    338.0      58.0     15.0\n",
       "7     1000     12    333.0      70.0     10.0\n",
       "8     1001     11    430.0       NaN     18.0\n",
       "9     1001     12    414.0       NaN     14.0"
      ]
     },
     "execution_count": 28,
     "metadata": {},
     "output_type": "execute_result"
    }
   ],
   "source": [
    "costs = minutes_call_per_month.join([messages_per_month, gb_used_per_month], how='outer').reset_index()\n",
    "costs.head(10)"
   ]
  },
  {
   "cell_type": "markdown",
   "metadata": {},
   "source": [
    "На втором шаге добавим к полученным данным информацию о тарифах пользователей. Для этого при помощи метода *merge()* объединим общую сводную таблицу с таблицей `users_data` по колонке `user_id`."
   ]
  },
  {
   "cell_type": "code",
   "execution_count": 29,
   "metadata": {},
   "outputs": [
    {
     "data": {
      "text/html": [
       "<div>\n",
       "<style scoped>\n",
       "    .dataframe tbody tr th:only-of-type {\n",
       "        vertical-align: middle;\n",
       "    }\n",
       "\n",
       "    .dataframe tbody tr th {\n",
       "        vertical-align: top;\n",
       "    }\n",
       "\n",
       "    .dataframe thead th {\n",
       "        text-align: right;\n",
       "    }\n",
       "</style>\n",
       "<table border=\"1\" class=\"dataframe\">\n",
       "  <thead>\n",
       "    <tr style=\"text-align: right;\">\n",
       "      <th></th>\n",
       "      <th>user_id</th>\n",
       "      <th>month</th>\n",
       "      <th>minutes</th>\n",
       "      <th>messages</th>\n",
       "      <th>gb_used</th>\n",
       "      <th>age</th>\n",
       "      <th>city</th>\n",
       "      <th>tariff_name</th>\n",
       "      <th>messages_included</th>\n",
       "      <th>mb_per_month_included</th>\n",
       "      <th>minutes_included</th>\n",
       "      <th>rub_monthly_fee</th>\n",
       "      <th>rub_per_gb</th>\n",
       "      <th>rub_per_message</th>\n",
       "      <th>rub_per_minute</th>\n",
       "      <th>gb_per_month_included</th>\n",
       "    </tr>\n",
       "  </thead>\n",
       "  <tbody>\n",
       "    <tr>\n",
       "      <td>0</td>\n",
       "      <td>1000</td>\n",
       "      <td>5</td>\n",
       "      <td>159.0</td>\n",
       "      <td>22.0</td>\n",
       "      <td>3.0</td>\n",
       "      <td>52</td>\n",
       "      <td>Краснодар</td>\n",
       "      <td>ultra</td>\n",
       "      <td>1000</td>\n",
       "      <td>30720</td>\n",
       "      <td>3000</td>\n",
       "      <td>1950</td>\n",
       "      <td>150</td>\n",
       "      <td>1</td>\n",
       "      <td>1</td>\n",
       "      <td>30</td>\n",
       "    </tr>\n",
       "    <tr>\n",
       "      <td>1</td>\n",
       "      <td>1000</td>\n",
       "      <td>6</td>\n",
       "      <td>172.0</td>\n",
       "      <td>60.0</td>\n",
       "      <td>23.0</td>\n",
       "      <td>52</td>\n",
       "      <td>Краснодар</td>\n",
       "      <td>ultra</td>\n",
       "      <td>1000</td>\n",
       "      <td>30720</td>\n",
       "      <td>3000</td>\n",
       "      <td>1950</td>\n",
       "      <td>150</td>\n",
       "      <td>1</td>\n",
       "      <td>1</td>\n",
       "      <td>30</td>\n",
       "    </tr>\n",
       "    <tr>\n",
       "      <td>2</td>\n",
       "      <td>1000</td>\n",
       "      <td>7</td>\n",
       "      <td>340.0</td>\n",
       "      <td>75.0</td>\n",
       "      <td>14.0</td>\n",
       "      <td>52</td>\n",
       "      <td>Краснодар</td>\n",
       "      <td>ultra</td>\n",
       "      <td>1000</td>\n",
       "      <td>30720</td>\n",
       "      <td>3000</td>\n",
       "      <td>1950</td>\n",
       "      <td>150</td>\n",
       "      <td>1</td>\n",
       "      <td>1</td>\n",
       "      <td>30</td>\n",
       "    </tr>\n",
       "    <tr>\n",
       "      <td>3</td>\n",
       "      <td>1000</td>\n",
       "      <td>8</td>\n",
       "      <td>408.0</td>\n",
       "      <td>81.0</td>\n",
       "      <td>14.0</td>\n",
       "      <td>52</td>\n",
       "      <td>Краснодар</td>\n",
       "      <td>ultra</td>\n",
       "      <td>1000</td>\n",
       "      <td>30720</td>\n",
       "      <td>3000</td>\n",
       "      <td>1950</td>\n",
       "      <td>150</td>\n",
       "      <td>1</td>\n",
       "      <td>1</td>\n",
       "      <td>30</td>\n",
       "    </tr>\n",
       "    <tr>\n",
       "      <td>4</td>\n",
       "      <td>1000</td>\n",
       "      <td>9</td>\n",
       "      <td>466.0</td>\n",
       "      <td>57.0</td>\n",
       "      <td>15.0</td>\n",
       "      <td>52</td>\n",
       "      <td>Краснодар</td>\n",
       "      <td>ultra</td>\n",
       "      <td>1000</td>\n",
       "      <td>30720</td>\n",
       "      <td>3000</td>\n",
       "      <td>1950</td>\n",
       "      <td>150</td>\n",
       "      <td>1</td>\n",
       "      <td>1</td>\n",
       "      <td>30</td>\n",
       "    </tr>\n",
       "    <tr>\n",
       "      <td>5</td>\n",
       "      <td>1000</td>\n",
       "      <td>10</td>\n",
       "      <td>350.0</td>\n",
       "      <td>73.0</td>\n",
       "      <td>15.0</td>\n",
       "      <td>52</td>\n",
       "      <td>Краснодар</td>\n",
       "      <td>ultra</td>\n",
       "      <td>1000</td>\n",
       "      <td>30720</td>\n",
       "      <td>3000</td>\n",
       "      <td>1950</td>\n",
       "      <td>150</td>\n",
       "      <td>1</td>\n",
       "      <td>1</td>\n",
       "      <td>30</td>\n",
       "    </tr>\n",
       "    <tr>\n",
       "      <td>6</td>\n",
       "      <td>1000</td>\n",
       "      <td>11</td>\n",
       "      <td>338.0</td>\n",
       "      <td>58.0</td>\n",
       "      <td>15.0</td>\n",
       "      <td>52</td>\n",
       "      <td>Краснодар</td>\n",
       "      <td>ultra</td>\n",
       "      <td>1000</td>\n",
       "      <td>30720</td>\n",
       "      <td>3000</td>\n",
       "      <td>1950</td>\n",
       "      <td>150</td>\n",
       "      <td>1</td>\n",
       "      <td>1</td>\n",
       "      <td>30</td>\n",
       "    </tr>\n",
       "    <tr>\n",
       "      <td>7</td>\n",
       "      <td>1000</td>\n",
       "      <td>12</td>\n",
       "      <td>333.0</td>\n",
       "      <td>70.0</td>\n",
       "      <td>10.0</td>\n",
       "      <td>52</td>\n",
       "      <td>Краснодар</td>\n",
       "      <td>ultra</td>\n",
       "      <td>1000</td>\n",
       "      <td>30720</td>\n",
       "      <td>3000</td>\n",
       "      <td>1950</td>\n",
       "      <td>150</td>\n",
       "      <td>1</td>\n",
       "      <td>1</td>\n",
       "      <td>30</td>\n",
       "    </tr>\n",
       "    <tr>\n",
       "      <td>8</td>\n",
       "      <td>1001</td>\n",
       "      <td>11</td>\n",
       "      <td>430.0</td>\n",
       "      <td>NaN</td>\n",
       "      <td>18.0</td>\n",
       "      <td>41</td>\n",
       "      <td>Москва</td>\n",
       "      <td>smart</td>\n",
       "      <td>50</td>\n",
       "      <td>15360</td>\n",
       "      <td>500</td>\n",
       "      <td>550</td>\n",
       "      <td>200</td>\n",
       "      <td>3</td>\n",
       "      <td>3</td>\n",
       "      <td>15</td>\n",
       "    </tr>\n",
       "    <tr>\n",
       "      <td>9</td>\n",
       "      <td>1001</td>\n",
       "      <td>12</td>\n",
       "      <td>414.0</td>\n",
       "      <td>NaN</td>\n",
       "      <td>14.0</td>\n",
       "      <td>41</td>\n",
       "      <td>Москва</td>\n",
       "      <td>smart</td>\n",
       "      <td>50</td>\n",
       "      <td>15360</td>\n",
       "      <td>500</td>\n",
       "      <td>550</td>\n",
       "      <td>200</td>\n",
       "      <td>3</td>\n",
       "      <td>3</td>\n",
       "      <td>15</td>\n",
       "    </tr>\n",
       "  </tbody>\n",
       "</table>\n",
       "</div>"
      ],
      "text/plain": [
       "   user_id  month  minutes  messages  gb_used  age       city tariff_name  \\\n",
       "0     1000      5    159.0      22.0      3.0   52  Краснодар       ultra   \n",
       "1     1000      6    172.0      60.0     23.0   52  Краснодар       ultra   \n",
       "2     1000      7    340.0      75.0     14.0   52  Краснодар       ultra   \n",
       "3     1000      8    408.0      81.0     14.0   52  Краснодар       ultra   \n",
       "4     1000      9    466.0      57.0     15.0   52  Краснодар       ultra   \n",
       "5     1000     10    350.0      73.0     15.0   52  Краснодар       ultra   \n",
       "6     1000     11    338.0      58.0     15.0   52  Краснодар       ultra   \n",
       "7     1000     12    333.0      70.0     10.0   52  Краснодар       ultra   \n",
       "8     1001     11    430.0       NaN     18.0   41     Москва       smart   \n",
       "9     1001     12    414.0       NaN     14.0   41     Москва       smart   \n",
       "\n",
       "   messages_included  mb_per_month_included  minutes_included  \\\n",
       "0               1000                  30720              3000   \n",
       "1               1000                  30720              3000   \n",
       "2               1000                  30720              3000   \n",
       "3               1000                  30720              3000   \n",
       "4               1000                  30720              3000   \n",
       "5               1000                  30720              3000   \n",
       "6               1000                  30720              3000   \n",
       "7               1000                  30720              3000   \n",
       "8                 50                  15360               500   \n",
       "9                 50                  15360               500   \n",
       "\n",
       "   rub_monthly_fee  rub_per_gb  rub_per_message  rub_per_minute  \\\n",
       "0             1950         150                1               1   \n",
       "1             1950         150                1               1   \n",
       "2             1950         150                1               1   \n",
       "3             1950         150                1               1   \n",
       "4             1950         150                1               1   \n",
       "5             1950         150                1               1   \n",
       "6             1950         150                1               1   \n",
       "7             1950         150                1               1   \n",
       "8              550         200                3               3   \n",
       "9              550         200                3               3   \n",
       "\n",
       "   gb_per_month_included  \n",
       "0                     30  \n",
       "1                     30  \n",
       "2                     30  \n",
       "3                     30  \n",
       "4                     30  \n",
       "5                     30  \n",
       "6                     30  \n",
       "7                     30  \n",
       "8                     15  \n",
       "9                     15  "
      ]
     },
     "execution_count": 29,
     "metadata": {},
     "output_type": "execute_result"
    }
   ],
   "source": [
    "costs = costs.merge(users_data, on='user_id')\n",
    "costs.head(10)"
   ]
  },
  {
   "cell_type": "markdown",
   "metadata": {},
   "source": [
    "#### Расчет выручки компании\n",
    "Теперь создадим функцию **get_revenue**, которая будет рассчитывать выручку компании по месяцам для каждого пользователя. На входе функция принимает строки таблицы. В теле функции создадим 3 переменные дохода за минуты, сообщения и интернет-трафик. Далее для условий, при котором разность использованных минут/сообщений/интернет-трафика и бесплатного лимита по тарифу больше нуля, эта разность умножается на стоимость для потраченных сверх минут/сообщений/интернет-трафика и записывается в соответствующей переменной. Возвращать функция будет сумму трех переменных и стоимости тарифа за месяц."
   ]
  },
  {
   "cell_type": "code",
   "execution_count": 33,
   "metadata": {},
   "outputs": [],
   "source": [
    "def get_revenue(row):\n",
    "    revenue_by_min = 0\n",
    "    revenue_by_mess = 0\n",
    "    revenue_by_gb = 0\n",
    "    \n",
    "    if row['minutes'] - row['minutes_included'] > 0:\n",
    "        revenue_by_min = (row['minutes'] - row['minutes_included']) * row['rub_per_minute']\n",
    "    if row['messages'] - row['messages_included'] > 0:\n",
    "        revenue_by_mess = (row['messages'] - row['messages_included']) * row['rub_per_message']\n",
    "    if row['gb_used'] - row['gb_per_month_included'] > 0:\n",
    "        revenue_by_gb = (row['gb_used'] - row['gb_per_month_included']) * row['rub_per_gb']\n",
    "        \n",
    "    return revenue_by_min + revenue_by_mess + revenue_by_gb + row['rub_monthly_fee']"
   ]
  },
  {
   "cell_type": "markdown",
   "metadata": {},
   "source": [
    "При помощи метода *apply()* вызовем функцию **get_revenue** для таблицы `costs`, создав новую колонку `full_revenue_month`. Таким образом, рассчитаем ежемесячный доход компании по каждому пользователю."
   ]
  },
  {
   "cell_type": "code",
   "execution_count": 34,
   "metadata": {},
   "outputs": [],
   "source": [
    "costs['full_revenue_month'] = costs.apply(get_revenue, axis=1) # вызов функции при помощи метода apply"
   ]
  },
  {
   "cell_type": "code",
   "execution_count": 35,
   "metadata": {},
   "outputs": [
    {
     "data": {
      "text/html": [
       "<div>\n",
       "<style scoped>\n",
       "    .dataframe tbody tr th:only-of-type {\n",
       "        vertical-align: middle;\n",
       "    }\n",
       "\n",
       "    .dataframe tbody tr th {\n",
       "        vertical-align: top;\n",
       "    }\n",
       "\n",
       "    .dataframe thead th {\n",
       "        text-align: right;\n",
       "    }\n",
       "</style>\n",
       "<table border=\"1\" class=\"dataframe\">\n",
       "  <thead>\n",
       "    <tr style=\"text-align: right;\">\n",
       "      <th></th>\n",
       "      <th>user_id</th>\n",
       "      <th>month</th>\n",
       "      <th>minutes</th>\n",
       "      <th>messages</th>\n",
       "      <th>gb_used</th>\n",
       "      <th>age</th>\n",
       "      <th>city</th>\n",
       "      <th>tariff_name</th>\n",
       "      <th>messages_included</th>\n",
       "      <th>mb_per_month_included</th>\n",
       "      <th>minutes_included</th>\n",
       "      <th>rub_monthly_fee</th>\n",
       "      <th>rub_per_gb</th>\n",
       "      <th>rub_per_message</th>\n",
       "      <th>rub_per_minute</th>\n",
       "      <th>gb_per_month_included</th>\n",
       "      <th>full_revenue_month</th>\n",
       "    </tr>\n",
       "  </thead>\n",
       "  <tbody>\n",
       "    <tr>\n",
       "      <td>0</td>\n",
       "      <td>1000</td>\n",
       "      <td>5</td>\n",
       "      <td>159.0</td>\n",
       "      <td>22.0</td>\n",
       "      <td>3.0</td>\n",
       "      <td>52</td>\n",
       "      <td>Краснодар</td>\n",
       "      <td>ultra</td>\n",
       "      <td>1000</td>\n",
       "      <td>30720</td>\n",
       "      <td>3000</td>\n",
       "      <td>1950</td>\n",
       "      <td>150</td>\n",
       "      <td>1</td>\n",
       "      <td>1</td>\n",
       "      <td>30</td>\n",
       "      <td>1950.0</td>\n",
       "    </tr>\n",
       "    <tr>\n",
       "      <td>1</td>\n",
       "      <td>1000</td>\n",
       "      <td>6</td>\n",
       "      <td>172.0</td>\n",
       "      <td>60.0</td>\n",
       "      <td>23.0</td>\n",
       "      <td>52</td>\n",
       "      <td>Краснодар</td>\n",
       "      <td>ultra</td>\n",
       "      <td>1000</td>\n",
       "      <td>30720</td>\n",
       "      <td>3000</td>\n",
       "      <td>1950</td>\n",
       "      <td>150</td>\n",
       "      <td>1</td>\n",
       "      <td>1</td>\n",
       "      <td>30</td>\n",
       "      <td>1950.0</td>\n",
       "    </tr>\n",
       "    <tr>\n",
       "      <td>2</td>\n",
       "      <td>1000</td>\n",
       "      <td>7</td>\n",
       "      <td>340.0</td>\n",
       "      <td>75.0</td>\n",
       "      <td>14.0</td>\n",
       "      <td>52</td>\n",
       "      <td>Краснодар</td>\n",
       "      <td>ultra</td>\n",
       "      <td>1000</td>\n",
       "      <td>30720</td>\n",
       "      <td>3000</td>\n",
       "      <td>1950</td>\n",
       "      <td>150</td>\n",
       "      <td>1</td>\n",
       "      <td>1</td>\n",
       "      <td>30</td>\n",
       "      <td>1950.0</td>\n",
       "    </tr>\n",
       "    <tr>\n",
       "      <td>3</td>\n",
       "      <td>1000</td>\n",
       "      <td>8</td>\n",
       "      <td>408.0</td>\n",
       "      <td>81.0</td>\n",
       "      <td>14.0</td>\n",
       "      <td>52</td>\n",
       "      <td>Краснодар</td>\n",
       "      <td>ultra</td>\n",
       "      <td>1000</td>\n",
       "      <td>30720</td>\n",
       "      <td>3000</td>\n",
       "      <td>1950</td>\n",
       "      <td>150</td>\n",
       "      <td>1</td>\n",
       "      <td>1</td>\n",
       "      <td>30</td>\n",
       "      <td>1950.0</td>\n",
       "    </tr>\n",
       "    <tr>\n",
       "      <td>4</td>\n",
       "      <td>1000</td>\n",
       "      <td>9</td>\n",
       "      <td>466.0</td>\n",
       "      <td>57.0</td>\n",
       "      <td>15.0</td>\n",
       "      <td>52</td>\n",
       "      <td>Краснодар</td>\n",
       "      <td>ultra</td>\n",
       "      <td>1000</td>\n",
       "      <td>30720</td>\n",
       "      <td>3000</td>\n",
       "      <td>1950</td>\n",
       "      <td>150</td>\n",
       "      <td>1</td>\n",
       "      <td>1</td>\n",
       "      <td>30</td>\n",
       "      <td>1950.0</td>\n",
       "    </tr>\n",
       "    <tr>\n",
       "      <td>5</td>\n",
       "      <td>1000</td>\n",
       "      <td>10</td>\n",
       "      <td>350.0</td>\n",
       "      <td>73.0</td>\n",
       "      <td>15.0</td>\n",
       "      <td>52</td>\n",
       "      <td>Краснодар</td>\n",
       "      <td>ultra</td>\n",
       "      <td>1000</td>\n",
       "      <td>30720</td>\n",
       "      <td>3000</td>\n",
       "      <td>1950</td>\n",
       "      <td>150</td>\n",
       "      <td>1</td>\n",
       "      <td>1</td>\n",
       "      <td>30</td>\n",
       "      <td>1950.0</td>\n",
       "    </tr>\n",
       "    <tr>\n",
       "      <td>6</td>\n",
       "      <td>1000</td>\n",
       "      <td>11</td>\n",
       "      <td>338.0</td>\n",
       "      <td>58.0</td>\n",
       "      <td>15.0</td>\n",
       "      <td>52</td>\n",
       "      <td>Краснодар</td>\n",
       "      <td>ultra</td>\n",
       "      <td>1000</td>\n",
       "      <td>30720</td>\n",
       "      <td>3000</td>\n",
       "      <td>1950</td>\n",
       "      <td>150</td>\n",
       "      <td>1</td>\n",
       "      <td>1</td>\n",
       "      <td>30</td>\n",
       "      <td>1950.0</td>\n",
       "    </tr>\n",
       "    <tr>\n",
       "      <td>7</td>\n",
       "      <td>1000</td>\n",
       "      <td>12</td>\n",
       "      <td>333.0</td>\n",
       "      <td>70.0</td>\n",
       "      <td>10.0</td>\n",
       "      <td>52</td>\n",
       "      <td>Краснодар</td>\n",
       "      <td>ultra</td>\n",
       "      <td>1000</td>\n",
       "      <td>30720</td>\n",
       "      <td>3000</td>\n",
       "      <td>1950</td>\n",
       "      <td>150</td>\n",
       "      <td>1</td>\n",
       "      <td>1</td>\n",
       "      <td>30</td>\n",
       "      <td>1950.0</td>\n",
       "    </tr>\n",
       "    <tr>\n",
       "      <td>8</td>\n",
       "      <td>1001</td>\n",
       "      <td>11</td>\n",
       "      <td>430.0</td>\n",
       "      <td>NaN</td>\n",
       "      <td>18.0</td>\n",
       "      <td>41</td>\n",
       "      <td>Москва</td>\n",
       "      <td>smart</td>\n",
       "      <td>50</td>\n",
       "      <td>15360</td>\n",
       "      <td>500</td>\n",
       "      <td>550</td>\n",
       "      <td>200</td>\n",
       "      <td>3</td>\n",
       "      <td>3</td>\n",
       "      <td>15</td>\n",
       "      <td>1150.0</td>\n",
       "    </tr>\n",
       "    <tr>\n",
       "      <td>9</td>\n",
       "      <td>1001</td>\n",
       "      <td>12</td>\n",
       "      <td>414.0</td>\n",
       "      <td>NaN</td>\n",
       "      <td>14.0</td>\n",
       "      <td>41</td>\n",
       "      <td>Москва</td>\n",
       "      <td>smart</td>\n",
       "      <td>50</td>\n",
       "      <td>15360</td>\n",
       "      <td>500</td>\n",
       "      <td>550</td>\n",
       "      <td>200</td>\n",
       "      <td>3</td>\n",
       "      <td>3</td>\n",
       "      <td>15</td>\n",
       "      <td>550.0</td>\n",
       "    </tr>\n",
       "  </tbody>\n",
       "</table>\n",
       "</div>"
      ],
      "text/plain": [
       "   user_id  month  minutes  messages  gb_used  age       city tariff_name  \\\n",
       "0     1000      5    159.0      22.0      3.0   52  Краснодар       ultra   \n",
       "1     1000      6    172.0      60.0     23.0   52  Краснодар       ultra   \n",
       "2     1000      7    340.0      75.0     14.0   52  Краснодар       ultra   \n",
       "3     1000      8    408.0      81.0     14.0   52  Краснодар       ultra   \n",
       "4     1000      9    466.0      57.0     15.0   52  Краснодар       ultra   \n",
       "5     1000     10    350.0      73.0     15.0   52  Краснодар       ultra   \n",
       "6     1000     11    338.0      58.0     15.0   52  Краснодар       ultra   \n",
       "7     1000     12    333.0      70.0     10.0   52  Краснодар       ultra   \n",
       "8     1001     11    430.0       NaN     18.0   41     Москва       smart   \n",
       "9     1001     12    414.0       NaN     14.0   41     Москва       smart   \n",
       "\n",
       "   messages_included  mb_per_month_included  minutes_included  \\\n",
       "0               1000                  30720              3000   \n",
       "1               1000                  30720              3000   \n",
       "2               1000                  30720              3000   \n",
       "3               1000                  30720              3000   \n",
       "4               1000                  30720              3000   \n",
       "5               1000                  30720              3000   \n",
       "6               1000                  30720              3000   \n",
       "7               1000                  30720              3000   \n",
       "8                 50                  15360               500   \n",
       "9                 50                  15360               500   \n",
       "\n",
       "   rub_monthly_fee  rub_per_gb  rub_per_message  rub_per_minute  \\\n",
       "0             1950         150                1               1   \n",
       "1             1950         150                1               1   \n",
       "2             1950         150                1               1   \n",
       "3             1950         150                1               1   \n",
       "4             1950         150                1               1   \n",
       "5             1950         150                1               1   \n",
       "6             1950         150                1               1   \n",
       "7             1950         150                1               1   \n",
       "8              550         200                3               3   \n",
       "9              550         200                3               3   \n",
       "\n",
       "   gb_per_month_included  full_revenue_month  \n",
       "0                     30              1950.0  \n",
       "1                     30              1950.0  \n",
       "2                     30              1950.0  \n",
       "3                     30              1950.0  \n",
       "4                     30              1950.0  \n",
       "5                     30              1950.0  \n",
       "6                     30              1950.0  \n",
       "7                     30              1950.0  \n",
       "8                     15              1150.0  \n",
       "9                     15               550.0  "
      ]
     },
     "execution_count": 35,
     "metadata": {},
     "output_type": "execute_result"
    }
   ],
   "source": [
    "costs.head(10) # проверка работы функции"
   ]
  },
  {
   "cell_type": "markdown",
   "metadata": {},
   "source": [
    "### Вывод\n",
    "\n",
    "1. Были созданы сводные таблицы по звонкам, сообщениям и интернет-трафику, сгруппированные по пользователям и месяцам использования тарифа.\n",
    "2. Произведено объединение сводных таблиц между собой и с таблицей с информацией о тарифах и тарифных планах.\n",
    "3. Создана функция, при помощи которой рассчитана ежемесячная выручка компании по каждому пользователю."
   ]
  },
  {
   "cell_type": "markdown",
   "metadata": {},
   "source": [
    "## Анализ поведения клиентов"
   ]
  },
  {
   "cell_type": "markdown",
   "metadata": {},
   "source": [
    "### Расчет среднего значения, дисперсии и стандартного отклонения\n",
    "\n",
    "Рассчитаем среднее значение, дисперсию и стандартное отклонение по каждому из параметров (минуты, сообщения и интернет-трафик) отдельно для каждого тарифа. Для этого создадим сводную таблицу, в которой в качестве индекса передадим тарифы, в качестве значений передадим параметры, а в качестве функций *mean()* - для расчета среднего, *var()* - для расчета дисперсии и *std()* - для расчета стандратного отклонения."
   ]
  },
  {
   "cell_type": "code",
   "execution_count": 28,
   "metadata": {},
   "outputs": [
    {
     "data": {
      "text/html": [
       "<div>\n",
       "<style scoped>\n",
       "    .dataframe tbody tr th:only-of-type {\n",
       "        vertical-align: middle;\n",
       "    }\n",
       "\n",
       "    .dataframe tbody tr th {\n",
       "        vertical-align: top;\n",
       "    }\n",
       "\n",
       "    .dataframe thead tr th {\n",
       "        text-align: left;\n",
       "    }\n",
       "\n",
       "    .dataframe thead tr:last-of-type th {\n",
       "        text-align: right;\n",
       "    }\n",
       "</style>\n",
       "<table border=\"1\" class=\"dataframe\">\n",
       "  <thead>\n",
       "    <tr>\n",
       "      <th></th>\n",
       "      <th colspan=\"3\" halign=\"left\">mean</th>\n",
       "      <th colspan=\"3\" halign=\"left\">var</th>\n",
       "      <th colspan=\"3\" halign=\"left\">std</th>\n",
       "    </tr>\n",
       "    <tr>\n",
       "      <th></th>\n",
       "      <th>gb_used</th>\n",
       "      <th>messages</th>\n",
       "      <th>minutes</th>\n",
       "      <th>gb_used</th>\n",
       "      <th>messages</th>\n",
       "      <th>minutes</th>\n",
       "      <th>gb_used</th>\n",
       "      <th>messages</th>\n",
       "      <th>minutes</th>\n",
       "    </tr>\n",
       "    <tr>\n",
       "      <th>tariff</th>\n",
       "      <th></th>\n",
       "      <th></th>\n",
       "      <th></th>\n",
       "      <th></th>\n",
       "      <th></th>\n",
       "      <th></th>\n",
       "      <th></th>\n",
       "      <th></th>\n",
       "      <th></th>\n",
       "    </tr>\n",
       "  </thead>\n",
       "  <tbody>\n",
       "    <tr>\n",
       "      <td>smart</td>\n",
       "      <td>16.337084</td>\n",
       "      <td>38.747390</td>\n",
       "      <td>419.062978</td>\n",
       "      <td>32.987179</td>\n",
       "      <td>719.172709</td>\n",
       "      <td>35844.189551</td>\n",
       "      <td>5.743447</td>\n",
       "      <td>26.817396</td>\n",
       "      <td>189.325618</td>\n",
       "    </tr>\n",
       "    <tr>\n",
       "      <td>ultra</td>\n",
       "      <td>19.695005</td>\n",
       "      <td>61.195538</td>\n",
       "      <td>545.451104</td>\n",
       "      <td>94.778156</td>\n",
       "      <td>1999.574067</td>\n",
       "      <td>94203.418396</td>\n",
       "      <td>9.735407</td>\n",
       "      <td>44.716597</td>\n",
       "      <td>306.925754</td>\n",
       "    </tr>\n",
       "  </tbody>\n",
       "</table>\n",
       "</div>"
      ],
      "text/plain": [
       "             mean                               var               \\\n",
       "          gb_used   messages     minutes    gb_used     messages   \n",
       "tariff                                                             \n",
       "smart   16.337084  38.747390  419.062978  32.987179   719.172709   \n",
       "ultra   19.695005  61.195538  545.451104  94.778156  1999.574067   \n",
       "\n",
       "                           std                         \n",
       "             minutes   gb_used   messages     minutes  \n",
       "tariff                                                 \n",
       "smart   35844.189551  5.743447  26.817396  189.325618  \n",
       "ultra   94203.418396  9.735407  44.716597  306.925754  "
      ]
     },
     "execution_count": 28,
     "metadata": {},
     "output_type": "execute_result"
    }
   ],
   "source": [
    "tariff_mean_var_std = costs.pivot_table(index='tariff', values=['minutes', 'messages', 'gb_used'], aggfunc=['mean', 'var', 'std'])\n",
    "tariff_mean_var_std"
   ]
  },
  {
   "cell_type": "markdown",
   "metadata": {},
   "source": [
    "#### Выводы\n",
    "\n",
    "Сравнение средних значений с бесплатным лимитом.\n",
    "1. Для тарифа Смарт\n",
    "    - Средние значения отправленных сообщений и количества потраченных минут в месяц меньше бесплатного лимита.\n",
    "    - Среднее значение использованных гигабайт в месяц выше бесплатного лимита.\n",
    "2. Для тарифа Ультра\n",
    "    - Средние значения по всем параметрам меньше бесплатного лимита."
   ]
  },
  {
   "cell_type": "markdown",
   "metadata": {},
   "source": [
    "### Построение гистограмм\n",
    "\n",
    "Для анализа значений и выбросов построим на одной оси два графика: диаграмму размаха (boxplot) и диаграмму распределения (гистограмму). Напишем функцию **histogram_boxplot**, которая на входе будет принимать таблицу и 3 аргумента по умолчанию (название, размер и количество корзин для гистограммы). В теле функции будут строиться два графика на одной оси (друг на друга)."
   ]
  },
  {
   "cell_type": "code",
   "execution_count": 29,
   "metadata": {},
   "outputs": [],
   "source": [
    "# создание функции\n",
    "def histogram_boxplot(data, title = None, figsize=(12, 12), bins = None):\n",
    "    \n",
    "    sns.set(style=\"ticks\")\n",
    "    f, (ax_box, ax_hist) = plt.subplots(2, sharex=True, gridspec_kw={\"height_ratios\": (.15, .85)}, figsize=figsize)\n",
    "    sns.boxplot(data, ax=ax_box)\n",
    "    sns.distplot(data, ax=ax_hist, bins=bins) if bins else sns.distplot(data, ax=ax_hist)\n",
    "    if title: ax_box.set(title=title)\n",
    "    ax_box.set(yticks=[])\n",
    "    plt.show()\n"
   ]
  },
  {
   "cell_type": "markdown",
   "metadata": {},
   "source": [
    "Последовательно вызовем функцию для тарифов каждого тарифа и каждого параметра (минуты/сообщения/интернет-трафик).\n",
    "Для этого при помощи метода *query()* отфильтруем таблицу `costs` по тарифу и далее выберем нужную колонку с параметром.\n",
    "\n",
    "#### Распределение минут, использованных в месяц"
   ]
  },
  {
   "cell_type": "code",
   "execution_count": 30,
   "metadata": {},
   "outputs": [
    {
     "data": {
      "image/png": "[encoded data removed]",
      "text/plain": [
       "<Figure size 864x864 with 2 Axes>"
      ]
     },
     "metadata": {},
     "output_type": "display_data"
    }
   ],
   "source": [
    "# построение графиков для тарифа Смарт и колонке с длительностью звонков\n",
    "histogram_boxplot(costs.query('tariff == \"smart\"')['minutes'], title='Распределение минут для тарифа Смарт', bins=100)"
   ]
  },
  {
   "cell_type": "code",
   "execution_count": 31,
   "metadata": {},
   "outputs": [
    {
     "data": {
      "image/png": "[encoded data removed]",
      "text/plain": [
       "<Figure size 864x864 with 2 Axes>"
      ]
     },
     "metadata": {},
     "output_type": "display_data"
    }
   ],
   "source": [
    "# построение графиков для тарифа Ультра и колонке с длительностью звонков\n",
    "histogram_boxplot(costs.query('tariff == \"ultra\"')['minutes'], title='Распределение минут для тарифа Ультра', bins=100)"
   ]
  },
  {
   "cell_type": "markdown",
   "metadata": {},
   "source": [
    "#### Выводы распределения минут, использованных в месяц\n",
    "1. Гистограмма для каждого тарифа имеет вид нормального распределения.\n",
    "2. Пик гистограммы и медиана для тарифа Смарт находятся меньше значения 500, для тарифа Ультра - больше 500.\n",
    "3. Выбросы для тарифа Смарт находятся свыше значения (примерно) 950, для тарифа Ультра - примерно 1400."
   ]
  },
  {
   "cell_type": "markdown",
   "metadata": {},
   "source": [
    "#### Распределение для сообщений, использованных в месяц"
   ]
  },
  {
   "cell_type": "code",
   "execution_count": 32,
   "metadata": {},
   "outputs": [
    {
     "data": {
      "image/png": "[encoded data removed]",
      "text/plain": [
       "<Figure size 864x864 with 2 Axes>"
      ]
     },
     "metadata": {},
     "output_type": "display_data"
    }
   ],
   "source": [
    "# построение графиков для тарифа Смарт и колонке с количеством сообщений\n",
    "histogram_boxplot(costs.query('tariff == \"smart\"')['messages'], title='Распределение сообщений для тарифа Смарт', bins=50)"
   ]
  },
  {
   "cell_type": "code",
   "execution_count": 33,
   "metadata": {},
   "outputs": [
    {
     "data": {
      "image/png": "[encoded data removed]",
      "text/plain": [
       "<Figure size 864x864 with 2 Axes>"
      ]
     },
     "metadata": {},
     "output_type": "display_data"
    }
   ],
   "source": [
    "# построение графиков для тарифа Ультра и колонке с количеством сообщений\n",
    "histogram_boxplot(costs.query('tariff == \"ultra\"')['messages'], title='Распределение сообщений для тарифа Ультра', bins=50)"
   ]
  },
  {
   "cell_type": "markdown",
   "metadata": {},
   "source": [
    "#### Выводы распределения сообщений, использованных в месяц\n",
    "1. Гистограммы для каждого тарифа имеет вид распределения Пуассона.\n",
    "2. Пик гистограммы для тарифа Смарт находится примерно на уровне 20, для тарифа Ультра - самый высокий пик около 0.\n",
    "3. Медиана для тарифа Смарт находится около 30, для тарифа Ультра - около 55.\n",
    "4. Выбросы для тарифа Смарт свыше значения 115, для тарифа Ультра - свыше 180.\n",
    "\n",
    "#### Распределение для интернет-трафика, использованных в месяц"
   ]
  },
  {
   "cell_type": "code",
   "execution_count": 34,
   "metadata": {},
   "outputs": [
    {
     "data": {
      "image/png": "[encoded data removed]",
      "text/plain": [
       "<Figure size 864x864 with 2 Axes>"
      ]
     },
     "metadata": {},
     "output_type": "display_data"
    }
   ],
   "source": [
    "# построение графиков для тарифа Смарт и колонке с количеством использованного интернет-трафика\n",
    "histogram_boxplot(costs.query('tariff == \"smart\"')['gb_used'], title='Распределение интернет-трафика для тарифа Смарт', bins=20)"
   ]
  },
  {
   "cell_type": "code",
   "execution_count": 35,
   "metadata": {},
   "outputs": [
    {
     "data": {
      "image/png": "[encoded data removed]",
      "text/plain": [
       "<Figure size 864x864 with 2 Axes>"
      ]
     },
     "metadata": {},
     "output_type": "display_data"
    }
   ],
   "source": [
    "# построение графиков для тарифа Ультра и колонке с количеством использованного интернет трафика\n",
    "histogram_boxplot(costs.query('tariff == \"ultra\"')['gb_used'], title='Распределение интернет-трафика для тарифа Ультра', bins=20)"
   ]
  },
  {
   "cell_type": "markdown",
   "metadata": {},
   "source": [
    "#### Выводы распределения интернет-трафика, использованного в месяц\n",
    "\n",
    "1. Обе гистограммы имеют вид нормального распределения.\n",
    "2. Пик и медиана для тарифа Смарт находятся на уровне 16-17 гб, для тарифа Ультра - 18-19.\n",
    "3. Выбросы для тарифа Смарт находятся ниже значения ~3 и выше значения 30. Для тарифа Ультра выбросы отсутствуют.\n",
    "\n",
    "#### Анализ выручки компании в зависимости от тарифа"
   ]
  },
  {
   "cell_type": "code",
   "execution_count": 36,
   "metadata": {},
   "outputs": [
    {
     "data": {
      "image/png": "[encoded data removed]",
      "text/plain": [
       "<Figure size 864x864 with 2 Axes>"
      ]
     },
     "metadata": {},
     "output_type": "display_data"
    },
    {
     "data": {
      "text/plain": [
       "count    2223.000000\n",
       "mean     1290.891138\n",
       "std       819.119853\n",
       "min       550.000000\n",
       "25%       550.000000\n",
       "50%      1030.000000\n",
       "75%      1750.000000\n",
       "max      6770.000000\n",
       "Name: full_revenue_month, dtype: float64"
      ]
     },
     "execution_count": 36,
     "metadata": {},
     "output_type": "execute_result"
    }
   ],
   "source": [
    "# построение графиков для тарифа Смарт и колонке с выручкой компании за месяц\n",
    "histogram_boxplot(costs.query('tariff == \"smart\"')['full_revenue_month'], title='Распределение выручки для тарифа Смарт', bins=20)\n",
    "# вызов метода describe() для оценки данных в колонке с выручкой по тарифу Смарт\n",
    "costs.query('tariff == \"smart\"')['full_revenue_month'].describe() "
   ]
  },
  {
   "cell_type": "code",
   "execution_count": 37,
   "metadata": {},
   "outputs": [
    {
     "data": {
      "image/png": "[encoded data removed]",
      "text/plain": [
       "<Figure size 864x864 with 2 Axes>"
      ]
     },
     "metadata": {},
     "output_type": "display_data"
    },
    {
     "data": {
      "text/plain": [
       "count     951.000000\n",
       "mean     2070.977918\n",
       "std       379.423372\n",
       "min      1950.000000\n",
       "25%      1950.000000\n",
       "50%      1950.000000\n",
       "75%      1950.000000\n",
       "max      4800.000000\n",
       "Name: full_revenue_month, dtype: float64"
      ]
     },
     "execution_count": 37,
     "metadata": {},
     "output_type": "execute_result"
    }
   ],
   "source": [
    "# построение графиков для тарифа Ультра и колонке с выручкой компании за месяц\n",
    "histogram_boxplot(costs.query('tariff == \"ultra\"')['full_revenue_month'], title='Распределение выручки для тарифа Ультра', bins=20)\n",
    "# вызов метода describe() для оценки данных в колонке с выручкой по тарифу Ультра\n",
    "costs.query('tariff == \"ultra\"')['full_revenue_month'].describe()"
   ]
  },
  {
   "cell_type": "markdown",
   "metadata": {},
   "source": [
    "#### Выводы анализа выручки\n",
    "\n",
    "1. Пиковое значение находится ориентировочно на уровне 500-700. Медианное значение находится на уровне 1030, а среднее на уровне 1290. Выбросами являются значения свыше 3500.\n",
    "2. Распределение выручки для тарифа Ультра не похоже ни на одно распределение. Пиковое значение находится на уровне 2000. Медианное значение равно 1950, аналогично границам первого и третого квартилей. Среднее значение равно 2070. Выбросами являются значения выше 1950."
   ]
  },
  {
   "cell_type": "markdown",
   "metadata": {},
   "source": [
    "### Вывод о поведении клиентов\n",
    "\n",
    "1. Тариф Смарт:\n",
    "    - Медианное значение выручки компании за месяц с одного пользователя выше стоимости тарифа, следовательно, пользователи тарифа Смарт достаточно часто выходят за пределы бесплатного лимита по параметрам.\n",
    "    - Чаще остальных параметров пользователи выходят за границы бесплатного лимита по использованному интернет-трафику (его среднее значение выше бесплатного лимита). \n",
    "    - По параметрам использованных минут и количества сообщений в среднем пользователи укладываются в бесплатный лимит. Но в данных также имеются выбросы, а верхние границы интервалов, в которые попадают 99% всех значений значительно выше бесплатных лимитов.\n",
    "2. Тариф Ультра:\n",
    "    - Медианное значение выручки компании за месяц с одного пользователя равно стоимости тарифа. Это говорит о том, что пользователям тарифа Ультра чаще хватает бесплатного лимита по сообщениям, минута и интернет-трафику.\n",
    "    - Средние значения по всем параметрам ниже бесплатного лимита. Однако, в данных также имеются выбросы, поэтому среднее значение выборки выше медианного. Также значение среднего выручки выше медианного свидетельствует о том, что некоторые пользователи все-таки превышают бесплатный лимит по параметрам, но их количество мало.\n",
    "    - Верхние границы интервалов, в которые попадают 99% всех данных для параметров потраченных минут и количества сообщений, также не превышают бесплатного лимита для данного тарифа по этим параметрам. Верхняя граница такого интервала для использованного интернет-трафика выше бесплатного лимита, следовательно, пользователям тарифа Ультра чаще не хватает именно количества гигабайтов.\n",
    "3. Общие выводы:\n",
    "    - Реже всего пользователи используют сообщения, об этом свидетельствуют распределения Пуассона и высокие пики в близких к 0 значениях.\n",
    "    - Наиболее востребованным у пользователей является интернет-трафик.\n"
   ]
  },
  {
   "cell_type": "markdown",
   "metadata": {},
   "source": [
    "## Проверка гипотез\n",
    "### Проверка гипотезы №1\n",
    "\n",
    "Проверим гипотезу, что средняя выручка за месяц пользователей тарифов «Ультра» и «Смарт».\n",
    "\n",
    "В нашем случае мы имеем выборку из генеральной совокупности пользователей по двум тарифом. Данную выборку разделить на две: пользователей тарифом Смарт и пользователей тарифом Ультра. Две эти выборки являются независимыми, поскольку между ними отсутствуют связь, при которой можно было бы установить гоморфную пару.\n",
    "\n",
    "Воспользуемся специальным методом для проверки гипотезы о равенстве среднего двух генеральных совокупностей по взятым из них выборкам: *scipy.stats.ttest_ind (array1, array2,equal_var)*. В качестве аргументов `array1` и `array2` будем передавать отфильтрованные по тарифам данные колонки `full_revenue_month`. Поскольку размеры выборок неодинаковы, в качестве аргумента `equal_var` передадим False.\n",
    "\n",
    "В качестве нулевой гипотезы (Н0) для статистического теста используем гипотезу о равенстве средней выручки для тарифов Смарт и Ультра."
   ]
  },
  {
   "cell_type": "code",
   "execution_count": 38,
   "metadata": {},
   "outputs": [
    {
     "name": "stdout",
     "output_type": "stream",
     "text": [
      "p-значение:  3.155173205867294e-245\n",
      "Отвергаем нулевую гипотезу\n"
     ]
    }
   ],
   "source": [
    "alpha = .05 # критический уровень статистической значимости\n",
    "# если p-value окажется меньше него - отвегнем гипотезу\n",
    "\n",
    "results = st.ttest_ind(\n",
    "    costs.query('tariff == \"smart\"')['full_revenue_month'], \n",
    "    costs.query('tariff == \"ultra\"')['full_revenue_month'],\n",
    "    equal_var=False)\n",
    "\n",
    "print('p-значение: ', results.pvalue)\n",
    "\n",
    "if results.pvalue < alpha:\n",
    "    print(\"Отвергаем нулевую гипотезу\")\n",
    "else:\n",
    "    print(\"Не получилось отвергнуть нулевую гипотезу\") "
   ]
  },
  {
   "cell_type": "markdown",
   "metadata": {},
   "source": [
    "Отвергая гипотезу о равенстве среднего двух генеральных совокупностей по взятым из них выборкам, можно утвержать, что эти средние различаются. Гипотеза №1 подтвердилась."
   ]
  },
  {
   "cell_type": "markdown",
   "metadata": {},
   "source": [
    "### Проверка гипотезы №2\n",
    "\n",
    "Проверим гипотезу, что средняя выручка за месяц пользователей из Москвы отличается от выручки пользователей из других регионов.\n",
    "\n",
    "Проведем аналогичный статистический тест при помощи метода *scipy.stats.ttest_ind (array1, array2,equal_var)* для каждого тарифа в отдельности. В этот раз в качестве фильтра будем использовать не только тариф, но и город проживания пользователя. В данном случае мы не рассчитывали дисперсию, соответственно, оставляем аргумент `equal_var` по умолчанию равным *True*.\n",
    "\n",
    "В качестве нулевой гипотезы (Н0) будем использовать гипотезу о равенстве средней выручки для пользователей из Москвы и других регионов."
   ]
  },
  {
   "cell_type": "code",
   "execution_count": 39,
   "metadata": {},
   "outputs": [
    {
     "name": "stdout",
     "output_type": "stream",
     "text": [
      "p-значение:  0.17397176890906563\n",
      "Не получилось отвергнуть нулевую гипотезу\n"
     ]
    }
   ],
   "source": [
    "# статистический тест для тарифа Смарт и пользователей из Москвы и других регионов\n",
    "\n",
    "alpha = .05 # критический уровень статистической значимости\n",
    "# если p-value окажется меньше него - отвегнем гипотезу\n",
    "\n",
    "results = st.ttest_ind(\n",
    "    costs.query('tariff == \"smart\" and city == \"Москва\"')['full_revenue_month'], \n",
    "    costs.query('tariff == \"smart\" and city != \"Москва\"')['full_revenue_month'])\n",
    "\n",
    "print('p-значение: ', results.pvalue)\n",
    "\n",
    "if results.pvalue < alpha:\n",
    "    print(\"Отвергаем нулевую гипотезу\")\n",
    "else:\n",
    "    print(\"Не получилось отвергнуть нулевую гипотезу\") "
   ]
  },
  {
   "cell_type": "markdown",
   "metadata": {},
   "source": [
    "Полученное значение p-value говорит о том, что вероятность получить такое или большее различие случайно более 17%. Это явно слишком большая вероятность, чтобы делать вывод о значимом различии между выручками в Москве и других городах для тарифа Смарт. Нулевая гипотеза подтвердилась, следовательно, вторая гипотеза об отличии выручки для пользователей из Москвы и других регионов для тарифа Смарт не подтвердилась.\n",
    "\n",
    "Проверим вторую гипотезу для тарифа Ультра аналогичным образом."
   ]
  },
  {
   "cell_type": "code",
   "execution_count": 40,
   "metadata": {},
   "outputs": [
    {
     "name": "stdout",
     "output_type": "stream",
     "text": [
      "p-значение:  0.8719437051466759\n",
      "Не получилось отвергнуть нулевую гипотезу\n"
     ]
    }
   ],
   "source": [
    "# статистический тест для тарифа Ультра и пользователей из Москвы и других регионов\n",
    "\n",
    "alpha = .05 # критический уровень статистической значимости\n",
    "# если p-value окажется меньше него - отвегнем гипотезу\n",
    "\n",
    "results = st.ttest_ind(\n",
    "    costs.query('tariff == \"ultra\" and city == \"Москва\"')['full_revenue_month'], \n",
    "    costs.query('tariff == \"ultra\" and city != \"Москва\"')['full_revenue_month'])\n",
    "\n",
    "print('p-значение: ', results.pvalue)\n",
    "\n",
    "if results.pvalue < alpha:\n",
    "    print(\"Отвергаем нулевую гипотезу\")\n",
    "else:\n",
    "    print(\"Не получилось отвергнуть нулевую гипотезу\") "
   ]
  },
  {
   "cell_type": "markdown",
   "metadata": {},
   "source": [
    "Вероятность получить такое или большее различие случайно более 87%. Это явно слишком большая вероятность, чтобы делать вывод о значимом различии между выручками в Москве и других городах для тарифа Ультра. Нулевая гипотеза подтвердилась, следовательно, вторая гипотеза об отличии выручки для пользователей из Москвы и других регионов для тарифа Ультра тоже не подтвердилась."
   ]
  },
  {
   "cell_type": "markdown",
   "metadata": {},
   "source": [
    "## Выводы\n",
    "\n",
    "В ходе предварительного анализа тарифов на небольшой выборке клиентов в размере 500 пользователей. \n",
    "\n",
    "* На первом этапе данные были прочитаны из файлов и изучены на содержание пропусков, дубликатов и ошибок. \n",
    "\n",
    "* На втором этапе данные были обработаны:\n",
    "    - была удалена колонка в таблице `internet_data`, которая дублирует значения индексов таблицы.\n",
    "    - было произведено изменение типов данных: колонки с датами были переведены в формат *datetime*, в некоторых колонках значения переведены в формат *int*.\n",
    "    - в таблицах с информацией о звонках, сообщениях и интернет-трафике из даты были вычленены данные о месяце совершения действия.\n",
    "    - был создан словарь пользователей, в котором сохранена информация об уникальной идентификаторе пользователя, фамилии и имени пользователя, даты регистрации и даты отключения тарифа.\n",
    "    - в общую таблицу с данными о пользователях была добавлена информация о тарифном плане.\n",
    "    \n",
    "* На третьем этапе была расчитана выручка компании за каждый месяц по каждому пользователю:\n",
    "    - были созданы сводные таблицы по каждому параметру (минуты, сообщения, интернет-трафик), сгруппированные по идентификатору пользователя и месяцам.\n",
    "    - далее таблицы были объеденены между собой и с общей таблицей о пользователях.\n",
    "    - при помощи функции и метода *apply()* был создан столбец, в котором рассчитана выручка компании по месяцам для каждого пользователя.\n",
    "    \n",
    "* На четвертом этапе было проанализировано поведение клиентов для каждого тарифа.\n",
    "    - Большую ежемесячныю выручку приносит тариф Ультра за счет стоимости тарифного плана. Пользователи данного тарифа зачастую не используют по максимуму бесплатный лимит для минут, сообщений и интернет-трафика. Возможно, стоит уменьшить бесплатный лимит и ежемесячную плату за тариф, повысив при этом стоимость использования дополнительных минут, сообщений и гигабайт.\n",
    "    - Пользователи тарифа Смарт нередко превышают бесплатный лимит, но все равно данных тариф в среднем обходится пользователям дешевле, чем тариф Ультра.\n",
    "    - Наименее востребованными для пользователей являются сообщения, а наиболее востребованным - интернет-трафик. Возможно, стоит увеличить бесплатный лимит по интернет-трафику и уменьшить по сообщениям - это может привести к притоку новых пользователей для компании.\n",
    "    \n",
    "* На пятом этапе были проверены гипотезы:\n",
    "    - Гипотеза о различии средней выручки за месяц тарифов Смарт и Ультра подтвердилась. Наибольшую выручку, исходя из средних значений и стандартных отклонений, приносит тариф Ультра. На него стоит делать больший уклон в рекламной кампании.\n",
    "    - Гипотеза о различии средней выручки для пользователей из Москвы и других регионов не подтвердилась как для тарифа Смарт, так и для тарифа Ультра. Рекламную кампанию можно не диверсифицировать относительно города проживания пользователя."
   ]
  }
 ],
 "metadata": {
  "ExecuteTimeLog": [
   {
    "duration": 795,
    "start_time": "2022-01-04T16:42:37.649Z"
   },
   {
    "duration": 55,
    "start_time": "2022-01-04T16:47:23.010Z"
   },
   {
    "duration": 517,
    "start_time": "2022-01-04T16:49:54.322Z"
   },
   {
    "duration": 552,
    "start_time": "2022-01-04T16:53:19.421Z"
   },
   {
    "duration": 559,
    "start_time": "2022-01-04T16:53:30.404Z"
   },
   {
    "duration": 173,
    "start_time": "2022-01-04T16:53:34.893Z"
   },
   {
    "duration": 245,
    "start_time": "2022-01-04T16:55:35.051Z"
   },
   {
    "duration": 158,
    "start_time": "2022-01-04T16:56:58.929Z"
   },
   {
    "duration": 283,
    "start_time": "2022-01-04T16:57:10.876Z"
   },
   {
    "duration": 266,
    "start_time": "2022-01-04T16:57:44.854Z"
   },
   {
    "duration": 253,
    "start_time": "2022-01-04T16:57:53.462Z"
   },
   {
    "duration": 264,
    "start_time": "2022-01-04T16:58:03.033Z"
   },
   {
    "duration": 257,
    "start_time": "2022-01-04T16:58:45.041Z"
   },
   {
    "duration": 286,
    "start_time": "2022-01-04T16:59:13.837Z"
   },
   {
    "duration": 484,
    "start_time": "2022-01-04T16:59:24.177Z"
   },
   {
    "duration": 250,
    "start_time": "2022-01-04T16:59:54.612Z"
   },
   {
    "duration": 252,
    "start_time": "2022-01-04T17:01:37.987Z"
   },
   {
    "duration": 428,
    "start_time": "2022-01-04T17:12:44.670Z"
   },
   {
    "duration": 385,
    "start_time": "2022-01-04T17:12:48.539Z"
   },
   {
    "duration": 535,
    "start_time": "2022-01-04T17:12:53.820Z"
   },
   {
    "duration": 417,
    "start_time": "2022-01-04T17:12:55.338Z"
   },
   {
    "duration": 561,
    "start_time": "2022-01-04T17:13:03.707Z"
   },
   {
    "duration": 541,
    "start_time": "2022-01-04T17:13:41.253Z"
   },
   {
    "duration": 536,
    "start_time": "2022-01-04T17:14:01.578Z"
   },
   {
    "duration": 552,
    "start_time": "2022-01-04T17:14:23.712Z"
   },
   {
    "duration": 307,
    "start_time": "2022-01-04T17:56:48.552Z"
   },
   {
    "duration": 294,
    "start_time": "2022-01-04T17:57:41.660Z"
   },
   {
    "duration": 319,
    "start_time": "2022-01-04T17:57:57.070Z"
   },
   {
    "duration": 364,
    "start_time": "2022-01-04T18:09:08.042Z"
   },
   {
    "duration": 387,
    "start_time": "2022-01-04T18:09:54.769Z"
   },
   {
    "duration": 285,
    "start_time": "2022-01-04T18:10:15.666Z"
   },
   {
    "duration": 244,
    "start_time": "2022-01-04T18:31:11.966Z"
   },
   {
    "duration": 4,
    "start_time": "2022-01-04T19:38:50.800Z"
   },
   {
    "duration": 7,
    "start_time": "2022-01-04T19:39:42.330Z"
   },
   {
    "duration": 14,
    "start_time": "2022-01-04T19:39:56.936Z"
   },
   {
    "duration": 23,
    "start_time": "2022-01-04T19:41:46.692Z"
   },
   {
    "duration": 15,
    "start_time": "2022-01-04T19:42:14.528Z"
   },
   {
    "duration": 20,
    "start_time": "2022-01-04T19:42:23.388Z"
   },
   {
    "duration": 30,
    "start_time": "2022-01-04T19:42:31.071Z"
   },
   {
    "duration": 561,
    "start_time": "2022-01-04T19:48:53.632Z"
   },
   {
    "duration": 407,
    "start_time": "2022-01-04T19:48:56.961Z"
   },
   {
    "duration": 375,
    "start_time": "2022-01-04T19:48:59.421Z"
   },
   {
    "duration": 373,
    "start_time": "2022-01-04T19:49:02.861Z"
   },
   {
    "duration": 471,
    "start_time": "2022-01-04T19:49:35.826Z"
   },
   {
    "duration": 425,
    "start_time": "2022-01-04T19:50:25.866Z"
   },
   {
    "duration": 411,
    "start_time": "2022-01-04T19:51:09.444Z"
   },
   {
    "duration": 5,
    "start_time": "2022-01-04T19:51:37.538Z"
   },
   {
    "duration": 4,
    "start_time": "2022-01-04T19:51:50.075Z"
   },
   {
    "duration": 769,
    "start_time": "2022-01-04T19:51:50.081Z"
   },
   {
    "duration": 574,
    "start_time": "2022-01-04T19:51:50.854Z"
   },
   {
    "duration": 6,
    "start_time": "2022-01-04T19:52:01.505Z"
   },
   {
    "duration": 17,
    "start_time": "2022-01-04T19:52:14.898Z"
   },
   {
    "duration": 10488,
    "start_time": "2022-01-04T19:53:55.874Z"
   },
   {
    "duration": 3,
    "start_time": "2022-01-04T19:54:35.042Z"
   },
   {
    "duration": 533,
    "start_time": "2022-01-04T19:54:35.048Z"
   },
   {
    "duration": 530,
    "start_time": "2022-01-04T19:54:35.584Z"
   },
   {
    "duration": 13,
    "start_time": "2022-01-04T19:54:36.116Z"
   },
   {
    "duration": 4,
    "start_time": "2022-01-04T19:54:38.503Z"
   },
   {
    "duration": 10600,
    "start_time": "2022-01-04T19:54:41.383Z"
   },
   {
    "duration": 376,
    "start_time": "2022-01-04T19:57:59.047Z"
   },
   {
    "duration": 415,
    "start_time": "2022-01-04T19:58:11.003Z"
   },
   {
    "duration": 372,
    "start_time": "2022-01-04T19:58:17.195Z"
   },
   {
    "duration": 4,
    "start_time": "2022-01-04T20:00:04.410Z"
   },
   {
    "duration": 15,
    "start_time": "2022-01-04T20:01:17.393Z"
   },
   {
    "duration": 84,
    "start_time": "2022-01-04T20:03:50.721Z"
   },
   {
    "duration": 4,
    "start_time": "2022-01-04T20:16:39.432Z"
   },
   {
    "duration": 753,
    "start_time": "2022-01-04T20:17:06.974Z"
   },
   {
    "duration": 547,
    "start_time": "2022-01-04T20:17:07.730Z"
   },
   {
    "duration": 534,
    "start_time": "2022-01-04T20:17:08.281Z"
   },
   {
    "duration": 14,
    "start_time": "2022-01-04T20:17:08.818Z"
   },
   {
    "duration": 25,
    "start_time": "2022-01-04T20:17:08.835Z"
   },
   {
    "duration": 19,
    "start_time": "2022-01-04T20:17:08.863Z"
   },
   {
    "duration": 116,
    "start_time": "2022-01-04T20:17:08.885Z"
   },
   {
    "duration": 7,
    "start_time": "2022-01-04T20:18:34.122Z"
   },
   {
    "duration": 16,
    "start_time": "2022-01-04T20:19:31.006Z"
   },
   {
    "duration": 3,
    "start_time": "2022-01-04T20:45:16.126Z"
   },
   {
    "duration": 484,
    "start_time": "2022-01-04T20:46:00.353Z"
   },
   {
    "duration": 33,
    "start_time": "2022-01-04T20:46:15.917Z"
   },
   {
    "duration": 13,
    "start_time": "2022-01-04T20:46:42.009Z"
   },
   {
    "duration": 4,
    "start_time": "2022-01-04T20:47:23.954Z"
   },
   {
    "duration": 33,
    "start_time": "2022-01-04T20:47:26.085Z"
   },
   {
    "duration": 14,
    "start_time": "2022-01-04T20:47:26.783Z"
   },
   {
    "duration": 37,
    "start_time": "2022-01-04T20:55:44.948Z"
   },
   {
    "duration": 4,
    "start_time": "2022-01-04T20:56:31.761Z"
   },
   {
    "duration": 4,
    "start_time": "2022-01-04T20:56:57.943Z"
   },
   {
    "duration": 787,
    "start_time": "2022-01-04T20:58:04.701Z"
   },
   {
    "duration": 4,
    "start_time": "2022-01-04T20:58:54.842Z"
   },
   {
    "duration": 23,
    "start_time": "2022-01-04T20:58:56.376Z"
   },
   {
    "duration": 27,
    "start_time": "2022-01-04T20:59:23.271Z"
   },
   {
    "duration": 7,
    "start_time": "2022-01-04T20:59:46.628Z"
   },
   {
    "duration": 8,
    "start_time": "2022-01-04T21:00:03.571Z"
   },
   {
    "duration": 4,
    "start_time": "2022-01-04T21:00:31.740Z"
   },
   {
    "duration": 538,
    "start_time": "2022-01-04T21:00:31.747Z"
   },
   {
    "duration": 513,
    "start_time": "2022-01-04T21:00:32.289Z"
   },
   {
    "duration": 13,
    "start_time": "2022-01-04T21:00:32.805Z"
   },
   {
    "duration": 5,
    "start_time": "2022-01-04T21:00:32.820Z"
   },
   {
    "duration": 44,
    "start_time": "2022-01-04T21:00:32.827Z"
   },
   {
    "duration": 101,
    "start_time": "2022-01-04T21:00:32.875Z"
   },
   {
    "duration": 4,
    "start_time": "2022-01-04T21:00:32.979Z"
   },
   {
    "duration": 33,
    "start_time": "2022-01-04T21:00:32.985Z"
   },
   {
    "duration": 14,
    "start_time": "2022-01-04T21:00:33.020Z"
   },
   {
    "duration": 15,
    "start_time": "2022-01-04T21:00:33.060Z"
   },
   {
    "duration": 10,
    "start_time": "2022-01-04T21:06:00.307Z"
   },
   {
    "duration": 20,
    "start_time": "2022-01-04T21:07:20.779Z"
   },
   {
    "duration": 4,
    "start_time": "2022-01-04T21:07:39.291Z"
   },
   {
    "duration": 535,
    "start_time": "2022-01-04T21:07:39.298Z"
   },
   {
    "duration": 510,
    "start_time": "2022-01-04T21:07:39.836Z"
   },
   {
    "duration": 14,
    "start_time": "2022-01-04T21:07:40.360Z"
   },
   {
    "duration": 20,
    "start_time": "2022-01-04T21:07:40.376Z"
   },
   {
    "duration": 3,
    "start_time": "2022-01-04T21:07:40.398Z"
   },
   {
    "duration": 16,
    "start_time": "2022-01-04T21:07:40.404Z"
   },
   {
    "duration": 119,
    "start_time": "2022-01-04T21:07:40.423Z"
   },
   {
    "duration": 14,
    "start_time": "2022-01-04T21:07:40.545Z"
   },
   {
    "duration": 31,
    "start_time": "2022-01-04T21:07:40.561Z"
   },
   {
    "duration": 13,
    "start_time": "2022-01-04T21:07:40.594Z"
   },
   {
    "duration": 19,
    "start_time": "2022-01-04T21:07:40.609Z"
   },
   {
    "duration": 4,
    "start_time": "2022-01-04T21:08:42.806Z"
   },
   {
    "duration": 4,
    "start_time": "2022-01-04T21:09:57.228Z"
   },
   {
    "duration": 42,
    "start_time": "2022-01-04T21:11:33.057Z"
   },
   {
    "duration": 4,
    "start_time": "2022-01-04T21:16:29.196Z"
   },
   {
    "duration": 4,
    "start_time": "2022-01-04T21:17:22.503Z"
   },
   {
    "duration": 42,
    "start_time": "2022-01-04T21:17:43.617Z"
   },
   {
    "duration": 384,
    "start_time": "2022-01-04T21:18:51.345Z"
   },
   {
    "duration": 42,
    "start_time": "2022-01-04T21:19:04.399Z"
   },
   {
    "duration": 780,
    "start_time": "2022-01-04T21:19:31.080Z"
   },
   {
    "duration": 546,
    "start_time": "2022-01-04T21:19:31.862Z"
   },
   {
    "duration": 535,
    "start_time": "2022-01-04T21:19:32.411Z"
   },
   {
    "duration": 14,
    "start_time": "2022-01-04T21:19:32.960Z"
   },
   {
    "duration": 19,
    "start_time": "2022-01-04T21:19:32.977Z"
   },
   {
    "duration": 4,
    "start_time": "2022-01-04T21:19:32.998Z"
   },
   {
    "duration": 16,
    "start_time": "2022-01-04T21:19:33.004Z"
   },
   {
    "duration": 103,
    "start_time": "2022-01-04T21:19:33.058Z"
   },
   {
    "duration": 4,
    "start_time": "2022-01-04T21:19:33.164Z"
   },
   {
    "duration": 52,
    "start_time": "2022-01-04T21:19:33.170Z"
   },
   {
    "duration": 64,
    "start_time": "2022-01-04T21:19:33.224Z"
   },
   {
    "duration": 16,
    "start_time": "2022-01-04T21:19:33.290Z"
   },
   {
    "duration": 932,
    "start_time": "2022-01-04T21:37:40.197Z"
   },
   {
    "duration": 11197,
    "start_time": "2022-01-04T21:38:09.096Z"
   },
   {
    "duration": 12,
    "start_time": "2022-01-04T21:38:34.509Z"
   },
   {
    "duration": 21,
    "start_time": "2022-01-04T21:40:04.265Z"
   },
   {
    "duration": 7,
    "start_time": "2022-01-04T21:42:05.803Z"
   },
   {
    "duration": 374,
    "start_time": "2022-01-04T21:45:41.534Z"
   },
   {
    "duration": 364,
    "start_time": "2022-01-04T21:45:45.601Z"
   },
   {
    "duration": 127,
    "start_time": "2022-01-04T21:45:49.847Z"
   },
   {
    "duration": 59,
    "start_time": "2022-01-04T21:50:32.211Z"
   },
   {
    "duration": 38,
    "start_time": "2022-01-04T21:50:57.180Z"
   },
   {
    "duration": 41,
    "start_time": "2022-01-04T21:56:04.043Z"
   },
   {
    "duration": 58,
    "start_time": "2022-01-04T21:56:14.772Z"
   },
   {
    "duration": 59,
    "start_time": "2022-01-04T22:00:15.478Z"
   },
   {
    "duration": 58,
    "start_time": "2022-01-04T22:00:25.785Z"
   },
   {
    "duration": 60,
    "start_time": "2022-01-04T22:00:40.003Z"
   },
   {
    "duration": 394,
    "start_time": "2022-01-04T22:31:57.620Z"
   },
   {
    "duration": 127,
    "start_time": "2022-01-04T22:32:35.047Z"
   },
   {
    "duration": 61,
    "start_time": "2022-01-04T22:32:42.548Z"
   },
   {
    "duration": 385,
    "start_time": "2022-01-04T22:33:44.204Z"
   },
   {
    "duration": 62,
    "start_time": "2022-01-04T22:33:59.791Z"
   },
   {
    "duration": 49,
    "start_time": "2022-01-04T22:38:45.547Z"
   },
   {
    "duration": 12,
    "start_time": "2022-01-04T22:54:21.686Z"
   },
   {
    "duration": 5,
    "start_time": "2022-01-04T22:54:42.244Z"
   },
   {
    "duration": 4,
    "start_time": "2022-01-04T22:54:51.570Z"
   },
   {
    "duration": 30,
    "start_time": "2022-01-04T23:00:06.258Z"
   },
   {
    "duration": 14,
    "start_time": "2022-01-04T23:00:26.047Z"
   },
   {
    "duration": 23,
    "start_time": "2022-01-04T23:02:01.711Z"
   },
   {
    "duration": 381,
    "start_time": "2022-01-04T23:10:31.225Z"
   },
   {
    "duration": 6,
    "start_time": "2022-01-04T23:10:39.373Z"
   },
   {
    "duration": 10988,
    "start_time": "2022-01-04T23:10:45.975Z"
   },
   {
    "duration": 5,
    "start_time": "2022-01-04T23:16:51.388Z"
   },
   {
    "duration": 738,
    "start_time": "2022-01-04T23:47:19.006Z"
   },
   {
    "duration": 827,
    "start_time": "2022-01-04T23:47:19.747Z"
   },
   {
    "duration": 554,
    "start_time": "2022-01-04T23:47:20.577Z"
   },
   {
    "duration": 32,
    "start_time": "2022-01-04T23:47:21.134Z"
   },
   {
    "duration": 20,
    "start_time": "2022-01-04T23:47:21.168Z"
   },
   {
    "duration": 4,
    "start_time": "2022-01-04T23:47:21.191Z"
   },
   {
    "duration": 15,
    "start_time": "2022-01-04T23:47:21.198Z"
   },
   {
    "duration": 131,
    "start_time": "2022-01-04T23:47:21.217Z"
   },
   {
    "duration": 8,
    "start_time": "2022-01-04T23:47:21.351Z"
   },
   {
    "duration": 59,
    "start_time": "2022-01-04T23:47:21.362Z"
   },
   {
    "duration": 55,
    "start_time": "2022-01-04T23:47:21.424Z"
   },
   {
    "duration": 17,
    "start_time": "2022-01-04T23:47:21.481Z"
   },
   {
    "duration": 12,
    "start_time": "2022-01-04T23:47:21.500Z"
   },
   {
    "duration": 45,
    "start_time": "2022-01-04T23:47:21.514Z"
   },
   {
    "duration": 11,
    "start_time": "2022-01-04T23:47:21.561Z"
   },
   {
    "duration": 9,
    "start_time": "2022-01-04T23:47:21.574Z"
   },
   {
    "duration": 87,
    "start_time": "2022-01-04T23:47:21.585Z"
   },
   {
    "duration": 58,
    "start_time": "2022-01-04T23:47:21.674Z"
   },
   {
    "duration": 68,
    "start_time": "2022-01-04T23:47:21.735Z"
   },
   {
    "duration": 362,
    "start_time": "2022-01-07T14:12:43.138Z"
   },
   {
    "duration": 778,
    "start_time": "2022-01-07T14:12:50.880Z"
   },
   {
    "duration": 535,
    "start_time": "2022-01-07T14:12:51.660Z"
   },
   {
    "duration": 568,
    "start_time": "2022-01-07T14:12:52.198Z"
   },
   {
    "duration": 14,
    "start_time": "2022-01-07T14:12:52.769Z"
   },
   {
    "duration": 43,
    "start_time": "2022-01-07T14:12:52.785Z"
   },
   {
    "duration": 8,
    "start_time": "2022-01-07T14:12:52.831Z"
   },
   {
    "duration": 21,
    "start_time": "2022-01-07T14:12:52.841Z"
   },
   {
    "duration": 127,
    "start_time": "2022-01-07T14:12:52.866Z"
   },
   {
    "duration": 3,
    "start_time": "2022-01-07T14:12:52.996Z"
   },
   {
    "duration": 54,
    "start_time": "2022-01-07T14:12:53.002Z"
   },
   {
    "duration": 41,
    "start_time": "2022-01-07T14:12:53.059Z"
   },
   {
    "duration": 27,
    "start_time": "2022-01-07T14:12:53.102Z"
   },
   {
    "duration": 11,
    "start_time": "2022-01-07T14:12:53.132Z"
   },
   {
    "duration": 15,
    "start_time": "2022-01-07T14:12:53.146Z"
   },
   {
    "duration": 11,
    "start_time": "2022-01-07T14:12:53.163Z"
   },
   {
    "duration": 3,
    "start_time": "2022-01-07T14:12:53.218Z"
   },
   {
    "duration": 103,
    "start_time": "2022-01-07T14:12:53.223Z"
   },
   {
    "duration": 358,
    "start_time": "2022-01-07T14:12:55.201Z"
   },
   {
    "duration": 305,
    "start_time": "2022-01-07T14:13:14.976Z"
   },
   {
    "duration": 298,
    "start_time": "2022-01-07T14:20:16.982Z"
   },
   {
    "duration": 24,
    "start_time": "2022-01-07T14:20:40.420Z"
   },
   {
    "duration": 391,
    "start_time": "2022-01-07T14:21:03.800Z"
   },
   {
    "duration": 306,
    "start_time": "2022-01-07T14:21:08.216Z"
   },
   {
    "duration": 4,
    "start_time": "2022-01-07T14:21:17.849Z"
   },
   {
    "duration": 521,
    "start_time": "2022-01-07T14:21:17.856Z"
   },
   {
    "duration": 525,
    "start_time": "2022-01-07T14:21:18.379Z"
   },
   {
    "duration": 18,
    "start_time": "2022-01-07T14:21:18.907Z"
   },
   {
    "duration": 19,
    "start_time": "2022-01-07T14:21:18.927Z"
   },
   {
    "duration": 4,
    "start_time": "2022-01-07T14:21:18.949Z"
   },
   {
    "duration": 61,
    "start_time": "2022-01-07T14:21:18.956Z"
   },
   {
    "duration": 99,
    "start_time": "2022-01-07T14:21:19.022Z"
   },
   {
    "duration": 4,
    "start_time": "2022-01-07T14:21:19.124Z"
   },
   {
    "duration": 45,
    "start_time": "2022-01-07T14:21:19.131Z"
   },
   {
    "duration": 66,
    "start_time": "2022-01-07T14:21:19.179Z"
   },
   {
    "duration": 16,
    "start_time": "2022-01-07T14:21:19.248Z"
   },
   {
    "duration": 12,
    "start_time": "2022-01-07T14:21:19.267Z"
   },
   {
    "duration": 49,
    "start_time": "2022-01-07T14:21:19.281Z"
   },
   {
    "duration": 13,
    "start_time": "2022-01-07T14:21:19.332Z"
   },
   {
    "duration": 3,
    "start_time": "2022-01-07T14:21:19.347Z"
   },
   {
    "duration": 85,
    "start_time": "2022-01-07T14:21:19.353Z"
   },
   {
    "duration": 24,
    "start_time": "2022-01-07T14:21:19.441Z"
   },
   {
    "duration": 313,
    "start_time": "2022-01-07T14:21:31.182Z"
   },
   {
    "duration": 311,
    "start_time": "2022-01-07T14:21:42.430Z"
   },
   {
    "duration": 3,
    "start_time": "2022-01-07T14:21:51.169Z"
   },
   {
    "duration": 500,
    "start_time": "2022-01-07T14:21:51.175Z"
   },
   {
    "duration": 550,
    "start_time": "2022-01-07T14:21:51.678Z"
   },
   {
    "duration": 13,
    "start_time": "2022-01-07T14:21:52.231Z"
   },
   {
    "duration": 29,
    "start_time": "2022-01-07T14:21:52.247Z"
   },
   {
    "duration": 16,
    "start_time": "2022-01-07T14:21:52.279Z"
   },
   {
    "duration": 31,
    "start_time": "2022-01-07T14:21:52.299Z"
   },
   {
    "duration": 115,
    "start_time": "2022-01-07T14:21:52.334Z"
   },
   {
    "duration": 5,
    "start_time": "2022-01-07T14:21:52.452Z"
   },
   {
    "duration": 58,
    "start_time": "2022-01-07T14:21:52.460Z"
   },
   {
    "duration": 43,
    "start_time": "2022-01-07T14:21:52.521Z"
   },
   {
    "duration": 15,
    "start_time": "2022-01-07T14:21:52.567Z"
   },
   {
    "duration": 41,
    "start_time": "2022-01-07T14:21:52.585Z"
   },
   {
    "duration": 17,
    "start_time": "2022-01-07T14:21:52.628Z"
   },
   {
    "duration": 17,
    "start_time": "2022-01-07T14:21:52.647Z"
   },
   {
    "duration": 6,
    "start_time": "2022-01-07T14:21:52.667Z"
   },
   {
    "duration": 92,
    "start_time": "2022-01-07T14:21:52.675Z"
   },
   {
    "duration": 23,
    "start_time": "2022-01-07T14:21:55.024Z"
   },
   {
    "duration": 1254,
    "start_time": "2022-01-07T14:36:48.291Z"
   },
   {
    "duration": 1301,
    "start_time": "2022-01-07T14:44:36.695Z"
   },
   {
    "duration": 309,
    "start_time": "2022-01-07T14:45:03.863Z"
   },
   {
    "duration": 527,
    "start_time": "2022-01-07T14:47:11.719Z"
   },
   {
    "duration": 6468,
    "start_time": "2022-01-07T14:47:29.757Z"
   },
   {
    "duration": 21664,
    "start_time": "2022-01-07T14:48:12.168Z"
   },
   {
    "duration": 287,
    "start_time": "2022-01-07T14:49:28.967Z"
   },
   {
    "duration": 3,
    "start_time": "2022-01-07T14:50:05.051Z"
   },
   {
    "duration": 762,
    "start_time": "2022-01-07T22:07:01.922Z"
   },
   {
    "duration": 809,
    "start_time": "2022-01-07T22:07:08.041Z"
   },
   {
    "duration": 533,
    "start_time": "2022-01-07T22:07:08.852Z"
   },
   {
    "duration": 534,
    "start_time": "2022-01-07T22:07:09.388Z"
   },
   {
    "duration": 14,
    "start_time": "2022-01-07T22:07:09.925Z"
   },
   {
    "duration": 19,
    "start_time": "2022-01-07T22:07:09.959Z"
   },
   {
    "duration": 5,
    "start_time": "2022-01-07T22:07:09.981Z"
   },
   {
    "duration": 15,
    "start_time": "2022-01-07T22:07:09.988Z"
   },
   {
    "duration": 133,
    "start_time": "2022-01-07T22:07:10.006Z"
   },
   {
    "duration": 4,
    "start_time": "2022-01-07T22:07:10.142Z"
   },
   {
    "duration": 50,
    "start_time": "2022-01-07T22:07:10.148Z"
   },
   {
    "duration": 62,
    "start_time": "2022-01-07T22:07:10.200Z"
   },
   {
    "duration": 16,
    "start_time": "2022-01-07T22:07:10.264Z"
   },
   {
    "duration": 12,
    "start_time": "2022-01-07T22:07:10.282Z"
   },
   {
    "duration": 15,
    "start_time": "2022-01-07T22:07:10.297Z"
   },
   {
    "duration": 46,
    "start_time": "2022-01-07T22:07:10.315Z"
   },
   {
    "duration": 5,
    "start_time": "2022-01-07T22:07:10.363Z"
   },
   {
    "duration": 65,
    "start_time": "2022-01-07T22:07:10.370Z"
   },
   {
    "duration": 24,
    "start_time": "2022-01-07T22:07:10.459Z"
   },
   {
    "duration": 16,
    "start_time": "2022-01-07T22:07:14.107Z"
   },
   {
    "duration": 22,
    "start_time": "2022-01-07T22:07:31.975Z"
   },
   {
    "duration": 9,
    "start_time": "2022-01-07T22:08:28.011Z"
   },
   {
    "duration": 22,
    "start_time": "2022-01-07T22:08:30.102Z"
   },
   {
    "duration": 483,
    "start_time": "2022-01-07T22:11:00.737Z"
   },
   {
    "duration": 365,
    "start_time": "2022-01-07T22:18:55.545Z"
   },
   {
    "duration": 389,
    "start_time": "2022-01-07T22:19:04.016Z"
   },
   {
    "duration": 404,
    "start_time": "2022-01-07T22:19:21.240Z"
   },
   {
    "duration": 16,
    "start_time": "2022-01-07T22:19:38.620Z"
   },
   {
    "duration": 21,
    "start_time": "2022-01-07T22:19:45.341Z"
   },
   {
    "duration": 4,
    "start_time": "2022-01-07T22:22:37.752Z"
   },
   {
    "duration": 535,
    "start_time": "2022-01-07T22:22:37.763Z"
   },
   {
    "duration": 514,
    "start_time": "2022-01-07T22:22:38.301Z"
   },
   {
    "duration": 40,
    "start_time": "2022-01-07T22:22:38.820Z"
   },
   {
    "duration": 19,
    "start_time": "2022-01-07T22:22:38.864Z"
   },
   {
    "duration": 5,
    "start_time": "2022-01-07T22:22:38.885Z"
   },
   {
    "duration": 16,
    "start_time": "2022-01-07T22:22:38.892Z"
   },
   {
    "duration": 127,
    "start_time": "2022-01-07T22:22:38.911Z"
   },
   {
    "duration": 3,
    "start_time": "2022-01-07T22:22:39.041Z"
   },
   {
    "duration": 49,
    "start_time": "2022-01-07T22:22:39.048Z"
   },
   {
    "duration": 62,
    "start_time": "2022-01-07T22:22:39.099Z"
   },
   {
    "duration": 15,
    "start_time": "2022-01-07T22:22:39.163Z"
   },
   {
    "duration": 11,
    "start_time": "2022-01-07T22:22:39.181Z"
   },
   {
    "duration": 19,
    "start_time": "2022-01-07T22:22:39.194Z"
   },
   {
    "duration": 50,
    "start_time": "2022-01-07T22:22:39.215Z"
   },
   {
    "duration": 3,
    "start_time": "2022-01-07T22:22:39.268Z"
   },
   {
    "duration": 63,
    "start_time": "2022-01-07T22:22:39.273Z"
   },
   {
    "duration": 42,
    "start_time": "2022-01-07T22:22:39.339Z"
   },
   {
    "duration": 63,
    "start_time": "2022-01-07T22:22:43.829Z"
   },
   {
    "duration": 22,
    "start_time": "2022-01-07T22:22:45.857Z"
   },
   {
    "duration": 3,
    "start_time": "2022-01-07T22:24:21.329Z"
   },
   {
    "duration": 505,
    "start_time": "2022-01-07T22:24:21.335Z"
   },
   {
    "duration": 505,
    "start_time": "2022-01-07T22:24:21.843Z"
   },
   {
    "duration": 15,
    "start_time": "2022-01-07T22:24:22.360Z"
   },
   {
    "duration": 21,
    "start_time": "2022-01-07T22:24:22.378Z"
   },
   {
    "duration": 8,
    "start_time": "2022-01-07T22:24:22.402Z"
   },
   {
    "duration": 49,
    "start_time": "2022-01-07T22:24:22.413Z"
   },
   {
    "duration": 102,
    "start_time": "2022-01-07T22:24:22.464Z"
   },
   {
    "duration": 4,
    "start_time": "2022-01-07T22:24:22.570Z"
   },
   {
    "duration": 45,
    "start_time": "2022-01-07T22:24:22.576Z"
   },
   {
    "duration": 62,
    "start_time": "2022-01-07T22:24:22.623Z"
   },
   {
    "duration": 16,
    "start_time": "2022-01-07T22:24:22.687Z"
   },
   {
    "duration": 11,
    "start_time": "2022-01-07T22:24:22.705Z"
   },
   {
    "duration": 42,
    "start_time": "2022-01-07T22:24:22.719Z"
   },
   {
    "duration": 13,
    "start_time": "2022-01-07T22:24:22.764Z"
   },
   {
    "duration": 5,
    "start_time": "2022-01-07T22:24:22.780Z"
   },
   {
    "duration": 84,
    "start_time": "2022-01-07T22:24:22.788Z"
   },
   {
    "duration": 25,
    "start_time": "2022-01-07T22:24:22.874Z"
   },
   {
    "duration": 58,
    "start_time": "2022-01-07T22:24:24.740Z"
   },
   {
    "duration": 21,
    "start_time": "2022-01-07T22:24:25.353Z"
   },
   {
    "duration": 4,
    "start_time": "2022-01-07T22:26:14.404Z"
   },
   {
    "duration": 49,
    "start_time": "2022-01-07T22:26:26.240Z"
   },
   {
    "duration": 26,
    "start_time": "2022-01-07T22:26:32.573Z"
   },
   {
    "duration": 57,
    "start_time": "2022-01-07T22:26:41.505Z"
   },
   {
    "duration": 23,
    "start_time": "2022-01-07T22:26:43.022Z"
   },
   {
    "duration": 4,
    "start_time": "2022-01-07T22:29:09.247Z"
   },
   {
    "duration": 520,
    "start_time": "2022-01-07T22:29:09.254Z"
   },
   {
    "duration": 548,
    "start_time": "2022-01-07T22:29:09.777Z"
   },
   {
    "duration": 32,
    "start_time": "2022-01-07T22:29:10.329Z"
   },
   {
    "duration": 25,
    "start_time": "2022-01-07T22:29:10.364Z"
   },
   {
    "duration": 4,
    "start_time": "2022-01-07T22:29:10.392Z"
   },
   {
    "duration": 16,
    "start_time": "2022-01-07T22:29:10.400Z"
   },
   {
    "duration": 129,
    "start_time": "2022-01-07T22:29:10.419Z"
   },
   {
    "duration": 10,
    "start_time": "2022-01-07T22:29:10.550Z"
   },
   {
    "duration": 62,
    "start_time": "2022-01-07T22:29:10.563Z"
   },
   {
    "duration": 74,
    "start_time": "2022-01-07T22:29:10.628Z"
   },
   {
    "duration": 22,
    "start_time": "2022-01-07T22:29:10.705Z"
   },
   {
    "duration": 34,
    "start_time": "2022-01-07T22:29:10.730Z"
   },
   {
    "duration": 17,
    "start_time": "2022-01-07T22:29:10.766Z"
   },
   {
    "duration": 17,
    "start_time": "2022-01-07T22:29:10.786Z"
   },
   {
    "duration": 5,
    "start_time": "2022-01-07T22:29:10.806Z"
   },
   {
    "duration": 47,
    "start_time": "2022-01-07T22:29:10.813Z"
   },
   {
    "duration": 58,
    "start_time": "2022-01-07T22:29:10.863Z"
   },
   {
    "duration": 60,
    "start_time": "2022-01-07T22:29:10.925Z"
   },
   {
    "duration": 61,
    "start_time": "2022-01-07T22:29:13.871Z"
   },
   {
    "duration": 21,
    "start_time": "2022-01-07T22:29:14.500Z"
   },
   {
    "duration": 402,
    "start_time": "2022-01-07T22:33:04.265Z"
   },
   {
    "duration": 4,
    "start_time": "2022-01-07T22:33:24.759Z"
   },
   {
    "duration": 515,
    "start_time": "2022-01-07T22:33:24.767Z"
   },
   {
    "duration": 502,
    "start_time": "2022-01-07T22:33:25.286Z"
   },
   {
    "duration": 13,
    "start_time": "2022-01-07T22:33:25.791Z"
   },
   {
    "duration": 19,
    "start_time": "2022-01-07T22:33:25.807Z"
   },
   {
    "duration": 4,
    "start_time": "2022-01-07T22:33:25.859Z"
   },
   {
    "duration": 20,
    "start_time": "2022-01-07T22:33:25.865Z"
   },
   {
    "duration": 105,
    "start_time": "2022-01-07T22:33:25.889Z"
   },
   {
    "duration": 3,
    "start_time": "2022-01-07T22:33:25.997Z"
   },
   {
    "duration": 57,
    "start_time": "2022-01-07T22:33:26.003Z"
   },
   {
    "duration": 43,
    "start_time": "2022-01-07T22:33:26.063Z"
   },
   {
    "duration": 15,
    "start_time": "2022-01-07T22:33:26.108Z"
   },
   {
    "duration": 37,
    "start_time": "2022-01-07T22:33:26.125Z"
   },
   {
    "duration": 19,
    "start_time": "2022-01-07T22:33:26.165Z"
   },
   {
    "duration": 13,
    "start_time": "2022-01-07T22:33:26.187Z"
   },
   {
    "duration": 4,
    "start_time": "2022-01-07T22:33:26.202Z"
   },
   {
    "duration": 6,
    "start_time": "2022-01-07T22:33:26.208Z"
   },
   {
    "duration": 99,
    "start_time": "2022-01-07T22:33:26.217Z"
   },
   {
    "duration": 43,
    "start_time": "2022-01-07T22:33:26.318Z"
   },
   {
    "duration": 477,
    "start_time": "2022-01-07T22:33:27.970Z"
   },
   {
    "duration": 443,
    "start_time": "2022-01-07T22:36:14.158Z"
   },
   {
    "duration": 3,
    "start_time": "2022-01-07T22:36:42.457Z"
   },
   {
    "duration": 524,
    "start_time": "2022-01-07T22:36:42.463Z"
   },
   {
    "duration": 495,
    "start_time": "2022-01-07T22:36:42.989Z"
   },
   {
    "duration": 13,
    "start_time": "2022-01-07T22:36:43.486Z"
   },
   {
    "duration": 20,
    "start_time": "2022-01-07T22:36:43.501Z"
   },
   {
    "duration": 3,
    "start_time": "2022-01-07T22:36:43.524Z"
   },
   {
    "duration": 14,
    "start_time": "2022-01-07T22:36:43.559Z"
   },
   {
    "duration": 109,
    "start_time": "2022-01-07T22:36:43.576Z"
   },
   {
    "duration": 4,
    "start_time": "2022-01-07T22:36:43.687Z"
   },
   {
    "duration": 44,
    "start_time": "2022-01-07T22:36:43.694Z"
   },
   {
    "duration": 60,
    "start_time": "2022-01-07T22:36:43.740Z"
   },
   {
    "duration": 14,
    "start_time": "2022-01-07T22:36:43.803Z"
   },
   {
    "duration": 39,
    "start_time": "2022-01-07T22:36:43.820Z"
   },
   {
    "duration": 15,
    "start_time": "2022-01-07T22:36:43.861Z"
   },
   {
    "duration": 11,
    "start_time": "2022-01-07T22:36:43.878Z"
   },
   {
    "duration": 5,
    "start_time": "2022-01-07T22:36:43.891Z"
   },
   {
    "duration": 5,
    "start_time": "2022-01-07T22:36:43.898Z"
   },
   {
    "duration": 94,
    "start_time": "2022-01-07T22:36:43.905Z"
   },
   {
    "duration": 22,
    "start_time": "2022-01-07T22:36:44.003Z"
   },
   {
    "duration": 520,
    "start_time": "2022-01-07T22:36:45.698Z"
   },
   {
    "duration": 5837,
    "start_time": "2022-01-07T22:37:44.364Z"
   },
   {
    "duration": 22,
    "start_time": "2022-01-07T22:37:52.456Z"
   },
   {
    "duration": 770,
    "start_time": "2022-01-07T22:39:15.209Z"
   },
   {
    "duration": 554,
    "start_time": "2022-01-07T22:39:15.982Z"
   },
   {
    "duration": 581,
    "start_time": "2022-01-07T22:39:16.539Z"
   },
   {
    "duration": 36,
    "start_time": "2022-01-07T22:39:17.123Z"
   },
   {
    "duration": 18,
    "start_time": "2022-01-07T22:39:17.162Z"
   },
   {
    "duration": 4,
    "start_time": "2022-01-07T22:39:17.182Z"
   },
   {
    "duration": 16,
    "start_time": "2022-01-07T22:39:17.188Z"
   },
   {
    "duration": 140,
    "start_time": "2022-01-07T22:39:17.206Z"
   },
   {
    "duration": 4,
    "start_time": "2022-01-07T22:39:17.350Z"
   },
   {
    "duration": 45,
    "start_time": "2022-01-07T22:39:17.359Z"
   },
   {
    "duration": 69,
    "start_time": "2022-01-07T22:39:17.406Z"
   },
   {
    "duration": 16,
    "start_time": "2022-01-07T22:39:17.477Z"
   },
   {
    "duration": 11,
    "start_time": "2022-01-07T22:39:17.495Z"
   },
   {
    "duration": 16,
    "start_time": "2022-01-07T22:39:17.508Z"
   },
   {
    "duration": 43,
    "start_time": "2022-01-07T22:39:17.526Z"
   },
   {
    "duration": 4,
    "start_time": "2022-01-07T22:39:17.571Z"
   },
   {
    "duration": 6,
    "start_time": "2022-01-07T22:39:17.578Z"
   },
   {
    "duration": 101,
    "start_time": "2022-01-07T22:39:17.586Z"
   },
   {
    "duration": 23,
    "start_time": "2022-01-07T22:39:17.689Z"
   },
   {
    "duration": 61,
    "start_time": "2022-01-07T22:39:20.367Z"
   },
   {
    "duration": 7,
    "start_time": "2022-01-07T22:39:26.132Z"
   },
   {
    "duration": 111,
    "start_time": "2022-01-07T22:40:28.008Z"
   },
   {
    "duration": 20,
    "start_time": "2022-01-07T22:40:28.642Z"
   },
   {
    "duration": 4,
    "start_time": "2022-01-07T22:41:15.979Z"
   },
   {
    "duration": 547,
    "start_time": "2022-01-07T22:41:15.987Z"
   },
   {
    "duration": 528,
    "start_time": "2022-01-07T22:41:16.537Z"
   },
   {
    "duration": 14,
    "start_time": "2022-01-07T22:41:17.069Z"
   },
   {
    "duration": 19,
    "start_time": "2022-01-07T22:41:17.087Z"
   },
   {
    "duration": 5,
    "start_time": "2022-01-07T22:41:17.109Z"
   },
   {
    "duration": 15,
    "start_time": "2022-01-07T22:41:17.160Z"
   },
   {
    "duration": 109,
    "start_time": "2022-01-07T22:41:17.181Z"
   },
   {
    "duration": 4,
    "start_time": "2022-01-07T22:41:17.293Z"
   },
   {
    "duration": 41,
    "start_time": "2022-01-07T22:41:17.300Z"
   },
   {
    "duration": 41,
    "start_time": "2022-01-07T22:41:17.360Z"
   },
   {
    "duration": 15,
    "start_time": "2022-01-07T22:41:17.403Z"
   },
   {
    "duration": 11,
    "start_time": "2022-01-07T22:41:17.420Z"
   },
   {
    "duration": 38,
    "start_time": "2022-01-07T22:41:17.433Z"
   },
   {
    "duration": 13,
    "start_time": "2022-01-07T22:41:17.473Z"
   },
   {
    "duration": 5,
    "start_time": "2022-01-07T22:41:17.488Z"
   },
   {
    "duration": 5,
    "start_time": "2022-01-07T22:41:17.495Z"
   },
   {
    "duration": 94,
    "start_time": "2022-01-07T22:41:17.502Z"
   },
   {
    "duration": 23,
    "start_time": "2022-01-07T22:41:17.598Z"
   },
   {
    "duration": 60,
    "start_time": "2022-01-07T22:41:19.403Z"
   },
   {
    "duration": 21,
    "start_time": "2022-01-07T22:41:20.103Z"
   },
   {
    "duration": 4,
    "start_time": "2022-01-07T22:43:43.774Z"
   },
   {
    "duration": 504,
    "start_time": "2022-01-07T22:43:43.781Z"
   },
   {
    "duration": 527,
    "start_time": "2022-01-07T22:43:44.288Z"
   },
   {
    "duration": 14,
    "start_time": "2022-01-07T22:43:44.817Z"
   },
   {
    "duration": 34,
    "start_time": "2022-01-07T22:43:44.834Z"
   },
   {
    "duration": 4,
    "start_time": "2022-01-07T22:43:44.871Z"
   },
   {
    "duration": 16,
    "start_time": "2022-01-07T22:43:44.878Z"
   },
   {
    "duration": 117,
    "start_time": "2022-01-07T22:43:44.897Z"
   },
   {
    "duration": 3,
    "start_time": "2022-01-07T22:43:45.017Z"
   },
   {
    "duration": 54,
    "start_time": "2022-01-07T22:43:45.022Z"
   },
   {
    "duration": 42,
    "start_time": "2022-01-07T22:43:45.078Z"
   },
   {
    "duration": 37,
    "start_time": "2022-01-07T22:43:45.122Z"
   },
   {
    "duration": 12,
    "start_time": "2022-01-07T22:43:45.161Z"
   },
   {
    "duration": 17,
    "start_time": "2022-01-07T22:43:45.175Z"
   },
   {
    "duration": 10,
    "start_time": "2022-01-07T22:43:45.195Z"
   },
   {
    "duration": 4,
    "start_time": "2022-01-07T22:43:45.208Z"
   },
   {
    "duration": 4,
    "start_time": "2022-01-07T22:43:45.214Z"
   },
   {
    "duration": 58,
    "start_time": "2022-01-07T22:43:45.260Z"
   },
   {
    "duration": 43,
    "start_time": "2022-01-07T22:43:45.322Z"
   },
   {
    "duration": 124,
    "start_time": "2022-01-07T22:43:46.935Z"
   },
   {
    "duration": 21,
    "start_time": "2022-01-07T22:43:49.086Z"
   },
   {
    "duration": 6,
    "start_time": "2022-01-07T22:47:24.593Z"
   },
   {
    "duration": 6,
    "start_time": "2022-01-07T22:48:49.261Z"
   },
   {
    "duration": 21,
    "start_time": "2022-01-07T22:48:55.861Z"
   },
   {
    "duration": 5793,
    "start_time": "2022-01-07T22:51:24.297Z"
   },
   {
    "duration": 3,
    "start_time": "2022-01-07T22:51:34.091Z"
   },
   {
    "duration": 498,
    "start_time": "2022-01-07T22:51:34.096Z"
   },
   {
    "duration": 519,
    "start_time": "2022-01-07T22:51:34.597Z"
   },
   {
    "duration": 12,
    "start_time": "2022-01-07T22:51:35.120Z"
   },
   {
    "duration": 39,
    "start_time": "2022-01-07T22:51:35.135Z"
   },
   {
    "duration": 4,
    "start_time": "2022-01-07T22:51:35.176Z"
   },
   {
    "duration": 16,
    "start_time": "2022-01-07T22:51:35.182Z"
   },
   {
    "duration": 125,
    "start_time": "2022-01-07T22:51:35.205Z"
   },
   {
    "duration": 4,
    "start_time": "2022-01-07T22:51:35.333Z"
   },
   {
    "duration": 55,
    "start_time": "2022-01-07T22:51:35.340Z"
   },
   {
    "duration": 67,
    "start_time": "2022-01-07T22:51:35.399Z"
   },
   {
    "duration": 17,
    "start_time": "2022-01-07T22:51:35.469Z"
   },
   {
    "duration": 14,
    "start_time": "2022-01-07T22:51:35.489Z"
   },
   {
    "duration": 15,
    "start_time": "2022-01-07T22:51:35.506Z"
   },
   {
    "duration": 11,
    "start_time": "2022-01-07T22:51:35.561Z"
   },
   {
    "duration": 6,
    "start_time": "2022-01-07T22:51:35.575Z"
   },
   {
    "duration": 7,
    "start_time": "2022-01-07T22:51:35.584Z"
   },
   {
    "duration": 93,
    "start_time": "2022-01-07T22:51:35.593Z"
   },
   {
    "duration": 23,
    "start_time": "2022-01-07T22:51:35.689Z"
   },
   {
    "duration": 6039,
    "start_time": "2022-01-07T22:51:38.137Z"
   },
   {
    "duration": 23,
    "start_time": "2022-01-07T22:51:47.291Z"
   },
   {
    "duration": 3,
    "start_time": "2022-01-07T22:52:27.886Z"
   },
   {
    "duration": 509,
    "start_time": "2022-01-07T22:52:27.892Z"
   },
   {
    "duration": 535,
    "start_time": "2022-01-07T22:52:28.405Z"
   },
   {
    "duration": 25,
    "start_time": "2022-01-07T22:52:28.943Z"
   },
   {
    "duration": 21,
    "start_time": "2022-01-07T22:52:28.970Z"
   },
   {
    "duration": 4,
    "start_time": "2022-01-07T22:52:28.994Z"
   },
   {
    "duration": 17,
    "start_time": "2022-01-07T22:52:29.001Z"
   },
   {
    "duration": 99,
    "start_time": "2022-01-07T22:52:29.060Z"
   },
   {
    "duration": 3,
    "start_time": "2022-01-07T22:52:29.165Z"
   },
   {
    "duration": 43,
    "start_time": "2022-01-07T22:52:29.171Z"
   },
   {
    "duration": 66,
    "start_time": "2022-01-07T22:52:29.216Z"
   },
   {
    "duration": 15,
    "start_time": "2022-01-07T22:52:29.284Z"
   },
   {
    "duration": 12,
    "start_time": "2022-01-07T22:52:29.301Z"
   },
   {
    "duration": 45,
    "start_time": "2022-01-07T22:52:29.315Z"
   },
   {
    "duration": 12,
    "start_time": "2022-01-07T22:52:29.363Z"
   },
   {
    "duration": 7,
    "start_time": "2022-01-07T22:52:29.377Z"
   },
   {
    "duration": 4,
    "start_time": "2022-01-07T22:52:29.386Z"
   },
   {
    "duration": 85,
    "start_time": "2022-01-07T22:52:29.393Z"
   },
   {
    "duration": 24,
    "start_time": "2022-01-07T22:52:29.480Z"
   },
   {
    "duration": 10350,
    "start_time": "2022-01-07T22:52:32.158Z"
   },
   {
    "duration": 411,
    "start_time": "2022-01-07T22:53:11.470Z"
   },
   {
    "duration": 4,
    "start_time": "2022-01-07T22:53:24.152Z"
   },
   {
    "duration": 518,
    "start_time": "2022-01-07T22:53:24.159Z"
   },
   {
    "duration": 551,
    "start_time": "2022-01-07T22:53:24.681Z"
   },
   {
    "duration": 31,
    "start_time": "2022-01-07T22:53:25.235Z"
   },
   {
    "duration": 19,
    "start_time": "2022-01-07T22:53:25.268Z"
   },
   {
    "duration": 6,
    "start_time": "2022-01-07T22:53:25.290Z"
   },
   {
    "duration": 18,
    "start_time": "2022-01-07T22:53:25.298Z"
   },
   {
    "duration": 108,
    "start_time": "2022-01-07T22:53:25.359Z"
   },
   {
    "duration": 4,
    "start_time": "2022-01-07T22:53:25.470Z"
   },
   {
    "duration": 50,
    "start_time": "2022-01-07T22:53:25.477Z"
   },
   {
    "duration": 59,
    "start_time": "2022-01-07T22:53:25.530Z"
   },
   {
    "duration": 16,
    "start_time": "2022-01-07T22:53:25.591Z"
   },
   {
    "duration": 11,
    "start_time": "2022-01-07T22:53:25.609Z"
   },
   {
    "duration": 48,
    "start_time": "2022-01-07T22:53:25.622Z"
   },
   {
    "duration": 14,
    "start_time": "2022-01-07T22:53:25.673Z"
   },
   {
    "duration": 5,
    "start_time": "2022-01-07T22:53:25.690Z"
   },
   {
    "duration": 4,
    "start_time": "2022-01-07T22:53:25.698Z"
   },
   {
    "duration": 102,
    "start_time": "2022-01-07T22:53:25.705Z"
   },
   {
    "duration": 24,
    "start_time": "2022-01-07T22:53:25.810Z"
   },
   {
    "duration": 114,
    "start_time": "2022-01-07T22:53:29.730Z"
   },
   {
    "duration": 21,
    "start_time": "2022-01-07T22:53:32.149Z"
   },
   {
    "duration": 33,
    "start_time": "2022-01-07T23:04:08.644Z"
   },
   {
    "duration": 136,
    "start_time": "2022-01-07T23:04:14.821Z"
   },
   {
    "duration": 29,
    "start_time": "2022-01-07T23:04:24.281Z"
   },
   {
    "duration": 218,
    "start_time": "2022-01-07T23:09:31.255Z"
   },
   {
    "duration": 773,
    "start_time": "2022-01-07T23:10:39.953Z"
   },
   {
    "duration": 572,
    "start_time": "2022-01-07T23:10:40.728Z"
   },
   {
    "duration": 540,
    "start_time": "2022-01-07T23:10:41.304Z"
   },
   {
    "duration": 27,
    "start_time": "2022-01-07T23:10:41.847Z"
   },
   {
    "duration": 20,
    "start_time": "2022-01-07T23:10:41.877Z"
   },
   {
    "duration": 9,
    "start_time": "2022-01-07T23:10:41.900Z"
   },
   {
    "duration": 58,
    "start_time": "2022-01-07T23:10:41.911Z"
   },
   {
    "duration": 105,
    "start_time": "2022-01-07T23:10:41.973Z"
   },
   {
    "duration": 4,
    "start_time": "2022-01-07T23:10:42.080Z"
   },
   {
    "duration": 45,
    "start_time": "2022-01-07T23:10:42.086Z"
   },
   {
    "duration": 58,
    "start_time": "2022-01-07T23:10:42.134Z"
   },
   {
    "duration": 16,
    "start_time": "2022-01-07T23:10:42.194Z"
   },
   {
    "duration": 12,
    "start_time": "2022-01-07T23:10:42.212Z"
   },
   {
    "duration": 40,
    "start_time": "2022-01-07T23:10:42.226Z"
   },
   {
    "duration": 10,
    "start_time": "2022-01-07T23:10:42.268Z"
   },
   {
    "duration": 4,
    "start_time": "2022-01-07T23:10:42.280Z"
   },
   {
    "duration": 4,
    "start_time": "2022-01-07T23:10:42.287Z"
   },
   {
    "duration": 99,
    "start_time": "2022-01-07T23:10:42.293Z"
   },
   {
    "duration": 22,
    "start_time": "2022-01-07T23:10:42.395Z"
   },
   {
    "duration": 180,
    "start_time": "2022-01-07T23:10:44.833Z"
   },
   {
    "duration": 23,
    "start_time": "2022-01-07T23:10:46.180Z"
   },
   {
    "duration": 4,
    "start_time": "2022-01-07T23:26:02.802Z"
   },
   {
    "duration": 554,
    "start_time": "2022-01-07T23:26:02.808Z"
   },
   {
    "duration": 514,
    "start_time": "2022-01-07T23:26:03.365Z"
   },
   {
    "duration": 14,
    "start_time": "2022-01-07T23:26:03.883Z"
   },
   {
    "duration": 19,
    "start_time": "2022-01-07T23:26:03.900Z"
   },
   {
    "duration": 41,
    "start_time": "2022-01-07T23:26:03.921Z"
   },
   {
    "duration": 22,
    "start_time": "2022-01-07T23:26:03.964Z"
   },
   {
    "duration": 107,
    "start_time": "2022-01-07T23:26:03.991Z"
   },
   {
    "duration": 4,
    "start_time": "2022-01-07T23:26:04.100Z"
   },
   {
    "duration": 60,
    "start_time": "2022-01-07T23:26:04.107Z"
   },
   {
    "duration": 42,
    "start_time": "2022-01-07T23:26:04.170Z"
   },
   {
    "duration": 15,
    "start_time": "2022-01-07T23:26:04.214Z"
   },
   {
    "duration": 38,
    "start_time": "2022-01-07T23:26:04.231Z"
   },
   {
    "duration": 16,
    "start_time": "2022-01-07T23:26:04.272Z"
   },
   {
    "duration": 10,
    "start_time": "2022-01-07T23:26:04.291Z"
   },
   {
    "duration": 4,
    "start_time": "2022-01-07T23:26:04.304Z"
   },
   {
    "duration": 4,
    "start_time": "2022-01-07T23:26:04.311Z"
   },
   {
    "duration": 56,
    "start_time": "2022-01-07T23:26:04.360Z"
   },
   {
    "duration": 3,
    "start_time": "2022-01-07T23:26:04.419Z"
   },
   {
    "duration": 11,
    "start_time": "2022-01-07T23:47:45.309Z"
   },
   {
    "duration": 11,
    "start_time": "2022-01-07T23:47:49.050Z"
   },
   {
    "duration": 3,
    "start_time": "2022-01-07T23:51:58.316Z"
   },
   {
    "duration": 524,
    "start_time": "2022-01-07T23:51:58.322Z"
   },
   {
    "duration": 499,
    "start_time": "2022-01-07T23:51:58.849Z"
   },
   {
    "duration": 13,
    "start_time": "2022-01-07T23:51:59.360Z"
   },
   {
    "duration": 20,
    "start_time": "2022-01-07T23:51:59.376Z"
   },
   {
    "duration": 4,
    "start_time": "2022-01-07T23:51:59.398Z"
   },
   {
    "duration": 17,
    "start_time": "2022-01-07T23:51:59.404Z"
   },
   {
    "duration": 84,
    "start_time": "2022-01-07T23:51:59.461Z"
   },
   {
    "duration": 4,
    "start_time": "2022-01-07T23:51:59.559Z"
   },
   {
    "duration": 45,
    "start_time": "2022-01-07T23:51:59.566Z"
   },
   {
    "duration": 62,
    "start_time": "2022-01-07T23:51:59.614Z"
   },
   {
    "duration": 15,
    "start_time": "2022-01-07T23:51:59.678Z"
   },
   {
    "duration": 11,
    "start_time": "2022-01-07T23:51:59.696Z"
   },
   {
    "duration": 20,
    "start_time": "2022-01-07T23:51:59.709Z"
   },
   {
    "duration": 11,
    "start_time": "2022-01-07T23:51:59.760Z"
   },
   {
    "duration": 4,
    "start_time": "2022-01-07T23:51:59.774Z"
   },
   {
    "duration": 6,
    "start_time": "2022-01-07T23:51:59.781Z"
   },
   {
    "duration": 90,
    "start_time": "2022-01-07T23:51:59.789Z"
   },
   {
    "duration": 3,
    "start_time": "2022-01-07T23:51:59.881Z"
   },
   {
    "duration": 9832,
    "start_time": "2022-01-07T23:52:03.175Z"
   },
   {
    "duration": 21,
    "start_time": "2022-01-07T23:52:15.587Z"
   },
   {
    "duration": 3,
    "start_time": "2022-01-07T23:55:25.792Z"
   },
   {
    "duration": 541,
    "start_time": "2022-01-07T23:55:25.798Z"
   },
   {
    "duration": 519,
    "start_time": "2022-01-07T23:55:26.342Z"
   },
   {
    "duration": 13,
    "start_time": "2022-01-07T23:55:26.863Z"
   },
   {
    "duration": 25,
    "start_time": "2022-01-07T23:55:26.879Z"
   },
   {
    "duration": 8,
    "start_time": "2022-01-07T23:55:26.907Z"
   },
   {
    "duration": 46,
    "start_time": "2022-01-07T23:55:26.918Z"
   },
   {
    "duration": 94,
    "start_time": "2022-01-07T23:55:26.966Z"
   },
   {
    "duration": 4,
    "start_time": "2022-01-07T23:55:27.063Z"
   },
   {
    "duration": 43,
    "start_time": "2022-01-07T23:55:27.069Z"
   },
   {
    "duration": 68,
    "start_time": "2022-01-07T23:55:27.115Z"
   },
   {
    "duration": 15,
    "start_time": "2022-01-07T23:55:27.191Z"
   },
   {
    "duration": 13,
    "start_time": "2022-01-07T23:55:27.208Z"
   },
   {
    "duration": 47,
    "start_time": "2022-01-07T23:55:27.223Z"
   },
   {
    "duration": 10,
    "start_time": "2022-01-07T23:55:27.272Z"
   },
   {
    "duration": 17,
    "start_time": "2022-01-07T23:55:27.284Z"
   },
   {
    "duration": 6,
    "start_time": "2022-01-07T23:55:27.303Z"
   },
   {
    "duration": 78,
    "start_time": "2022-01-07T23:55:27.311Z"
   },
   {
    "duration": 24,
    "start_time": "2022-01-07T23:55:27.391Z"
   },
   {
    "duration": 7,
    "start_time": "2022-01-07T23:58:07.118Z"
   },
   {
    "duration": 21,
    "start_time": "2022-01-07T23:58:10.896Z"
   },
   {
    "duration": 3,
    "start_time": "2022-01-07T23:59:49.150Z"
   },
   {
    "duration": 534,
    "start_time": "2022-01-07T23:59:49.156Z"
   },
   {
    "duration": 506,
    "start_time": "2022-01-07T23:59:49.693Z"
   },
   {
    "duration": 13,
    "start_time": "2022-01-07T23:59:50.202Z"
   },
   {
    "duration": 43,
    "start_time": "2022-01-07T23:59:50.217Z"
   },
   {
    "duration": 4,
    "start_time": "2022-01-07T23:59:50.262Z"
   },
   {
    "duration": 23,
    "start_time": "2022-01-07T23:59:50.268Z"
   },
   {
    "duration": 108,
    "start_time": "2022-01-07T23:59:50.295Z"
   },
   {
    "duration": 4,
    "start_time": "2022-01-07T23:59:50.406Z"
   },
   {
    "duration": 53,
    "start_time": "2022-01-07T23:59:50.412Z"
   },
   {
    "duration": 41,
    "start_time": "2022-01-07T23:59:50.467Z"
   },
   {
    "duration": 14,
    "start_time": "2022-01-07T23:59:50.511Z"
   },
   {
    "duration": 40,
    "start_time": "2022-01-07T23:59:50.527Z"
   },
   {
    "duration": 17,
    "start_time": "2022-01-07T23:59:50.570Z"
   },
   {
    "duration": 11,
    "start_time": "2022-01-07T23:59:50.589Z"
   },
   {
    "duration": 5,
    "start_time": "2022-01-07T23:59:50.602Z"
   },
   {
    "duration": 6,
    "start_time": "2022-01-07T23:59:50.609Z"
   },
   {
    "duration": 95,
    "start_time": "2022-01-07T23:59:50.617Z"
   },
   {
    "duration": 23,
    "start_time": "2022-01-07T23:59:50.714Z"
   },
   {
    "duration": 26,
    "start_time": "2022-01-07T23:59:55.488Z"
   },
   {
    "duration": 22,
    "start_time": "2022-01-07T23:59:57.197Z"
   },
   {
    "duration": 4,
    "start_time": "2022-01-08T00:01:09.186Z"
   },
   {
    "duration": 512,
    "start_time": "2022-01-08T00:01:09.193Z"
   },
   {
    "duration": 507,
    "start_time": "2022-01-08T00:01:09.709Z"
   },
   {
    "duration": 14,
    "start_time": "2022-01-08T00:01:10.219Z"
   },
   {
    "duration": 41,
    "start_time": "2022-01-08T00:01:10.235Z"
   },
   {
    "duration": 4,
    "start_time": "2022-01-08T00:01:10.278Z"
   },
   {
    "duration": 18,
    "start_time": "2022-01-08T00:01:10.285Z"
   },
   {
    "duration": 114,
    "start_time": "2022-01-08T00:01:10.305Z"
   },
   {
    "duration": 3,
    "start_time": "2022-01-08T00:01:10.423Z"
   },
   {
    "duration": 59,
    "start_time": "2022-01-08T00:01:10.429Z"
   },
   {
    "duration": 41,
    "start_time": "2022-01-08T00:01:10.490Z"
   },
   {
    "duration": 33,
    "start_time": "2022-01-08T00:01:10.533Z"
   },
   {
    "duration": 12,
    "start_time": "2022-01-08T00:01:10.568Z"
   },
   {
    "duration": 22,
    "start_time": "2022-01-08T00:01:10.582Z"
   },
   {
    "duration": 14,
    "start_time": "2022-01-08T00:01:10.607Z"
   },
   {
    "duration": 17,
    "start_time": "2022-01-08T00:01:10.624Z"
   },
   {
    "duration": 3,
    "start_time": "2022-01-08T00:01:10.660Z"
   },
   {
    "duration": 62,
    "start_time": "2022-01-08T00:01:10.666Z"
   },
   {
    "duration": 44,
    "start_time": "2022-01-08T00:01:10.730Z"
   },
   {
    "duration": 36,
    "start_time": "2022-01-08T00:01:12.975Z"
   },
   {
    "duration": 23,
    "start_time": "2022-01-08T00:01:15.529Z"
   },
   {
    "duration": 4,
    "start_time": "2022-01-08T00:01:41.161Z"
   },
   {
    "duration": 519,
    "start_time": "2022-01-08T00:01:41.169Z"
   },
   {
    "duration": 527,
    "start_time": "2022-01-08T00:01:41.692Z"
   },
   {
    "duration": 14,
    "start_time": "2022-01-08T00:01:42.222Z"
   },
   {
    "duration": 19,
    "start_time": "2022-01-08T00:01:42.260Z"
   },
   {
    "duration": 14,
    "start_time": "2022-01-08T00:01:42.281Z"
   },
   {
    "duration": 22,
    "start_time": "2022-01-08T00:01:42.298Z"
   },
   {
    "duration": 106,
    "start_time": "2022-01-08T00:01:42.323Z"
   },
   {
    "duration": 3,
    "start_time": "2022-01-08T00:01:42.433Z"
   },
   {
    "duration": 66,
    "start_time": "2022-01-08T00:01:42.439Z"
   },
   {
    "duration": 42,
    "start_time": "2022-01-08T00:01:42.507Z"
   },
   {
    "duration": 18,
    "start_time": "2022-01-08T00:01:42.552Z"
   },
   {
    "duration": 11,
    "start_time": "2022-01-08T00:01:42.573Z"
   },
   {
    "duration": 17,
    "start_time": "2022-01-08T00:01:42.586Z"
   },
   {
    "duration": 10,
    "start_time": "2022-01-08T00:01:42.605Z"
   },
   {
    "duration": 41,
    "start_time": "2022-01-08T00:01:42.618Z"
   },
   {
    "duration": 6,
    "start_time": "2022-01-08T00:01:42.662Z"
   },
   {
    "duration": 52,
    "start_time": "2022-01-08T00:01:42.670Z"
   },
   {
    "duration": 52,
    "start_time": "2022-01-08T00:01:42.724Z"
   },
   {
    "duration": 35,
    "start_time": "2022-01-08T00:01:46.032Z"
   },
   {
    "duration": 22,
    "start_time": "2022-01-08T00:01:48.207Z"
   },
   {
    "duration": 757,
    "start_time": "2022-01-08T00:02:15.298Z"
   },
   {
    "duration": 557,
    "start_time": "2022-01-08T00:02:16.060Z"
   },
   {
    "duration": 583,
    "start_time": "2022-01-08T00:02:16.620Z"
   },
   {
    "duration": 13,
    "start_time": "2022-01-08T00:02:17.206Z"
   },
   {
    "duration": 45,
    "start_time": "2022-01-08T00:02:17.221Z"
   },
   {
    "duration": 4,
    "start_time": "2022-01-08T00:02:17.268Z"
   },
   {
    "duration": 20,
    "start_time": "2022-01-08T00:02:17.274Z"
   },
   {
    "duration": 121,
    "start_time": "2022-01-08T00:02:17.299Z"
   },
   {
    "duration": 4,
    "start_time": "2022-01-08T00:02:17.423Z"
   },
   {
    "duration": 58,
    "start_time": "2022-01-08T00:02:17.429Z"
   },
   {
    "duration": 42,
    "start_time": "2022-01-08T00:02:17.489Z"
   },
   {
    "duration": 37,
    "start_time": "2022-01-08T00:02:17.533Z"
   },
   {
    "duration": 12,
    "start_time": "2022-01-08T00:02:17.573Z"
   },
   {
    "duration": 20,
    "start_time": "2022-01-08T00:02:17.588Z"
   },
   {
    "duration": 11,
    "start_time": "2022-01-08T00:02:17.610Z"
   },
   {
    "duration": 37,
    "start_time": "2022-01-08T00:02:17.624Z"
   },
   {
    "duration": 5,
    "start_time": "2022-01-08T00:02:17.664Z"
   },
   {
    "duration": 94,
    "start_time": "2022-01-08T00:02:17.672Z"
   },
   {
    "duration": 25,
    "start_time": "2022-01-08T00:02:17.770Z"
   },
   {
    "duration": 533,
    "start_time": "2022-01-08T00:02:24.082Z"
   },
   {
    "duration": 39,
    "start_time": "2022-01-08T00:02:31.889Z"
   },
   {
    "duration": 22,
    "start_time": "2022-01-08T00:02:36.767Z"
   },
   {
    "duration": 4,
    "start_time": "2022-01-08T00:43:56.052Z"
   },
   {
    "duration": 584,
    "start_time": "2022-01-08T00:43:56.059Z"
   },
   {
    "duration": 488,
    "start_time": "2022-01-08T00:43:56.646Z"
   },
   {
    "duration": 29,
    "start_time": "2022-01-08T00:43:57.137Z"
   },
   {
    "duration": 18,
    "start_time": "2022-01-08T00:43:57.168Z"
   },
   {
    "duration": 4,
    "start_time": "2022-01-08T00:43:57.188Z"
   },
   {
    "duration": 14,
    "start_time": "2022-01-08T00:43:57.195Z"
   },
   {
    "duration": 117,
    "start_time": "2022-01-08T00:43:57.212Z"
   },
   {
    "duration": 3,
    "start_time": "2022-01-08T00:43:57.332Z"
   },
   {
    "duration": 56,
    "start_time": "2022-01-08T00:43:57.338Z"
   },
   {
    "duration": 42,
    "start_time": "2022-01-08T00:43:57.396Z"
   },
   {
    "duration": 30,
    "start_time": "2022-01-08T00:43:57.440Z"
   },
   {
    "duration": 11,
    "start_time": "2022-01-08T00:43:57.472Z"
   },
   {
    "duration": 17,
    "start_time": "2022-01-08T00:43:57.485Z"
   },
   {
    "duration": 11,
    "start_time": "2022-01-08T00:43:57.505Z"
   },
   {
    "duration": 3,
    "start_time": "2022-01-08T00:43:57.518Z"
   },
   {
    "duration": 38,
    "start_time": "2022-01-08T00:43:57.523Z"
   },
   {
    "duration": 56,
    "start_time": "2022-01-08T00:43:57.563Z"
   },
   {
    "duration": 43,
    "start_time": "2022-01-08T00:43:57.623Z"
   },
   {
    "duration": 6,
    "start_time": "2022-01-08T00:44:01.063Z"
   },
   {
    "duration": 22,
    "start_time": "2022-01-08T00:44:03.194Z"
   },
   {
    "duration": 3,
    "start_time": "2022-01-08T00:46:26.442Z"
   },
   {
    "duration": 513,
    "start_time": "2022-01-08T00:46:26.448Z"
   },
   {
    "duration": 510,
    "start_time": "2022-01-08T00:46:26.964Z"
   },
   {
    "duration": 14,
    "start_time": "2022-01-08T00:46:27.476Z"
   },
   {
    "duration": 22,
    "start_time": "2022-01-08T00:46:27.493Z"
   },
   {
    "duration": 4,
    "start_time": "2022-01-08T00:46:27.517Z"
   },
   {
    "duration": 48,
    "start_time": "2022-01-08T00:46:27.524Z"
   },
   {
    "duration": 107,
    "start_time": "2022-01-08T00:46:27.575Z"
   },
   {
    "duration": 4,
    "start_time": "2022-01-08T00:46:27.684Z"
   },
   {
    "duration": 44,
    "start_time": "2022-01-08T00:46:27.691Z"
   },
   {
    "duration": 56,
    "start_time": "2022-01-08T00:46:27.737Z"
   },
   {
    "duration": 17,
    "start_time": "2022-01-08T00:46:27.795Z"
   },
   {
    "duration": 13,
    "start_time": "2022-01-08T00:46:27.815Z"
   },
   {
    "duration": 43,
    "start_time": "2022-01-08T00:46:27.831Z"
   },
   {
    "duration": 11,
    "start_time": "2022-01-08T00:46:27.876Z"
   },
   {
    "duration": 11,
    "start_time": "2022-01-08T00:46:27.890Z"
   },
   {
    "duration": 6,
    "start_time": "2022-01-08T00:46:27.903Z"
   },
   {
    "duration": 99,
    "start_time": "2022-01-08T00:46:27.911Z"
   },
   {
    "duration": 25,
    "start_time": "2022-01-08T00:46:28.013Z"
   },
   {
    "duration": 7,
    "start_time": "2022-01-08T00:46:31.690Z"
   },
   {
    "duration": 23,
    "start_time": "2022-01-08T00:46:35.587Z"
   },
   {
    "duration": 7,
    "start_time": "2022-01-08T00:48:39.600Z"
   },
   {
    "duration": 23,
    "start_time": "2022-01-08T00:48:41.769Z"
   },
   {
    "duration": 7,
    "start_time": "2022-01-08T00:48:59.305Z"
   },
   {
    "duration": 23,
    "start_time": "2022-01-08T00:49:01.147Z"
   },
   {
    "duration": 4,
    "start_time": "2022-01-08T00:51:22.479Z"
   },
   {
    "duration": 506,
    "start_time": "2022-01-08T00:51:22.485Z"
   },
   {
    "duration": 503,
    "start_time": "2022-01-08T00:51:22.994Z"
   },
   {
    "duration": 14,
    "start_time": "2022-01-08T00:51:23.499Z"
   },
   {
    "duration": 18,
    "start_time": "2022-01-08T00:51:23.515Z"
   },
   {
    "duration": 4,
    "start_time": "2022-01-08T00:51:23.560Z"
   },
   {
    "duration": 15,
    "start_time": "2022-01-08T00:51:23.566Z"
   },
   {
    "duration": 116,
    "start_time": "2022-01-08T00:51:23.583Z"
   },
   {
    "duration": 4,
    "start_time": "2022-01-08T00:51:23.704Z"
   },
   {
    "duration": 60,
    "start_time": "2022-01-08T00:51:23.711Z"
   },
   {
    "duration": 41,
    "start_time": "2022-01-08T00:51:23.774Z"
   },
   {
    "duration": 15,
    "start_time": "2022-01-08T00:51:23.817Z"
   },
   {
    "duration": 32,
    "start_time": "2022-01-08T00:51:23.834Z"
   },
   {
    "duration": 16,
    "start_time": "2022-01-08T00:51:23.868Z"
   },
   {
    "duration": 12,
    "start_time": "2022-01-08T00:51:23.886Z"
   },
   {
    "duration": 3,
    "start_time": "2022-01-08T00:51:23.901Z"
   },
   {
    "duration": 5,
    "start_time": "2022-01-08T00:51:23.906Z"
   },
   {
    "duration": 96,
    "start_time": "2022-01-08T00:51:23.913Z"
   },
   {
    "duration": 24,
    "start_time": "2022-01-08T00:51:24.012Z"
   },
   {
    "duration": 28,
    "start_time": "2022-01-08T00:51:26.224Z"
   },
   {
    "duration": 22,
    "start_time": "2022-01-08T00:51:27.516Z"
   },
   {
    "duration": 4,
    "start_time": "2022-01-08T00:53:43.030Z"
   },
   {
    "duration": 502,
    "start_time": "2022-01-08T00:53:43.036Z"
   },
   {
    "duration": 499,
    "start_time": "2022-01-08T00:53:43.541Z"
   },
   {
    "duration": 25,
    "start_time": "2022-01-08T00:53:44.043Z"
   },
   {
    "duration": 21,
    "start_time": "2022-01-08T00:53:44.070Z"
   },
   {
    "duration": 4,
    "start_time": "2022-01-08T00:53:44.093Z"
   },
   {
    "duration": 18,
    "start_time": "2022-01-08T00:53:44.100Z"
   },
   {
    "duration": 98,
    "start_time": "2022-01-08T00:53:44.161Z"
   },
   {
    "duration": 4,
    "start_time": "2022-01-08T00:53:44.261Z"
   },
   {
    "duration": 43,
    "start_time": "2022-01-08T00:53:44.267Z"
   },
   {
    "duration": 60,
    "start_time": "2022-01-08T00:53:44.312Z"
   },
   {
    "duration": 15,
    "start_time": "2022-01-08T00:53:44.374Z"
   },
   {
    "duration": 11,
    "start_time": "2022-01-08T00:53:44.391Z"
   },
   {
    "duration": 16,
    "start_time": "2022-01-08T00:53:44.404Z"
   },
   {
    "duration": 40,
    "start_time": "2022-01-08T00:53:44.422Z"
   },
   {
    "duration": 4,
    "start_time": "2022-01-08T00:53:44.464Z"
   },
   {
    "duration": 7,
    "start_time": "2022-01-08T00:53:44.471Z"
   },
   {
    "duration": 85,
    "start_time": "2022-01-08T00:53:44.480Z"
   },
   {
    "duration": 23,
    "start_time": "2022-01-08T00:53:44.568Z"
   },
   {
    "duration": 57,
    "start_time": "2022-01-08T00:53:46.513Z"
   },
   {
    "duration": 21,
    "start_time": "2022-01-08T00:53:48.705Z"
   },
   {
    "duration": 3,
    "start_time": "2022-01-08T00:55:20.628Z"
   },
   {
    "duration": 524,
    "start_time": "2022-01-08T00:55:20.634Z"
   },
   {
    "duration": 506,
    "start_time": "2022-01-08T00:55:21.161Z"
   },
   {
    "duration": 14,
    "start_time": "2022-01-08T00:55:21.670Z"
   },
   {
    "duration": 24,
    "start_time": "2022-01-08T00:55:21.686Z"
   },
   {
    "duration": 4,
    "start_time": "2022-01-08T00:55:21.712Z"
   },
   {
    "duration": 47,
    "start_time": "2022-01-08T00:55:21.719Z"
   },
   {
    "duration": 99,
    "start_time": "2022-01-08T00:55:21.769Z"
   },
   {
    "duration": 4,
    "start_time": "2022-01-08T00:55:21.870Z"
   },
   {
    "duration": 45,
    "start_time": "2022-01-08T00:55:21.876Z"
   },
   {
    "duration": 67,
    "start_time": "2022-01-08T00:55:21.923Z"
   },
   {
    "duration": 16,
    "start_time": "2022-01-08T00:55:21.992Z"
   },
   {
    "duration": 11,
    "start_time": "2022-01-08T00:55:22.010Z"
   },
   {
    "duration": 40,
    "start_time": "2022-01-08T00:55:22.023Z"
   },
   {
    "duration": 11,
    "start_time": "2022-01-08T00:55:22.065Z"
   },
   {
    "duration": 4,
    "start_time": "2022-01-08T00:55:22.078Z"
   },
   {
    "duration": 5,
    "start_time": "2022-01-08T00:55:22.084Z"
   },
   {
    "duration": 89,
    "start_time": "2022-01-08T00:55:22.092Z"
   },
   {
    "duration": 22,
    "start_time": "2022-01-08T00:55:22.185Z"
   },
   {
    "duration": 108,
    "start_time": "2022-01-08T00:55:24.432Z"
   },
   {
    "duration": 21,
    "start_time": "2022-01-08T00:55:25.347Z"
   },
   {
    "duration": 4,
    "start_time": "2022-01-08T01:01:14.308Z"
   },
   {
    "duration": 505,
    "start_time": "2022-01-08T01:01:14.314Z"
   },
   {
    "duration": 498,
    "start_time": "2022-01-08T01:01:14.822Z"
   },
   {
    "duration": 37,
    "start_time": "2022-01-08T01:01:15.323Z"
   },
   {
    "duration": 18,
    "start_time": "2022-01-08T01:01:15.363Z"
   },
   {
    "duration": 5,
    "start_time": "2022-01-08T01:01:15.384Z"
   },
   {
    "duration": 15,
    "start_time": "2022-01-08T01:01:15.392Z"
   },
   {
    "duration": 124,
    "start_time": "2022-01-08T01:01:15.410Z"
   },
   {
    "duration": 4,
    "start_time": "2022-01-08T01:01:15.537Z"
   },
   {
    "duration": 54,
    "start_time": "2022-01-08T01:01:15.543Z"
   },
   {
    "duration": 62,
    "start_time": "2022-01-08T01:01:15.600Z"
   },
   {
    "duration": 15,
    "start_time": "2022-01-08T01:01:15.665Z"
   },
   {
    "duration": 11,
    "start_time": "2022-01-08T01:01:15.683Z"
   },
   {
    "duration": 15,
    "start_time": "2022-01-08T01:01:15.696Z"
   },
   {
    "duration": 48,
    "start_time": "2022-01-08T01:01:15.714Z"
   },
   {
    "duration": 5,
    "start_time": "2022-01-08T01:01:15.764Z"
   },
   {
    "duration": 4,
    "start_time": "2022-01-08T01:01:15.771Z"
   },
   {
    "duration": 87,
    "start_time": "2022-01-08T01:01:15.777Z"
   },
   {
    "duration": 23,
    "start_time": "2022-01-08T01:01:15.867Z"
   },
   {
    "duration": 97,
    "start_time": "2022-01-08T01:01:18.342Z"
   },
   {
    "duration": 21,
    "start_time": "2022-01-08T01:01:33.710Z"
   },
   {
    "duration": 3,
    "start_time": "2022-01-08T01:08:46.655Z"
   },
   {
    "duration": 529,
    "start_time": "2022-01-08T01:08:46.661Z"
   },
   {
    "duration": 517,
    "start_time": "2022-01-08T01:08:47.193Z"
   },
   {
    "duration": 14,
    "start_time": "2022-01-08T01:08:47.713Z"
   },
   {
    "duration": 41,
    "start_time": "2022-01-08T01:08:47.729Z"
   },
   {
    "duration": 4,
    "start_time": "2022-01-08T01:08:47.772Z"
   },
   {
    "duration": 15,
    "start_time": "2022-01-08T01:08:47.779Z"
   },
   {
    "duration": 119,
    "start_time": "2022-01-08T01:08:47.796Z"
   },
   {
    "duration": 4,
    "start_time": "2022-01-08T01:08:47.919Z"
   },
   {
    "duration": 61,
    "start_time": "2022-01-08T01:08:47.926Z"
   },
   {
    "duration": 48,
    "start_time": "2022-01-08T01:08:47.990Z"
   },
   {
    "duration": 30,
    "start_time": "2022-01-08T01:08:48.041Z"
   },
   {
    "duration": 11,
    "start_time": "2022-01-08T01:08:48.074Z"
   },
   {
    "duration": 15,
    "start_time": "2022-01-08T01:08:48.088Z"
   },
   {
    "duration": 11,
    "start_time": "2022-01-08T01:08:48.105Z"
   },
   {
    "duration": 41,
    "start_time": "2022-01-08T01:08:48.119Z"
   },
   {
    "duration": 13,
    "start_time": "2022-01-08T01:08:48.163Z"
   },
   {
    "duration": 108,
    "start_time": "2022-01-08T01:08:48.179Z"
   },
   {
    "duration": 26,
    "start_time": "2022-01-08T01:08:48.290Z"
   },
   {
    "duration": 12,
    "start_time": "2022-01-08T01:08:48.319Z"
   },
   {
    "duration": 382,
    "start_time": "2022-01-08T01:08:53.193Z"
   },
   {
    "duration": 125,
    "start_time": "2022-01-08T01:19:06.428Z"
   },
   {
    "duration": 631,
    "start_time": "2022-01-08T01:19:33.492Z"
   },
   {
    "duration": 3,
    "start_time": "2022-01-08T01:20:22.640Z"
   },
   {
    "duration": 522,
    "start_time": "2022-01-09T02:15:38.712Z"
   },
   {
    "duration": 410,
    "start_time": "2022-01-09T02:15:39.236Z"
   },
   {
    "duration": 374,
    "start_time": "2022-01-09T02:15:39.648Z"
   },
   {
    "duration": 11,
    "start_time": "2022-01-09T02:15:40.024Z"
   },
   {
    "duration": 38,
    "start_time": "2022-01-09T02:15:40.037Z"
   },
   {
    "duration": 11,
    "start_time": "2022-01-09T02:15:40.077Z"
   },
   {
    "duration": 42,
    "start_time": "2022-01-09T02:15:40.090Z"
   },
   {
    "duration": 78,
    "start_time": "2022-01-09T02:15:40.134Z"
   },
   {
    "duration": 3,
    "start_time": "2022-01-09T02:15:40.214Z"
   },
   {
    "duration": 39,
    "start_time": "2022-01-09T02:15:40.219Z"
   },
   {
    "duration": 29,
    "start_time": "2022-01-09T02:15:40.260Z"
   },
   {
    "duration": 11,
    "start_time": "2022-01-09T02:15:40.291Z"
   },
   {
    "duration": 21,
    "start_time": "2022-01-09T02:15:40.303Z"
   },
   {
    "duration": 43,
    "start_time": "2022-01-09T02:15:40.326Z"
   },
   {
    "duration": 38,
    "start_time": "2022-01-09T02:15:40.370Z"
   },
   {
    "duration": 10,
    "start_time": "2022-01-09T02:15:40.409Z"
   },
   {
    "duration": 35,
    "start_time": "2022-01-09T02:15:40.421Z"
   },
   {
    "duration": 57,
    "start_time": "2022-01-09T02:15:40.458Z"
   },
   {
    "duration": 13,
    "start_time": "2022-01-09T02:15:40.516Z"
   },
   {
    "duration": 57,
    "start_time": "2022-01-09T02:15:43.373Z"
   },
   {
    "duration": 12,
    "start_time": "2022-01-09T02:15:47.463Z"
   },
   {
    "duration": 2,
    "start_time": "2022-01-09T02:16:52.716Z"
   },
   {
    "duration": 401,
    "start_time": "2022-01-09T02:16:52.720Z"
   },
   {
    "duration": 320,
    "start_time": "2022-01-09T02:16:53.123Z"
   },
   {
    "duration": 23,
    "start_time": "2022-01-09T02:16:53.444Z"
   },
   {
    "duration": 13,
    "start_time": "2022-01-09T02:16:53.469Z"
   },
   {
    "duration": 5,
    "start_time": "2022-01-09T02:16:53.484Z"
   },
   {
    "duration": 11,
    "start_time": "2022-01-09T02:16:53.491Z"
   },
   {
    "duration": 81,
    "start_time": "2022-01-09T02:16:53.504Z"
   },
   {
    "duration": 2,
    "start_time": "2022-01-09T02:16:53.587Z"
   },
   {
    "duration": 32,
    "start_time": "2022-01-09T02:16:53.591Z"
   },
   {
    "duration": 41,
    "start_time": "2022-01-09T02:16:53.625Z"
   },
   {
    "duration": 9,
    "start_time": "2022-01-09T02:16:53.668Z"
   },
   {
    "duration": 7,
    "start_time": "2022-01-09T02:16:53.679Z"
   },
   {
    "duration": 11,
    "start_time": "2022-01-09T02:16:53.687Z"
   },
   {
    "duration": 8,
    "start_time": "2022-01-09T02:16:53.699Z"
   },
   {
    "duration": 5,
    "start_time": "2022-01-09T02:16:53.708Z"
   },
   {
    "duration": 4,
    "start_time": "2022-01-09T02:16:53.714Z"
   },
   {
    "duration": 70,
    "start_time": "2022-01-09T02:16:53.720Z"
   },
   {
    "duration": 14,
    "start_time": "2022-01-09T02:16:53.792Z"
   },
   {
    "duration": 55,
    "start_time": "2022-01-09T02:16:55.606Z"
   },
   {
    "duration": 12,
    "start_time": "2022-01-09T02:16:57.242Z"
   },
   {
    "duration": 3,
    "start_time": "2022-01-09T02:23:37.205Z"
   },
   {
    "duration": 430,
    "start_time": "2022-01-09T02:23:37.209Z"
   },
   {
    "duration": 353,
    "start_time": "2022-01-09T02:23:37.641Z"
   },
   {
    "duration": 10,
    "start_time": "2022-01-09T02:23:37.996Z"
   },
   {
    "duration": 43,
    "start_time": "2022-01-09T02:23:38.007Z"
   },
   {
    "duration": 28,
    "start_time": "2022-01-09T02:23:38.051Z"
   },
   {
    "duration": 29,
    "start_time": "2022-01-09T02:23:38.081Z"
   },
   {
    "duration": 97,
    "start_time": "2022-01-09T02:23:38.112Z"
   },
   {
    "duration": 3,
    "start_time": "2022-01-09T02:23:38.211Z"
   },
   {
    "duration": 47,
    "start_time": "2022-01-09T02:23:38.215Z"
   },
   {
    "duration": 30,
    "start_time": "2022-01-09T02:23:38.264Z"
   },
   {
    "duration": 10,
    "start_time": "2022-01-09T02:23:38.296Z"
   },
   {
    "duration": 18,
    "start_time": "2022-01-09T02:23:38.307Z"
   },
   {
    "duration": 44,
    "start_time": "2022-01-09T02:23:38.327Z"
   },
   {
    "duration": 53,
    "start_time": "2022-01-09T02:23:38.373Z"
   },
   {
    "duration": 35,
    "start_time": "2022-01-09T02:23:38.428Z"
   },
   {
    "duration": 30,
    "start_time": "2022-01-09T02:23:38.465Z"
   },
   {
    "duration": 76,
    "start_time": "2022-01-09T02:23:38.497Z"
   },
   {
    "duration": 14,
    "start_time": "2022-01-09T02:23:38.576Z"
   },
   {
    "duration": 33,
    "start_time": "2022-01-09T02:23:38.592Z"
   },
   {
    "duration": 4,
    "start_time": "2022-01-09T02:23:43.111Z"
   },
   {
    "duration": 68,
    "start_time": "2022-01-09T02:24:37.565Z"
   },
   {
    "duration": 582,
    "start_time": "2022-01-09T02:44:59.768Z"
   },
   {
    "duration": 413,
    "start_time": "2022-01-09T02:45:00.352Z"
   },
   {
    "duration": 408,
    "start_time": "2022-01-09T02:45:00.767Z"
   },
   {
    "duration": 10,
    "start_time": "2022-01-09T02:45:01.177Z"
   },
   {
    "duration": 33,
    "start_time": "2022-01-09T02:45:01.189Z"
   },
   {
    "duration": 19,
    "start_time": "2022-01-09T02:45:01.224Z"
   },
   {
    "duration": 23,
    "start_time": "2022-01-09T02:45:01.245Z"
   },
   {
    "duration": 90,
    "start_time": "2022-01-09T02:45:01.270Z"
   },
   {
    "duration": 3,
    "start_time": "2022-01-09T02:45:01.362Z"
   },
   {
    "duration": 51,
    "start_time": "2022-01-09T02:45:01.367Z"
   },
   {
    "duration": 32,
    "start_time": "2022-01-09T02:45:01.420Z"
   },
   {
    "duration": 12,
    "start_time": "2022-01-09T02:45:01.454Z"
   },
   {
    "duration": 15,
    "start_time": "2022-01-09T02:45:01.468Z"
   },
   {
    "duration": 17,
    "start_time": "2022-01-09T02:45:01.485Z"
   },
   {
    "duration": 26,
    "start_time": "2022-01-09T02:45:01.504Z"
   },
   {
    "duration": 17,
    "start_time": "2022-01-09T02:45:01.532Z"
   },
   {
    "duration": 12,
    "start_time": "2022-01-09T02:45:01.551Z"
   },
   {
    "duration": 62,
    "start_time": "2022-01-09T02:45:01.565Z"
   },
   {
    "duration": 15,
    "start_time": "2022-01-09T02:45:01.629Z"
   },
   {
    "duration": 10,
    "start_time": "2022-01-09T02:45:01.646Z"
   },
   {
    "duration": 67,
    "start_time": "2022-01-09T02:45:04.442Z"
   },
   {
    "duration": 3,
    "start_time": "2022-01-09T02:46:36.121Z"
   },
   {
    "duration": 396,
    "start_time": "2022-01-09T02:46:36.126Z"
   },
   {
    "duration": 422,
    "start_time": "2022-01-09T02:46:36.524Z"
   },
   {
    "duration": 20,
    "start_time": "2022-01-09T02:46:36.948Z"
   },
   {
    "duration": 11,
    "start_time": "2022-01-09T02:46:36.970Z"
   },
   {
    "duration": 4,
    "start_time": "2022-01-09T02:46:36.983Z"
   },
   {
    "duration": 11,
    "start_time": "2022-01-09T02:46:36.990Z"
   },
   {
    "duration": 81,
    "start_time": "2022-01-09T02:46:37.003Z"
   },
   {
    "duration": 3,
    "start_time": "2022-01-09T02:46:37.086Z"
   },
   {
    "duration": 32,
    "start_time": "2022-01-09T02:46:37.091Z"
   },
   {
    "duration": 41,
    "start_time": "2022-01-09T02:46:37.125Z"
   },
   {
    "duration": 11,
    "start_time": "2022-01-09T02:46:37.168Z"
   },
   {
    "duration": 8,
    "start_time": "2022-01-09T02:46:37.181Z"
   },
   {
    "duration": 12,
    "start_time": "2022-01-09T02:46:37.191Z"
   },
   {
    "duration": 7,
    "start_time": "2022-01-09T02:46:37.205Z"
   },
   {
    "duration": 7,
    "start_time": "2022-01-09T02:46:37.214Z"
   },
   {
    "duration": 4,
    "start_time": "2022-01-09T02:46:37.223Z"
   },
   {
    "duration": 70,
    "start_time": "2022-01-09T02:46:37.229Z"
   },
   {
    "duration": 14,
    "start_time": "2022-01-09T02:46:37.302Z"
   },
   {
    "duration": 4,
    "start_time": "2022-01-09T02:46:37.318Z"
   },
   {
    "duration": 68,
    "start_time": "2022-01-09T02:46:40.499Z"
   },
   {
    "duration": 16,
    "start_time": "2022-01-09T02:46:50.664Z"
   },
   {
    "duration": 16,
    "start_time": "2022-01-09T02:48:12.228Z"
   },
   {
    "duration": 3,
    "start_time": "2022-01-09T02:49:31.156Z"
   },
   {
    "duration": 411,
    "start_time": "2022-01-09T02:49:31.161Z"
   },
   {
    "duration": 365,
    "start_time": "2022-01-09T02:49:31.574Z"
   },
   {
    "duration": 21,
    "start_time": "2022-01-09T02:49:31.941Z"
   },
   {
    "duration": 23,
    "start_time": "2022-01-09T02:49:31.963Z"
   },
   {
    "duration": 2,
    "start_time": "2022-01-09T02:49:31.988Z"
   },
   {
    "duration": 14,
    "start_time": "2022-01-09T02:49:31.992Z"
   },
   {
    "duration": 69,
    "start_time": "2022-01-09T02:49:32.009Z"
   },
   {
    "duration": 3,
    "start_time": "2022-01-09T02:49:32.080Z"
   },
   {
    "duration": 35,
    "start_time": "2022-01-09T02:49:32.085Z"
   },
   {
    "duration": 42,
    "start_time": "2022-01-09T02:49:32.121Z"
   },
   {
    "duration": 11,
    "start_time": "2022-01-09T02:49:32.165Z"
   },
   {
    "duration": 15,
    "start_time": "2022-01-09T02:49:32.177Z"
   },
   {
    "duration": 18,
    "start_time": "2022-01-09T02:49:32.194Z"
   },
   {
    "duration": 26,
    "start_time": "2022-01-09T02:49:32.214Z"
   },
   {
    "duration": 14,
    "start_time": "2022-01-09T02:49:32.242Z"
   },
   {
    "duration": 10,
    "start_time": "2022-01-09T02:49:32.258Z"
   },
   {
    "duration": 60,
    "start_time": "2022-01-09T02:49:32.270Z"
   },
   {
    "duration": 17,
    "start_time": "2022-01-09T02:49:32.332Z"
   },
   {
    "duration": 6,
    "start_time": "2022-01-09T02:49:32.351Z"
   },
   {
    "duration": 342,
    "start_time": "2022-01-09T02:49:35.081Z"
   },
   {
    "duration": 4,
    "start_time": "2022-01-09T02:50:09.072Z"
   },
   {
    "duration": 68,
    "start_time": "2022-01-09T02:50:10.018Z"
   },
   {
    "duration": 583,
    "start_time": "2022-01-09T02:51:00.719Z"
   },
   {
    "duration": 489,
    "start_time": "2022-01-09T02:51:01.304Z"
   },
   {
    "duration": 466,
    "start_time": "2022-01-09T02:51:01.796Z"
   },
   {
    "duration": 10,
    "start_time": "2022-01-09T02:51:02.264Z"
   },
   {
    "duration": 15,
    "start_time": "2022-01-09T02:51:02.276Z"
   },
   {
    "duration": 2,
    "start_time": "2022-01-09T02:51:02.293Z"
   },
   {
    "duration": 16,
    "start_time": "2022-01-09T02:51:02.297Z"
   },
   {
    "duration": 93,
    "start_time": "2022-01-09T02:51:02.314Z"
   },
   {
    "duration": 2,
    "start_time": "2022-01-09T02:51:02.410Z"
   },
   {
    "duration": 32,
    "start_time": "2022-01-09T02:51:02.414Z"
   },
   {
    "duration": 41,
    "start_time": "2022-01-09T02:51:02.448Z"
   },
   {
    "duration": 12,
    "start_time": "2022-01-09T02:51:02.490Z"
   },
   {
    "duration": 7,
    "start_time": "2022-01-09T02:51:02.504Z"
   },
   {
    "duration": 12,
    "start_time": "2022-01-09T02:51:02.513Z"
   },
   {
    "duration": 9,
    "start_time": "2022-01-09T02:51:02.527Z"
   },
   {
    "duration": 3,
    "start_time": "2022-01-09T02:51:02.561Z"
   },
   {
    "duration": 5,
    "start_time": "2022-01-09T02:51:02.566Z"
   },
   {
    "duration": 49,
    "start_time": "2022-01-09T02:51:02.572Z"
   },
   {
    "duration": 37,
    "start_time": "2022-01-09T02:51:02.624Z"
   },
   {
    "duration": 5,
    "start_time": "2022-01-09T02:51:28.135Z"
   },
   {
    "duration": 71,
    "start_time": "2022-01-09T02:51:31.579Z"
   },
   {
    "duration": 15,
    "start_time": "2022-01-09T02:51:55.879Z"
   },
   {
    "duration": 3,
    "start_time": "2022-01-09T02:53:43.767Z"
   },
   {
    "duration": 439,
    "start_time": "2022-01-09T02:53:43.772Z"
   },
   {
    "duration": 340,
    "start_time": "2022-01-09T02:53:44.213Z"
   },
   {
    "duration": 14,
    "start_time": "2022-01-09T02:53:44.555Z"
   },
   {
    "duration": 15,
    "start_time": "2022-01-09T02:53:44.570Z"
   },
   {
    "duration": 20,
    "start_time": "2022-01-09T02:53:44.586Z"
   },
   {
    "duration": 23,
    "start_time": "2022-01-09T02:53:44.609Z"
   },
   {
    "duration": 72,
    "start_time": "2022-01-09T02:53:44.634Z"
   },
   {
    "duration": 3,
    "start_time": "2022-01-09T02:53:44.708Z"
   },
   {
    "duration": 49,
    "start_time": "2022-01-09T02:53:44.712Z"
   },
   {
    "duration": 29,
    "start_time": "2022-01-09T02:53:44.763Z"
   },
   {
    "duration": 10,
    "start_time": "2022-01-09T02:53:44.793Z"
   },
   {
    "duration": 12,
    "start_time": "2022-01-09T02:53:44.805Z"
   },
   {
    "duration": 34,
    "start_time": "2022-01-09T02:53:44.818Z"
   },
   {
    "duration": 22,
    "start_time": "2022-01-09T02:53:44.854Z"
   },
   {
    "duration": 5,
    "start_time": "2022-01-09T02:53:44.878Z"
   },
   {
    "duration": 4,
    "start_time": "2022-01-09T02:53:44.884Z"
   },
   {
    "duration": 42,
    "start_time": "2022-01-09T02:53:44.890Z"
   },
   {
    "duration": 16,
    "start_time": "2022-01-09T02:53:44.935Z"
   },
   {
    "duration": 6,
    "start_time": "2022-01-09T02:53:51.785Z"
   },
   {
    "duration": 66,
    "start_time": "2022-01-09T02:53:55.482Z"
   },
   {
    "duration": 16,
    "start_time": "2022-01-09T02:54:02.314Z"
   },
   {
    "duration": 15,
    "start_time": "2022-01-09T02:54:11.557Z"
   },
   {
    "duration": 3,
    "start_time": "2022-01-09T02:59:11.824Z"
   },
   {
    "duration": 381,
    "start_time": "2022-01-09T02:59:11.829Z"
   },
   {
    "duration": 329,
    "start_time": "2022-01-09T02:59:12.212Z"
   },
   {
    "duration": 25,
    "start_time": "2022-01-09T02:59:12.543Z"
   },
   {
    "duration": 13,
    "start_time": "2022-01-09T02:59:12.570Z"
   },
   {
    "duration": 2,
    "start_time": "2022-01-09T02:59:12.584Z"
   },
   {
    "duration": 12,
    "start_time": "2022-01-09T02:59:12.588Z"
   },
   {
    "duration": 73,
    "start_time": "2022-01-09T02:59:12.601Z"
   },
   {
    "duration": 2,
    "start_time": "2022-01-09T02:59:12.677Z"
   },
   {
    "duration": 30,
    "start_time": "2022-01-09T02:59:12.681Z"
   },
   {
    "duration": 28,
    "start_time": "2022-01-09T02:59:12.712Z"
   },
   {
    "duration": 27,
    "start_time": "2022-01-09T02:59:12.741Z"
   },
   {
    "duration": 7,
    "start_time": "2022-01-09T02:59:12.769Z"
   },
   {
    "duration": 10,
    "start_time": "2022-01-09T02:59:12.778Z"
   },
   {
    "duration": 9,
    "start_time": "2022-01-09T02:59:12.789Z"
   },
   {
    "duration": 6,
    "start_time": "2022-01-09T02:59:12.800Z"
   },
   {
    "duration": 4,
    "start_time": "2022-01-09T02:59:12.807Z"
   },
   {
    "duration": 62,
    "start_time": "2022-01-09T02:59:12.812Z"
   },
   {
    "duration": 2,
    "start_time": "2022-01-09T02:59:12.875Z"
   },
   {
    "duration": 5,
    "start_time": "2022-01-09T02:59:14.680Z"
   },
   {
    "duration": 68,
    "start_time": "2022-01-09T02:59:16.118Z"
   },
   {
    "duration": 38,
    "start_time": "2022-01-09T03:05:11.473Z"
   },
   {
    "duration": 39,
    "start_time": "2022-01-09T03:05:24.635Z"
   },
   {
    "duration": 38,
    "start_time": "2022-01-09T03:08:15.871Z"
   },
   {
    "duration": 296,
    "start_time": "2022-01-09T03:12:37.237Z"
   },
   {
    "duration": 243,
    "start_time": "2022-01-09T03:13:09.616Z"
   },
   {
    "duration": 600,
    "start_time": "2022-01-09T03:13:25.526Z"
   },
   {
    "duration": 410,
    "start_time": "2022-01-09T03:13:26.128Z"
   },
   {
    "duration": 395,
    "start_time": "2022-01-09T03:13:26.540Z"
   },
   {
    "duration": 25,
    "start_time": "2022-01-09T03:13:26.937Z"
   },
   {
    "duration": 20,
    "start_time": "2022-01-09T03:13:26.964Z"
   },
   {
    "duration": 27,
    "start_time": "2022-01-09T03:13:26.986Z"
   },
   {
    "duration": 38,
    "start_time": "2022-01-09T03:13:27.015Z"
   },
   {
    "duration": 96,
    "start_time": "2022-01-09T03:13:27.056Z"
   },
   {
    "duration": 4,
    "start_time": "2022-01-09T03:13:27.154Z"
   },
   {
    "duration": 88,
    "start_time": "2022-01-09T03:13:27.160Z"
   },
   {
    "duration": 34,
    "start_time": "2022-01-09T03:13:27.251Z"
   },
   {
    "duration": 27,
    "start_time": "2022-01-09T03:13:27.287Z"
   },
   {
    "duration": 37,
    "start_time": "2022-01-09T03:13:27.316Z"
   },
   {
    "duration": 53,
    "start_time": "2022-01-09T03:13:27.355Z"
   },
   {
    "duration": 65,
    "start_time": "2022-01-09T03:13:27.410Z"
   },
   {
    "duration": 45,
    "start_time": "2022-01-09T03:13:27.477Z"
   },
   {
    "duration": 46,
    "start_time": "2022-01-09T03:13:27.524Z"
   },
   {
    "duration": 99,
    "start_time": "2022-01-09T03:13:27.572Z"
   },
   {
    "duration": 20,
    "start_time": "2022-01-09T03:13:27.673Z"
   },
   {
    "duration": 342,
    "start_time": "2022-01-09T03:13:27.695Z"
   },
   {
    "duration": 1747,
    "start_time": "2022-01-09T03:13:26.292Z"
   },
   {
    "duration": 1746,
    "start_time": "2022-01-09T03:13:26.295Z"
   },
   {
    "duration": 1742,
    "start_time": "2022-01-09T03:13:26.300Z"
   },
   {
    "duration": 261,
    "start_time": "2022-01-09T03:15:27.078Z"
   },
   {
    "duration": 5,
    "start_time": "2022-01-09T03:15:47.373Z"
   },
   {
    "duration": 72,
    "start_time": "2022-01-09T03:15:48.398Z"
   },
   {
    "duration": 283,
    "start_time": "2022-01-09T03:16:05.421Z"
   },
   {
    "duration": 43,
    "start_time": "2022-01-09T03:16:11.526Z"
   },
   {
    "duration": 65,
    "start_time": "2022-01-09T03:16:15.532Z"
   },
   {
    "duration": 66,
    "start_time": "2022-01-09T03:17:33.225Z"
   },
   {
    "duration": 17,
    "start_time": "2022-01-09T03:19:52.340Z"
   },
   {
    "duration": 18,
    "start_time": "2022-01-09T03:20:19.171Z"
   },
   {
    "duration": 2,
    "start_time": "2022-01-09T03:20:44.336Z"
   },
   {
    "duration": 393,
    "start_time": "2022-01-09T03:20:44.340Z"
   },
   {
    "duration": 340,
    "start_time": "2022-01-09T03:20:44.735Z"
   },
   {
    "duration": 10,
    "start_time": "2022-01-09T03:20:45.077Z"
   },
   {
    "duration": 12,
    "start_time": "2022-01-09T03:20:45.089Z"
   },
   {
    "duration": 4,
    "start_time": "2022-01-09T03:20:45.103Z"
   },
   {
    "duration": 11,
    "start_time": "2022-01-09T03:20:45.109Z"
   },
   {
    "duration": 96,
    "start_time": "2022-01-09T03:20:45.122Z"
   },
   {
    "duration": 3,
    "start_time": "2022-01-09T03:20:45.220Z"
   },
   {
    "duration": 38,
    "start_time": "2022-01-09T03:20:45.225Z"
   },
   {
    "duration": 30,
    "start_time": "2022-01-09T03:20:45.265Z"
   },
   {
    "duration": 11,
    "start_time": "2022-01-09T03:20:45.297Z"
   },
   {
    "duration": 8,
    "start_time": "2022-01-09T03:20:45.309Z"
   },
   {
    "duration": 12,
    "start_time": "2022-01-09T03:20:45.319Z"
   },
   {
    "duration": 35,
    "start_time": "2022-01-09T03:20:45.332Z"
   },
   {
    "duration": 4,
    "start_time": "2022-01-09T03:20:45.369Z"
   },
   {
    "duration": 5,
    "start_time": "2022-01-09T03:20:45.375Z"
   },
   {
    "duration": 44,
    "start_time": "2022-01-09T03:20:45.382Z"
   },
   {
    "duration": 4,
    "start_time": "2022-01-09T03:20:45.429Z"
   },
   {
    "duration": 80,
    "start_time": "2022-01-09T03:20:45.435Z"
   },
   {
    "duration": 2,
    "start_time": "2022-01-09T03:20:45.517Z"
   },
   {
    "duration": 9,
    "start_time": "2022-01-09T03:20:45.520Z"
   },
   {
    "duration": 50,
    "start_time": "2022-01-09T03:20:45.530Z"
   },
   {
    "duration": 82,
    "start_time": "2022-01-09T03:20:45.582Z"
   },
   {
    "duration": 33,
    "start_time": "2022-01-09T03:20:45.665Z"
   },
   {
    "duration": 20,
    "start_time": "2022-01-09T03:20:52.015Z"
   },
   {
    "duration": 3,
    "start_time": "2022-01-09T03:21:12.896Z"
   },
   {
    "duration": 398,
    "start_time": "2022-01-09T03:21:12.901Z"
   },
   {
    "duration": 328,
    "start_time": "2022-01-09T03:21:13.301Z"
   },
   {
    "duration": 10,
    "start_time": "2022-01-09T03:21:13.631Z"
   },
   {
    "duration": 12,
    "start_time": "2022-01-09T03:21:13.661Z"
   },
   {
    "duration": 4,
    "start_time": "2022-01-09T03:21:13.675Z"
   },
   {
    "duration": 11,
    "start_time": "2022-01-09T03:21:13.682Z"
   },
   {
    "duration": 82,
    "start_time": "2022-01-09T03:21:13.695Z"
   },
   {
    "duration": 3,
    "start_time": "2022-01-09T03:21:13.778Z"
   },
   {
    "duration": 33,
    "start_time": "2022-01-09T03:21:13.783Z"
   },
   {
    "duration": 28,
    "start_time": "2022-01-09T03:21:13.818Z"
   },
   {
    "duration": 11,
    "start_time": "2022-01-09T03:21:13.860Z"
   },
   {
    "duration": 7,
    "start_time": "2022-01-09T03:21:13.873Z"
   },
   {
    "duration": 10,
    "start_time": "2022-01-09T03:21:13.882Z"
   },
   {
    "duration": 7,
    "start_time": "2022-01-09T03:21:13.893Z"
   },
   {
    "duration": 2,
    "start_time": "2022-01-09T03:21:13.902Z"
   },
   {
    "duration": 4,
    "start_time": "2022-01-09T03:21:13.906Z"
   },
   {
    "duration": 74,
    "start_time": "2022-01-09T03:21:13.911Z"
   },
   {
    "duration": 4,
    "start_time": "2022-01-09T03:21:13.988Z"
   },
   {
    "duration": 82,
    "start_time": "2022-01-09T03:21:13.994Z"
   },
   {
    "duration": 3,
    "start_time": "2022-01-09T03:21:14.078Z"
   },
   {
    "duration": 6,
    "start_time": "2022-01-09T03:21:14.082Z"
   },
   {
    "duration": 41,
    "start_time": "2022-01-09T03:21:14.089Z"
   },
   {
    "duration": 83,
    "start_time": "2022-01-09T03:21:14.132Z"
   },
   {
    "duration": 44,
    "start_time": "2022-01-09T03:21:14.217Z"
   },
   {
    "duration": 254,
    "start_time": "2022-01-09T03:21:18.198Z"
   },
   {
    "duration": 312,
    "start_time": "2022-01-09T03:21:42.683Z"
   },
   {
    "duration": 18,
    "start_time": "2022-01-09T03:22:02.672Z"
   },
   {
    "duration": 70,
    "start_time": "2022-01-09T03:26:40.436Z"
   },
   {
    "duration": 21,
    "start_time": "2022-01-09T03:37:43.909Z"
   },
   {
    "duration": 451,
    "start_time": "2022-01-10T14:33:40.068Z"
   },
   {
    "duration": 1139,
    "start_time": "2022-01-10T14:33:44.329Z"
   },
   {
    "duration": 848,
    "start_time": "2022-01-10T14:33:45.472Z"
   },
   {
    "duration": 672,
    "start_time": "2022-01-10T14:33:46.324Z"
   },
   {
    "duration": 13,
    "start_time": "2022-01-10T14:33:46.999Z"
   },
   {
    "duration": 45,
    "start_time": "2022-01-10T14:33:47.014Z"
   },
   {
    "duration": 3,
    "start_time": "2022-01-10T14:33:47.062Z"
   },
   {
    "duration": 32,
    "start_time": "2022-01-10T14:33:47.068Z"
   },
   {
    "duration": 99,
    "start_time": "2022-01-10T14:33:47.102Z"
   },
   {
    "duration": 20,
    "start_time": "2022-01-10T14:33:49.138Z"
   },
   {
    "duration": 5,
    "start_time": "2022-01-10T14:34:29.352Z"
   },
   {
    "duration": 52,
    "start_time": "2022-01-10T14:34:31.101Z"
   },
   {
    "duration": 44,
    "start_time": "2022-01-10T14:35:26.698Z"
   },
   {
    "duration": 17,
    "start_time": "2022-01-10T14:35:28.070Z"
   },
   {
    "duration": 13,
    "start_time": "2022-01-10T14:35:30.962Z"
   },
   {
    "duration": 18,
    "start_time": "2022-01-10T14:35:31.889Z"
   },
   {
    "duration": 12,
    "start_time": "2022-01-10T14:35:34.190Z"
   },
   {
    "duration": 5,
    "start_time": "2022-01-10T14:35:37.081Z"
   },
   {
    "duration": 3,
    "start_time": "2022-01-10T14:35:37.844Z"
   },
   {
    "duration": 62,
    "start_time": "2022-01-10T14:35:38.587Z"
   },
   {
    "duration": 7,
    "start_time": "2022-01-10T14:35:43.233Z"
   },
   {
    "duration": 120,
    "start_time": "2022-01-10T14:35:44.009Z"
   },
   {
    "duration": 4,
    "start_time": "2022-01-10T14:35:46.570Z"
   },
   {
    "duration": 3,
    "start_time": "2022-01-10T14:35:47.021Z"
   },
   {
    "duration": 66,
    "start_time": "2022-01-10T14:35:49.202Z"
   },
   {
    "duration": 121,
    "start_time": "2022-01-10T14:38:34.635Z"
   },
   {
    "duration": 54,
    "start_time": "2022-01-10T14:38:42.566Z"
   },
   {
    "duration": 28,
    "start_time": "2022-01-10T14:38:49.578Z"
   },
   {
    "duration": 128,
    "start_time": "2022-01-10T14:38:54.208Z"
   },
   {
    "duration": 38,
    "start_time": "2022-01-10T14:39:01.306Z"
   },
   {
    "duration": 41,
    "start_time": "2022-01-10T14:40:59.657Z"
   },
   {
    "duration": 128,
    "start_time": "2022-01-10T14:51:29.221Z"
   },
   {
    "duration": 38,
    "start_time": "2022-01-10T14:51:42.016Z"
   },
   {
    "duration": 46,
    "start_time": "2022-01-10T14:52:37.442Z"
   },
   {
    "duration": 846,
    "start_time": "2022-01-11T21:13:32.499Z"
   },
   {
    "duration": 503,
    "start_time": "2022-01-11T21:13:33.347Z"
   },
   {
    "duration": 570,
    "start_time": "2022-01-11T21:13:33.853Z"
   },
   {
    "duration": 13,
    "start_time": "2022-01-11T21:13:34.426Z"
   },
   {
    "duration": 19,
    "start_time": "2022-01-11T21:13:34.442Z"
   },
   {
    "duration": 8,
    "start_time": "2022-01-11T21:13:34.464Z"
   },
   {
    "duration": 58,
    "start_time": "2022-01-11T21:13:34.475Z"
   },
   {
    "duration": 103,
    "start_time": "2022-01-11T21:13:34.537Z"
   },
   {
    "duration": 19,
    "start_time": "2022-01-11T21:13:34.643Z"
   },
   {
    "duration": 4,
    "start_time": "2022-01-11T21:13:34.665Z"
   },
   {
    "duration": 66,
    "start_time": "2022-01-11T21:13:34.672Z"
   },
   {
    "duration": 42,
    "start_time": "2022-01-11T21:13:34.741Z"
   },
   {
    "duration": 36,
    "start_time": "2022-01-11T21:13:34.786Z"
   },
   {
    "duration": 12,
    "start_time": "2022-01-11T21:13:34.825Z"
   },
   {
    "duration": 21,
    "start_time": "2022-01-11T21:13:34.839Z"
   },
   {
    "duration": 11,
    "start_time": "2022-01-11T21:13:34.863Z"
   },
   {
    "duration": 4,
    "start_time": "2022-01-11T21:13:34.876Z"
   },
   {
    "duration": 43,
    "start_time": "2022-01-11T21:13:34.882Z"
   },
   {
    "duration": 60,
    "start_time": "2022-01-11T21:13:36.818Z"
   },
   {
    "duration": 422,
    "start_time": "2022-01-11T21:14:18.516Z"
   },
   {
    "duration": 81,
    "start_time": "2022-01-11T21:14:57.288Z"
   },
   {
    "duration": 56,
    "start_time": "2022-01-11T21:15:49.788Z"
   },
   {
    "duration": 51,
    "start_time": "2022-01-11T21:16:24.649Z"
   },
   {
    "duration": 320,
    "start_time": "2022-01-11T21:16:32.093Z"
   },
   {
    "duration": 52,
    "start_time": "2022-01-11T21:16:40.701Z"
   },
   {
    "duration": 56,
    "start_time": "2022-01-11T21:16:50.478Z"
   },
   {
    "duration": 51,
    "start_time": "2022-01-11T21:17:10.585Z"
   },
   {
    "duration": 4,
    "start_time": "2022-01-11T21:17:51.088Z"
   },
   {
    "duration": 499,
    "start_time": "2022-01-11T21:17:51.096Z"
   },
   {
    "duration": 466,
    "start_time": "2022-01-11T21:17:51.598Z"
   },
   {
    "duration": 12,
    "start_time": "2022-01-11T21:17:52.066Z"
   },
   {
    "duration": 47,
    "start_time": "2022-01-11T21:17:52.081Z"
   },
   {
    "duration": 3,
    "start_time": "2022-01-11T21:17:52.131Z"
   },
   {
    "duration": 17,
    "start_time": "2022-01-11T21:17:52.137Z"
   },
   {
    "duration": 118,
    "start_time": "2022-01-11T21:17:52.157Z"
   },
   {
    "duration": 19,
    "start_time": "2022-01-11T21:17:52.278Z"
   },
   {
    "duration": 23,
    "start_time": "2022-01-11T21:17:52.300Z"
   },
   {
    "duration": 41,
    "start_time": "2022-01-11T21:17:52.326Z"
   },
   {
    "duration": 58,
    "start_time": "2022-01-11T21:17:52.369Z"
   },
   {
    "duration": 15,
    "start_time": "2022-01-11T21:17:52.429Z"
   },
   {
    "duration": 13,
    "start_time": "2022-01-11T21:17:52.447Z"
   },
   {
    "duration": 15,
    "start_time": "2022-01-11T21:17:52.462Z"
   },
   {
    "duration": 45,
    "start_time": "2022-01-11T21:17:52.480Z"
   },
   {
    "duration": 5,
    "start_time": "2022-01-11T21:17:52.527Z"
   },
   {
    "duration": 4,
    "start_time": "2022-01-11T21:17:52.534Z"
   },
   {
    "duration": 58,
    "start_time": "2022-01-11T21:17:52.541Z"
   },
   {
    "duration": 3,
    "start_time": "2022-01-11T21:17:52.624Z"
   },
   {
    "duration": 9,
    "start_time": "2022-01-11T21:17:52.629Z"
   },
   {
    "duration": 6,
    "start_time": "2022-01-11T21:17:52.640Z"
   },
   {
    "duration": 5,
    "start_time": "2022-01-11T21:17:52.648Z"
   },
   {
    "duration": 78,
    "start_time": "2022-01-11T21:17:52.657Z"
   },
   {
    "duration": 3,
    "start_time": "2022-01-11T21:17:52.737Z"
   },
   {
    "duration": 49,
    "start_time": "2022-01-11T21:17:52.743Z"
   },
   {
    "duration": 28,
    "start_time": "2022-01-11T21:17:52.795Z"
   },
   {
    "duration": 3,
    "start_time": "2022-01-11T21:17:52.825Z"
   },
   {
    "duration": 7,
    "start_time": "2022-01-11T21:17:52.830Z"
   },
   {
    "duration": 6,
    "start_time": "2022-01-11T21:23:54.624Z"
   },
   {
    "duration": 37,
    "start_time": "2022-01-11T21:24:02.870Z"
   },
   {
    "duration": 35,
    "start_time": "2022-01-11T21:24:35.141Z"
   },
   {
    "duration": 40,
    "start_time": "2022-01-11T21:24:44.140Z"
   },
   {
    "duration": 35,
    "start_time": "2022-01-11T21:26:44.811Z"
   },
   {
    "duration": 42,
    "start_time": "2022-01-11T21:27:13.537Z"
   },
   {
    "duration": 319,
    "start_time": "2022-01-11T21:27:53.059Z"
   },
   {
    "duration": 846,
    "start_time": "2022-01-11T21:28:15.743Z"
   },
   {
    "duration": 56,
    "start_time": "2022-01-11T21:28:27.268Z"
   },
   {
    "duration": 59,
    "start_time": "2022-01-11T21:44:25.001Z"
   },
   {
    "duration": 29,
    "start_time": "2022-01-11T21:44:57.198Z"
   },
   {
    "duration": 268,
    "start_time": "2022-01-11T21:48:32.594Z"
   },
   {
    "duration": 272,
    "start_time": "2022-01-11T21:48:51.925Z"
   },
   {
    "duration": 7502,
    "start_time": "2022-01-11T21:51:25.766Z"
   },
   {
    "duration": 302,
    "start_time": "2022-01-11T21:52:04.598Z"
   },
   {
    "duration": 27,
    "start_time": "2022-01-11T21:52:32.012Z"
   },
   {
    "duration": 155,
    "start_time": "2022-01-11T21:53:44.722Z"
   },
   {
    "duration": 4,
    "start_time": "2022-01-11T21:54:08.362Z"
   },
   {
    "duration": 495,
    "start_time": "2022-01-11T21:54:08.369Z"
   },
   {
    "duration": 473,
    "start_time": "2022-01-11T21:54:08.866Z"
   },
   {
    "duration": 14,
    "start_time": "2022-01-11T21:54:09.342Z"
   },
   {
    "duration": 22,
    "start_time": "2022-01-11T21:54:09.358Z"
   },
   {
    "duration": 4,
    "start_time": "2022-01-11T21:54:09.382Z"
   },
   {
    "duration": 48,
    "start_time": "2022-01-11T21:54:09.388Z"
   },
   {
    "duration": 104,
    "start_time": "2022-01-11T21:54:09.440Z"
   },
   {
    "duration": 19,
    "start_time": "2022-01-11T21:54:09.546Z"
   },
   {
    "duration": 7,
    "start_time": "2022-01-11T21:54:09.568Z"
   },
   {
    "duration": 64,
    "start_time": "2022-01-11T21:54:09.577Z"
   },
   {
    "duration": 41,
    "start_time": "2022-01-11T21:54:09.643Z"
   },
   {
    "duration": 15,
    "start_time": "2022-01-11T21:54:09.686Z"
   },
   {
    "duration": 12,
    "start_time": "2022-01-11T21:54:09.724Z"
   },
   {
    "duration": 16,
    "start_time": "2022-01-11T21:54:09.739Z"
   },
   {
    "duration": 12,
    "start_time": "2022-01-11T21:54:09.757Z"
   },
   {
    "duration": 5,
    "start_time": "2022-01-11T21:54:09.771Z"
   },
   {
    "duration": 6,
    "start_time": "2022-01-11T21:54:09.779Z"
   },
   {
    "duration": 58,
    "start_time": "2022-01-11T21:54:09.824Z"
   },
   {
    "duration": 46,
    "start_time": "2022-01-11T21:54:09.884Z"
   },
   {
    "duration": 202,
    "start_time": "2022-01-11T21:54:09.932Z"
   },
   {
    "duration": 163,
    "start_time": "2022-01-11T21:54:13.050Z"
   },
   {
    "duration": 6,
    "start_time": "2022-01-11T21:54:46.168Z"
   },
   {
    "duration": 105,
    "start_time": "2022-01-11T21:55:15.041Z"
   },
   {
    "duration": 409,
    "start_time": "2022-01-11T21:55:44.909Z"
   },
   {
    "duration": 7269,
    "start_time": "2022-01-11T22:02:10.314Z"
   },
   {
    "duration": 281,
    "start_time": "2022-01-11T22:02:25.698Z"
   },
   {
    "duration": 38,
    "start_time": "2022-01-11T22:04:30.757Z"
   },
   {
    "duration": 50,
    "start_time": "2022-01-11T22:24:09.202Z"
   },
   {
    "duration": 49,
    "start_time": "2022-01-11T22:25:50.445Z"
   },
   {
    "duration": 8931,
    "start_time": "2022-01-11T22:27:28.848Z"
   },
   {
    "duration": 7297,
    "start_time": "2022-01-11T22:28:17.788Z"
   },
   {
    "duration": 681,
    "start_time": "2022-01-11T22:28:39.557Z"
   },
   {
    "duration": 501,
    "start_time": "2022-01-11T22:28:40.241Z"
   },
   {
    "duration": 518,
    "start_time": "2022-01-11T22:28:40.745Z"
   },
   {
    "duration": 14,
    "start_time": "2022-01-11T22:28:41.266Z"
   },
   {
    "duration": 42,
    "start_time": "2022-01-11T22:28:41.282Z"
   },
   {
    "duration": 3,
    "start_time": "2022-01-11T22:28:41.327Z"
   },
   {
    "duration": 23,
    "start_time": "2022-01-11T22:28:41.332Z"
   },
   {
    "duration": 105,
    "start_time": "2022-01-11T22:28:41.358Z"
   },
   {
    "duration": 20,
    "start_time": "2022-01-11T22:28:41.466Z"
   },
   {
    "duration": 4,
    "start_time": "2022-01-11T22:28:41.489Z"
   },
   {
    "duration": 61,
    "start_time": "2022-01-11T22:28:41.496Z"
   },
   {
    "duration": 36,
    "start_time": "2022-01-11T22:28:41.559Z"
   },
   {
    "duration": 32,
    "start_time": "2022-01-11T22:28:41.597Z"
   },
   {
    "duration": 11,
    "start_time": "2022-01-11T22:28:41.631Z"
   },
   {
    "duration": 17,
    "start_time": "2022-01-11T22:28:41.645Z"
   },
   {
    "duration": 10,
    "start_time": "2022-01-11T22:28:41.664Z"
   },
   {
    "duration": 4,
    "start_time": "2022-01-11T22:28:41.676Z"
   },
   {
    "duration": 41,
    "start_time": "2022-01-11T22:28:41.682Z"
   },
   {
    "duration": 63,
    "start_time": "2022-01-11T22:28:41.726Z"
   },
   {
    "duration": 49,
    "start_time": "2022-01-11T22:28:41.791Z"
   },
   {
    "duration": 313,
    "start_time": "2022-01-11T22:29:00.192Z"
   },
   {
    "duration": 4,
    "start_time": "2022-01-11T22:29:51.874Z"
   },
   {
    "duration": 44,
    "start_time": "2022-01-11T22:29:53.323Z"
   },
   {
    "duration": 366,
    "start_time": "2022-01-11T22:30:46.988Z"
   },
   {
    "duration": 286,
    "start_time": "2022-01-11T22:30:52.045Z"
   },
   {
    "duration": 4,
    "start_time": "2022-01-11T22:31:00.536Z"
   },
   {
    "duration": 595,
    "start_time": "2022-01-11T22:31:00.543Z"
   },
   {
    "duration": 596,
    "start_time": "2022-01-11T22:31:01.141Z"
   },
   {
    "duration": 15,
    "start_time": "2022-01-11T22:31:01.740Z"
   },
   {
    "duration": 22,
    "start_time": "2022-01-11T22:31:01.757Z"
   },
   {
    "duration": 42,
    "start_time": "2022-01-11T22:31:01.781Z"
   },
   {
    "duration": 15,
    "start_time": "2022-01-11T22:31:01.827Z"
   },
   {
    "duration": 114,
    "start_time": "2022-01-11T22:31:01.845Z"
   },
   {
    "duration": 20,
    "start_time": "2022-01-11T22:31:01.961Z"
   },
   {
    "duration": 29,
    "start_time": "2022-01-11T22:31:01.983Z"
   },
   {
    "duration": 67,
    "start_time": "2022-01-11T22:31:02.014Z"
   },
   {
    "duration": 45,
    "start_time": "2022-01-11T22:31:02.083Z"
   },
   {
    "duration": 16,
    "start_time": "2022-01-11T22:31:02.131Z"
   },
   {
    "duration": 14,
    "start_time": "2022-01-11T22:31:02.149Z"
   },
   {
    "duration": 18,
    "start_time": "2022-01-11T22:31:02.165Z"
   },
   {
    "duration": 55,
    "start_time": "2022-01-11T22:31:02.186Z"
   },
   {
    "duration": 6,
    "start_time": "2022-01-11T22:31:02.244Z"
   },
   {
    "duration": 9,
    "start_time": "2022-01-11T22:31:02.252Z"
   },
   {
    "duration": 84,
    "start_time": "2022-01-11T22:31:02.265Z"
   },
   {
    "duration": 30,
    "start_time": "2022-01-11T22:31:02.352Z"
   },
   {
    "duration": 547,
    "start_time": "2022-01-11T22:31:05.295Z"
   },
   {
    "duration": 3,
    "start_time": "2022-01-11T22:31:18.064Z"
   },
   {
    "duration": 496,
    "start_time": "2022-01-11T22:31:18.069Z"
   },
   {
    "duration": 481,
    "start_time": "2022-01-11T22:31:18.568Z"
   },
   {
    "duration": 14,
    "start_time": "2022-01-11T22:31:19.053Z"
   },
   {
    "duration": 53,
    "start_time": "2022-01-11T22:31:19.070Z"
   },
   {
    "duration": 5,
    "start_time": "2022-01-11T22:31:19.125Z"
   },
   {
    "duration": 17,
    "start_time": "2022-01-11T22:31:19.133Z"
   },
   {
    "duration": 104,
    "start_time": "2022-01-11T22:31:19.153Z"
   },
   {
    "duration": 22,
    "start_time": "2022-01-11T22:31:19.261Z"
   },
   {
    "duration": 5,
    "start_time": "2022-01-11T22:31:19.285Z"
   },
   {
    "duration": 59,
    "start_time": "2022-01-11T22:31:19.293Z"
   },
   {
    "duration": 37,
    "start_time": "2022-01-11T22:31:19.355Z"
   },
   {
    "duration": 34,
    "start_time": "2022-01-11T22:31:19.395Z"
   },
   {
    "duration": 11,
    "start_time": "2022-01-11T22:31:19.431Z"
   },
   {
    "duration": 22,
    "start_time": "2022-01-11T22:31:19.445Z"
   },
   {
    "duration": 18,
    "start_time": "2022-01-11T22:31:19.470Z"
   },
   {
    "duration": 38,
    "start_time": "2022-01-11T22:31:19.490Z"
   },
   {
    "duration": 4,
    "start_time": "2022-01-11T22:31:19.531Z"
   },
   {
    "duration": 61,
    "start_time": "2022-01-11T22:31:19.538Z"
   },
   {
    "duration": 27,
    "start_time": "2022-01-11T22:31:22.457Z"
   },
   {
    "duration": 405,
    "start_time": "2022-01-12T11:54:41.546Z"
   },
   {
    "duration": 780,
    "start_time": "2022-01-12T11:54:47.996Z"
   },
   {
    "duration": 540,
    "start_time": "2022-01-12T11:54:48.779Z"
   },
   {
    "duration": 540,
    "start_time": "2022-01-12T11:54:49.323Z"
   },
   {
    "duration": 13,
    "start_time": "2022-01-12T11:54:49.866Z"
   },
   {
    "duration": 25,
    "start_time": "2022-01-12T11:54:49.881Z"
   },
   {
    "duration": 4,
    "start_time": "2022-01-12T11:54:49.909Z"
   },
   {
    "duration": 55,
    "start_time": "2022-01-12T11:54:49.916Z"
   },
   {
    "duration": 153,
    "start_time": "2022-01-12T11:54:49.976Z"
   },
   {
    "duration": 33,
    "start_time": "2022-01-12T11:54:50.132Z"
   },
   {
    "duration": 5,
    "start_time": "2022-01-12T11:54:50.168Z"
   },
   {
    "duration": 52,
    "start_time": "2022-01-12T11:54:50.175Z"
   },
   {
    "duration": 74,
    "start_time": "2022-01-12T11:54:50.230Z"
   },
   {
    "duration": 21,
    "start_time": "2022-01-12T11:54:50.307Z"
   },
   {
    "duration": 36,
    "start_time": "2022-01-12T11:54:50.331Z"
   },
   {
    "duration": 20,
    "start_time": "2022-01-12T11:54:50.370Z"
   },
   {
    "duration": 13,
    "start_time": "2022-01-12T11:54:50.393Z"
   },
   {
    "duration": 4,
    "start_time": "2022-01-12T11:54:50.408Z"
   },
   {
    "duration": 45,
    "start_time": "2022-01-12T11:54:50.415Z"
   },
   {
    "duration": 1500,
    "start_time": "2022-01-12T11:54:51.960Z"
   },
   {
    "duration": 43,
    "start_time": "2022-01-12T11:55:05.160Z"
   },
   {
    "duration": 44,
    "start_time": "2022-01-12T11:55:09.887Z"
   },
   {
    "duration": 367,
    "start_time": "2022-01-12T11:55:25.471Z"
   },
   {
    "duration": 3,
    "start_time": "2022-01-12T11:55:54.854Z"
   },
   {
    "duration": 43,
    "start_time": "2022-01-12T11:56:18.333Z"
   },
   {
    "duration": 44,
    "start_time": "2022-01-12T11:56:38.333Z"
   },
   {
    "duration": 46,
    "start_time": "2022-01-12T11:58:04.245Z"
   },
   {
    "duration": 45,
    "start_time": "2022-01-12T11:58:33.984Z"
   },
   {
    "duration": 43,
    "start_time": "2022-01-12T11:59:06.723Z"
   },
   {
    "duration": 37,
    "start_time": "2022-01-12T11:59:28.108Z"
   },
   {
    "duration": 19,
    "start_time": "2022-01-12T11:59:34.311Z"
   },
   {
    "duration": 18,
    "start_time": "2022-01-12T11:59:44.601Z"
   },
   {
    "duration": 15,
    "start_time": "2022-01-12T12:00:20.828Z"
   },
   {
    "duration": 805,
    "start_time": "2022-01-12T12:00:50.536Z"
   },
   {
    "duration": 523,
    "start_time": "2022-01-12T12:00:51.343Z"
   },
   {
    "duration": 547,
    "start_time": "2022-01-12T12:00:51.869Z"
   },
   {
    "duration": 15,
    "start_time": "2022-01-12T12:00:52.419Z"
   },
   {
    "duration": 39,
    "start_time": "2022-01-12T12:00:52.436Z"
   },
   {
    "duration": 11,
    "start_time": "2022-01-12T12:00:52.477Z"
   },
   {
    "duration": 16,
    "start_time": "2022-01-12T12:00:52.490Z"
   },
   {
    "duration": 115,
    "start_time": "2022-01-12T12:00:52.509Z"
   },
   {
    "duration": 31,
    "start_time": "2022-01-12T12:00:52.627Z"
   },
   {
    "duration": 4,
    "start_time": "2022-01-12T12:00:52.660Z"
   },
   {
    "duration": 41,
    "start_time": "2022-01-12T12:00:52.666Z"
   },
   {
    "duration": 67,
    "start_time": "2022-01-12T12:00:52.710Z"
   },
   {
    "duration": 15,
    "start_time": "2022-01-12T12:00:52.779Z"
   },
   {
    "duration": 11,
    "start_time": "2022-01-12T12:00:52.797Z"
   },
   {
    "duration": 19,
    "start_time": "2022-01-12T12:00:52.811Z"
   },
   {
    "duration": 36,
    "start_time": "2022-01-12T12:00:52.832Z"
   },
   {
    "duration": 7,
    "start_time": "2022-01-12T12:00:52.870Z"
   },
   {
    "duration": 9,
    "start_time": "2022-01-12T12:00:52.879Z"
   },
   {
    "duration": 74,
    "start_time": "2022-01-12T12:00:52.890Z"
   },
   {
    "duration": 3,
    "start_time": "2022-01-12T12:00:52.966Z"
   },
   {
    "duration": 5,
    "start_time": "2022-01-12T12:00:52.971Z"
   },
   {
    "duration": 7,
    "start_time": "2022-01-12T12:00:52.978Z"
   },
   {
    "duration": 4,
    "start_time": "2022-01-12T12:00:52.989Z"
   },
   {
    "duration": 5,
    "start_time": "2022-01-12T12:00:52.995Z"
   },
   {
    "duration": 82,
    "start_time": "2022-01-12T12:00:53.002Z"
   },
   {
    "duration": 3,
    "start_time": "2022-01-12T12:00:53.086Z"
   },
   {
    "duration": 40,
    "start_time": "2022-01-12T12:00:53.091Z"
   },
   {
    "duration": 41,
    "start_time": "2022-01-12T12:00:53.133Z"
   },
   {
    "duration": 3,
    "start_time": "2022-01-12T12:00:53.176Z"
   },
   {
    "duration": 8,
    "start_time": "2022-01-12T12:00:53.182Z"
   },
   {
    "duration": 5,
    "start_time": "2022-01-12T12:00:53.192Z"
   },
   {
    "duration": 28,
    "start_time": "2022-01-12T12:02:17.173Z"
   },
   {
    "duration": 4,
    "start_time": "2022-01-12T12:04:39.961Z"
   },
   {
    "duration": 43,
    "start_time": "2022-01-12T12:04:42.311Z"
   },
   {
    "duration": 42,
    "start_time": "2022-01-12T12:04:48.032Z"
   },
   {
    "duration": 4,
    "start_time": "2022-01-12T12:04:53.262Z"
   },
   {
    "duration": 510,
    "start_time": "2022-01-12T12:04:53.269Z"
   },
   {
    "duration": 510,
    "start_time": "2022-01-12T12:04:53.782Z"
   },
   {
    "duration": 14,
    "start_time": "2022-01-12T12:04:54.295Z"
   },
   {
    "duration": 47,
    "start_time": "2022-01-12T12:04:54.312Z"
   },
   {
    "duration": 4,
    "start_time": "2022-01-12T12:04:54.362Z"
   },
   {
    "duration": 16,
    "start_time": "2022-01-12T12:04:54.369Z"
   },
   {
    "duration": 110,
    "start_time": "2022-01-12T12:04:54.387Z"
   },
   {
    "duration": 19,
    "start_time": "2022-01-12T12:04:54.500Z"
   },
   {
    "duration": 3,
    "start_time": "2022-01-12T12:04:54.522Z"
   },
   {
    "duration": 41,
    "start_time": "2022-01-12T12:04:57.023Z"
   },
   {
    "duration": 42,
    "start_time": "2022-01-12T12:05:15.381Z"
   },
   {
    "duration": 16,
    "start_time": "2022-01-12T12:05:22.422Z"
   },
   {
    "duration": 13,
    "start_time": "2022-01-12T12:05:32.370Z"
   },
   {
    "duration": 16,
    "start_time": "2022-01-12T12:05:35.168Z"
   },
   {
    "duration": 11,
    "start_time": "2022-01-12T12:05:38.616Z"
   },
   {
    "duration": 588,
    "start_time": "2022-01-12T12:05:43.916Z"
   },
   {
    "duration": 45,
    "start_time": "2022-01-12T12:05:52.351Z"
   },
   {
    "duration": 43,
    "start_time": "2022-01-12T12:06:01.067Z"
   },
   {
    "duration": 37,
    "start_time": "2022-01-12T12:06:07.605Z"
   },
   {
    "duration": 13,
    "start_time": "2022-01-12T12:06:11.412Z"
   },
   {
    "duration": 22,
    "start_time": "2022-01-12T12:06:15.965Z"
   },
   {
    "duration": 9,
    "start_time": "2022-01-12T12:06:46.261Z"
   },
   {
    "duration": 474,
    "start_time": "2022-01-12T12:06:52.747Z"
   },
   {
    "duration": 3,
    "start_time": "2022-01-12T12:06:59.328Z"
   },
   {
    "duration": 533,
    "start_time": "2022-01-12T12:06:59.334Z"
   },
   {
    "duration": 521,
    "start_time": "2022-01-12T12:06:59.870Z"
   },
   {
    "duration": 14,
    "start_time": "2022-01-12T12:07:00.394Z"
   },
   {
    "duration": 22,
    "start_time": "2022-01-12T12:07:00.410Z"
   },
   {
    "duration": 4,
    "start_time": "2022-01-12T12:07:00.460Z"
   },
   {
    "duration": 22,
    "start_time": "2022-01-12T12:07:00.467Z"
   },
   {
    "duration": 113,
    "start_time": "2022-01-12T12:07:00.491Z"
   },
   {
    "duration": 18,
    "start_time": "2022-01-12T12:07:00.609Z"
   },
   {
    "duration": 14,
    "start_time": "2022-01-12T12:07:00.630Z"
   },
   {
    "duration": 42,
    "start_time": "2022-01-12T12:07:00.658Z"
   },
   {
    "duration": 63,
    "start_time": "2022-01-12T12:07:00.703Z"
   },
   {
    "duration": 14,
    "start_time": "2022-01-12T12:07:00.768Z"
   },
   {
    "duration": 15,
    "start_time": "2022-01-12T12:07:00.784Z"
   },
   {
    "duration": 31,
    "start_time": "2022-01-12T12:07:00.801Z"
   },
   {
    "duration": 33,
    "start_time": "2022-01-12T12:07:00.835Z"
   },
   {
    "duration": 11,
    "start_time": "2022-01-12T12:07:00.871Z"
   },
   {
    "duration": 13,
    "start_time": "2022-01-12T12:07:00.884Z"
   },
   {
    "duration": 62,
    "start_time": "2022-01-12T12:07:00.899Z"
   },
   {
    "duration": 2,
    "start_time": "2022-01-12T12:07:00.964Z"
   },
   {
    "duration": 12,
    "start_time": "2022-01-12T12:07:00.968Z"
   },
   {
    "duration": 9,
    "start_time": "2022-01-12T12:07:00.982Z"
   },
   {
    "duration": 7,
    "start_time": "2022-01-12T12:07:00.993Z"
   },
   {
    "duration": 29,
    "start_time": "2022-01-12T12:07:01.002Z"
   },
   {
    "duration": 60,
    "start_time": "2022-01-12T12:07:01.033Z"
   },
   {
    "duration": 3,
    "start_time": "2022-01-12T12:07:01.096Z"
   },
   {
    "duration": 59,
    "start_time": "2022-01-12T12:07:01.105Z"
   },
   {
    "duration": 15,
    "start_time": "2022-01-12T12:07:01.166Z"
   },
   {
    "duration": 17,
    "start_time": "2022-01-12T12:07:01.183Z"
   },
   {
    "duration": 7,
    "start_time": "2022-01-12T12:07:01.202Z"
   },
   {
    "duration": 13,
    "start_time": "2022-01-12T12:07:01.212Z"
   },
   {
    "duration": 26,
    "start_time": "2022-01-12T12:07:01.228Z"
   },
   {
    "duration": 19,
    "start_time": "2022-01-12T12:07:05.041Z"
   },
   {
    "duration": 451,
    "start_time": "2022-01-12T12:08:44.707Z"
   },
   {
    "duration": 474,
    "start_time": "2022-01-12T12:08:50.705Z"
   },
   {
    "duration": 138,
    "start_time": "2022-01-12T12:09:32.059Z"
   },
   {
    "duration": 7,
    "start_time": "2022-01-12T12:09:41.809Z"
   },
   {
    "duration": 475,
    "start_time": "2022-01-12T12:09:49.562Z"
   },
   {
    "duration": 3,
    "start_time": "2022-01-12T12:09:59.094Z"
   },
   {
    "duration": 543,
    "start_time": "2022-01-12T12:09:59.100Z"
   },
   {
    "duration": 552,
    "start_time": "2022-01-12T12:09:59.647Z"
   },
   {
    "duration": 13,
    "start_time": "2022-01-12T12:10:00.202Z"
   },
   {
    "duration": 47,
    "start_time": "2022-01-12T12:10:00.217Z"
   },
   {
    "duration": 10,
    "start_time": "2022-01-12T12:10:00.266Z"
   },
   {
    "duration": 32,
    "start_time": "2022-01-12T12:10:00.278Z"
   },
   {
    "duration": 101,
    "start_time": "2022-01-12T12:10:00.312Z"
   },
   {
    "duration": 20,
    "start_time": "2022-01-12T12:10:00.417Z"
   },
   {
    "duration": 9,
    "start_time": "2022-01-12T12:10:00.440Z"
   },
   {
    "duration": 57,
    "start_time": "2022-01-12T12:10:00.460Z"
   },
   {
    "duration": 51,
    "start_time": "2022-01-12T12:10:00.519Z"
   },
   {
    "duration": 15,
    "start_time": "2022-01-12T12:10:00.572Z"
   },
   {
    "duration": 13,
    "start_time": "2022-01-12T12:10:00.590Z"
   },
   {
    "duration": 39,
    "start_time": "2022-01-12T12:10:00.606Z"
   },
   {
    "duration": 14,
    "start_time": "2022-01-12T12:10:00.659Z"
   },
   {
    "duration": 21,
    "start_time": "2022-01-12T12:10:00.675Z"
   },
   {
    "duration": 24,
    "start_time": "2022-01-12T12:10:00.698Z"
   },
   {
    "duration": 66,
    "start_time": "2022-01-12T12:10:00.724Z"
   },
   {
    "duration": 2,
    "start_time": "2022-01-12T12:10:00.793Z"
   },
   {
    "duration": 24,
    "start_time": "2022-01-12T12:10:00.798Z"
   },
   {
    "duration": 43,
    "start_time": "2022-01-12T12:10:00.824Z"
   },
   {
    "duration": 20,
    "start_time": "2022-01-12T12:10:00.869Z"
   },
   {
    "duration": 19,
    "start_time": "2022-01-12T12:10:00.892Z"
   },
   {
    "duration": 56,
    "start_time": "2022-01-12T12:10:00.913Z"
   },
   {
    "duration": 3,
    "start_time": "2022-01-12T12:10:00.972Z"
   },
   {
    "duration": 71,
    "start_time": "2022-01-12T12:10:00.979Z"
   },
   {
    "duration": 20,
    "start_time": "2022-01-12T12:10:01.054Z"
   },
   {
    "duration": 8,
    "start_time": "2022-01-12T12:10:01.076Z"
   },
   {
    "duration": 8,
    "start_time": "2022-01-12T12:10:01.087Z"
   },
   {
    "duration": 9,
    "start_time": "2022-01-12T12:10:01.097Z"
   },
   {
    "duration": 53,
    "start_time": "2022-01-12T12:10:01.108Z"
   },
   {
    "duration": 20,
    "start_time": "2022-01-12T12:10:01.163Z"
   },
   {
    "duration": 22,
    "start_time": "2022-01-12T12:10:05.045Z"
   },
   {
    "duration": 861,
    "start_time": "2022-01-12T12:10:44.231Z"
   },
   {
    "duration": 540,
    "start_time": "2022-01-12T12:10:45.095Z"
   },
   {
    "duration": 553,
    "start_time": "2022-01-12T12:10:45.639Z"
   },
   {
    "duration": 13,
    "start_time": "2022-01-12T12:10:46.195Z"
   },
   {
    "duration": 20,
    "start_time": "2022-01-12T12:10:46.211Z"
   },
   {
    "duration": 4,
    "start_time": "2022-01-12T12:10:46.260Z"
   },
   {
    "duration": 19,
    "start_time": "2022-01-12T12:10:46.267Z"
   },
   {
    "duration": 118,
    "start_time": "2022-01-12T12:10:46.289Z"
   },
   {
    "duration": 26,
    "start_time": "2022-01-12T12:10:46.412Z"
   },
   {
    "duration": 20,
    "start_time": "2022-01-12T12:10:46.441Z"
   },
   {
    "duration": 43,
    "start_time": "2022-01-12T12:10:46.464Z"
   },
   {
    "duration": 71,
    "start_time": "2022-01-12T12:10:46.510Z"
   },
   {
    "duration": 18,
    "start_time": "2022-01-12T12:10:46.583Z"
   },
   {
    "duration": 13,
    "start_time": "2022-01-12T12:10:46.603Z"
   },
   {
    "duration": 46,
    "start_time": "2022-01-12T12:10:46.618Z"
   },
   {
    "duration": 12,
    "start_time": "2022-01-12T12:10:46.667Z"
   },
   {
    "duration": 4,
    "start_time": "2022-01-12T12:10:46.682Z"
   },
   {
    "duration": 7,
    "start_time": "2022-01-12T12:10:46.688Z"
   },
   {
    "duration": 91,
    "start_time": "2022-01-12T12:10:46.697Z"
   },
   {
    "duration": 2,
    "start_time": "2022-01-12T12:10:46.791Z"
   },
   {
    "duration": 6,
    "start_time": "2022-01-12T12:10:46.796Z"
   },
   {
    "duration": 7,
    "start_time": "2022-01-12T12:10:46.804Z"
   },
   {
    "duration": 9,
    "start_time": "2022-01-12T12:10:46.813Z"
   },
   {
    "duration": 7,
    "start_time": "2022-01-12T12:10:46.824Z"
   },
   {
    "duration": 68,
    "start_time": "2022-01-12T12:10:46.833Z"
   },
   {
    "duration": 3,
    "start_time": "2022-01-12T12:10:46.903Z"
   },
   {
    "duration": 73,
    "start_time": "2022-01-12T12:10:46.913Z"
   },
   {
    "duration": 25,
    "start_time": "2022-01-12T12:10:46.990Z"
   },
   {
    "duration": 3,
    "start_time": "2022-01-12T12:10:47.018Z"
   },
   {
    "duration": 7,
    "start_time": "2022-01-12T12:10:47.024Z"
   },
   {
    "duration": 27,
    "start_time": "2022-01-12T12:10:47.034Z"
   },
   {
    "duration": 27,
    "start_time": "2022-01-12T12:10:47.064Z"
   },
   {
    "duration": 23,
    "start_time": "2022-01-12T12:10:47.094Z"
   },
   {
    "duration": 4,
    "start_time": "2022-01-12T12:29:44.797Z"
   },
   {
    "duration": 571,
    "start_time": "2022-01-12T12:29:44.803Z"
   },
   {
    "duration": 533,
    "start_time": "2022-01-12T12:29:45.378Z"
   },
   {
    "duration": 13,
    "start_time": "2022-01-12T12:29:45.914Z"
   },
   {
    "duration": 49,
    "start_time": "2022-01-12T12:29:45.930Z"
   },
   {
    "duration": 4,
    "start_time": "2022-01-12T12:29:45.982Z"
   },
   {
    "duration": 15,
    "start_time": "2022-01-12T12:29:45.990Z"
   },
   {
    "duration": 131,
    "start_time": "2022-01-12T12:29:46.008Z"
   },
   {
    "duration": 36,
    "start_time": "2022-01-12T12:29:46.142Z"
   },
   {
    "duration": 6,
    "start_time": "2022-01-12T12:29:46.181Z"
   },
   {
    "duration": 74,
    "start_time": "2022-01-12T12:29:46.190Z"
   },
   {
    "duration": 48,
    "start_time": "2022-01-12T12:29:46.267Z"
   },
   {
    "duration": 14,
    "start_time": "2022-01-12T12:29:46.317Z"
   },
   {
    "duration": 17,
    "start_time": "2022-01-12T12:29:46.362Z"
   },
   {
    "duration": 22,
    "start_time": "2022-01-12T12:29:46.382Z"
   },
   {
    "duration": 22,
    "start_time": "2022-01-12T12:29:46.407Z"
   },
   {
    "duration": 31,
    "start_time": "2022-01-12T12:29:46.432Z"
   },
   {
    "duration": 12,
    "start_time": "2022-01-12T12:29:46.471Z"
   },
   {
    "duration": 48,
    "start_time": "2022-01-12T12:29:46.488Z"
   },
   {
    "duration": 3,
    "start_time": "2022-01-12T12:29:46.539Z"
   },
   {
    "duration": 4,
    "start_time": "2022-01-12T12:29:46.563Z"
   },
   {
    "duration": 15,
    "start_time": "2022-01-12T12:29:46.569Z"
   },
   {
    "duration": 6,
    "start_time": "2022-01-12T12:29:46.587Z"
   },
   {
    "duration": 6,
    "start_time": "2022-01-12T12:29:46.596Z"
   },
   {
    "duration": 78,
    "start_time": "2022-01-12T12:29:46.604Z"
   },
   {
    "duration": 3,
    "start_time": "2022-01-12T12:29:46.684Z"
   },
   {
    "duration": 45,
    "start_time": "2022-01-12T12:29:46.689Z"
   },
   {
    "duration": 38,
    "start_time": "2022-01-12T12:29:46.737Z"
   },
   {
    "duration": 5,
    "start_time": "2022-01-12T12:29:46.778Z"
   },
   {
    "duration": 7,
    "start_time": "2022-01-12T12:29:46.786Z"
   },
   {
    "duration": 6,
    "start_time": "2022-01-12T12:29:46.795Z"
   },
   {
    "duration": 54,
    "start_time": "2022-01-12T12:29:48.049Z"
   },
   {
    "duration": 123,
    "start_time": "2022-01-12T12:31:04.696Z"
   },
   {
    "duration": 631,
    "start_time": "2022-01-13T12:10:45.930Z"
   },
   {
    "duration": 901,
    "start_time": "2022-01-13T12:10:51.502Z"
   },
   {
    "duration": 616,
    "start_time": "2022-01-13T12:10:52.405Z"
   },
   {
    "duration": 605,
    "start_time": "2022-01-13T12:10:53.024Z"
   },
   {
    "duration": 35,
    "start_time": "2022-01-13T12:10:53.633Z"
   },
   {
    "duration": 19,
    "start_time": "2022-01-13T12:10:53.671Z"
   },
   {
    "duration": 6,
    "start_time": "2022-01-13T12:10:53.692Z"
   },
   {
    "duration": 24,
    "start_time": "2022-01-13T12:10:53.700Z"
   },
   {
    "duration": 138,
    "start_time": "2022-01-13T12:10:53.729Z"
   },
   {
    "duration": 21,
    "start_time": "2022-01-13T12:10:53.871Z"
   },
   {
    "duration": 8,
    "start_time": "2022-01-13T12:10:53.895Z"
   },
   {
    "duration": 75,
    "start_time": "2022-01-13T12:10:53.906Z"
   },
   {
    "duration": 47,
    "start_time": "2022-01-13T12:10:53.984Z"
   },
   {
    "duration": 38,
    "start_time": "2022-01-13T12:10:54.033Z"
   },
   {
    "duration": 12,
    "start_time": "2022-01-13T12:10:54.074Z"
   },
   {
    "duration": 26,
    "start_time": "2022-01-13T12:10:54.089Z"
   },
   {
    "duration": 49,
    "start_time": "2022-01-13T12:10:54.118Z"
   },
   {
    "duration": 4,
    "start_time": "2022-01-13T12:10:54.170Z"
   },
   {
    "duration": 6,
    "start_time": "2022-01-13T12:10:54.177Z"
   },
   {
    "duration": 82,
    "start_time": "2022-01-13T12:10:54.185Z"
   },
   {
    "duration": 3,
    "start_time": "2022-01-13T12:10:54.270Z"
   },
   {
    "duration": 6,
    "start_time": "2022-01-13T12:10:54.276Z"
   },
   {
    "duration": 7,
    "start_time": "2022-01-13T12:10:54.286Z"
   },
   {
    "duration": 4,
    "start_time": "2022-01-13T12:10:54.298Z"
   },
   {
    "duration": 5,
    "start_time": "2022-01-13T12:10:54.305Z"
   },
   {
    "duration": 105,
    "start_time": "2022-01-13T12:10:54.313Z"
   },
   {
    "duration": 3,
    "start_time": "2022-01-13T12:10:54.421Z"
   },
   {
    "duration": 62,
    "start_time": "2022-01-13T12:10:54.427Z"
   },
   {
    "duration": 30,
    "start_time": "2022-01-13T12:10:54.491Z"
   },
   {
    "duration": 3,
    "start_time": "2022-01-13T12:10:54.524Z"
   },
   {
    "duration": 9,
    "start_time": "2022-01-13T12:10:54.529Z"
   },
   {
    "duration": 26,
    "start_time": "2022-01-13T12:10:54.541Z"
   },
   {
    "duration": 53,
    "start_time": "2022-01-13T12:10:54.570Z"
   },
   {
    "duration": 23,
    "start_time": "2022-01-13T12:11:06.089Z"
   },
   {
    "duration": 144,
    "start_time": "2022-01-13T12:19:14.040Z"
   },
   {
    "duration": 100,
    "start_time": "2022-01-13T12:19:41.825Z"
   },
   {
    "duration": 412,
    "start_time": "2022-01-13T12:20:04.422Z"
   },
   {
    "duration": 811,
    "start_time": "2022-01-13T12:24:18.737Z"
   },
   {
    "duration": 724,
    "start_time": "2022-01-13T12:24:19.551Z"
   },
   {
    "duration": 647,
    "start_time": "2022-01-13T12:24:20.283Z"
   },
   {
    "duration": 43,
    "start_time": "2022-01-13T12:24:20.932Z"
   },
   {
    "duration": 20,
    "start_time": "2022-01-13T12:24:20.979Z"
   },
   {
    "duration": 4,
    "start_time": "2022-01-13T12:24:21.002Z"
   },
   {
    "duration": 19,
    "start_time": "2022-01-13T12:24:21.010Z"
   },
   {
    "duration": 143,
    "start_time": "2022-01-13T12:24:21.034Z"
   },
   {
    "duration": 5,
    "start_time": "2022-01-13T12:24:21.180Z"
   },
   {
    "duration": 46,
    "start_time": "2022-01-13T12:24:21.188Z"
   },
   {
    "duration": 76,
    "start_time": "2022-01-13T12:24:21.237Z"
   },
   {
    "duration": 19,
    "start_time": "2022-01-13T12:24:21.316Z"
   },
   {
    "duration": 37,
    "start_time": "2022-01-13T12:24:21.338Z"
   },
   {
    "duration": 18,
    "start_time": "2022-01-13T12:24:21.379Z"
   },
   {
    "duration": 1742,
    "start_time": "2022-01-13T12:24:25.857Z"
   },
   {
    "duration": 2152,
    "start_time": "2022-01-13T12:25:27.764Z"
   },
   {
    "duration": 983,
    "start_time": "2022-01-13T12:25:57.163Z"
   },
   {
    "duration": 118,
    "start_time": "2022-01-13T12:28:03.692Z"
   },
   {
    "duration": 1749,
    "start_time": "2022-01-13T12:28:11.704Z"
   },
   {
    "duration": 1724,
    "start_time": "2022-01-13T12:28:23.331Z"
   },
   {
    "duration": 1857,
    "start_time": "2022-01-13T12:28:34.456Z"
   },
   {
    "duration": 4,
    "start_time": "2022-01-13T12:28:42.656Z"
   },
   {
    "duration": 602,
    "start_time": "2022-01-13T12:28:42.662Z"
   },
   {
    "duration": 573,
    "start_time": "2022-01-13T12:28:43.267Z"
   },
   {
    "duration": 32,
    "start_time": "2022-01-13T12:28:43.843Z"
   },
   {
    "duration": 20,
    "start_time": "2022-01-13T12:28:43.883Z"
   },
   {
    "duration": 4,
    "start_time": "2022-01-13T12:28:43.905Z"
   },
   {
    "duration": 16,
    "start_time": "2022-01-13T12:28:43.912Z"
   },
   {
    "duration": 135,
    "start_time": "2022-01-13T12:28:43.932Z"
   },
   {
    "duration": 5,
    "start_time": "2022-01-13T12:28:44.080Z"
   },
   {
    "duration": 66,
    "start_time": "2022-01-13T12:28:44.088Z"
   },
   {
    "duration": 59,
    "start_time": "2022-01-13T12:28:44.157Z"
   },
   {
    "duration": 20,
    "start_time": "2022-01-13T12:28:44.219Z"
   },
   {
    "duration": 40,
    "start_time": "2022-01-13T12:28:44.242Z"
   },
   {
    "duration": 17,
    "start_time": "2022-01-13T12:28:44.284Z"
   },
   {
    "duration": 1840,
    "start_time": "2022-01-13T12:28:48.698Z"
   },
   {
    "duration": 1772,
    "start_time": "2022-01-13T12:29:00.962Z"
   },
   {
    "duration": 1743,
    "start_time": "2022-01-13T12:32:09.514Z"
   },
   {
    "duration": 1933,
    "start_time": "2022-01-13T12:32:48.860Z"
   },
   {
    "duration": 4,
    "start_time": "2022-01-13T12:33:38.435Z"
   },
   {
    "duration": 630,
    "start_time": "2022-01-13T12:33:38.442Z"
   },
   {
    "duration": 661,
    "start_time": "2022-01-13T12:33:39.075Z"
   },
   {
    "duration": 42,
    "start_time": "2022-01-13T12:33:39.739Z"
   },
   {
    "duration": 20,
    "start_time": "2022-01-13T12:33:39.783Z"
   },
   {
    "duration": 4,
    "start_time": "2022-01-13T12:33:39.806Z"
   },
   {
    "duration": 16,
    "start_time": "2022-01-13T12:33:39.814Z"
   },
   {
    "duration": 146,
    "start_time": "2022-01-13T12:33:39.833Z"
   },
   {
    "duration": 7,
    "start_time": "2022-01-13T12:33:39.981Z"
   },
   {
    "duration": 44,
    "start_time": "2022-01-13T12:33:39.991Z"
   },
   {
    "duration": 75,
    "start_time": "2022-01-13T12:33:40.038Z"
   },
   {
    "duration": 22,
    "start_time": "2022-01-13T12:33:40.116Z"
   },
   {
    "duration": 36,
    "start_time": "2022-01-13T12:33:40.141Z"
   },
   {
    "duration": 20,
    "start_time": "2022-01-13T12:33:40.180Z"
   },
   {
    "duration": 1751,
    "start_time": "2022-01-13T12:33:40.203Z"
   },
   {
    "duration": 6,
    "start_time": "2022-01-13T12:33:41.968Z"
   },
   {
    "duration": 52,
    "start_time": "2022-01-13T12:33:41.979Z"
   },
   {
    "duration": 69,
    "start_time": "2022-01-13T12:33:42.034Z"
   },
   {
    "duration": 61,
    "start_time": "2022-01-13T12:33:42.108Z"
   },
   {
    "duration": 21,
    "start_time": "2022-01-13T12:33:42.172Z"
   },
   {
    "duration": 47,
    "start_time": "2022-01-13T12:33:42.200Z"
   },
   {
    "duration": 282,
    "start_time": "2022-01-13T12:33:46.164Z"
   },
   {
    "duration": 55,
    "start_time": "2022-01-13T12:34:00.947Z"
   },
   {
    "duration": 2382,
    "start_time": "2022-01-13T12:42:52.957Z"
   },
   {
    "duration": 50,
    "start_time": "2022-01-13T12:43:21.892Z"
   },
   {
    "duration": 335,
    "start_time": "2022-01-13T12:44:51.445Z"
   },
   {
    "duration": 70,
    "start_time": "2022-01-13T12:45:22.049Z"
   },
   {
    "duration": 317,
    "start_time": "2022-01-13T12:45:32.484Z"
   },
   {
    "duration": 758,
    "start_time": "2022-01-13T12:45:49.002Z"
   },
   {
    "duration": 694,
    "start_time": "2022-01-13T12:45:49.763Z"
   },
   {
    "duration": 684,
    "start_time": "2022-01-13T12:45:50.461Z"
   },
   {
    "duration": 20,
    "start_time": "2022-01-13T12:45:51.171Z"
   },
   {
    "duration": 20,
    "start_time": "2022-01-13T12:45:51.195Z"
   },
   {
    "duration": 5,
    "start_time": "2022-01-13T12:45:51.218Z"
   },
   {
    "duration": 60,
    "start_time": "2022-01-13T12:45:51.226Z"
   },
   {
    "duration": 118,
    "start_time": "2022-01-13T12:45:51.291Z"
   },
   {
    "duration": 4,
    "start_time": "2022-01-13T12:45:51.412Z"
   },
   {
    "duration": 66,
    "start_time": "2022-01-13T12:45:51.419Z"
   },
   {
    "duration": 44,
    "start_time": "2022-01-13T12:45:51.488Z"
   },
   {
    "duration": 34,
    "start_time": "2022-01-13T12:45:51.535Z"
   },
   {
    "duration": 19,
    "start_time": "2022-01-13T12:45:51.574Z"
   },
   {
    "duration": 19,
    "start_time": "2022-01-13T12:45:51.596Z"
   },
   {
    "duration": 2446,
    "start_time": "2022-01-13T12:45:51.618Z"
   },
   {
    "duration": 2,
    "start_time": "2022-01-13T12:45:54.068Z"
   },
   {
    "duration": 109,
    "start_time": "2022-01-13T12:45:54.072Z"
   },
   {
    "duration": 52,
    "start_time": "2022-01-13T12:45:54.186Z"
   },
   {
    "duration": 43,
    "start_time": "2022-01-13T12:45:54.270Z"
   },
   {
    "duration": 20,
    "start_time": "2022-01-13T12:45:54.316Z"
   },
   {
    "duration": 55,
    "start_time": "2022-01-13T12:45:54.367Z"
   },
   {
    "duration": 53,
    "start_time": "2022-01-13T12:45:54.424Z"
   },
   {
    "duration": 451,
    "start_time": "2022-01-13T12:48:02.062Z"
   },
   {
    "duration": 4,
    "start_time": "2022-01-13T12:48:09.977Z"
   },
   {
    "duration": 556,
    "start_time": "2022-01-13T12:48:09.984Z"
   },
   {
    "duration": 602,
    "start_time": "2022-01-13T12:48:10.542Z"
   },
   {
    "duration": 36,
    "start_time": "2022-01-13T12:48:11.147Z"
   },
   {
    "duration": 21,
    "start_time": "2022-01-13T12:48:11.186Z"
   },
   {
    "duration": 4,
    "start_time": "2022-01-13T12:48:11.211Z"
   },
   {
    "duration": 19,
    "start_time": "2022-01-13T12:48:11.218Z"
   },
   {
    "duration": 130,
    "start_time": "2022-01-13T12:48:11.240Z"
   },
   {
    "duration": 7,
    "start_time": "2022-01-13T12:48:11.373Z"
   },
   {
    "duration": 45,
    "start_time": "2022-01-13T12:48:11.383Z"
   },
   {
    "duration": 69,
    "start_time": "2022-01-13T12:48:11.430Z"
   },
   {
    "duration": 16,
    "start_time": "2022-01-13T12:48:11.502Z"
   },
   {
    "duration": 19,
    "start_time": "2022-01-13T12:48:15.906Z"
   },
   {
    "duration": 15,
    "start_time": "2022-01-13T12:48:28.572Z"
   },
   {
    "duration": 2182,
    "start_time": "2022-01-13T12:48:32.009Z"
   },
   {
    "duration": 3,
    "start_time": "2022-01-13T12:48:48.420Z"
   },
   {
    "duration": 55,
    "start_time": "2022-01-13T12:48:49.026Z"
   },
   {
    "duration": 47,
    "start_time": "2022-01-13T12:48:53.140Z"
   },
   {
    "duration": 36,
    "start_time": "2022-01-13T12:48:55.807Z"
   },
   {
    "duration": 14,
    "start_time": "2022-01-13T12:48:57.644Z"
   },
   {
    "duration": 91,
    "start_time": "2022-01-13T12:48:59.184Z"
   },
   {
    "duration": 31,
    "start_time": "2022-01-13T12:49:01.091Z"
   },
   {
    "duration": 6,
    "start_time": "2022-01-13T12:57:08.596Z"
   },
   {
    "duration": 367,
    "start_time": "2022-01-13T12:58:54.343Z"
   },
   {
    "duration": 25,
    "start_time": "2022-01-13T12:59:00.754Z"
   },
   {
    "duration": 22,
    "start_time": "2022-01-13T13:06:04.222Z"
   },
   {
    "duration": 12,
    "start_time": "2022-01-13T13:41:53.688Z"
   },
   {
    "duration": 12,
    "start_time": "2022-01-13T13:44:52.548Z"
   },
   {
    "duration": 14,
    "start_time": "2022-01-13T13:46:20.421Z"
   },
   {
    "duration": 10,
    "start_time": "2022-01-13T13:47:24.005Z"
   },
   {
    "duration": 6,
    "start_time": "2022-01-13T13:47:34.314Z"
   },
   {
    "duration": 9,
    "start_time": "2022-01-13T13:47:45.781Z"
   },
   {
    "duration": 8,
    "start_time": "2022-01-13T13:48:03.039Z"
   },
   {
    "duration": 7,
    "start_time": "2022-01-13T13:48:12.175Z"
   },
   {
    "duration": 11,
    "start_time": "2022-01-13T13:48:37.951Z"
   },
   {
    "duration": 10,
    "start_time": "2022-01-13T13:48:42.741Z"
   },
   {
    "duration": 10,
    "start_time": "2022-01-13T13:53:16.853Z"
   },
   {
    "duration": 10,
    "start_time": "2022-01-13T13:59:00.493Z"
   },
   {
    "duration": 11,
    "start_time": "2022-01-13T14:00:45.598Z"
   },
   {
    "duration": 167,
    "start_time": "2022-01-13T14:12:38.710Z"
   },
   {
    "duration": 36,
    "start_time": "2022-01-13T14:12:59.915Z"
   },
   {
    "duration": 21,
    "start_time": "2022-01-13T14:15:58.975Z"
   },
   {
    "duration": 22,
    "start_time": "2022-01-13T14:16:16.639Z"
   },
   {
    "duration": 15,
    "start_time": "2022-01-13T14:17:32.733Z"
   },
   {
    "duration": 16,
    "start_time": "2022-01-13T14:18:35.061Z"
   },
   {
    "duration": 96,
    "start_time": "2022-01-13T14:43:49.804Z"
   },
   {
    "duration": 304,
    "start_time": "2022-01-13T14:43:55.436Z"
   },
   {
    "duration": 51,
    "start_time": "2022-01-13T14:44:07.238Z"
   },
   {
    "duration": 52,
    "start_time": "2022-01-13T14:48:35.576Z"
   },
   {
    "duration": 50,
    "start_time": "2022-01-13T14:48:43.635Z"
   },
   {
    "duration": 502,
    "start_time": "2022-01-13T14:57:09.349Z"
   },
   {
    "duration": 318,
    "start_time": "2022-01-13T14:57:24.340Z"
   },
   {
    "duration": 306,
    "start_time": "2022-01-13T14:57:45.407Z"
   },
   {
    "duration": 756,
    "start_time": "2022-01-14T09:01:25.703Z"
   },
   {
    "duration": 571,
    "start_time": "2022-01-14T09:01:26.462Z"
   },
   {
    "duration": 604,
    "start_time": "2022-01-14T09:01:27.037Z"
   },
   {
    "duration": 32,
    "start_time": "2022-01-14T09:01:27.645Z"
   },
   {
    "duration": 21,
    "start_time": "2022-01-14T09:01:27.679Z"
   },
   {
    "duration": 5,
    "start_time": "2022-01-14T09:01:27.703Z"
   },
   {
    "duration": 18,
    "start_time": "2022-01-14T09:01:27.710Z"
   },
   {
    "duration": 161,
    "start_time": "2022-01-14T09:01:27.767Z"
   },
   {
    "duration": 5,
    "start_time": "2022-01-14T09:01:27.932Z"
   },
   {
    "duration": 71,
    "start_time": "2022-01-14T09:01:27.940Z"
   },
   {
    "duration": 64,
    "start_time": "2022-01-14T09:01:28.014Z"
   },
   {
    "duration": 19,
    "start_time": "2022-01-14T09:01:28.081Z"
   },
   {
    "duration": 20,
    "start_time": "2022-01-14T09:01:28.103Z"
   },
   {
    "duration": 47,
    "start_time": "2022-01-14T09:01:28.125Z"
   },
   {
    "duration": 2109,
    "start_time": "2022-01-14T09:01:28.175Z"
   },
   {
    "duration": 428,
    "start_time": "2022-01-14T09:01:30.286Z"
   },
   {
    "duration": 773,
    "start_time": "2022-01-14T09:01:29.943Z"
   },
   {
    "duration": 772,
    "start_time": "2022-01-14T09:01:29.946Z"
   },
   {
    "duration": 771,
    "start_time": "2022-01-14T09:01:29.949Z"
   },
   {
    "duration": 769,
    "start_time": "2022-01-14T09:01:29.952Z"
   },
   {
    "duration": 768,
    "start_time": "2022-01-14T09:01:29.955Z"
   },
   {
    "duration": 766,
    "start_time": "2022-01-14T09:01:29.958Z"
   },
   {
    "duration": 763,
    "start_time": "2022-01-14T09:01:29.962Z"
   },
   {
    "duration": 761,
    "start_time": "2022-01-14T09:01:29.966Z"
   },
   {
    "duration": 752,
    "start_time": "2022-01-14T09:01:29.976Z"
   },
   {
    "duration": 752,
    "start_time": "2022-01-14T09:01:29.978Z"
   },
   {
    "duration": 48,
    "start_time": "2022-01-14T09:01:55.164Z"
   },
   {
    "duration": 41,
    "start_time": "2022-01-14T09:02:24.885Z"
   },
   {
    "duration": 47,
    "start_time": "2022-01-14T09:02:31.364Z"
   },
   {
    "duration": 47,
    "start_time": "2022-01-14T09:02:36.935Z"
   },
   {
    "duration": 56,
    "start_time": "2022-01-14T09:03:07.820Z"
   },
   {
    "duration": 6,
    "start_time": "2022-01-14T09:03:38.375Z"
   },
   {
    "duration": 51,
    "start_time": "2022-01-14T09:03:47.042Z"
   },
   {
    "duration": 46,
    "start_time": "2022-01-14T09:03:48.698Z"
   },
   {
    "duration": 21,
    "start_time": "2022-01-14T09:03:50.734Z"
   },
   {
    "duration": 47,
    "start_time": "2022-01-14T09:03:53.410Z"
   },
   {
    "duration": 41,
    "start_time": "2022-01-14T09:03:55.346Z"
   },
   {
    "duration": 6,
    "start_time": "2022-01-14T09:03:59.010Z"
   },
   {
    "duration": 354,
    "start_time": "2022-01-14T09:04:00.655Z"
   },
   {
    "duration": 27,
    "start_time": "2022-01-14T09:04:02.479Z"
   },
   {
    "duration": 693,
    "start_time": "2022-01-14T09:04:12.121Z"
   },
   {
    "duration": 49,
    "start_time": "2022-01-14T09:04:21.423Z"
   },
   {
    "duration": 621,
    "start_time": "2022-01-14T09:04:32.098Z"
   },
   {
    "duration": 390,
    "start_time": "2022-01-14T09:04:42.701Z"
   },
   {
    "duration": 593,
    "start_time": "2022-01-14T09:04:48.094Z"
   },
   {
    "duration": 620,
    "start_time": "2022-01-14T09:06:58.339Z"
   },
   {
    "duration": 613,
    "start_time": "2022-01-14T09:09:42.525Z"
   },
   {
    "duration": 578,
    "start_time": "2022-01-14T09:10:37.477Z"
   },
   {
    "duration": 606,
    "start_time": "2022-01-14T09:13:57.044Z"
   },
   {
    "duration": 7,
    "start_time": "2022-01-14T09:20:16.313Z"
   },
   {
    "duration": 1088,
    "start_time": "2022-01-14T09:20:44.754Z"
   },
   {
    "duration": 10,
    "start_time": "2022-01-14T09:22:36.392Z"
   },
   {
    "duration": 897,
    "start_time": "2022-01-14T09:22:38.009Z"
   },
   {
    "duration": 1103,
    "start_time": "2022-01-14T09:24:09.297Z"
   },
   {
    "duration": 927,
    "start_time": "2022-01-14T09:24:56.714Z"
   },
   {
    "duration": 933,
    "start_time": "2022-01-14T09:25:09.643Z"
   },
   {
    "duration": 948,
    "start_time": "2022-01-14T09:25:42.567Z"
   },
   {
    "duration": 6,
    "start_time": "2022-01-14T09:26:46.287Z"
   },
   {
    "duration": 1224,
    "start_time": "2022-01-14T09:26:48.374Z"
   },
   {
    "duration": 8,
    "start_time": "2022-01-14T09:27:07.168Z"
   },
   {
    "duration": 1160,
    "start_time": "2022-01-14T09:27:07.853Z"
   },
   {
    "duration": 1622,
    "start_time": "2022-01-14T09:27:13.762Z"
   },
   {
    "duration": 1054,
    "start_time": "2022-01-14T09:27:40.267Z"
   },
   {
    "duration": 1059,
    "start_time": "2022-01-14T09:28:07.933Z"
   },
   {
    "duration": 1032,
    "start_time": "2022-01-14T09:30:27.570Z"
   },
   {
    "duration": 1188,
    "start_time": "2022-01-14T09:30:44.765Z"
   },
   {
    "duration": 1065,
    "start_time": "2022-01-14T09:31:15.981Z"
   },
   {
    "duration": 898,
    "start_time": "2022-01-14T09:31:26.648Z"
   },
   {
    "duration": 921,
    "start_time": "2022-01-14T09:31:57.683Z"
   },
   {
    "duration": 5,
    "start_time": "2022-01-14T13:52:58.734Z"
   },
   {
    "duration": 230,
    "start_time": "2022-01-14T13:53:02.108Z"
   },
   {
    "duration": 1009,
    "start_time": "2022-01-14T13:53:13.623Z"
   },
   {
    "duration": 336,
    "start_time": "2022-01-14T13:53:14.634Z"
   },
   {
    "duration": 325,
    "start_time": "2022-01-14T13:53:14.971Z"
   },
   {
    "duration": 20,
    "start_time": "2022-01-14T13:53:15.298Z"
   },
   {
    "duration": 13,
    "start_time": "2022-01-14T13:53:15.319Z"
   },
   {
    "duration": 3,
    "start_time": "2022-01-14T13:53:15.333Z"
   },
   {
    "duration": 12,
    "start_time": "2022-01-14T13:53:15.337Z"
   },
   {
    "duration": 73,
    "start_time": "2022-01-14T13:53:15.351Z"
   },
   {
    "duration": 3,
    "start_time": "2022-01-14T13:53:15.426Z"
   },
   {
    "duration": 30,
    "start_time": "2022-01-14T13:53:15.430Z"
   },
   {
    "duration": 26,
    "start_time": "2022-01-14T13:53:15.462Z"
   },
   {
    "duration": 25,
    "start_time": "2022-01-14T13:53:15.490Z"
   },
   {
    "duration": 9,
    "start_time": "2022-01-14T13:53:15.516Z"
   },
   {
    "duration": 8,
    "start_time": "2022-01-14T13:53:15.526Z"
   },
   {
    "duration": 918,
    "start_time": "2022-01-14T13:53:15.536Z"
   },
   {
    "duration": 29,
    "start_time": "2022-01-14T13:53:16.456Z"
   },
   {
    "duration": 43,
    "start_time": "2022-01-14T13:53:16.487Z"
   },
   {
    "duration": 26,
    "start_time": "2022-01-14T13:53:16.531Z"
   },
   {
    "duration": 21,
    "start_time": "2022-01-14T13:53:16.558Z"
   },
   {
    "duration": 7,
    "start_time": "2022-01-14T13:53:16.581Z"
   },
   {
    "duration": 49,
    "start_time": "2022-01-14T13:53:16.590Z"
   },
   {
    "duration": 16,
    "start_time": "2022-01-14T13:53:16.640Z"
   },
   {
    "duration": 3,
    "start_time": "2022-01-14T13:53:16.659Z"
   },
   {
    "duration": 192,
    "start_time": "2022-01-14T13:53:16.663Z"
   },
   {
    "duration": 15,
    "start_time": "2022-01-14T13:53:16.857Z"
   },
   {
    "duration": 38,
    "start_time": "2022-01-14T13:53:16.874Z"
   },
   {
    "duration": 4,
    "start_time": "2022-01-14T13:53:20.230Z"
   },
   {
    "duration": 563,
    "start_time": "2022-01-14T13:53:20.763Z"
   },
   {
    "duration": 585,
    "start_time": "2022-01-14T13:53:36.078Z"
   },
   {
    "duration": 4,
    "start_time": "2022-01-14T13:53:49.413Z"
   },
   {
    "duration": 547,
    "start_time": "2022-01-14T13:53:50.039Z"
   },
   {
    "duration": 647,
    "start_time": "2022-01-14T13:53:54.565Z"
   },
   {
    "duration": 637,
    "start_time": "2022-01-14T14:32:54.822Z"
   },
   {
    "duration": 561,
    "start_time": "2022-01-14T14:35:19.379Z"
   },
   {
    "duration": 2,
    "start_time": "2022-01-14T14:58:32.852Z"
   },
   {
    "duration": 492,
    "start_time": "2022-01-14T22:33:24.526Z"
   },
   {
    "duration": 393,
    "start_time": "2022-01-14T22:34:30.147Z"
   },
   {
    "duration": 426,
    "start_time": "2022-01-14T22:34:37.197Z"
   },
   {
    "duration": 412,
    "start_time": "2022-01-14T22:35:03.670Z"
   },
   {
    "duration": 531,
    "start_time": "2022-01-14T22:35:20.183Z"
   },
   {
    "duration": 9,
    "start_time": "2022-01-14T22:35:49.935Z"
   },
   {
    "duration": 9,
    "start_time": "2022-01-14T22:36:13.143Z"
   },
   {
    "duration": 9,
    "start_time": "2022-01-14T22:40:00.625Z"
   },
   {
    "duration": 9,
    "start_time": "2022-01-14T22:42:58.027Z"
   },
   {
    "duration": 9,
    "start_time": "2022-01-14T22:43:10.118Z"
   },
   {
    "duration": 426,
    "start_time": "2022-01-14T22:50:30.279Z"
   },
   {
    "duration": 603,
    "start_time": "2022-01-14T22:50:34.231Z"
   },
   {
    "duration": 428,
    "start_time": "2022-01-14T22:50:42.856Z"
   },
   {
    "duration": 10,
    "start_time": "2022-01-15T00:12:26.065Z"
   },
   {
    "duration": 10,
    "start_time": "2022-01-15T00:14:20.628Z"
   },
   {
    "duration": 11,
    "start_time": "2022-01-15T00:21:01.046Z"
   },
   {
    "duration": 262,
    "start_time": "2022-01-17T12:21:04.271Z"
   },
   {
    "duration": 1079,
    "start_time": "2022-01-17T12:21:07.810Z"
   },
   {
    "duration": 403,
    "start_time": "2022-01-17T12:21:08.891Z"
   },
   {
    "duration": 346,
    "start_time": "2022-01-17T12:21:09.296Z"
   },
   {
    "duration": 10,
    "start_time": "2022-01-17T12:21:09.644Z"
   },
   {
    "duration": 26,
    "start_time": "2022-01-17T12:21:09.656Z"
   },
   {
    "duration": 3,
    "start_time": "2022-01-17T12:21:09.684Z"
   },
   {
    "duration": 11,
    "start_time": "2022-01-17T12:21:09.689Z"
   },
   {
    "duration": 82,
    "start_time": "2022-01-17T12:21:09.703Z"
   },
   {
    "duration": 3,
    "start_time": "2022-01-17T12:21:09.787Z"
   },
   {
    "duration": 32,
    "start_time": "2022-01-17T12:21:09.791Z"
   },
   {
    "duration": 28,
    "start_time": "2022-01-17T12:21:09.824Z"
   },
   {
    "duration": 27,
    "start_time": "2022-01-17T12:21:09.854Z"
   },
   {
    "duration": 11,
    "start_time": "2022-01-17T12:21:09.883Z"
   },
   {
    "duration": 8,
    "start_time": "2022-01-17T12:21:09.896Z"
   },
   {
    "duration": 1030,
    "start_time": "2022-01-17T12:21:09.906Z"
   },
   {
    "duration": 34,
    "start_time": "2022-01-17T12:21:10.938Z"
   },
   {
    "duration": 28,
    "start_time": "2022-01-17T12:21:10.974Z"
   },
   {
    "duration": 30,
    "start_time": "2022-01-17T12:21:11.004Z"
   },
   {
    "duration": 23,
    "start_time": "2022-01-17T12:21:11.035Z"
   },
   {
    "duration": 15,
    "start_time": "2022-01-17T12:21:11.060Z"
   },
   {
    "duration": 28,
    "start_time": "2022-01-17T12:21:11.076Z"
   },
   {
    "duration": 5,
    "start_time": "2022-01-17T12:21:11.106Z"
   },
   {
    "duration": 18,
    "start_time": "2022-01-17T12:21:11.114Z"
   },
   {
    "duration": 4,
    "start_time": "2022-01-17T12:21:11.134Z"
   },
   {
    "duration": 194,
    "start_time": "2022-01-17T12:21:11.139Z"
   },
   {
    "duration": 15,
    "start_time": "2022-01-17T12:21:11.335Z"
   },
   {
    "duration": 32,
    "start_time": "2022-01-17T12:21:11.351Z"
   },
   {
    "duration": 4,
    "start_time": "2022-01-17T12:21:11.384Z"
   },
   {
    "duration": 701,
    "start_time": "2022-01-17T12:21:11.389Z"
   },
   {
    "duration": 696,
    "start_time": "2022-01-17T12:21:12.092Z"
   },
   {
    "duration": 490,
    "start_time": "2022-01-17T12:21:12.789Z"
   },
   {
    "duration": 490,
    "start_time": "2022-01-17T12:21:13.281Z"
   },
   {
    "duration": 436,
    "start_time": "2022-01-17T12:21:13.773Z"
   },
   {
    "duration": 443,
    "start_time": "2022-01-17T12:21:14.210Z"
   },
   {
    "duration": 525,
    "start_time": "2022-01-17T12:21:14.655Z"
   },
   {
    "duration": 453,
    "start_time": "2022-01-17T12:21:15.182Z"
   },
   {
    "duration": 9,
    "start_time": "2022-01-17T12:21:15.637Z"
   },
   {
    "duration": 30,
    "start_time": "2022-01-17T12:21:15.648Z"
   },
   {
    "duration": 36,
    "start_time": "2022-01-17T12:21:15.680Z"
   },
   {
    "duration": 1667,
    "start_time": "2022-01-17T14:34:57.925Z"
   },
   {
    "duration": 598,
    "start_time": "2022-01-17T14:34:59.595Z"
   },
   {
    "duration": 555,
    "start_time": "2022-01-17T14:35:00.196Z"
   },
   {
    "duration": 15,
    "start_time": "2022-01-17T14:35:00.764Z"
   },
   {
    "duration": 32,
    "start_time": "2022-01-17T14:35:00.782Z"
   },
   {
    "duration": 11,
    "start_time": "2022-01-17T14:35:00.817Z"
   },
   {
    "duration": 43,
    "start_time": "2022-01-17T14:35:00.831Z"
   },
   {
    "duration": 131,
    "start_time": "2022-01-17T14:35:00.879Z"
   },
   {
    "duration": 4,
    "start_time": "2022-01-17T14:35:01.013Z"
   },
   {
    "duration": 75,
    "start_time": "2022-01-17T14:35:01.019Z"
   },
   {
    "duration": 44,
    "start_time": "2022-01-17T14:35:01.096Z"
   },
   {
    "duration": 31,
    "start_time": "2022-01-17T14:35:01.143Z"
   },
   {
    "duration": 17,
    "start_time": "2022-01-17T14:35:01.176Z"
   },
   {
    "duration": 34,
    "start_time": "2022-01-17T14:35:01.196Z"
   },
   {
    "duration": 33,
    "start_time": "2022-01-17T14:35:01.233Z"
   },
   {
    "duration": 433,
    "start_time": "2022-01-17T14:40:34.857Z"
   },
   {
    "duration": 96,
    "start_time": "2022-01-17T14:47:39.662Z"
   },
   {
    "duration": 1118,
    "start_time": "2022-01-17T14:47:45.542Z"
   },
   {
    "duration": 91,
    "start_time": "2022-01-17T14:48:21.159Z"
   },
   {
    "duration": 16,
    "start_time": "2022-01-17T14:51:04.009Z"
   },
   {
    "duration": 21,
    "start_time": "2022-01-17T14:51:46.319Z"
   },
   {
    "duration": 1336,
    "start_time": "2022-01-17T14:52:19.503Z"
   },
   {
    "duration": 5,
    "start_time": "2022-01-17T14:52:32.182Z"
   },
   {
    "duration": 548,
    "start_time": "2022-01-17T14:52:32.189Z"
   },
   {
    "duration": 532,
    "start_time": "2022-01-17T14:52:32.740Z"
   },
   {
    "duration": 14,
    "start_time": "2022-01-17T14:52:33.274Z"
   },
   {
    "duration": 25,
    "start_time": "2022-01-17T14:52:33.291Z"
   },
   {
    "duration": 4,
    "start_time": "2022-01-17T14:52:33.319Z"
   },
   {
    "duration": 14,
    "start_time": "2022-01-17T14:52:33.363Z"
   },
   {
    "duration": 115,
    "start_time": "2022-01-17T14:52:33.380Z"
   },
   {
    "duration": 4,
    "start_time": "2022-01-17T14:52:33.497Z"
   },
   {
    "duration": 61,
    "start_time": "2022-01-17T14:52:33.503Z"
   },
   {
    "duration": 50,
    "start_time": "2022-01-17T14:52:33.567Z"
   },
   {
    "duration": 20,
    "start_time": "2022-01-17T14:52:33.619Z"
   },
   {
    "duration": 20,
    "start_time": "2022-01-17T14:52:33.663Z"
   },
   {
    "duration": 12,
    "start_time": "2022-01-17T14:52:33.686Z"
   },
   {
    "duration": 6,
    "start_time": "2022-01-17T14:52:33.700Z"
   },
   {
    "duration": 12,
    "start_time": "2022-01-17T14:52:35.627Z"
   },
   {
    "duration": 4,
    "start_time": "2022-01-17T14:53:10.032Z"
   },
   {
    "duration": 511,
    "start_time": "2022-01-17T14:53:10.039Z"
   },
   {
    "duration": 518,
    "start_time": "2022-01-17T14:53:10.553Z"
   },
   {
    "duration": 13,
    "start_time": "2022-01-17T14:53:11.074Z"
   },
   {
    "duration": 21,
    "start_time": "2022-01-17T14:53:11.090Z"
   },
   {
    "duration": 5,
    "start_time": "2022-01-17T14:53:11.114Z"
   },
   {
    "duration": 48,
    "start_time": "2022-01-17T14:53:11.121Z"
   },
   {
    "duration": 106,
    "start_time": "2022-01-17T14:53:11.172Z"
   },
   {
    "duration": 3,
    "start_time": "2022-01-17T14:53:11.281Z"
   },
   {
    "duration": 45,
    "start_time": "2022-01-17T14:53:11.287Z"
   },
   {
    "duration": 66,
    "start_time": "2022-01-17T14:53:11.334Z"
   },
   {
    "duration": 15,
    "start_time": "2022-01-17T14:53:11.403Z"
   },
   {
    "duration": 15,
    "start_time": "2022-01-17T14:53:11.421Z"
   },
   {
    "duration": 35,
    "start_time": "2022-01-17T14:53:11.438Z"
   },
   {
    "duration": 8,
    "start_time": "2022-01-17T14:53:11.476Z"
   },
   {
    "duration": 24,
    "start_time": "2022-01-17T14:53:12.869Z"
   },
   {
    "duration": 17,
    "start_time": "2022-01-17T14:53:32.061Z"
   },
   {
    "duration": 21,
    "start_time": "2022-01-17T15:00:08.816Z"
   },
   {
    "duration": 287,
    "start_time": "2022-01-17T15:00:26.145Z"
   },
   {
    "duration": 14,
    "start_time": "2022-01-17T15:00:40.289Z"
   },
   {
    "duration": 1540,
    "start_time": "2022-01-17T15:15:35.152Z"
   },
   {
    "duration": 559,
    "start_time": "2022-01-17T15:15:36.694Z"
   },
   {
    "duration": 588,
    "start_time": "2022-01-17T15:15:37.256Z"
   },
   {
    "duration": 28,
    "start_time": "2022-01-17T15:15:37.846Z"
   },
   {
    "duration": 22,
    "start_time": "2022-01-17T15:15:37.877Z"
   },
   {
    "duration": 4,
    "start_time": "2022-01-17T15:15:37.902Z"
   },
   {
    "duration": 54,
    "start_time": "2022-01-17T15:15:37.909Z"
   },
   {
    "duration": 152,
    "start_time": "2022-01-17T15:15:37.969Z"
   },
   {
    "duration": 5,
    "start_time": "2022-01-17T15:15:38.125Z"
   },
   {
    "duration": 70,
    "start_time": "2022-01-17T15:15:38.133Z"
   },
   {
    "duration": 65,
    "start_time": "2022-01-17T15:15:38.207Z"
   },
   {
    "duration": 21,
    "start_time": "2022-01-17T15:15:38.275Z"
   },
   {
    "duration": 24,
    "start_time": "2022-01-17T15:15:38.299Z"
   },
   {
    "duration": 42,
    "start_time": "2022-01-17T15:15:38.326Z"
   },
   {
    "duration": 21,
    "start_time": "2022-01-17T15:15:38.371Z"
   },
   {
    "duration": 5,
    "start_time": "2022-01-17T15:15:38.395Z"
   },
   {
    "duration": 28,
    "start_time": "2022-01-17T15:15:38.402Z"
   },
   {
    "duration": 76,
    "start_time": "2022-01-17T15:15:38.433Z"
   },
   {
    "duration": 70,
    "start_time": "2022-01-17T15:15:38.512Z"
   },
   {
    "duration": 46,
    "start_time": "2022-01-17T15:15:38.584Z"
   },
   {
    "duration": 64,
    "start_time": "2022-01-17T15:15:38.633Z"
   },
   {
    "duration": 16,
    "start_time": "2022-01-17T15:15:38.700Z"
   },
   {
    "duration": 50,
    "start_time": "2022-01-17T15:16:20.474Z"
   },
   {
    "duration": 453,
    "start_time": "2022-01-17T15:17:03.552Z"
   },
   {
    "duration": 5,
    "start_time": "2022-01-17T15:17:13.112Z"
   },
   {
    "duration": 644,
    "start_time": "2022-01-17T15:17:13.120Z"
   },
   {
    "duration": 597,
    "start_time": "2022-01-17T15:17:13.767Z"
   },
   {
    "duration": 21,
    "start_time": "2022-01-17T15:17:14.368Z"
   },
   {
    "duration": 30,
    "start_time": "2022-01-17T15:17:14.392Z"
   },
   {
    "duration": 38,
    "start_time": "2022-01-17T15:17:14.426Z"
   },
   {
    "duration": 15,
    "start_time": "2022-01-17T15:17:14.467Z"
   },
   {
    "duration": 113,
    "start_time": "2022-01-17T15:17:14.485Z"
   },
   {
    "duration": 4,
    "start_time": "2022-01-17T15:17:14.600Z"
   },
   {
    "duration": 58,
    "start_time": "2022-01-17T15:17:14.606Z"
   },
   {
    "duration": 41,
    "start_time": "2022-01-17T15:17:14.666Z"
   },
   {
    "duration": 17,
    "start_time": "2022-01-17T15:17:14.710Z"
   },
   {
    "duration": 39,
    "start_time": "2022-01-17T15:17:14.729Z"
   },
   {
    "duration": 17,
    "start_time": "2022-01-17T15:17:14.770Z"
   },
   {
    "duration": 16,
    "start_time": "2022-01-17T15:17:14.789Z"
   },
   {
    "duration": 4,
    "start_time": "2022-01-17T15:17:14.807Z"
   },
   {
    "duration": 56,
    "start_time": "2022-01-17T15:17:14.814Z"
   },
   {
    "duration": 43,
    "start_time": "2022-01-17T15:17:14.872Z"
   },
   {
    "duration": 55,
    "start_time": "2022-01-17T15:17:14.919Z"
   },
   {
    "duration": 42,
    "start_time": "2022-01-17T15:17:14.977Z"
   },
   {
    "duration": 61,
    "start_time": "2022-01-17T15:17:15.021Z"
   },
   {
    "duration": 14,
    "start_time": "2022-01-17T15:17:15.084Z"
   },
   {
    "duration": 275,
    "start_time": "2022-01-17T15:17:17.078Z"
   },
   {
    "duration": 510,
    "start_time": "2022-01-17T15:18:54.184Z"
   },
   {
    "duration": 1484,
    "start_time": "2022-01-17T15:19:06.276Z"
   },
   {
    "duration": 877,
    "start_time": "2022-01-17T15:19:07.764Z"
   },
   {
    "duration": 600,
    "start_time": "2022-01-17T15:19:08.644Z"
   },
   {
    "duration": 32,
    "start_time": "2022-01-17T15:19:09.248Z"
   },
   {
    "duration": 31,
    "start_time": "2022-01-17T15:19:09.283Z"
   },
   {
    "duration": 6,
    "start_time": "2022-01-17T15:19:09.317Z"
   },
   {
    "duration": 22,
    "start_time": "2022-01-17T15:19:09.363Z"
   },
   {
    "duration": 129,
    "start_time": "2022-01-17T15:19:09.391Z"
   },
   {
    "duration": 4,
    "start_time": "2022-01-17T15:19:09.523Z"
   },
   {
    "duration": 63,
    "start_time": "2022-01-17T15:19:09.529Z"
   },
   {
    "duration": 69,
    "start_time": "2022-01-17T15:19:09.595Z"
   },
   {
    "duration": 24,
    "start_time": "2022-01-17T15:19:09.668Z"
   },
   {
    "duration": 24,
    "start_time": "2022-01-17T15:19:09.695Z"
   },
   {
    "duration": 43,
    "start_time": "2022-01-17T15:19:09.722Z"
   },
   {
    "duration": 21,
    "start_time": "2022-01-17T15:19:09.768Z"
   },
   {
    "duration": 17,
    "start_time": "2022-01-17T15:19:09.792Z"
   },
   {
    "duration": 54,
    "start_time": "2022-01-17T15:19:09.812Z"
   },
   {
    "duration": 67,
    "start_time": "2022-01-17T15:19:09.870Z"
   },
   {
    "duration": 84,
    "start_time": "2022-01-17T15:19:09.940Z"
   },
   {
    "duration": 74,
    "start_time": "2022-01-17T15:19:10.027Z"
   },
   {
    "duration": 62,
    "start_time": "2022-01-17T15:19:10.104Z"
   },
   {
    "duration": 17,
    "start_time": "2022-01-17T15:19:10.169Z"
   },
   {
    "duration": 436,
    "start_time": "2022-01-17T15:19:14.210Z"
   },
   {
    "duration": 289,
    "start_time": "2022-01-17T15:19:37.303Z"
   },
   {
    "duration": 49,
    "start_time": "2022-01-17T15:20:01.982Z"
   },
   {
    "duration": 1190,
    "start_time": "2022-01-17T15:23:50.379Z"
   },
   {
    "duration": 1441,
    "start_time": "2022-01-17T15:24:02.108Z"
   },
   {
    "duration": 550,
    "start_time": "2022-01-17T15:24:03.552Z"
   },
   {
    "duration": 570,
    "start_time": "2022-01-17T15:24:04.105Z"
   },
   {
    "duration": 15,
    "start_time": "2022-01-17T15:24:04.679Z"
   },
   {
    "duration": 21,
    "start_time": "2022-01-17T15:24:04.697Z"
   },
   {
    "duration": 4,
    "start_time": "2022-01-17T15:24:04.720Z"
   },
   {
    "duration": 17,
    "start_time": "2022-01-17T15:24:04.763Z"
   },
   {
    "duration": 109,
    "start_time": "2022-01-17T15:24:04.784Z"
   },
   {
    "duration": 4,
    "start_time": "2022-01-17T15:24:04.896Z"
   },
   {
    "duration": 65,
    "start_time": "2022-01-17T15:24:04.902Z"
   },
   {
    "duration": 44,
    "start_time": "2022-01-17T15:24:04.970Z"
   },
   {
    "duration": 21,
    "start_time": "2022-01-17T15:24:05.017Z"
   },
   {
    "duration": 21,
    "start_time": "2022-01-17T15:24:05.064Z"
   },
   {
    "duration": 15,
    "start_time": "2022-01-17T15:24:05.087Z"
   },
   {
    "duration": 13,
    "start_time": "2022-01-17T15:24:05.105Z"
   },
   {
    "duration": 43,
    "start_time": "2022-01-17T15:24:05.120Z"
   },
   {
    "duration": 29,
    "start_time": "2022-01-17T15:24:05.166Z"
   },
   {
    "duration": 66,
    "start_time": "2022-01-17T15:24:05.197Z"
   },
   {
    "duration": 1540,
    "start_time": "2022-01-17T15:24:07.635Z"
   },
   {
    "duration": 45,
    "start_time": "2022-01-17T15:24:52.572Z"
   },
   {
    "duration": 436,
    "start_time": "2022-01-17T15:25:39.290Z"
   },
   {
    "duration": 41,
    "start_time": "2022-01-17T15:25:58.386Z"
   },
   {
    "duration": 16,
    "start_time": "2022-01-17T15:26:03.247Z"
   },
   {
    "duration": 1468,
    "start_time": "2022-01-17T15:29:25.100Z"
   },
   {
    "duration": 553,
    "start_time": "2022-01-17T15:29:26.571Z"
   },
   {
    "duration": 555,
    "start_time": "2022-01-17T15:29:27.127Z"
   },
   {
    "duration": 15,
    "start_time": "2022-01-17T15:29:27.685Z"
   },
   {
    "duration": 21,
    "start_time": "2022-01-17T15:29:27.704Z"
   },
   {
    "duration": 5,
    "start_time": "2022-01-17T15:29:27.764Z"
   },
   {
    "duration": 16,
    "start_time": "2022-01-17T15:29:27.772Z"
   },
   {
    "duration": 133,
    "start_time": "2022-01-17T15:29:27.794Z"
   },
   {
    "duration": 5,
    "start_time": "2022-01-17T15:29:27.931Z"
   },
   {
    "duration": 61,
    "start_time": "2022-01-17T15:29:27.939Z"
   },
   {
    "duration": 62,
    "start_time": "2022-01-17T15:29:28.004Z"
   },
   {
    "duration": 16,
    "start_time": "2022-01-17T15:29:28.069Z"
   },
   {
    "duration": 21,
    "start_time": "2022-01-17T15:29:28.087Z"
   },
   {
    "duration": 14,
    "start_time": "2022-01-17T15:29:28.110Z"
   },
   {
    "duration": 41,
    "start_time": "2022-01-17T15:29:28.127Z"
   },
   {
    "duration": 9,
    "start_time": "2022-01-17T15:29:28.170Z"
   },
   {
    "duration": 30,
    "start_time": "2022-01-17T15:29:28.182Z"
   },
   {
    "duration": 74,
    "start_time": "2022-01-17T15:29:28.215Z"
   },
   {
    "duration": 48,
    "start_time": "2022-01-17T15:29:28.292Z"
   },
   {
    "duration": 64,
    "start_time": "2022-01-17T15:29:28.343Z"
   },
   {
    "duration": 72,
    "start_time": "2022-01-17T15:29:28.409Z"
   },
   {
    "duration": 14,
    "start_time": "2022-01-17T15:29:28.484Z"
   },
   {
    "duration": 43,
    "start_time": "2022-01-17T15:29:46.664Z"
   },
   {
    "duration": 39,
    "start_time": "2022-01-17T15:30:13.625Z"
   },
   {
    "duration": 40,
    "start_time": "2022-01-17T15:30:18.703Z"
   },
   {
    "duration": 15,
    "start_time": "2022-01-17T15:30:23.608Z"
   },
   {
    "duration": 40,
    "start_time": "2022-01-17T15:30:29.023Z"
   },
   {
    "duration": 101,
    "start_time": "2022-01-17T15:30:37.347Z"
   },
   {
    "duration": 30,
    "start_time": "2022-01-17T15:37:26.138Z"
   },
   {
    "duration": 7,
    "start_time": "2022-01-17T15:37:47.224Z"
   },
   {
    "duration": 11177,
    "start_time": "2022-01-17T15:37:51.509Z"
   },
   {
    "duration": 10,
    "start_time": "2022-01-17T15:40:57.038Z"
   },
   {
    "duration": 6,
    "start_time": "2022-01-17T15:43:01.506Z"
   },
   {
    "duration": 341,
    "start_time": "2022-01-17T15:43:04.323Z"
   },
   {
    "duration": 24,
    "start_time": "2022-01-17T15:43:06.937Z"
   },
   {
    "duration": 552,
    "start_time": "2022-01-17T15:44:55.061Z"
   }
  ],
  "kernelspec": {
   "display_name": "Python 3 (ipykernel)",
   "language": "python",
   "name": "python3"
  },
  "language_info": {
   "codemirror_mode": {
    "name": "ipython",
    "version": 3
   },
   "file_extension": ".py",
   "mimetype": "text/x-python",
   "name": "python",
   "nbconvert_exporter": "python",
   "pygments_lexer": "ipython3",
   "version": "3.7.8"
  },
  "toc": {
   "base_numbering": 1,
   "nav_menu": {},
   "number_sections": true,
   "sideBar": true,
   "skip_h1_title": true,
   "title_cell": "Содержание",
   "title_sidebar": "Contents",
   "toc_cell": true,
   "toc_position": {},
   "toc_section_display": true,
   "toc_window_display": true
  }
 },
 "nbformat": 4,
 "nbformat_minor": 2
}
