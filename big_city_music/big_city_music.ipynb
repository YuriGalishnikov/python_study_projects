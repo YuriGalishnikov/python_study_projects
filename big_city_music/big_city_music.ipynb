{
 "cells": [
  {
   "cell_type": "markdown",
   "metadata": {
    "toc": true
   },
   "source": [
    "<h1>Содержание<span class=\"tocSkip\"></span></h1>\n",
    "<div class=\"toc\"><ul class=\"toc-item\"><li><span><a href=\"#Обзор-данных\" data-toc-modified-id=\"Обзор-данных-1\"><span class=\"toc-item-num\">1&nbsp;&nbsp;</span>Обзор данных</a></span></li><li><span><a href=\"#Предобработка-данных.\" data-toc-modified-id=\"Предобработка-данных.-2\"><span class=\"toc-item-num\">2&nbsp;&nbsp;</span>Предобработка данных.</a></span><ul class=\"toc-item\"><li><span><a href=\"#Стиль-заголовков\" data-toc-modified-id=\"Стиль-заголовков-2.1\"><span class=\"toc-item-num\">2.1&nbsp;&nbsp;</span>Стиль заголовков</a></span></li><li><span><a href=\"#Пропуски-значений\" data-toc-modified-id=\"Пропуски-значений-2.2\"><span class=\"toc-item-num\">2.2&nbsp;&nbsp;</span>Пропуски значений</a></span></li><li><span><a href=\"#Дубликаты\" data-toc-modified-id=\"Дубликаты-2.3\"><span class=\"toc-item-num\">2.3&nbsp;&nbsp;</span>Дубликаты</a></span></li></ul></li><li><span><a href=\"#Проверка-гипотез\" data-toc-modified-id=\"Проверка-гипотез-3\"><span class=\"toc-item-num\">3&nbsp;&nbsp;</span>Проверка гипотез</a></span><ul class=\"toc-item\"><li><span><a href=\"#Сравнение-поведения-пользователей-двух-столиц\" data-toc-modified-id=\"Сравнение-поведения-пользователей-двух-столиц-3.1\"><span class=\"toc-item-num\">3.1&nbsp;&nbsp;</span>Сравнение поведения пользователей двух столиц</a></span></li><li><span><a href=\"#Музыка-в-начале-и-в-конце-недели\" data-toc-modified-id=\"Музыка-в-начале-и-в-конце-недели-3.2\"><span class=\"toc-item-num\">3.2&nbsp;&nbsp;</span>Музыка в начале и в конце недели</a></span></li><li><span><a href=\"#Жанровые-предпочтения-в-Москве-и-Петербурге\" data-toc-modified-id=\"Жанровые-предпочтения-в-Москве-и-Петербурге-3.3\"><span class=\"toc-item-num\">3.3&nbsp;&nbsp;</span>Жанровые предпочтения в Москве и Петербурге</a></span></li></ul></li><li><span><a href=\"#Итоги-исследования\" data-toc-modified-id=\"Итоги-исследования-4\"><span class=\"toc-item-num\">4&nbsp;&nbsp;</span>Итоги исследования</a></span></li></ul></div>"
   ]
  },
  {
   "cell_type": "markdown",
   "metadata": {
    "id": "E0vqbgi9ay0H"
   },
   "source": [
    "# Музыка больших городов"
   ]
  },
  {
   "cell_type": "markdown",
   "metadata": {
    "id": "VUC88oWjTJw2"
   },
   "source": [
    "Сравнение Москвы и Петербурга окружено мифами. Например:\n",
    " * Москва — мегаполис, подчинённый жёсткому ритму рабочей недели;\n",
    " * Петербург — культурная столица, со своими вкусами.\n",
    "\n",
    "На данных Яндекс.Музыки сравним поведение пользователей двух столиц.\n",
    "\n",
    "**Цель исследования** — проверить три гипотезы:\n",
    "1. Активность пользователей зависит от дня недели. Причём в Москве и Петербурге это проявляется по-разному.\n",
    "2. В понедельник утром в Москве преобладают одни жанры, а в Петербурге — другие. Так же и вечером пятницы преобладают разные жанры — в зависимости от города. \n",
    "3. Москва и Петербург предпочитают разные жанры музыки. В Москве чаще слушают поп-музыку, в Петербурге — русский рэп.\n",
    "\n",
    "**Ход исследования**\n",
    "\n",
    "Данные о поведении пользователей получим из учебного файла `yandex_music_project.csv`. О качестве данных ничего не известно. Поэтому перед проверкой гипотез понадобится обзор данных. \n",
    "\n",
    "Произведем проверку данных на ошибки и оценим их влияние на исследование. Затем, на этапе предобработки найдем возможность исправить самые критичные ошибки данных.\n",
    " \n",
    "Таким образом, исследование пройдёт в три этапа:\n",
    " 1. Обзор данных.\n",
    " 2. Предобработка данных.\n",
    " 3. Проверка гипотез.\n",
    "\n"
   ]
  },
  {
   "cell_type": "markdown",
   "metadata": {
    "id": "Ml1hmfXC_Zcs"
   },
   "source": [
    "## Обзор данных"
   ]
  },
  {
   "cell_type": "code",
   "execution_count": 1,
   "metadata": {
    "id": "AXN7PHPN_Zcs"
   },
   "outputs": [],
   "source": [
    "import pandas as pd # импорт библиотеки pandas"
   ]
  },
  {
   "cell_type": "markdown",
   "metadata": {
    "id": "SG23P8tt_Zcs"
   },
   "source": [
    "Читаем учебный файл `yandex_music_project.csv` из папки `/datasets` и сохраняем его в переменной `df`:"
   ]
  },
  {
   "cell_type": "code",
   "execution_count": 2,
   "metadata": {
    "id": "fFVu7vqh_Zct"
   },
   "outputs": [],
   "source": [
    "df = pd.read_csv('/datasets/yandex_music_project.csv') # чтение файла с данными и сохранение в df"
   ]
  },
  {
   "cell_type": "markdown",
   "metadata": {
    "id": "rDoOMd3uTqnZ"
   },
   "source": [
    "Выводим на экран первые десять строк таблицы:"
   ]
  },
  {
   "cell_type": "code",
   "execution_count": 3,
   "metadata": {
    "id": "oWTVX3gW_Zct"
   },
   "outputs": [
    {
     "data": {
      "text/html": [
       "<div>\n",
       "<style scoped>\n",
       "    .dataframe tbody tr th:only-of-type {\n",
       "        vertical-align: middle;\n",
       "    }\n",
       "\n",
       "    .dataframe tbody tr th {\n",
       "        vertical-align: top;\n",
       "    }\n",
       "\n",
       "    .dataframe thead th {\n",
       "        text-align: right;\n",
       "    }\n",
       "</style>\n",
       "<table border=\"1\" class=\"dataframe\">\n",
       "  <thead>\n",
       "    <tr style=\"text-align: right;\">\n",
       "      <th></th>\n",
       "      <th>userID</th>\n",
       "      <th>Track</th>\n",
       "      <th>artist</th>\n",
       "      <th>genre</th>\n",
       "      <th>City</th>\n",
       "      <th>time</th>\n",
       "      <th>Day</th>\n",
       "    </tr>\n",
       "  </thead>\n",
       "  <tbody>\n",
       "    <tr>\n",
       "      <td>0</td>\n",
       "      <td>FFB692EC</td>\n",
       "      <td>Kamigata To Boots</td>\n",
       "      <td>The Mass Missile</td>\n",
       "      <td>rock</td>\n",
       "      <td>Saint-Petersburg</td>\n",
       "      <td>20:28:33</td>\n",
       "      <td>Wednesday</td>\n",
       "    </tr>\n",
       "    <tr>\n",
       "      <td>1</td>\n",
       "      <td>55204538</td>\n",
       "      <td>Delayed Because of Accident</td>\n",
       "      <td>Andreas Rönnberg</td>\n",
       "      <td>rock</td>\n",
       "      <td>Moscow</td>\n",
       "      <td>14:07:09</td>\n",
       "      <td>Friday</td>\n",
       "    </tr>\n",
       "    <tr>\n",
       "      <td>2</td>\n",
       "      <td>20EC38</td>\n",
       "      <td>Funiculì funiculà</td>\n",
       "      <td>Mario Lanza</td>\n",
       "      <td>pop</td>\n",
       "      <td>Saint-Petersburg</td>\n",
       "      <td>20:58:07</td>\n",
       "      <td>Wednesday</td>\n",
       "    </tr>\n",
       "    <tr>\n",
       "      <td>3</td>\n",
       "      <td>A3DD03C9</td>\n",
       "      <td>Dragons in the Sunset</td>\n",
       "      <td>Fire + Ice</td>\n",
       "      <td>folk</td>\n",
       "      <td>Saint-Petersburg</td>\n",
       "      <td>08:37:09</td>\n",
       "      <td>Monday</td>\n",
       "    </tr>\n",
       "    <tr>\n",
       "      <td>4</td>\n",
       "      <td>E2DC1FAE</td>\n",
       "      <td>Soul People</td>\n",
       "      <td>Space Echo</td>\n",
       "      <td>dance</td>\n",
       "      <td>Moscow</td>\n",
       "      <td>08:34:34</td>\n",
       "      <td>Monday</td>\n",
       "    </tr>\n",
       "    <tr>\n",
       "      <td>5</td>\n",
       "      <td>842029A1</td>\n",
       "      <td>Преданная</td>\n",
       "      <td>IMPERVTOR</td>\n",
       "      <td>rusrap</td>\n",
       "      <td>Saint-Petersburg</td>\n",
       "      <td>13:09:41</td>\n",
       "      <td>Friday</td>\n",
       "    </tr>\n",
       "    <tr>\n",
       "      <td>6</td>\n",
       "      <td>4CB90AA5</td>\n",
       "      <td>True</td>\n",
       "      <td>Roman Messer</td>\n",
       "      <td>dance</td>\n",
       "      <td>Moscow</td>\n",
       "      <td>13:00:07</td>\n",
       "      <td>Wednesday</td>\n",
       "    </tr>\n",
       "    <tr>\n",
       "      <td>7</td>\n",
       "      <td>F03E1C1F</td>\n",
       "      <td>Feeling This Way</td>\n",
       "      <td>Polina Griffith</td>\n",
       "      <td>dance</td>\n",
       "      <td>Moscow</td>\n",
       "      <td>20:47:49</td>\n",
       "      <td>Wednesday</td>\n",
       "    </tr>\n",
       "    <tr>\n",
       "      <td>8</td>\n",
       "      <td>8FA1D3BE</td>\n",
       "      <td>И вновь продолжается бой</td>\n",
       "      <td>NaN</td>\n",
       "      <td>ruspop</td>\n",
       "      <td>Moscow</td>\n",
       "      <td>09:17:40</td>\n",
       "      <td>Friday</td>\n",
       "    </tr>\n",
       "    <tr>\n",
       "      <td>9</td>\n",
       "      <td>E772D5C0</td>\n",
       "      <td>Pessimist</td>\n",
       "      <td>NaN</td>\n",
       "      <td>dance</td>\n",
       "      <td>Saint-Petersburg</td>\n",
       "      <td>21:20:49</td>\n",
       "      <td>Wednesday</td>\n",
       "    </tr>\n",
       "  </tbody>\n",
       "</table>\n",
       "</div>"
      ],
      "text/plain": [
       "     userID                        Track            artist   genre  \\\n",
       "0  FFB692EC            Kamigata To Boots  The Mass Missile    rock   \n",
       "1  55204538  Delayed Because of Accident  Andreas Rönnberg    rock   \n",
       "2    20EC38            Funiculì funiculà       Mario Lanza     pop   \n",
       "3  A3DD03C9        Dragons in the Sunset        Fire + Ice    folk   \n",
       "4  E2DC1FAE                  Soul People        Space Echo   dance   \n",
       "5  842029A1                    Преданная         IMPERVTOR  rusrap   \n",
       "6  4CB90AA5                         True      Roman Messer   dance   \n",
       "7  F03E1C1F             Feeling This Way   Polina Griffith   dance   \n",
       "8  8FA1D3BE     И вновь продолжается бой               NaN  ruspop   \n",
       "9  E772D5C0                    Pessimist               NaN   dance   \n",
       "\n",
       "             City        time        Day  \n",
       "0  Saint-Petersburg  20:28:33  Wednesday  \n",
       "1            Moscow  14:07:09     Friday  \n",
       "2  Saint-Petersburg  20:58:07  Wednesday  \n",
       "3  Saint-Petersburg  08:37:09     Monday  \n",
       "4            Moscow  08:34:34     Monday  \n",
       "5  Saint-Petersburg  13:09:41     Friday  \n",
       "6            Moscow  13:00:07  Wednesday  \n",
       "7            Moscow  20:47:49  Wednesday  \n",
       "8            Moscow  09:17:40     Friday  \n",
       "9  Saint-Petersburg  21:20:49  Wednesday  "
      ]
     },
     "execution_count": 3,
     "metadata": {},
     "output_type": "execute_result"
    }
   ],
   "source": [
    "df.head(10)# получение первых 10 строк таблицы df"
   ]
  },
  {
   "cell_type": "markdown",
   "metadata": {
    "id": "EO73Kwic_Zct"
   },
   "source": [
    "Получаем общую информацию о таблице:"
   ]
  },
  {
   "cell_type": "code",
   "execution_count": 9,
   "metadata": {
    "id": "DSf2kIb-_Zct"
   },
   "outputs": [
    {
     "name": "stdout",
     "output_type": "stream",
     "text": [
      "<class 'pandas.core.frame.DataFrame'>\n",
      "RangeIndex: 65079 entries, 0 to 65078\n",
      "Data columns (total 7 columns):\n",
      "  userID    65079 non-null object\n",
      "Track       63848 non-null object\n",
      "artist      57876 non-null object\n",
      "genre       63881 non-null object\n",
      "  City      65079 non-null object\n",
      "time        65079 non-null object\n",
      "Day         65079 non-null object\n",
      "dtypes: object(7)\n",
      "memory usage: 3.5+ MB\n"
     ]
    }
   ],
   "source": [
    "df.info() # получение общей информации о данных в таблице df"
   ]
  },
  {
   "cell_type": "markdown",
   "metadata": {
    "id": "TaQ2Iwbr_Zct"
   },
   "source": [
    "Итак, в таблице семь столбцов. Тип данных во всех столбцах — `object`.\n",
    "\n",
    "Согласно документации к данным:\n",
    "* `userID` — идентификатор пользователя;\n",
    "* `Track` — название трека;  \n",
    "* `artist` — имя исполнителя;\n",
    "* `genre` — название жанра;\n",
    "* `City` — город пользователя;\n",
    "* `time` — время начала прослушивания;\n",
    "* `Day` — день недели.\n",
    "\n",
    "В названиях колонок видны три нарушения стиля:\n",
    "1. Строчные буквы сочетаются с прописными.\n",
    "2. Встречаются пробелы.\n",
    "3. Названия столбцов недостаточно полно и точно описывают значения в столбце. Например, вместо \"genre\" точнее будет использовать название столбца \"genre_name\".\n",
    "4. Столбец userID, помимо сочетания строчных и прописных букв, записан не по правилам хорошего тона. Точнее будет использовать змеиный регистр \"user_id\".\n",
    "\n",
    "\n",
    "\n",
    "Количество значений в столбцах различается. Значит, в данных есть пропущенные значения.\n"
   ]
  },
  {
   "cell_type": "markdown",
   "metadata": {
    "id": "MCB6-dXG_Zct"
   },
   "source": [
    "**Выводы**\n",
    "\n",
    "В каждой строке таблицы — данные о прослушанном треке. Часть колонок описывает саму композицию: название, исполнителя и жанр. Остальные данные рассказывают о пользователе: из какого он города, когда он слушал музыку. \n",
    "\n",
    "Предварительно можно утверждать, что, данных достаточно для проверки гипотез. Но встречаются пропуски в данных, а в названиях колонок — расхождения с хорошим стилем.\n",
    "\n",
    "Чтобы двигаться дальше, нужно устранить проблемы в данных."
   ]
  },
  {
   "cell_type": "markdown",
   "metadata": {
    "id": "SjYF6Ub9_Zct"
   },
   "source": [
    "## Предобработка данных."
   ]
  },
  {
   "cell_type": "markdown",
   "metadata": {
    "id": "dIaKXr29_Zct"
   },
   "source": [
    "### Стиль заголовков\n",
    "Выведем на экран названия столбцов:"
   ]
  },
  {
   "cell_type": "code",
   "execution_count": 10,
   "metadata": {
    "id": "oKOTdF_Q_Zct"
   },
   "outputs": [
    {
     "data": {
      "text/plain": [
       "Index(['  userID', 'Track', 'artist', 'genre', '  City  ', 'time', 'Day'], dtype='object')"
      ]
     },
     "execution_count": 10,
     "metadata": {},
     "output_type": "execute_result"
    }
   ],
   "source": [
    "df.columns # перечень названий столбцов таблицы df"
   ]
  },
  {
   "cell_type": "markdown",
   "metadata": {
    "id": "zj5534cv_Zct"
   },
   "source": [
    "Приведем названия в соответствие с хорошим стилем:\n",
    "* несколько слов в названии запишите в «змеином_регистре»,\n",
    "* все символы сделайте строчными,\n",
    "* устраните пробелы.\n",
    "\n",
    "Для этого переименуйте колонки так:\n",
    "* `'  userID'` → `'user_id'`;\n",
    "* `'Track'` → `'track'`;\n",
    "* `'  City  '` → `'city'`;\n",
    "* `'Day'` → `'day'`."
   ]
  },
  {
   "cell_type": "code",
   "execution_count": 11,
   "metadata": {
    "id": "ISlFqs5y_Zct"
   },
   "outputs": [],
   "source": [
    "df = df.rename(columns={'  userID':'user_id', 'Track':'track', '  City  ':'city', 'Day':'day'}) # переименование столбцов"
   ]
  },
  {
   "cell_type": "markdown",
   "metadata": {
    "id": "1dqbh00J_Zct"
   },
   "source": [
    "Проверька результата. Для этого ещё раз выводим на экран названия столбцов:"
   ]
  },
  {
   "cell_type": "code",
   "execution_count": 12,
   "metadata": {
    "id": "d4NOAmTW_Zct"
   },
   "outputs": [
    {
     "data": {
      "text/plain": [
       "Index(['user_id', 'track', 'artist', 'genre', 'city', 'time', 'day'], dtype='object')"
      ]
     },
     "execution_count": 12,
     "metadata": {},
     "output_type": "execute_result"
    }
   ],
   "source": [
    "df.columns # проверка результатов - перечень названий столбцов"
   ]
  },
  {
   "cell_type": "markdown",
   "metadata": {
    "id": "5ISfbcfY_Zct"
   },
   "source": [
    "### Пропуски значений\n",
    "Подсчет количества пропущенных значений в столбцах. Для этого достаточно двух методов `pandas`:"
   ]
  },
  {
   "cell_type": "code",
   "execution_count": 13,
   "metadata": {
    "id": "RskX29qr_Zct"
   },
   "outputs": [
    {
     "data": {
      "text/plain": [
       "user_id       0\n",
       "track      1231\n",
       "artist     7203\n",
       "genre      1198\n",
       "city          0\n",
       "time          0\n",
       "day           0\n",
       "dtype: int64"
      ]
     },
     "execution_count": 13,
     "metadata": {},
     "output_type": "execute_result"
    }
   ],
   "source": [
    "df.isna().sum() # подсчёт пропусков"
   ]
  },
  {
   "cell_type": "markdown",
   "metadata": {
    "id": "qubhgnlO_Zct"
   },
   "source": [
    "Не все пропущенные значения влияют на исследование. Так в `track` и `artist` пропуски не важны для работы. Достаточно заменить их явными обозначениями.\n",
    "\n",
    "Но пропуски в `genre` могут помешать сравнению музыкальных вкусов в Москве и Санкт-Петербурге. На практике было бы правильно установить причину пропусков и восстановить данные. Такой возможности нет в учебном проекте. Придётся:\n",
    "* заполнить и эти пропуски явными обозначениями,\n",
    "* оценить, насколько они повредят расчётам. "
   ]
  },
  {
   "cell_type": "markdown",
   "metadata": {
    "id": "fSv2laPA_Zct"
   },
   "source": [
    "Заменим пропущенные значения в столбцах `track`, `artist` и `genre` на строку `'unknown'`. Для этого создадим список `columns_to_replace`, переберем его элементы циклом `for` и для каждого столбца выполните замену пропущенных значений:"
   ]
  },
  {
   "cell_type": "code",
   "execution_count": 14,
   "metadata": {
    "id": "KplB5qWs_Zct"
   },
   "outputs": [],
   "source": [
    "# перебор названий столбцов в цикле и замена пропущенных значений на 'unknown'\n",
    "columns_to_replace = ['track', 'artist', 'genre']\n",
    "\n",
    "for column in columns_to_replace:\n",
    "    df[column] = df[column].fillna('unknown')"
   ]
  },
  {
   "cell_type": "markdown",
   "metadata": {
    "id": "Ilsm-MZo_Zct"
   },
   "source": [
    "Убедждаемся, что в таблице не осталось пропусков. Для этого ещё раз посчитаем пропущенные значения."
   ]
  },
  {
   "cell_type": "code",
   "execution_count": 15,
   "metadata": {
    "id": "Tq4nYRX4_Zct"
   },
   "outputs": [
    {
     "data": {
      "text/plain": [
       "user_id    0\n",
       "track      0\n",
       "artist     0\n",
       "genre      0\n",
       "city       0\n",
       "time       0\n",
       "day        0\n",
       "dtype: int64"
      ]
     },
     "execution_count": 15,
     "metadata": {},
     "output_type": "execute_result"
    }
   ],
   "source": [
    "df.isna().sum() # подсчёт пропусков"
   ]
  },
  {
   "cell_type": "markdown",
   "metadata": {
    "id": "BWKRtBJ3_Zct"
   },
   "source": [
    "### Дубликаты\n",
    "Посчитаем явные дубликаты в таблице одной командой:"
   ]
  },
  {
   "cell_type": "code",
   "execution_count": 16,
   "metadata": {
    "id": "36eES_S0_Zct"
   },
   "outputs": [
    {
     "data": {
      "text/plain": [
       "3826"
      ]
     },
     "execution_count": 16,
     "metadata": {},
     "output_type": "execute_result"
    }
   ],
   "source": [
    "df.duplicated().sum() # подсчёт явных дубликатов"
   ]
  },
  {
   "cell_type": "markdown",
   "metadata": {
    "id": "Ot25h6XR_Zct"
   },
   "source": [
    "Специальным методом `pandas` удалим явные дубликаты:"
   ]
  },
  {
   "cell_type": "code",
   "execution_count": 17,
   "metadata": {
    "id": "exFHq6tt_Zct"
   },
   "outputs": [],
   "source": [
    "# удаление явных дубликатов (с удалением старых индексов и формированием новых)\n",
    "df = df.drop_duplicates().reset_index(drop = True)"
   ]
  },
  {
   "cell_type": "markdown",
   "metadata": {
    "id": "Im2YwBEG_Zct"
   },
   "source": [
    "Ещё раз посчитаем явные дубликаты в таблице — убедимся, что полностью от них избавились:"
   ]
  },
  {
   "cell_type": "code",
   "execution_count": 18,
   "metadata": {
    "id": "-8PuNWQ0_Zct"
   },
   "outputs": [
    {
     "data": {
      "text/plain": [
       "0"
      ]
     },
     "execution_count": 18,
     "metadata": {},
     "output_type": "execute_result"
    }
   ],
   "source": [
    "df.duplicated().sum() # проверка на отсутствие дубликатов"
   ]
  },
  {
   "cell_type": "markdown",
   "metadata": {
    "id": "QlFBsxAr_Zct"
   },
   "source": [
    "Теперь избавимся от неявных дубликатов в колонке `genre`. Например, название одного и того же жанра может быть записано немного по-разному. Такие ошибки тоже повлияют на результат исследования."
   ]
  },
  {
   "cell_type": "markdown",
   "metadata": {
    "id": "eSjWwsOh_Zct"
   },
   "source": [
    "Выведем на экран список уникальных названий жанров, отсортированный в алфавитном порядке. Для этого:\n",
    "* извлечем нужный столбец датафрейма, \n",
    "* применим к нему метод сортировки,\n",
    "* для отсортированного столбца вызовем метод, который вернёт уникальные значения из столбца."
   ]
  },
  {
   "cell_type": "code",
   "execution_count": 19,
   "metadata": {
    "id": "JIUcqzZN_Zct"
   },
   "outputs": [
    {
     "data": {
      "text/plain": [
       "['acid',\n",
       " 'acoustic',\n",
       " 'action',\n",
       " 'adult',\n",
       " 'africa',\n",
       " 'afrikaans',\n",
       " 'alternative',\n",
       " 'alternativepunk',\n",
       " 'ambient',\n",
       " 'americana',\n",
       " 'animated',\n",
       " 'anime',\n",
       " 'arabesk',\n",
       " 'arabic',\n",
       " 'arena',\n",
       " 'argentinetango',\n",
       " 'art',\n",
       " 'audiobook',\n",
       " 'author',\n",
       " 'avantgarde',\n",
       " 'axé',\n",
       " 'baile',\n",
       " 'balkan',\n",
       " 'beats',\n",
       " 'bigroom',\n",
       " 'black',\n",
       " 'bluegrass',\n",
       " 'blues',\n",
       " 'bollywood',\n",
       " 'bossa',\n",
       " 'brazilian',\n",
       " 'breakbeat',\n",
       " 'breaks',\n",
       " 'broadway',\n",
       " 'cantautori',\n",
       " 'cantopop',\n",
       " 'canzone',\n",
       " 'caribbean',\n",
       " 'caucasian',\n",
       " 'celtic',\n",
       " 'chamber',\n",
       " 'chanson',\n",
       " 'children',\n",
       " 'chill',\n",
       " 'chinese',\n",
       " 'choral',\n",
       " 'christian',\n",
       " 'christmas',\n",
       " 'classical',\n",
       " 'classicmetal',\n",
       " 'club',\n",
       " 'colombian',\n",
       " 'comedy',\n",
       " 'conjazz',\n",
       " 'contemporary',\n",
       " 'country',\n",
       " 'cuban',\n",
       " 'dance',\n",
       " 'dancehall',\n",
       " 'dancepop',\n",
       " 'dark',\n",
       " 'death',\n",
       " 'deep',\n",
       " 'deutschrock',\n",
       " 'deutschspr',\n",
       " 'dirty',\n",
       " 'disco',\n",
       " 'dnb',\n",
       " 'documentary',\n",
       " 'downbeat',\n",
       " 'downtempo',\n",
       " 'drum',\n",
       " 'dub',\n",
       " 'dubstep',\n",
       " 'eastern',\n",
       " 'easy',\n",
       " 'electronic',\n",
       " 'electropop',\n",
       " 'emo',\n",
       " 'entehno',\n",
       " 'epicmetal',\n",
       " 'estrada',\n",
       " 'ethnic',\n",
       " 'eurofolk',\n",
       " 'european',\n",
       " 'experimental',\n",
       " 'extrememetal',\n",
       " 'fado',\n",
       " 'fairytail',\n",
       " 'film',\n",
       " 'fitness',\n",
       " 'flamenco',\n",
       " 'folk',\n",
       " 'folklore',\n",
       " 'folkmetal',\n",
       " 'folkrock',\n",
       " 'folktronica',\n",
       " 'forró',\n",
       " 'frankreich',\n",
       " 'französisch',\n",
       " 'french',\n",
       " 'funk',\n",
       " 'future',\n",
       " 'gangsta',\n",
       " 'garage',\n",
       " 'german',\n",
       " 'ghazal',\n",
       " 'gitarre',\n",
       " 'glitch',\n",
       " 'gospel',\n",
       " 'gothic',\n",
       " 'grime',\n",
       " 'grunge',\n",
       " 'gypsy',\n",
       " 'handsup',\n",
       " \"hard'n'heavy\",\n",
       " 'hardcore',\n",
       " 'hardstyle',\n",
       " 'hardtechno',\n",
       " 'hip',\n",
       " 'hip-hop',\n",
       " 'hiphop',\n",
       " 'historisch',\n",
       " 'holiday',\n",
       " 'hop',\n",
       " 'horror',\n",
       " 'house',\n",
       " 'hymn',\n",
       " 'idm',\n",
       " 'independent',\n",
       " 'indian',\n",
       " 'indie',\n",
       " 'indipop',\n",
       " 'industrial',\n",
       " 'inspirational',\n",
       " 'instrumental',\n",
       " 'international',\n",
       " 'irish',\n",
       " 'jam',\n",
       " 'japanese',\n",
       " 'jazz',\n",
       " 'jewish',\n",
       " 'jpop',\n",
       " 'jungle',\n",
       " 'k-pop',\n",
       " 'karadeniz',\n",
       " 'karaoke',\n",
       " 'kayokyoku',\n",
       " 'korean',\n",
       " 'laiko',\n",
       " 'latin',\n",
       " 'latino',\n",
       " 'leftfield',\n",
       " 'local',\n",
       " 'lounge',\n",
       " 'loungeelectronic',\n",
       " 'lovers',\n",
       " 'malaysian',\n",
       " 'mandopop',\n",
       " 'marschmusik',\n",
       " 'meditative',\n",
       " 'mediterranean',\n",
       " 'melodic',\n",
       " 'metal',\n",
       " 'metalcore',\n",
       " 'mexican',\n",
       " 'middle',\n",
       " 'minimal',\n",
       " 'miscellaneous',\n",
       " 'modern',\n",
       " 'mood',\n",
       " 'mpb',\n",
       " 'muslim',\n",
       " 'native',\n",
       " 'neoklassik',\n",
       " 'neue',\n",
       " 'new',\n",
       " 'newage',\n",
       " 'newwave',\n",
       " 'nu',\n",
       " 'nujazz',\n",
       " 'numetal',\n",
       " 'oceania',\n",
       " 'old',\n",
       " 'opera',\n",
       " 'orchestral',\n",
       " 'other',\n",
       " 'piano',\n",
       " 'podcasts',\n",
       " 'pop',\n",
       " 'popdance',\n",
       " 'popelectronic',\n",
       " 'popeurodance',\n",
       " 'poprussian',\n",
       " 'post',\n",
       " 'posthardcore',\n",
       " 'postrock',\n",
       " 'power',\n",
       " 'progmetal',\n",
       " 'progressive',\n",
       " 'psychedelic',\n",
       " 'punjabi',\n",
       " 'punk',\n",
       " 'quebecois',\n",
       " 'ragga',\n",
       " 'ram',\n",
       " 'rancheras',\n",
       " 'rap',\n",
       " 'rave',\n",
       " 'reggae',\n",
       " 'reggaeton',\n",
       " 'regional',\n",
       " 'relax',\n",
       " 'religious',\n",
       " 'retro',\n",
       " 'rhythm',\n",
       " 'rnb',\n",
       " 'rnr',\n",
       " 'rock',\n",
       " 'rockabilly',\n",
       " 'rockalternative',\n",
       " 'rockindie',\n",
       " 'rockother',\n",
       " 'romance',\n",
       " 'roots',\n",
       " 'ruspop',\n",
       " 'rusrap',\n",
       " 'rusrock',\n",
       " 'russian',\n",
       " 'salsa',\n",
       " 'samba',\n",
       " 'scenic',\n",
       " 'schlager',\n",
       " 'self',\n",
       " 'sertanejo',\n",
       " 'shanson',\n",
       " 'shoegazing',\n",
       " 'showtunes',\n",
       " 'singer',\n",
       " 'ska',\n",
       " 'skarock',\n",
       " 'slow',\n",
       " 'smooth',\n",
       " 'soft',\n",
       " 'soul',\n",
       " 'soulful',\n",
       " 'sound',\n",
       " 'soundtrack',\n",
       " 'southern',\n",
       " 'specialty',\n",
       " 'speech',\n",
       " 'spiritual',\n",
       " 'sport',\n",
       " 'stonerrock',\n",
       " 'surf',\n",
       " 'swing',\n",
       " 'synthpop',\n",
       " 'synthrock',\n",
       " 'sängerportrait',\n",
       " 'tango',\n",
       " 'tanzorchester',\n",
       " 'taraftar',\n",
       " 'tatar',\n",
       " 'tech',\n",
       " 'techno',\n",
       " 'teen',\n",
       " 'thrash',\n",
       " 'top',\n",
       " 'traditional',\n",
       " 'tradjazz',\n",
       " 'trance',\n",
       " 'tribal',\n",
       " 'trip',\n",
       " 'triphop',\n",
       " 'tropical',\n",
       " 'türk',\n",
       " 'türkçe',\n",
       " 'ukrrock',\n",
       " 'unknown',\n",
       " 'urban',\n",
       " 'uzbek',\n",
       " 'variété',\n",
       " 'vi',\n",
       " 'videogame',\n",
       " 'vocal',\n",
       " 'western',\n",
       " 'world',\n",
       " 'worldbeat',\n",
       " 'ïîï',\n",
       " 'электроника']"
      ]
     },
     "execution_count": 19,
     "metadata": {},
     "output_type": "execute_result"
    }
   ],
   "source": [
    "# Просмотр уникальных названий жанров\n",
    "sorted(df['genre'].unique())"
   ]
  },
  {
   "cell_type": "markdown",
   "metadata": {
    "id": "qej-Qmuo_Zct"
   },
   "source": [
    "Имеются следующие неявные дубликаты для жанра *hiphop*:\n",
    "* *hip*,\n",
    "* *hop*,\n",
    "* *hip-hop*.\n",
    "\n",
    "Чтобы очистить от них таблицу, напишите функцию `replace_wrong_genres()` с двумя параметрами: \n",
    "* `wrong_genres` — список дубликатов,\n",
    "* `correct_genre` — строка с правильным значением.\n",
    "\n",
    "Функция должна исправить колонку `genre` в таблице `df`: заменить каждое значение из списка `wrong_genres` на значение из `correct_genre`."
   ]
  },
  {
   "cell_type": "code",
   "execution_count": 20,
   "metadata": {
    "id": "ErNDkmns_Zct"
   },
   "outputs": [],
   "source": [
    "# Функция для замены неявных дубликатов\n",
    "def replace_wrong_genres(wrong_genres, correct_genre):\n",
    "    for wrong_genre in wrong_genres:\n",
    "        df['genre'] = df['genre'].replace(wrong_genre, correct_genre)"
   ]
  },
  {
   "cell_type": "markdown",
   "metadata": {
    "id": "aDoBJxbA_Zct"
   },
   "source": [
    "Вызовем `replace_wrong_genres()` и передадим ей такие аргументы, чтобы она устранила неявные дубликаты: вместо `hip`, `hop` и `hip-hop` в таблице должно быть значение `hiphop`:"
   ]
  },
  {
   "cell_type": "code",
   "execution_count": 21,
   "metadata": {
    "id": "YN5i2hpmSo09"
   },
   "outputs": [],
   "source": [
    "# Устранение неявных дубликатов\n",
    "#implicit_duplicates = ['hip', 'hop', 'hip-hop'] #создан список неявных дубликатов в столбце жанров\n",
    "#right_genre = 'hiphop' #создана переменная с правильным жанром\n",
    "\n",
    "replace_wrong_genres(['hip', 'hop', 'hip-hop'], 'hiphop') #вызвана функция, которая устранит неявные дубликаты жанра 'hiphop'\n",
    "replace_wrong_genres(['электроника'], 'electronic') #вызвана функция , которая устранит неявный дубликат жанра 'electronic'"
   ]
  },
  {
   "cell_type": "markdown",
   "metadata": {
    "id": "zQKF16_RG15m"
   },
   "source": [
    "Проверим, что заменили неправильные названия:\n",
    "\n",
    "*   hip\n",
    "*   hop\n",
    "*   hip-hop\n",
    "\n",
    "Выведим отсортированный список уникальных значений столбца `genre`:"
   ]
  },
  {
   "cell_type": "code",
   "execution_count": 22,
   "metadata": {
    "id": "wvixALnFG15m"
   },
   "outputs": [
    {
     "data": {
      "text/plain": [
       "['acid',\n",
       " 'acoustic',\n",
       " 'action',\n",
       " 'adult',\n",
       " 'africa',\n",
       " 'afrikaans',\n",
       " 'alternative',\n",
       " 'alternativepunk',\n",
       " 'ambient',\n",
       " 'americana',\n",
       " 'animated',\n",
       " 'anime',\n",
       " 'arabesk',\n",
       " 'arabic',\n",
       " 'arena',\n",
       " 'argentinetango',\n",
       " 'art',\n",
       " 'audiobook',\n",
       " 'author',\n",
       " 'avantgarde',\n",
       " 'axé',\n",
       " 'baile',\n",
       " 'balkan',\n",
       " 'beats',\n",
       " 'bigroom',\n",
       " 'black',\n",
       " 'bluegrass',\n",
       " 'blues',\n",
       " 'bollywood',\n",
       " 'bossa',\n",
       " 'brazilian',\n",
       " 'breakbeat',\n",
       " 'breaks',\n",
       " 'broadway',\n",
       " 'cantautori',\n",
       " 'cantopop',\n",
       " 'canzone',\n",
       " 'caribbean',\n",
       " 'caucasian',\n",
       " 'celtic',\n",
       " 'chamber',\n",
       " 'chanson',\n",
       " 'children',\n",
       " 'chill',\n",
       " 'chinese',\n",
       " 'choral',\n",
       " 'christian',\n",
       " 'christmas',\n",
       " 'classical',\n",
       " 'classicmetal',\n",
       " 'club',\n",
       " 'colombian',\n",
       " 'comedy',\n",
       " 'conjazz',\n",
       " 'contemporary',\n",
       " 'country',\n",
       " 'cuban',\n",
       " 'dance',\n",
       " 'dancehall',\n",
       " 'dancepop',\n",
       " 'dark',\n",
       " 'death',\n",
       " 'deep',\n",
       " 'deutschrock',\n",
       " 'deutschspr',\n",
       " 'dirty',\n",
       " 'disco',\n",
       " 'dnb',\n",
       " 'documentary',\n",
       " 'downbeat',\n",
       " 'downtempo',\n",
       " 'drum',\n",
       " 'dub',\n",
       " 'dubstep',\n",
       " 'eastern',\n",
       " 'easy',\n",
       " 'electronic',\n",
       " 'electropop',\n",
       " 'emo',\n",
       " 'entehno',\n",
       " 'epicmetal',\n",
       " 'estrada',\n",
       " 'ethnic',\n",
       " 'eurofolk',\n",
       " 'european',\n",
       " 'experimental',\n",
       " 'extrememetal',\n",
       " 'fado',\n",
       " 'fairytail',\n",
       " 'film',\n",
       " 'fitness',\n",
       " 'flamenco',\n",
       " 'folk',\n",
       " 'folklore',\n",
       " 'folkmetal',\n",
       " 'folkrock',\n",
       " 'folktronica',\n",
       " 'forró',\n",
       " 'frankreich',\n",
       " 'französisch',\n",
       " 'french',\n",
       " 'funk',\n",
       " 'future',\n",
       " 'gangsta',\n",
       " 'garage',\n",
       " 'german',\n",
       " 'ghazal',\n",
       " 'gitarre',\n",
       " 'glitch',\n",
       " 'gospel',\n",
       " 'gothic',\n",
       " 'grime',\n",
       " 'grunge',\n",
       " 'gypsy',\n",
       " 'handsup',\n",
       " \"hard'n'heavy\",\n",
       " 'hardcore',\n",
       " 'hardstyle',\n",
       " 'hardtechno',\n",
       " 'hiphop',\n",
       " 'historisch',\n",
       " 'holiday',\n",
       " 'horror',\n",
       " 'house',\n",
       " 'hymn',\n",
       " 'idm',\n",
       " 'independent',\n",
       " 'indian',\n",
       " 'indie',\n",
       " 'indipop',\n",
       " 'industrial',\n",
       " 'inspirational',\n",
       " 'instrumental',\n",
       " 'international',\n",
       " 'irish',\n",
       " 'jam',\n",
       " 'japanese',\n",
       " 'jazz',\n",
       " 'jewish',\n",
       " 'jpop',\n",
       " 'jungle',\n",
       " 'k-pop',\n",
       " 'karadeniz',\n",
       " 'karaoke',\n",
       " 'kayokyoku',\n",
       " 'korean',\n",
       " 'laiko',\n",
       " 'latin',\n",
       " 'latino',\n",
       " 'leftfield',\n",
       " 'local',\n",
       " 'lounge',\n",
       " 'loungeelectronic',\n",
       " 'lovers',\n",
       " 'malaysian',\n",
       " 'mandopop',\n",
       " 'marschmusik',\n",
       " 'meditative',\n",
       " 'mediterranean',\n",
       " 'melodic',\n",
       " 'metal',\n",
       " 'metalcore',\n",
       " 'mexican',\n",
       " 'middle',\n",
       " 'minimal',\n",
       " 'miscellaneous',\n",
       " 'modern',\n",
       " 'mood',\n",
       " 'mpb',\n",
       " 'muslim',\n",
       " 'native',\n",
       " 'neoklassik',\n",
       " 'neue',\n",
       " 'new',\n",
       " 'newage',\n",
       " 'newwave',\n",
       " 'nu',\n",
       " 'nujazz',\n",
       " 'numetal',\n",
       " 'oceania',\n",
       " 'old',\n",
       " 'opera',\n",
       " 'orchestral',\n",
       " 'other',\n",
       " 'piano',\n",
       " 'podcasts',\n",
       " 'pop',\n",
       " 'popdance',\n",
       " 'popelectronic',\n",
       " 'popeurodance',\n",
       " 'poprussian',\n",
       " 'post',\n",
       " 'posthardcore',\n",
       " 'postrock',\n",
       " 'power',\n",
       " 'progmetal',\n",
       " 'progressive',\n",
       " 'psychedelic',\n",
       " 'punjabi',\n",
       " 'punk',\n",
       " 'quebecois',\n",
       " 'ragga',\n",
       " 'ram',\n",
       " 'rancheras',\n",
       " 'rap',\n",
       " 'rave',\n",
       " 'reggae',\n",
       " 'reggaeton',\n",
       " 'regional',\n",
       " 'relax',\n",
       " 'religious',\n",
       " 'retro',\n",
       " 'rhythm',\n",
       " 'rnb',\n",
       " 'rnr',\n",
       " 'rock',\n",
       " 'rockabilly',\n",
       " 'rockalternative',\n",
       " 'rockindie',\n",
       " 'rockother',\n",
       " 'romance',\n",
       " 'roots',\n",
       " 'ruspop',\n",
       " 'rusrap',\n",
       " 'rusrock',\n",
       " 'russian',\n",
       " 'salsa',\n",
       " 'samba',\n",
       " 'scenic',\n",
       " 'schlager',\n",
       " 'self',\n",
       " 'sertanejo',\n",
       " 'shanson',\n",
       " 'shoegazing',\n",
       " 'showtunes',\n",
       " 'singer',\n",
       " 'ska',\n",
       " 'skarock',\n",
       " 'slow',\n",
       " 'smooth',\n",
       " 'soft',\n",
       " 'soul',\n",
       " 'soulful',\n",
       " 'sound',\n",
       " 'soundtrack',\n",
       " 'southern',\n",
       " 'specialty',\n",
       " 'speech',\n",
       " 'spiritual',\n",
       " 'sport',\n",
       " 'stonerrock',\n",
       " 'surf',\n",
       " 'swing',\n",
       " 'synthpop',\n",
       " 'synthrock',\n",
       " 'sängerportrait',\n",
       " 'tango',\n",
       " 'tanzorchester',\n",
       " 'taraftar',\n",
       " 'tatar',\n",
       " 'tech',\n",
       " 'techno',\n",
       " 'teen',\n",
       " 'thrash',\n",
       " 'top',\n",
       " 'traditional',\n",
       " 'tradjazz',\n",
       " 'trance',\n",
       " 'tribal',\n",
       " 'trip',\n",
       " 'triphop',\n",
       " 'tropical',\n",
       " 'türk',\n",
       " 'türkçe',\n",
       " 'ukrrock',\n",
       " 'unknown',\n",
       " 'urban',\n",
       " 'uzbek',\n",
       " 'variété',\n",
       " 'vi',\n",
       " 'videogame',\n",
       " 'vocal',\n",
       " 'western',\n",
       " 'world',\n",
       " 'worldbeat',\n",
       " 'ïîï']"
      ]
     },
     "execution_count": 22,
     "metadata": {},
     "output_type": "execute_result"
    }
   ],
   "source": [
    "# Проверка на неявные дубликаты\n",
    "sorted(df['genre'].unique())"
   ]
  },
  {
   "cell_type": "markdown",
   "metadata": {
    "id": "jz6a9-7HQUDd"
   },
   "source": [
    "**Выводы**\n",
    "\n",
    "Предобработка обнаружила три проблемы в данных:\n",
    "\n",
    "- нарушения в стиле заголовков,\n",
    "- пропущенные значения,\n",
    "- дубликаты — явные и неявные.\n",
    "\n",
    "Вы исправили заголовки, чтобы упростить работу с таблицей. Без дубликатов исследование станет более точным.\n",
    "\n",
    "Пропущенные значения вы заменили на `'unknown'`. Ещё предстоит увидеть, не повредят ли исследованию пропуски в колонке `genre`.\n",
    "\n",
    "Теперь можно перейти к проверке гипотез. "
   ]
  },
  {
   "cell_type": "markdown",
   "metadata": {
    "id": "WttZHXH0SqKk"
   },
   "source": [
    "## Проверка гипотез"
   ]
  },
  {
   "cell_type": "markdown",
   "metadata": {
    "id": "Im936VVi_Zcu"
   },
   "source": [
    "### Сравнение поведения пользователей двух столиц"
   ]
  },
  {
   "cell_type": "markdown",
   "metadata": {
    "id": "nwt_MuaL_Zcu"
   },
   "source": [
    "Первая гипотеза утверждает, что пользователи по-разному слушают музыку в Москве и Санкт-Петербурге. Проверим это предположение по данным о трёх днях недели — понедельнике, среде и пятнице. Для этого:\n",
    "\n",
    "* Разделим пользователей Москвы и Санкт-Петербурга\n",
    "* Сравним, сколько треков послушала каждая группа пользователей в понедельник, среду и пятницу.\n"
   ]
  },
  {
   "cell_type": "code",
   "execution_count": 23,
   "metadata": {
    "id": "0_Qs96oh_Zcu"
   },
   "outputs": [
    {
     "data": {
      "text/plain": [
       "city\n",
       "Moscow              42741\n",
       "Saint-Petersburg    18512\n",
       "Name: track, dtype: int64"
      ]
     },
     "execution_count": 23,
     "metadata": {},
     "output_type": "execute_result"
    }
   ],
   "source": [
    "# Подсчёт прослушиваний в каждом городе\n",
    "df.groupby('city')['track'].count()"
   ]
  },
  {
   "cell_type": "markdown",
   "metadata": {
    "id": "dzli3w8o_Zcu"
   },
   "source": [
    "В Москве прослушиваний больше, чем в Петербурге. Из этого не следует, что московские пользователи чаще слушают музыку. Просто самих пользователей в Москве больше.\n",
    "\n",
    "Теперь сгруппируем данные по дню недели и подсчитаем прослушивания в понедельник, среду и пятницу. В данных есть информация только о прослушиваниях только за эти дни.\n"
   ]
  },
  {
   "cell_type": "code",
   "execution_count": 24,
   "metadata": {
    "id": "uZMKjiJz_Zcu"
   },
   "outputs": [
    {
     "data": {
      "text/plain": [
       "day\n",
       "Friday       21840\n",
       "Monday       21354\n",
       "Wednesday    18059\n",
       "Name: track, dtype: int64"
      ]
     },
     "execution_count": 24,
     "metadata": {},
     "output_type": "execute_result"
    }
   ],
   "source": [
    "# Подсчёт прослушиваний в каждый из трёх дней\n",
    "df.groupby('day')['track'].count()"
   ]
  },
  {
   "cell_type": "markdown",
   "metadata": {
    "id": "cC2tNrlL_Zcu"
   },
   "source": [
    "В среднем пользователи из двух городов менее активны по средам. Но картина может измениться, если рассмотреть каждый город в отдельности."
   ]
  },
  {
   "cell_type": "markdown",
   "metadata": {
    "id": "POzs8bGa_Zcu"
   },
   "source": [
    "Создадим функцию `number_tracks()`, которая посчитает прослушивания для заданного дня и города. Ей понадобятся два параметра:\n",
    "* день недели,\n",
    "* название города.\n",
    "\n",
    "В функции сохраним в переменную строки исходной таблицы, у которых значение:\n",
    "  * в колонке `day` равно параметру `day`,\n",
    "  * в колонке `city` равно параметру `city`.\n",
    "\n",
    "Для этого применим последовательную фильтрацию с логической индексацией.\n",
    "\n",
    "Затем посчитаем значения в столбце `user_id` получившейся таблицы. Результат сохраним в новую переменную и вернем эту переменную из функции."
   ]
  },
  {
   "cell_type": "code",
   "execution_count": 25,
   "metadata": {
    "id": "Nz3GdQB1_Zcu"
   },
   "outputs": [],
   "source": [
    "# <создание функции number_tracks()>\n",
    "# Объявляется функция с двумя параметрами: day, city.\n",
    "# В переменной track_list сохраняются те строки таблицы df, для которых \n",
    "# значение в столбце 'day' равно параметру day и одновременно значение\n",
    "# в столбце 'city' равно параметру city (используйте последовательную фильтрацию\n",
    "# с помощью логической индексации).\n",
    "# В переменной track_list_count сохраняется число значений столбца 'user_id',\n",
    "# рассчитанное методом count() для таблицы track_list.\n",
    "# Функция возвращает число - значение track_list_count.\n",
    "def number_tracks(day, city):\n",
    "    track_list = df[df['day'] == day]\n",
    "    track_list = track_list[track_list['city'] == city]\n",
    "    track_list_count = track_list['user_id'].count()\n",
    "    return track_list_count\n",
    "# Функция для подсчёта прослушиваний для конкретного города и дня.\n",
    "# С помощью последовательной фильтрации с логической индексацией она \n",
    "# сначала получит из исходной таблицы строки с нужным днём,\n",
    "# затем из результата отфильтрует строки с нужным городом,\n",
    "# методом count() посчитает количество значений в колонке user_id. \n",
    "# Это количество функция вернёт в качестве результата"
   ]
  },
  {
   "cell_type": "markdown",
   "metadata": {
    "id": "ytf7xFrFJQ2r"
   },
   "source": [
    "Вызовем `number_tracks()` шесть раз, меняя значение параметров — так, чтобы получить данные для каждого города в каждый из трёх дней."
   ]
  },
  {
   "cell_type": "code",
   "execution_count": 26,
   "metadata": {
    "id": "rJcRATNQ_Zcu"
   },
   "outputs": [
    {
     "data": {
      "text/plain": [
       "15740"
      ]
     },
     "execution_count": 26,
     "metadata": {},
     "output_type": "execute_result"
    }
   ],
   "source": [
    "number_tracks('Monday', 'Moscow') # количество прослушиваний в Москве по понедельникам"
   ]
  },
  {
   "cell_type": "code",
   "execution_count": 27,
   "metadata": {
    "id": "hq_ncZ5T_Zcu"
   },
   "outputs": [
    {
     "data": {
      "text/plain": [
       "5614"
      ]
     },
     "execution_count": 27,
     "metadata": {},
     "output_type": "execute_result"
    }
   ],
   "source": [
    "number_tracks('Monday', 'Saint-Petersburg') # количество прослушиваний в Санкт-Петербурге по понедельникам"
   ]
  },
  {
   "cell_type": "code",
   "execution_count": 28,
   "metadata": {
    "id": "_NTy2VPU_Zcu"
   },
   "outputs": [
    {
     "data": {
      "text/plain": [
       "11056"
      ]
     },
     "execution_count": 28,
     "metadata": {},
     "output_type": "execute_result"
    }
   ],
   "source": [
    "number_tracks('Wednesday', 'Moscow') # количество прослушиваний в Москве по средам"
   ]
  },
  {
   "cell_type": "code",
   "execution_count": 29,
   "metadata": {
    "id": "j2y3TAwo_Zcu"
   },
   "outputs": [
    {
     "data": {
      "text/plain": [
       "7003"
      ]
     },
     "execution_count": 29,
     "metadata": {},
     "output_type": "execute_result"
    }
   ],
   "source": [
    "number_tracks('Wednesday', 'Saint-Petersburg') # количество прослушиваний в Санкт-Петербурге по средам"
   ]
  },
  {
   "cell_type": "code",
   "execution_count": 30,
   "metadata": {
    "id": "vYDw5u_K_Zcu"
   },
   "outputs": [
    {
     "data": {
      "text/plain": [
       "15945"
      ]
     },
     "execution_count": 30,
     "metadata": {},
     "output_type": "execute_result"
    }
   ],
   "source": [
    "number_tracks('Friday', 'Moscow') # количество прослушиваний в Москве по пятницам"
   ]
  },
  {
   "cell_type": "code",
   "execution_count": 31,
   "metadata": {
    "id": "8_yzFtW3_Zcu"
   },
   "outputs": [
    {
     "data": {
      "text/plain": [
       "5895"
      ]
     },
     "execution_count": 31,
     "metadata": {},
     "output_type": "execute_result"
    }
   ],
   "source": [
    "number_tracks('Friday', 'Saint-Petersburg') # количество прослушиваний в Санкт-Петербурге по пятницам\n",
    "\n",
    "# Альтернативное решение, чтобы не повторять вызов функции 6 раз.\n",
    "# Можно создать списки дней и городов \n",
    "\n",
    "# days = ['Monday', 'Wednesday', 'Friday']\n",
    "# cities = ['Moscow', 'Saint-Petersburg']\n",
    "# и пройтись по ним вложенным циклом\n",
    "# for i in days:\n",
    "#     for j in cities:\n",
    "#         user_count = number_tracks(i,j)\n",
    "#         print(user_count)\n",
    "# в выводе будут построчно результаты за понедельник-Мск, понедельник-СПб, среда-Мск, среда-СПб, пятница-Мск, пятница-СПб"
   ]
  },
  {
   "cell_type": "markdown",
   "metadata": {
    "id": "7QXffbO-_Zcu"
   },
   "source": [
    "Создадим c помощью конструктора `pd.DataFrame` таблицу, где\n",
    "* названия колонок — `['city', 'monday', 'wednesday', 'friday']`;\n",
    "* данные — результаты, которые вы получили с помощью `number_tracks`."
   ]
  },
  {
   "cell_type": "code",
   "execution_count": 32,
   "metadata": {
    "id": "APAcLpOr_Zcu"
   },
   "outputs": [
    {
     "data": {
      "text/html": [
       "<div>\n",
       "<style scoped>\n",
       "    .dataframe tbody tr th:only-of-type {\n",
       "        vertical-align: middle;\n",
       "    }\n",
       "\n",
       "    .dataframe tbody tr th {\n",
       "        vertical-align: top;\n",
       "    }\n",
       "\n",
       "    .dataframe thead th {\n",
       "        text-align: right;\n",
       "    }\n",
       "</style>\n",
       "<table border=\"1\" class=\"dataframe\">\n",
       "  <thead>\n",
       "    <tr style=\"text-align: right;\">\n",
       "      <th></th>\n",
       "      <th>city</th>\n",
       "      <th>monday</th>\n",
       "      <th>wednesday</th>\n",
       "      <th>friday</th>\n",
       "    </tr>\n",
       "  </thead>\n",
       "  <tbody>\n",
       "    <tr>\n",
       "      <td>0</td>\n",
       "      <td>Moscow</td>\n",
       "      <td>15740</td>\n",
       "      <td>11056</td>\n",
       "      <td>15945</td>\n",
       "    </tr>\n",
       "    <tr>\n",
       "      <td>1</td>\n",
       "      <td>Saint-Petersburg</td>\n",
       "      <td>5614</td>\n",
       "      <td>7003</td>\n",
       "      <td>5895</td>\n",
       "    </tr>\n",
       "  </tbody>\n",
       "</table>\n",
       "</div>"
      ],
      "text/plain": [
       "               city  monday  wednesday  friday\n",
       "0            Moscow   15740      11056   15945\n",
       "1  Saint-Petersburg    5614       7003    5895"
      ]
     },
     "metadata": {},
     "output_type": "display_data"
    }
   ],
   "source": [
    "# Таблица с результатами\n",
    "data = [\n",
    "    ['Moscow', 15740, 11056, 15945],\n",
    "    ['Saint-Petersburg', 5614, 7003, 5895]\n",
    "]\n",
    "columns_name = ['city', 'monday', 'wednesday', 'friday']\n",
    "\n",
    "listens_count_df = pd.DataFrame(data=data, columns=columns_name)\n",
    "display(listens_count_df)"
   ]
  },
  {
   "cell_type": "markdown",
   "metadata": {
    "id": "-EgPIHYu_Zcu"
   },
   "source": [
    "**Выводы**\n",
    "\n",
    "Данные показывают разницу поведения пользователей:\n",
    "\n",
    "- В Москве пик прослушиваний приходится на понедельник и пятницу, а в среду заметен спад.\n",
    "- В Петербурге, наоборот, больше слушают музыку по средам. Активность в понедельник и пятницу здесь почти в равной мере уступает среде.\n",
    "\n",
    "Значит, данные говорят в пользу первой гипотезы."
   ]
  },
  {
   "cell_type": "markdown",
   "metadata": {
    "id": "atZAxtq4_Zcu"
   },
   "source": [
    "### Музыка в начале и в конце недели"
   ]
  },
  {
   "cell_type": "markdown",
   "metadata": {
    "id": "eXrQqXFH_Zcu"
   },
   "source": [
    "Согласно второй гипотезе, утром в понедельник в Москве преобладают одни жанры, а в Петербурге — другие. Так же и вечером пятницы преобладают разные жанры — в зависимости от города."
   ]
  },
  {
   "cell_type": "markdown",
   "metadata": {
    "id": "S8UcW6Hw_Zcu"
   },
   "source": [
    "Сохраним таблицы с данными в две переменные:\n",
    "* по Москве — в `moscow_general`;\n",
    "* по Санкт-Петербургу — в `spb_general`."
   ]
  },
  {
   "cell_type": "code",
   "execution_count": 33,
   "metadata": {
    "id": "qeaFfM_P_Zcu"
   },
   "outputs": [],
   "source": [
    "# получение таблицы moscow_general из тех строк таблицы df, \n",
    "# для которых значение в столбце 'city' равно 'Moscow'\n",
    "moscow_general = df[df['city'] == 'Moscow']"
   ]
  },
  {
   "cell_type": "code",
   "execution_count": 34,
   "metadata": {
    "id": "ORaVRKto_Zcu"
   },
   "outputs": [],
   "source": [
    "# получение таблицы spb_general из тех строк таблицы df,\n",
    "# для которых значение в столбце 'city' равно 'Saint-Petersburg'\n",
    "spb_general = df[df['city'] == 'Saint-Petersburg']"
   ]
  },
  {
   "cell_type": "markdown",
   "metadata": {
    "id": "MEJV-CX2_Zcu"
   },
   "source": [
    "Создадим функцию `genre_weekday()` с четырьмя параметрами:\n",
    "* таблица (датафрейм) с данными,\n",
    "* день недели,\n",
    "* начальная временная метка в формате 'hh:mm', \n",
    "* последняя временная метка в формате 'hh:mm'.\n",
    "\n",
    "Функция должна вернуть информацию о топ-10 жанров тех треков, которые прослушивали в указанный день, в промежутке между двумя отметками времени."
   ]
  },
  {
   "cell_type": "code",
   "execution_count": 35,
   "metadata": {
    "id": "laJT9BYl_Zcu"
   },
   "outputs": [],
   "source": [
    "# Объявление функции genre_weekday() с параметрами table, day, time1, time2,\n",
    "# которая возвращает информацию о самых популярных жанрах в указанный день в\n",
    "# заданное время:\n",
    "# 1) в переменную genre_df сохраняются те строки переданного датафрейма table, для\n",
    "#    которых одновременно:\n",
    "#    - значение в столбце day равно значению аргумента day\n",
    "#    - значение в столбце time больше значения аргумента time1\n",
    "#    - значение в столбце time меньше значения аргумента time2\n",
    "#    Используйте последовательную фильтрацию с помощью логической индексации.\n",
    "# 2) сгруппировать датафрейм genre_df по столбцу genre, взять один из его\n",
    "#    столбцов и посчитать методом count() количество записей для каждого из\n",
    "#    присутствующих жанров, получившийся Series записать в переменную\n",
    "#    genre_df_count\n",
    "# 3) отсортировать genre_df_count по убыванию встречаемости и сохранить\n",
    "#    в переменную genre_df_sorted\n",
    "# 4) вернуть Series из 10 первых значений genre_df_sorted, это будут топ-10\n",
    "#    популярных жанров (в указанный день, в заданное время)\n",
    "def genre_weekday(table, day, time1, time2):\n",
    "    genre_df = table[table['day'] == day]\n",
    "    genre_df = genre_df[genre_df['time'] > time1]\n",
    "    genre_df = genre_df[genre_df['time'] < time2]\n",
    "    genre_df_count = genre_df.groupby('genre')['track'].count()\n",
    "    genre_df_sorted = genre_df_count.sort_values(ascending = False)\n",
    "    return genre_df_sorted[:10]"
   ]
  },
  {
   "cell_type": "markdown",
   "metadata": {
    "id": "la2s2_PF_Zcu"
   },
   "source": [
    "Cравним результаты функции `genre_weekday()` для Москвы и Санкт-Петербурга в понедельник утром (с 7:00 до 11:00) и в пятницу вечером (с 17:00 до 23:00):"
   ]
  },
  {
   "cell_type": "code",
   "execution_count": 36,
   "metadata": {
    "id": "yz7itPUQ_Zcu"
   },
   "outputs": [
    {
     "data": {
      "text/plain": [
       "genre\n",
       "pop            781\n",
       "dance          549\n",
       "electronic     480\n",
       "rock           474\n",
       "hiphop         286\n",
       "ruspop         186\n",
       "world          181\n",
       "rusrap         175\n",
       "alternative    164\n",
       "unknown        161\n",
       "Name: track, dtype: int64"
      ]
     },
     "execution_count": 36,
     "metadata": {},
     "output_type": "execute_result"
    }
   ],
   "source": [
    "# вызов функции для утра понедельника в Москве (вместо df — таблица moscow_general)\n",
    "# объекты, хранящие время, являются строками и сравниваются как строки\n",
    "# пример вызова: genre_weekday(moscow_general, 'Monday', '07:00', '11:00')\n",
    "genre_weekday(moscow_general, 'Monday', '07:00', '11:00')"
   ]
  },
  {
   "cell_type": "code",
   "execution_count": 37,
   "metadata": {
    "id": "kwUcHPdy_Zcu"
   },
   "outputs": [
    {
     "data": {
      "text/plain": [
       "genre\n",
       "pop            218\n",
       "dance          182\n",
       "rock           162\n",
       "electronic     147\n",
       "hiphop          80\n",
       "ruspop          64\n",
       "alternative     58\n",
       "rusrap          55\n",
       "jazz            44\n",
       "classical       40\n",
       "Name: track, dtype: int64"
      ]
     },
     "execution_count": 37,
     "metadata": {},
     "output_type": "execute_result"
    }
   ],
   "source": [
    "# вызов функции для утра понедельника в Петербурге (вместо df — таблица spb_general)\n",
    "genre_weekday(spb_general, 'Monday', '07:00', '11:00')"
   ]
  },
  {
   "cell_type": "code",
   "execution_count": 38,
   "metadata": {
    "id": "EzXVRE1o_Zcu"
   },
   "outputs": [
    {
     "data": {
      "text/plain": [
       "genre\n",
       "pop            713\n",
       "rock           517\n",
       "dance          495\n",
       "electronic     482\n",
       "hiphop         273\n",
       "world          208\n",
       "ruspop         170\n",
       "alternative    163\n",
       "classical      163\n",
       "rusrap         142\n",
       "Name: track, dtype: int64"
      ]
     },
     "execution_count": 38,
     "metadata": {},
     "output_type": "execute_result"
    }
   ],
   "source": [
    "# вызов функции для вечера пятницы в Москве\n",
    "genre_weekday(moscow_general, 'Friday', '17:00', '23:00')"
   ]
  },
  {
   "cell_type": "code",
   "execution_count": 39,
   "metadata": {
    "id": "JZaEKu5v_Zcu"
   },
   "outputs": [
    {
     "data": {
      "text/plain": [
       "genre\n",
       "pop            256\n",
       "rock           216\n",
       "electronic     216\n",
       "dance          210\n",
       "hiphop          97\n",
       "alternative     63\n",
       "jazz            61\n",
       "classical       60\n",
       "rusrap          59\n",
       "world           54\n",
       "Name: track, dtype: int64"
      ]
     },
     "execution_count": 39,
     "metadata": {},
     "output_type": "execute_result"
    }
   ],
   "source": [
    "# вызов функции для вечера пятницы в Петербурге\n",
    "genre_weekday(spb_general, 'Friday', '17:00', '23:00')"
   ]
  },
  {
   "cell_type": "markdown",
   "metadata": {
    "id": "wrCe4MNX_Zcu"
   },
   "source": [
    "**Выводы**\n",
    "\n",
    "Если сравнить топ-10 жанров в понедельник утром, можно сделать такие выводы:\n",
    "\n",
    "1. В Москве и Петербурге слушают похожую музыку. Единственное отличие — в московский рейтинг вошёл жанр “world”, а в петербургский — джаз и классика.\n",
    "\n",
    "2. В Москве пропущенных значений оказалось так много, что значение `'unknown'` заняло десятое место среди самых популярных жанров. Значит, пропущенные значения занимают существенную долю в данных и угрожают достоверности исследования.\n",
    "\n",
    "Вечер пятницы не меняет эту картину. Некоторые жанры поднимаются немного выше, другие спускаются, но в целом топ-10 остаётся тем же самым.\n",
    "\n",
    "Таким образом, вторая гипотеза подтвердилась лишь частично:\n",
    "* Пользователи слушают похожую музыку в начале недели и в конце.\n",
    "* Разница между Москвой и Петербургом не слишком выражена. В Москве чаще слушают русскую популярную музыку, в Петербурге — джаз.\n",
    "\n",
    "Однако пропуски в данных ставят под сомнение этот результат. В Москве их так много, что рейтинг топ-10 мог бы выглядеть иначе, если бы не утерянные  данные о жанрах."
   ]
  },
  {
   "cell_type": "markdown",
   "metadata": {
    "id": "JolODAqr_Zcu"
   },
   "source": [
    "### Жанровые предпочтения в Москве и Петербурге\n",
    "\n",
    "Гипотеза: Петербург — столица рэпа, музыку этого жанра там слушают чаще, чем в Москве.  А Москва — город контрастов, в котором, тем не менее, преобладает поп-музыка."
   ]
  },
  {
   "cell_type": "markdown",
   "metadata": {
    "id": "DlegSvaT_Zcu"
   },
   "source": [
    "Сгруппируем таблицу `moscow_general` по жанру и посчитаем прослушивания треков каждого жанра методом `count()`. Затем отсортируем результат в порядке убывания и сохраним его в таблице `moscow_genres`."
   ]
  },
  {
   "cell_type": "code",
   "execution_count": 40,
   "metadata": {
    "id": "r19lIPke_Zcu"
   },
   "outputs": [],
   "source": [
    "# одной строкой: группировка таблицы moscow_general по столбцу 'genre', \n",
    "# подсчёт числа значений 'genre' в этой группировке методом count(), \n",
    "# сортировка получившегося Series в порядке убывания и сохранение в moscow_genres\n",
    "moscow_genres = moscow_general.groupby('genre')['genre'].count().sort_values(ascending = False)"
   ]
  },
  {
   "cell_type": "markdown",
   "metadata": {
    "id": "6kMuomxTiIr8"
   },
   "source": [
    "Выведем на экран первые десять строк `moscow_genres`:"
   ]
  },
  {
   "cell_type": "code",
   "execution_count": 41,
   "metadata": {
    "id": "WhCSooF8_Zcv"
   },
   "outputs": [
    {
     "data": {
      "text/plain": [
       "genre\n",
       "pop            5892\n",
       "dance          4435\n",
       "rock           3965\n",
       "electronic     3786\n",
       "hiphop         2096\n",
       "classical      1616\n",
       "world          1432\n",
       "alternative    1379\n",
       "ruspop         1372\n",
       "rusrap         1161\n",
       "Name: genre, dtype: int64"
      ]
     },
     "metadata": {},
     "output_type": "display_data"
    }
   ],
   "source": [
    "display(moscow_genres.head(10)) # просмотр первых 10 строк moscow_genres"
   ]
  },
  {
   "cell_type": "markdown",
   "metadata": {
    "id": "cnPG2vnN_Zcv"
   },
   "source": [
    "Теперь повторим то же и для Петербурга."
   ]
  },
  {
   "cell_type": "code",
   "execution_count": 42,
   "metadata": {
    "id": "gluLIpE7_Zcv"
   },
   "outputs": [],
   "source": [
    "# одной строкой: группировка таблицы spb_general по столбцу 'genre', \n",
    "# подсчёт числа значений 'genre' в этой группировке методом count(), \n",
    "# сортировка получившегося Series в порядке убывания и сохранение в spb_genres\n",
    "spb_genres = spb_general.groupby('genre')['genre'].count().sort_values(ascending = False)"
   ]
  },
  {
   "cell_type": "markdown",
   "metadata": {
    "id": "5Doha_ODgyQ8"
   },
   "source": [
    "Выведем на экран первые десять строк `spb_genres`:"
   ]
  },
  {
   "cell_type": "code",
   "execution_count": 43,
   "metadata": {
    "id": "uaGJHjVU_Zcv"
   },
   "outputs": [
    {
     "data": {
      "text/plain": [
       "genre\n",
       "pop            2431\n",
       "dance          1932\n",
       "rock           1879\n",
       "electronic     1737\n",
       "hiphop          960\n",
       "alternative     649\n",
       "classical       646\n",
       "rusrap          564\n",
       "ruspop          538\n",
       "world           515\n",
       "Name: genre, dtype: int64"
      ]
     },
     "metadata": {},
     "output_type": "display_data"
    }
   ],
   "source": [
    "# просмотр первых 10 строк spb_genres\n",
    "display(spb_genres.head(10))"
   ]
  },
  {
   "cell_type": "markdown",
   "metadata": {
    "id": "RY51YJYu_Zcv"
   },
   "source": [
    "**Выводы**"
   ]
  },
  {
   "cell_type": "markdown",
   "metadata": {
    "id": "nVhnJEm__Zcv"
   },
   "source": [
    "Гипотеза частично подтвердилась:\n",
    "* Поп-музыка — самый популярный жанр в Москве, как и предполагала гипотеза. Более того, в топ-10 жанров встречается близкий жанр — русская популярная музыка.\n",
    "* Вопреки ожиданиям, рэп одинаково популярен в Москве и Петербурге. \n"
   ]
  },
  {
   "cell_type": "markdown",
   "metadata": {
    "id": "ykKQ0N65_Zcv"
   },
   "source": [
    "## Итоги исследования"
   ]
  },
  {
   "cell_type": "markdown",
   "metadata": {
    "id": "tjUwbHb3_Zcv"
   },
   "source": [
    "Мы проверили три гипотезы и установили:\n",
    "\n",
    "1. День недели по-разному влияет на активность пользователей в Москве и Петербурге. \n",
    "\n",
    "Первая гипотеза полностью подтвердилась.\n",
    "\n",
    "2. Музыкальные предпочтения не сильно меняются в течение недели — будь то Москва или Петербург. Небольшие различия заметны в начале недели, по понедельникам:\n",
    "* в Москве слушают музыку жанра “world”,\n",
    "* в Петербурге — джаз и классику.\n",
    "\n",
    "Таким образом, вторая гипотеза подтвердилась лишь отчасти. Этот результат мог оказаться иным, если бы не пропуски в данных.\n",
    "\n",
    "3. Во вкусах пользователей Москвы и Петербурга больше общего чем различий. Вопреки ожиданиям, предпочтения жанров в Петербурге напоминают московские.\n",
    "\n",
    "Третья гипотеза не подтвердилась. Если различия в предпочтениях и существуют, на основной массе пользователей они незаметны."
   ]
  }
 ],
 "metadata": {
  "ExecuteTimeLog": [
   {
    "duration": 274,
    "start_time": "2021-11-19T18:09:43.249Z"
   },
   {
    "duration": 554,
    "start_time": "2021-11-19T18:09:50.610Z"
   },
   {
    "duration": 280,
    "start_time": "2021-11-19T18:09:51.166Z"
   },
   {
    "duration": 37,
    "start_time": "2021-11-19T18:09:51.412Z"
   },
   {
    "duration": 32,
    "start_time": "2021-11-19T18:09:51.418Z"
   },
   {
    "duration": 26,
    "start_time": "2021-11-19T18:09:51.425Z"
   },
   {
    "duration": 24,
    "start_time": "2021-11-19T18:09:51.428Z"
   },
   {
    "duration": 22,
    "start_time": "2021-11-19T18:09:51.431Z"
   },
   {
    "duration": 18,
    "start_time": "2021-11-19T18:09:51.436Z"
   },
   {
    "duration": 16,
    "start_time": "2021-11-19T18:09:51.439Z"
   },
   {
    "duration": 12,
    "start_time": "2021-11-19T18:09:51.444Z"
   },
   {
    "duration": 10,
    "start_time": "2021-11-19T18:09:51.447Z"
   },
   {
    "duration": 5,
    "start_time": "2021-11-19T18:09:51.453Z"
   },
   {
    "duration": 2,
    "start_time": "2021-11-19T18:09:51.457Z"
   },
   {
    "duration": -1,
    "start_time": "2021-11-19T18:09:51.461Z"
   },
   {
    "duration": -4,
    "start_time": "2021-11-19T18:09:51.465Z"
   },
   {
    "duration": -6,
    "start_time": "2021-11-19T18:09:51.468Z"
   },
   {
    "duration": -8,
    "start_time": "2021-11-19T18:09:51.471Z"
   },
   {
    "duration": -15,
    "start_time": "2021-11-19T18:09:51.479Z"
   },
   {
    "duration": -19,
    "start_time": "2021-11-19T18:09:51.484Z"
   },
   {
    "duration": -23,
    "start_time": "2021-11-19T18:09:51.488Z"
   },
   {
    "duration": -27,
    "start_time": "2021-11-19T18:09:51.493Z"
   },
   {
    "duration": -30,
    "start_time": "2021-11-19T18:09:51.497Z"
   },
   {
    "duration": -34,
    "start_time": "2021-11-19T18:09:51.502Z"
   },
   {
    "duration": -37,
    "start_time": "2021-11-19T18:09:51.506Z"
   },
   {
    "duration": -47,
    "start_time": "2021-11-19T18:09:51.517Z"
   },
   {
    "duration": -49,
    "start_time": "2021-11-19T18:09:51.520Z"
   },
   {
    "duration": -51,
    "start_time": "2021-11-19T18:09:51.523Z"
   },
   {
    "duration": -54,
    "start_time": "2021-11-19T18:09:51.527Z"
   },
   {
    "duration": -56,
    "start_time": "2021-11-19T18:09:51.530Z"
   },
   {
    "duration": -59,
    "start_time": "2021-11-19T18:09:51.534Z"
   },
   {
    "duration": -62,
    "start_time": "2021-11-19T18:09:51.537Z"
   },
   {
    "duration": -63,
    "start_time": "2021-11-19T18:09:51.539Z"
   },
   {
    "duration": -65,
    "start_time": "2021-11-19T18:09:51.543Z"
   },
   {
    "duration": -67,
    "start_time": "2021-11-19T18:09:51.546Z"
   },
   {
    "duration": -68,
    "start_time": "2021-11-19T18:09:51.548Z"
   },
   {
    "duration": -71,
    "start_time": "2021-11-19T18:09:51.552Z"
   },
   {
    "duration": -71,
    "start_time": "2021-11-19T18:09:51.554Z"
   },
   {
    "duration": -74,
    "start_time": "2021-11-19T18:09:51.558Z"
   },
   {
    "duration": 137,
    "start_time": "2021-11-19T18:10:07.529Z"
   },
   {
    "duration": 17,
    "start_time": "2021-11-19T18:10:10.025Z"
   },
   {
    "duration": 25,
    "start_time": "2021-11-19T18:10:50.794Z"
   },
   {
    "duration": 4,
    "start_time": "2021-11-19T18:19:15.640Z"
   },
   {
    "duration": 23,
    "start_time": "2021-11-19T18:22:16.793Z"
   },
   {
    "duration": 5,
    "start_time": "2021-11-19T18:22:25.157Z"
   },
   {
    "duration": 25,
    "start_time": "2021-11-19T18:26:00.879Z"
   },
   {
    "duration": 19,
    "start_time": "2021-11-19T18:28:29.574Z"
   },
   {
    "duration": 22,
    "start_time": "2021-11-19T18:28:44.795Z"
   },
   {
    "duration": 60,
    "start_time": "2021-11-19T18:29:11.687Z"
   },
   {
    "duration": 61,
    "start_time": "2021-11-19T18:29:20.054Z"
   },
   {
    "duration": 70,
    "start_time": "2021-11-19T18:30:57.163Z"
   },
   {
    "duration": 52,
    "start_time": "2021-11-19T18:31:33.874Z"
   },
   {
    "duration": 9,
    "start_time": "2021-11-19T18:33:51.522Z"
   },
   {
    "duration": 3,
    "start_time": "2021-11-19T18:41:19.455Z"
   },
   {
    "duration": 254,
    "start_time": "2021-11-19T18:43:12.204Z"
   },
   {
    "duration": 11,
    "start_time": "2021-11-19T18:43:32.445Z"
   },
   {
    "duration": 10,
    "start_time": "2021-11-19T18:43:36.137Z"
   },
   {
    "duration": 93,
    "start_time": "2021-11-19T18:44:08.595Z"
   },
   {
    "duration": 9,
    "start_time": "2021-11-19T18:44:14.545Z"
   },
   {
    "duration": 11,
    "start_time": "2021-11-19T18:46:10.744Z"
   },
   {
    "duration": 786,
    "start_time": "2021-11-19T18:47:05.211Z"
   },
   {
    "duration": 12,
    "start_time": "2021-11-19T18:47:16.797Z"
   },
   {
    "duration": 4,
    "start_time": "2021-11-19T19:00:14.216Z"
   },
   {
    "duration": 19,
    "start_time": "2021-11-19T19:00:38.742Z"
   },
   {
    "duration": 17,
    "start_time": "2021-11-19T19:01:12.375Z"
   },
   {
    "duration": 2,
    "start_time": "2021-11-19T19:02:37.377Z"
   },
   {
    "duration": 169,
    "start_time": "2021-11-19T19:02:37.381Z"
   },
   {
    "duration": 13,
    "start_time": "2021-11-19T19:02:37.552Z"
   },
   {
    "duration": 31,
    "start_time": "2021-11-19T19:02:37.567Z"
   },
   {
    "duration": 4,
    "start_time": "2021-11-19T19:02:37.600Z"
   },
   {
    "duration": 24,
    "start_time": "2021-11-19T19:02:37.605Z"
   },
   {
    "duration": 4,
    "start_time": "2021-11-19T19:02:37.631Z"
   },
   {
    "duration": 40,
    "start_time": "2021-11-19T19:02:37.637Z"
   },
   {
    "duration": 16,
    "start_time": "2021-11-19T19:02:37.679Z"
   },
   {
    "duration": 26,
    "start_time": "2021-11-19T19:02:37.697Z"
   },
   {
    "duration": 69,
    "start_time": "2021-11-19T19:02:37.725Z"
   },
   {
    "duration": 71,
    "start_time": "2021-11-19T19:02:37.796Z"
   },
   {
    "duration": 47,
    "start_time": "2021-11-19T19:02:37.869Z"
   },
   {
    "duration": 9,
    "start_time": "2021-11-19T19:02:37.918Z"
   },
   {
    "duration": 3,
    "start_time": "2021-11-19T19:02:37.929Z"
   },
   {
    "duration": 34,
    "start_time": "2021-11-19T19:02:37.933Z"
   },
   {
    "duration": 8,
    "start_time": "2021-11-19T19:02:37.969Z"
   },
   {
    "duration": 15,
    "start_time": "2021-11-19T19:02:37.979Z"
   },
   {
    "duration": 24,
    "start_time": "2021-11-19T19:02:37.997Z"
   },
   {
    "duration": 4,
    "start_time": "2021-11-19T19:02:38.022Z"
   },
   {
    "duration": 24,
    "start_time": "2021-11-19T19:02:38.027Z"
   },
   {
    "duration": 16,
    "start_time": "2021-11-19T19:02:38.064Z"
   },
   {
    "duration": 16,
    "start_time": "2021-11-19T19:02:38.081Z"
   },
   {
    "duration": 14,
    "start_time": "2021-11-19T19:02:38.098Z"
   },
   {
    "duration": 17,
    "start_time": "2021-11-19T19:02:38.113Z"
   },
   {
    "duration": 17,
    "start_time": "2021-11-19T19:02:44.919Z"
   },
   {
    "duration": 263,
    "start_time": "2021-11-19T19:06:18.158Z"
   },
   {
    "duration": 3,
    "start_time": "2021-11-19T19:06:30.751Z"
   },
   {
    "duration": 259,
    "start_time": "2021-11-19T19:06:32.951Z"
   },
   {
    "duration": 75,
    "start_time": "2021-11-19T19:07:22.626Z"
   },
   {
    "duration": 16,
    "start_time": "2021-11-19T19:07:35.878Z"
   },
   {
    "duration": 8,
    "start_time": "2021-11-19T19:15:41.610Z"
   },
   {
    "duration": 12,
    "start_time": "2021-11-19T19:17:23.991Z"
   },
   {
    "duration": 21,
    "start_time": "2021-11-19T19:17:46.198Z"
   },
   {
    "duration": 9,
    "start_time": "2021-11-19T19:18:27.634Z"
   },
   {
    "duration": 15,
    "start_time": "2021-11-19T19:18:50.283Z"
   },
   {
    "duration": 11,
    "start_time": "2021-11-19T19:18:59.432Z"
   },
   {
    "duration": 14,
    "start_time": "2021-11-19T19:19:02.739Z"
   },
   {
    "duration": 4,
    "start_time": "2021-11-19T19:31:15.774Z"
   },
   {
    "duration": 20,
    "start_time": "2021-11-19T19:31:17.998Z"
   },
   {
    "duration": 15,
    "start_time": "2021-11-19T19:31:39.929Z"
   },
   {
    "duration": 19,
    "start_time": "2021-11-19T19:32:11.237Z"
   },
   {
    "duration": 13,
    "start_time": "2021-11-19T19:32:22.075Z"
   },
   {
    "duration": 4,
    "start_time": "2021-11-19T19:34:19.611Z"
   },
   {
    "duration": 4,
    "start_time": "2021-11-19T19:34:29.169Z"
   },
   {
    "duration": 207,
    "start_time": "2021-11-19T19:34:29.175Z"
   },
   {
    "duration": 14,
    "start_time": "2021-11-19T19:34:29.385Z"
   },
   {
    "duration": 55,
    "start_time": "2021-11-19T19:34:29.402Z"
   },
   {
    "duration": 40,
    "start_time": "2021-11-19T19:34:29.459Z"
   },
   {
    "duration": 44,
    "start_time": "2021-11-19T19:34:29.501Z"
   },
   {
    "duration": 23,
    "start_time": "2021-11-19T19:34:29.547Z"
   },
   {
    "duration": 39,
    "start_time": "2021-11-19T19:34:29.572Z"
   },
   {
    "duration": 52,
    "start_time": "2021-11-19T19:34:29.613Z"
   },
   {
    "duration": 54,
    "start_time": "2021-11-19T19:34:29.666Z"
   },
   {
    "duration": 86,
    "start_time": "2021-11-19T19:34:29.721Z"
   },
   {
    "duration": 85,
    "start_time": "2021-11-19T19:34:29.808Z"
   },
   {
    "duration": 51,
    "start_time": "2021-11-19T19:34:29.895Z"
   },
   {
    "duration": 16,
    "start_time": "2021-11-19T19:34:29.948Z"
   },
   {
    "duration": 33,
    "start_time": "2021-11-19T19:34:29.966Z"
   },
   {
    "duration": 39,
    "start_time": "2021-11-19T19:34:30.001Z"
   },
   {
    "duration": 40,
    "start_time": "2021-11-19T19:34:30.041Z"
   },
   {
    "duration": 56,
    "start_time": "2021-11-19T19:34:30.083Z"
   },
   {
    "duration": 26,
    "start_time": "2021-11-19T19:34:30.141Z"
   },
   {
    "duration": 18,
    "start_time": "2021-11-19T19:34:30.169Z"
   },
   {
    "duration": 70,
    "start_time": "2021-11-19T19:34:30.188Z"
   },
   {
    "duration": 30,
    "start_time": "2021-11-19T19:34:30.260Z"
   },
   {
    "duration": 42,
    "start_time": "2021-11-19T19:34:30.293Z"
   },
   {
    "duration": 31,
    "start_time": "2021-11-19T19:34:30.337Z"
   },
   {
    "duration": 30,
    "start_time": "2021-11-19T19:34:30.370Z"
   },
   {
    "duration": 39,
    "start_time": "2021-11-19T19:34:30.402Z"
   },
   {
    "duration": 74,
    "start_time": "2021-11-19T19:34:30.443Z"
   },
   {
    "duration": 36,
    "start_time": "2021-11-19T19:34:30.519Z"
   },
   {
    "duration": 31,
    "start_time": "2021-11-19T19:34:30.557Z"
   },
   {
    "duration": 32,
    "start_time": "2021-11-19T19:34:30.590Z"
   },
   {
    "duration": 740,
    "start_time": "2021-11-19T19:34:30.624Z"
   },
   {
    "duration": 92,
    "start_time": "2021-11-19T19:34:31.274Z"
   },
   {
    "duration": 90,
    "start_time": "2021-11-19T19:34:31.277Z"
   },
   {
    "duration": 3,
    "start_time": "2021-11-19T19:35:15.786Z"
   },
   {
    "duration": 165,
    "start_time": "2021-11-19T19:35:15.790Z"
   },
   {
    "duration": 10,
    "start_time": "2021-11-19T19:35:15.958Z"
   },
   {
    "duration": 36,
    "start_time": "2021-11-19T19:35:15.969Z"
   },
   {
    "duration": 7,
    "start_time": "2021-11-19T19:35:16.007Z"
   },
   {
    "duration": 23,
    "start_time": "2021-11-19T19:35:16.016Z"
   },
   {
    "duration": 4,
    "start_time": "2021-11-19T19:35:16.041Z"
   },
   {
    "duration": 35,
    "start_time": "2021-11-19T19:35:16.047Z"
   },
   {
    "duration": 28,
    "start_time": "2021-11-19T19:35:16.085Z"
   },
   {
    "duration": 25,
    "start_time": "2021-11-19T19:35:16.115Z"
   },
   {
    "duration": 62,
    "start_time": "2021-11-19T19:35:16.142Z"
   },
   {
    "duration": 76,
    "start_time": "2021-11-19T19:35:16.206Z"
   },
   {
    "duration": 53,
    "start_time": "2021-11-19T19:35:16.284Z"
   },
   {
    "duration": 25,
    "start_time": "2021-11-19T19:35:16.339Z"
   },
   {
    "duration": 3,
    "start_time": "2021-11-19T19:35:16.366Z"
   },
   {
    "duration": 14,
    "start_time": "2021-11-19T19:35:16.371Z"
   },
   {
    "duration": 10,
    "start_time": "2021-11-19T19:35:16.387Z"
   },
   {
    "duration": 11,
    "start_time": "2021-11-19T19:35:16.398Z"
   },
   {
    "duration": 10,
    "start_time": "2021-11-19T19:35:16.411Z"
   },
   {
    "duration": 3,
    "start_time": "2021-11-19T19:35:16.423Z"
   },
   {
    "duration": 49,
    "start_time": "2021-11-19T19:35:16.428Z"
   },
   {
    "duration": 18,
    "start_time": "2021-11-19T19:35:16.479Z"
   },
   {
    "duration": 16,
    "start_time": "2021-11-19T19:35:16.498Z"
   },
   {
    "duration": 15,
    "start_time": "2021-11-19T19:35:16.516Z"
   },
   {
    "duration": 47,
    "start_time": "2021-11-19T19:35:16.533Z"
   },
   {
    "duration": 100,
    "start_time": "2021-11-19T19:35:16.582Z"
   },
   {
    "duration": 7,
    "start_time": "2021-11-19T19:35:16.685Z"
   },
   {
    "duration": 56,
    "start_time": "2021-11-19T19:35:16.694Z"
   },
   {
    "duration": 16,
    "start_time": "2021-11-19T19:35:16.752Z"
   },
   {
    "duration": 16,
    "start_time": "2021-11-19T19:35:16.770Z"
   },
   {
    "duration": 59,
    "start_time": "2021-11-19T19:35:16.787Z"
   },
   {
    "duration": 21,
    "start_time": "2021-11-19T19:35:16.848Z"
   },
   {
    "duration": 30,
    "start_time": "2021-11-19T19:35:16.871Z"
   },
   {
    "duration": 8,
    "start_time": "2021-11-19T19:37:31.525Z"
   },
   {
    "duration": 5,
    "start_time": "2021-11-19T19:37:58.197Z"
   },
   {
    "duration": 6,
    "start_time": "2021-11-19T19:38:27.304Z"
   },
   {
    "duration": 5,
    "start_time": "2021-11-19T19:38:45.621Z"
   },
   {
    "duration": 614,
    "start_time": "2021-11-20T02:10:25.146Z"
   },
   {
    "duration": 143,
    "start_time": "2021-11-20T02:10:25.762Z"
   },
   {
    "duration": 17,
    "start_time": "2021-11-20T02:10:25.911Z"
   },
   {
    "duration": 40,
    "start_time": "2021-11-20T02:10:25.930Z"
   },
   {
    "duration": 6,
    "start_time": "2021-11-20T02:10:25.972Z"
   },
   {
    "duration": 25,
    "start_time": "2021-11-20T02:10:25.980Z"
   },
   {
    "duration": 4,
    "start_time": "2021-11-20T02:10:26.008Z"
   },
   {
    "duration": 52,
    "start_time": "2021-11-20T02:10:26.015Z"
   },
   {
    "duration": 19,
    "start_time": "2021-11-20T02:10:26.069Z"
   },
   {
    "duration": 24,
    "start_time": "2021-11-20T02:10:26.090Z"
   },
   {
    "duration": 84,
    "start_time": "2021-11-20T02:10:26.116Z"
   },
   {
    "duration": 84,
    "start_time": "2021-11-20T02:10:26.202Z"
   },
   {
    "duration": 54,
    "start_time": "2021-11-20T02:10:26.288Z"
   },
   {
    "duration": 23,
    "start_time": "2021-11-20T02:10:26.345Z"
   },
   {
    "duration": 3,
    "start_time": "2021-11-20T02:10:26.371Z"
   },
   {
    "duration": 11,
    "start_time": "2021-11-20T02:10:26.376Z"
   },
   {
    "duration": 11,
    "start_time": "2021-11-20T02:10:26.389Z"
   },
   {
    "duration": 13,
    "start_time": "2021-11-20T02:10:26.403Z"
   },
   {
    "duration": 54,
    "start_time": "2021-11-20T02:10:26.418Z"
   },
   {
    "duration": 3,
    "start_time": "2021-11-20T02:10:26.474Z"
   },
   {
    "duration": 20,
    "start_time": "2021-11-20T02:10:26.479Z"
   },
   {
    "duration": 15,
    "start_time": "2021-11-20T02:10:26.502Z"
   },
   {
    "duration": 17,
    "start_time": "2021-11-20T02:10:26.519Z"
   },
   {
    "duration": 15,
    "start_time": "2021-11-20T02:10:26.564Z"
   },
   {
    "duration": 18,
    "start_time": "2021-11-20T02:10:26.580Z"
   },
   {
    "duration": 16,
    "start_time": "2021-11-20T02:10:26.600Z"
   },
   {
    "duration": 8,
    "start_time": "2021-11-20T02:10:26.618Z"
   },
   {
    "duration": 45,
    "start_time": "2021-11-20T02:10:26.628Z"
   },
   {
    "duration": 11,
    "start_time": "2021-11-20T02:10:26.675Z"
   },
   {
    "duration": 4,
    "start_time": "2021-11-20T02:10:26.688Z"
   },
   {
    "duration": 27,
    "start_time": "2021-11-20T02:10:26.694Z"
   },
   {
    "duration": 13,
    "start_time": "2021-11-20T02:10:26.723Z"
   },
   {
    "duration": 22,
    "start_time": "2021-11-20T02:10:26.764Z"
   },
   {
    "duration": 14,
    "start_time": "2021-11-20T02:10:26.788Z"
   },
   {
    "duration": 9,
    "start_time": "2021-11-20T02:10:26.804Z"
   },
   {
    "duration": 14,
    "start_time": "2021-11-20T02:10:26.815Z"
   },
   {
    "duration": 32,
    "start_time": "2021-11-20T02:10:26.831Z"
   },
   {
    "duration": 5,
    "start_time": "2021-11-20T02:10:26.865Z"
   },
   {
    "duration": 82,
    "start_time": "2021-11-20T02:12:27.911Z"
   },
   {
    "duration": 66,
    "start_time": "2021-11-20T02:12:32.760Z"
   },
   {
    "duration": 337,
    "start_time": "2021-11-20T16:09:28.610Z"
   },
   {
    "duration": 4,
    "start_time": "2021-11-20T16:09:35.982Z"
   },
   {
    "duration": 651,
    "start_time": "2021-11-20T16:09:38.142Z"
   },
   {
    "duration": 822,
    "start_time": "2021-11-20T16:09:56.777Z"
   },
   {
    "duration": 203,
    "start_time": "2021-11-20T16:09:57.602Z"
   },
   {
    "duration": 31,
    "start_time": "2021-11-20T16:09:57.808Z"
   },
   {
    "duration": 35,
    "start_time": "2021-11-20T16:09:57.842Z"
   },
   {
    "duration": 5,
    "start_time": "2021-11-20T16:09:57.879Z"
   },
   {
    "duration": 61,
    "start_time": "2021-11-20T16:09:57.886Z"
   },
   {
    "duration": 12,
    "start_time": "2021-11-20T16:09:57.950Z"
   },
   {
    "duration": 38,
    "start_time": "2021-11-20T16:09:57.965Z"
   },
   {
    "duration": 36,
    "start_time": "2021-11-20T16:09:58.006Z"
   },
   {
    "duration": 30,
    "start_time": "2021-11-20T16:09:58.045Z"
   },
   {
    "duration": 115,
    "start_time": "2021-11-20T16:09:58.077Z"
   },
   {
    "duration": 115,
    "start_time": "2021-11-20T16:09:58.195Z"
   },
   {
    "duration": 83,
    "start_time": "2021-11-20T16:09:58.312Z"
   },
   {
    "duration": 32,
    "start_time": "2021-11-20T16:09:58.397Z"
   },
   {
    "duration": 4,
    "start_time": "2021-11-20T16:09:58.432Z"
   },
   {
    "duration": 51,
    "start_time": "2021-11-20T16:09:58.438Z"
   },
   {
    "duration": 100,
    "start_time": "2021-11-20T16:09:58.491Z"
   },
   {
    "duration": 1037,
    "start_time": "2021-11-20T16:09:57.558Z"
   },
   {
    "duration": 1030,
    "start_time": "2021-11-20T16:09:57.566Z"
   },
   {
    "duration": 1027,
    "start_time": "2021-11-20T16:09:57.570Z"
   },
   {
    "duration": 1026,
    "start_time": "2021-11-20T16:09:57.573Z"
   },
   {
    "duration": 1025,
    "start_time": "2021-11-20T16:09:57.576Z"
   },
   {
    "duration": 1019,
    "start_time": "2021-11-20T16:09:57.583Z"
   },
   {
    "duration": 1017,
    "start_time": "2021-11-20T16:09:57.586Z"
   },
   {
    "duration": 1015,
    "start_time": "2021-11-20T16:09:57.590Z"
   },
   {
    "duration": 1013,
    "start_time": "2021-11-20T16:09:57.593Z"
   },
   {
    "duration": 1009,
    "start_time": "2021-11-20T16:09:57.598Z"
   },
   {
    "duration": 1008,
    "start_time": "2021-11-20T16:09:57.601Z"
   },
   {
    "duration": 1006,
    "start_time": "2021-11-20T16:09:57.604Z"
   },
   {
    "duration": 1003,
    "start_time": "2021-11-20T16:09:57.608Z"
   },
   {
    "duration": 1002,
    "start_time": "2021-11-20T16:09:57.611Z"
   },
   {
    "duration": 1001,
    "start_time": "2021-11-20T16:09:57.614Z"
   },
   {
    "duration": 998,
    "start_time": "2021-11-20T16:09:57.618Z"
   },
   {
    "duration": 996,
    "start_time": "2021-11-20T16:09:57.621Z"
   },
   {
    "duration": 993,
    "start_time": "2021-11-20T16:09:57.626Z"
   },
   {
    "duration": 991,
    "start_time": "2021-11-20T16:09:57.629Z"
   },
   {
    "duration": 988,
    "start_time": "2021-11-20T16:09:57.633Z"
   },
   {
    "duration": 981,
    "start_time": "2021-11-20T16:09:57.642Z"
   },
   {
    "duration": 979,
    "start_time": "2021-11-20T16:09:57.645Z"
   },
   {
    "duration": 92,
    "start_time": "2021-11-20T16:10:09.413Z"
   },
   {
    "duration": 107,
    "start_time": "2021-11-20T16:10:24.368Z"
   },
   {
    "duration": 15,
    "start_time": "2021-11-20T16:12:13.664Z"
   },
   {
    "duration": 19,
    "start_time": "2021-11-20T16:18:50.300Z"
   },
   {
    "duration": 51,
    "start_time": "2021-11-20T16:19:00.561Z"
   },
   {
    "duration": 17,
    "start_time": "2021-11-20T16:19:04.191Z"
   },
   {
    "duration": 3,
    "start_time": "2021-11-20T16:19:27.870Z"
   },
   {
    "duration": 199,
    "start_time": "2021-11-20T16:19:27.876Z"
   },
   {
    "duration": 16,
    "start_time": "2021-11-20T16:19:28.078Z"
   },
   {
    "duration": 49,
    "start_time": "2021-11-20T16:19:28.097Z"
   },
   {
    "duration": 4,
    "start_time": "2021-11-20T16:19:28.148Z"
   },
   {
    "duration": 24,
    "start_time": "2021-11-20T16:19:28.154Z"
   },
   {
    "duration": 5,
    "start_time": "2021-11-20T16:19:28.182Z"
   },
   {
    "duration": 64,
    "start_time": "2021-11-20T16:19:28.189Z"
   },
   {
    "duration": 22,
    "start_time": "2021-11-20T16:19:28.256Z"
   },
   {
    "duration": 40,
    "start_time": "2021-11-20T16:19:28.280Z"
   },
   {
    "duration": 85,
    "start_time": "2021-11-20T16:19:28.329Z"
   },
   {
    "duration": 102,
    "start_time": "2021-11-20T16:19:28.430Z"
   },
   {
    "duration": 76,
    "start_time": "2021-11-20T16:19:28.534Z"
   },
   {
    "duration": 26,
    "start_time": "2021-11-20T16:19:28.612Z"
   },
   {
    "duration": 4,
    "start_time": "2021-11-20T16:19:28.640Z"
   },
   {
    "duration": 46,
    "start_time": "2021-11-20T16:19:28.646Z"
   },
   {
    "duration": 38,
    "start_time": "2021-11-20T16:19:28.694Z"
   },
   {
    "duration": 16,
    "start_time": "2021-11-20T16:19:28.735Z"
   },
   {
    "duration": 18,
    "start_time": "2021-11-20T16:19:28.755Z"
   },
   {
    "duration": 5,
    "start_time": "2021-11-20T16:19:28.775Z"
   },
   {
    "duration": 59,
    "start_time": "2021-11-20T16:19:28.782Z"
   },
   {
    "duration": 19,
    "start_time": "2021-11-20T16:19:28.843Z"
   },
   {
    "duration": 19,
    "start_time": "2021-11-20T16:19:28.865Z"
   },
   {
    "duration": 46,
    "start_time": "2021-11-20T16:19:28.886Z"
   },
   {
    "duration": 22,
    "start_time": "2021-11-20T16:19:28.934Z"
   },
   {
    "duration": 29,
    "start_time": "2021-11-20T16:19:28.958Z"
   },
   {
    "duration": 11,
    "start_time": "2021-11-20T16:19:28.990Z"
   },
   {
    "duration": 37,
    "start_time": "2021-11-20T16:19:29.004Z"
   },
   {
    "duration": 29,
    "start_time": "2021-11-20T16:19:29.044Z"
   },
   {
    "duration": 7,
    "start_time": "2021-11-20T16:19:29.076Z"
   },
   {
    "duration": 50,
    "start_time": "2021-11-20T16:19:29.085Z"
   },
   {
    "duration": 18,
    "start_time": "2021-11-20T16:19:29.138Z"
   },
   {
    "duration": 24,
    "start_time": "2021-11-20T16:19:29.159Z"
   },
   {
    "duration": 46,
    "start_time": "2021-11-20T16:19:29.186Z"
   },
   {
    "duration": 13,
    "start_time": "2021-11-20T16:19:29.235Z"
   },
   {
    "duration": 22,
    "start_time": "2021-11-20T16:19:29.250Z"
   },
   {
    "duration": 29,
    "start_time": "2021-11-20T16:19:29.275Z"
   },
   {
    "duration": 10,
    "start_time": "2021-11-20T16:19:29.307Z"
   },
   {
    "duration": 17,
    "start_time": "2021-11-20T16:20:38.373Z"
   },
   {
    "duration": 13,
    "start_time": "2021-11-20T16:20:45.348Z"
   },
   {
    "duration": 673,
    "start_time": "2021-11-20T20:31:49.726Z"
   },
   {
    "duration": 194,
    "start_time": "2021-11-20T20:31:50.402Z"
   },
   {
    "duration": 22,
    "start_time": "2021-11-20T20:31:50.599Z"
   },
   {
    "duration": 48,
    "start_time": "2021-11-20T20:31:50.623Z"
   },
   {
    "duration": 3,
    "start_time": "2021-11-20T20:31:50.673Z"
   },
   {
    "duration": 21,
    "start_time": "2021-11-20T20:31:50.678Z"
   },
   {
    "duration": 4,
    "start_time": "2021-11-20T20:31:50.701Z"
   },
   {
    "duration": 53,
    "start_time": "2021-11-20T20:31:50.707Z"
   },
   {
    "duration": 17,
    "start_time": "2021-11-20T20:31:50.763Z"
   },
   {
    "duration": 23,
    "start_time": "2021-11-20T20:31:50.782Z"
   },
   {
    "duration": 98,
    "start_time": "2021-11-20T20:31:50.806Z"
   },
   {
    "duration": 90,
    "start_time": "2021-11-20T20:31:50.906Z"
   },
   {
    "duration": 64,
    "start_time": "2021-11-20T20:31:50.998Z"
   },
   {
    "duration": 9,
    "start_time": "2021-11-20T20:31:51.064Z"
   },
   {
    "duration": 2,
    "start_time": "2021-11-20T20:31:51.075Z"
   },
   {
    "duration": 14,
    "start_time": "2021-11-20T20:31:51.079Z"
   },
   {
    "duration": 10,
    "start_time": "2021-11-20T20:31:51.094Z"
   },
   {
    "duration": 45,
    "start_time": "2021-11-20T20:31:51.105Z"
   },
   {
    "duration": 12,
    "start_time": "2021-11-20T20:31:51.151Z"
   },
   {
    "duration": 3,
    "start_time": "2021-11-20T20:31:51.165Z"
   },
   {
    "duration": 19,
    "start_time": "2021-11-20T20:31:51.170Z"
   },
   {
    "duration": 61,
    "start_time": "2021-11-20T20:31:51.190Z"
   },
   {
    "duration": 15,
    "start_time": "2021-11-20T20:31:51.253Z"
   },
   {
    "duration": 14,
    "start_time": "2021-11-20T20:31:51.270Z"
   },
   {
    "duration": 17,
    "start_time": "2021-11-20T20:31:51.285Z"
   },
   {
    "duration": 49,
    "start_time": "2021-11-20T20:31:51.304Z"
   },
   {
    "duration": 9,
    "start_time": "2021-11-20T20:31:51.355Z"
   },
   {
    "duration": 13,
    "start_time": "2021-11-20T20:31:51.365Z"
   },
   {
    "duration": 10,
    "start_time": "2021-11-20T20:31:51.380Z"
   },
   {
    "duration": 5,
    "start_time": "2021-11-20T20:31:51.391Z"
   },
   {
    "duration": 58,
    "start_time": "2021-11-20T20:31:51.398Z"
   },
   {
    "duration": 13,
    "start_time": "2021-11-20T20:31:51.458Z"
   },
   {
    "duration": 18,
    "start_time": "2021-11-20T20:31:51.473Z"
   },
   {
    "duration": 14,
    "start_time": "2021-11-20T20:31:51.492Z"
   },
   {
    "duration": 45,
    "start_time": "2021-11-20T20:31:51.507Z"
   },
   {
    "duration": 7,
    "start_time": "2021-11-20T20:31:51.554Z"
   },
   {
    "duration": 8,
    "start_time": "2021-11-20T20:31:51.562Z"
   },
   {
    "duration": 4,
    "start_time": "2021-11-20T20:31:51.572Z"
   },
   {
    "duration": 600,
    "start_time": "2021-11-20T20:32:42.452Z"
   },
   {
    "duration": 140,
    "start_time": "2021-11-20T20:32:43.054Z"
   },
   {
    "duration": 16,
    "start_time": "2021-11-20T20:32:43.197Z"
   },
   {
    "duration": 11,
    "start_time": "2021-11-20T20:32:43.215Z"
   },
   {
    "duration": 24,
    "start_time": "2021-11-20T20:32:43.228Z"
   },
   {
    "duration": 6,
    "start_time": "2021-11-20T20:32:43.254Z"
   },
   {
    "duration": 5,
    "start_time": "2021-11-20T20:32:43.262Z"
   },
   {
    "duration": 11,
    "start_time": "2021-11-20T20:32:43.269Z"
   },
   {
    "duration": 24,
    "start_time": "2021-11-20T20:32:43.282Z"
   },
   {
    "duration": 38,
    "start_time": "2021-11-20T20:32:43.308Z"
   },
   {
    "duration": 20,
    "start_time": "2021-11-20T20:32:43.347Z"
   },
   {
    "duration": 6,
    "start_time": "2021-11-20T20:32:43.369Z"
   },
   {
    "duration": 26,
    "start_time": "2021-11-20T20:32:43.377Z"
   },
   {
    "duration": 39,
    "start_time": "2021-11-20T20:32:43.405Z"
   },
   {
    "duration": 22,
    "start_time": "2021-11-20T20:32:43.446Z"
   },
   {
    "duration": 79,
    "start_time": "2021-11-20T20:32:43.469Z"
   },
   {
    "duration": 70,
    "start_time": "2021-11-20T20:32:43.549Z"
   },
   {
    "duration": 59,
    "start_time": "2021-11-20T20:32:43.621Z"
   },
   {
    "duration": 10,
    "start_time": "2021-11-20T20:32:43.682Z"
   },
   {
    "duration": 3,
    "start_time": "2021-11-20T20:32:43.694Z"
   },
   {
    "duration": 13,
    "start_time": "2021-11-20T20:32:43.699Z"
   },
   {
    "duration": 32,
    "start_time": "2021-11-20T20:32:43.714Z"
   },
   {
    "duration": 12,
    "start_time": "2021-11-20T20:32:43.749Z"
   },
   {
    "duration": 15,
    "start_time": "2021-11-20T20:32:43.763Z"
   },
   {
    "duration": 14,
    "start_time": "2021-11-20T20:32:43.780Z"
   },
   {
    "duration": 32,
    "start_time": "2021-11-20T20:32:43.795Z"
   },
   {
    "duration": 28,
    "start_time": "2021-11-20T20:32:43.829Z"
   },
   {
    "duration": 17,
    "start_time": "2021-11-20T20:32:43.859Z"
   },
   {
    "duration": 16,
    "start_time": "2021-11-20T20:32:43.878Z"
   },
   {
    "duration": 17,
    "start_time": "2021-11-20T20:32:43.896Z"
   },
   {
    "duration": 15,
    "start_time": "2021-11-20T20:32:43.944Z"
   },
   {
    "duration": 13,
    "start_time": "2021-11-20T20:32:43.962Z"
   },
   {
    "duration": 28,
    "start_time": "2021-11-20T20:32:43.977Z"
   },
   {
    "duration": 15,
    "start_time": "2021-11-20T20:32:44.008Z"
   },
   {
    "duration": 35,
    "start_time": "2021-11-20T20:32:44.025Z"
   },
   {
    "duration": 38,
    "start_time": "2021-11-20T20:32:44.062Z"
   },
   {
    "duration": 18,
    "start_time": "2021-11-20T20:32:44.102Z"
   },
   {
    "duration": 30,
    "start_time": "2021-11-20T20:32:44.122Z"
   },
   {
    "duration": 14,
    "start_time": "2021-11-20T20:32:44.154Z"
   },
   {
    "duration": 18,
    "start_time": "2021-11-20T20:32:44.169Z"
   },
   {
    "duration": 22,
    "start_time": "2021-11-20T20:32:44.188Z"
   },
   {
    "duration": 17,
    "start_time": "2021-11-20T20:32:44.212Z"
   },
   {
    "duration": 29,
    "start_time": "2021-11-20T20:32:44.231Z"
   },
   {
    "duration": 4,
    "start_time": "2021-11-20T20:33:32.656Z"
   },
   {
    "duration": 6,
    "start_time": "2021-11-20T20:34:55.288Z"
   },
   {
    "duration": 6,
    "start_time": "2021-11-20T20:35:17.465Z"
   },
   {
    "duration": 16,
    "start_time": "2021-11-20T20:35:28.178Z"
   },
   {
    "duration": 340,
    "start_time": "2021-11-20T20:35:36.631Z"
   }
  ],
  "colab": {
   "collapsed_sections": [
    "E0vqbgi9ay0H",
    "VUC88oWjTJw2"
   ],
   "name": "yandex_music_project_2021.2.ipynb",
   "provenance": []
  },
  "kernelspec": {
   "display_name": "Python 3 (ipykernel)",
   "language": "python",
   "name": "python3"
  },
  "language_info": {
   "codemirror_mode": {
    "name": "ipython",
    "version": 3
   },
   "file_extension": ".py",
   "mimetype": "text/x-python",
   "name": "python",
   "nbconvert_exporter": "python",
   "pygments_lexer": "ipython3",
   "version": "3.7.8"
  },
  "toc": {
   "base_numbering": 1,
   "nav_menu": {},
   "number_sections": true,
   "sideBar": true,
   "skip_h1_title": true,
   "title_cell": "Содержание",
   "title_sidebar": "Contents",
   "toc_cell": true,
   "toc_position": {},
   "toc_section_display": true,
   "toc_window_display": true
  }
 },
 "nbformat": 4,
 "nbformat_minor": 1
}
